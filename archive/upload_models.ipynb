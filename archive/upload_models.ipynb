{
 "cells": [
  {
   "cell_type": "code",
   "execution_count": 1,
   "metadata": {},
   "outputs": [
    {
     "name": "stderr",
     "output_type": "stream",
     "text": [
      "/home/james/CodingProjects/Local_level_model_explanations/env/lib/python3.10/site-packages/tqdm/auto.py:22: TqdmWarning: IProgress not found. Please update jupyter and ipywidgets. See https://ipywidgets.readthedocs.io/en/stable/user_install.html\n",
      "  from .autonotebook import tqdm as notebook_tqdm\n",
      "2023-04-17 15:26:15.601438: I tensorflow/core/platform/cpu_feature_guard.cc:193] This TensorFlow binary is optimized with oneAPI Deep Neural Network Library (oneDNN) to use the following CPU instructions in performance-critical operations:  AVX2 FMA\n",
      "To enable them in other operations, rebuild TensorFlow with the appropriate compiler flags.\n",
      "2023-04-17 15:26:15.856354: W tensorflow/compiler/xla/stream_executor/platform/default/dso_loader.cc:64] Could not load dynamic library 'libcudart.so.11.0'; dlerror: libcudart.so.11.0: cannot open shared object file: No such file or directory; LD_LIBRARY_PATH: :/usr/local/cuda/lib64:/home/james/Downloads/TensorRT-8.5.1.7/lib\n",
      "2023-04-17 15:26:15.856369: I tensorflow/compiler/xla/stream_executor/cuda/cudart_stub.cc:29] Ignore above cudart dlerror if you do not have a GPU set up on your machine.\n",
      "2023-04-17 15:26:16.572701: W tensorflow/compiler/xla/stream_executor/platform/default/dso_loader.cc:64] Could not load dynamic library 'libnvinfer.so.7'; dlerror: libnvinfer.so.7: cannot open shared object file: No such file or directory; LD_LIBRARY_PATH: :/usr/local/cuda/lib64:/home/james/Downloads/TensorRT-8.5.1.7/lib\n",
      "2023-04-17 15:26:16.572805: W tensorflow/compiler/xla/stream_executor/platform/default/dso_loader.cc:64] Could not load dynamic library 'libnvinfer_plugin.so.7'; dlerror: libnvinfer_plugin.so.7: cannot open shared object file: No such file or directory; LD_LIBRARY_PATH: :/usr/local/cuda/lib64:/home/james/Downloads/TensorRT-8.5.1.7/lib\n",
      "2023-04-17 15:26:16.572811: W tensorflow/compiler/tf2tensorrt/utils/py_utils.cc:38] TF-TRT Warning: Cannot dlopen some TensorRT libraries. If you would like to use Nvidia GPU with TensorRT, please make sure the missing libraries mentioned above are installed properly.\n"
     ]
    }
   ],
   "source": [
    "from transformers import (\n",
    "    AutoModelForSeq2SeqLM, AutoTokenizer, DataCollatorWithPadding,\n",
    "    TrainingArguments, Trainer\n",
    ")\n"
   ]
  },
  {
   "cell_type": "code",
   "execution_count": 10,
   "metadata": {},
   "outputs": [],
   "source": [
    "bart_model_paths = [\n",
    "    \"models/bart-base/glittering-orchid-204/checkpoint-574\",\n",
    "    \"models/bart-base/chromatic-rabbit-205/checkpoint-1640\",\n",
    "    \"models/bart-base/sweet-fuse-192/checkpoint-984\",\n",
    "    \"models/bart-base/vermilion-lamp-193/checkpoint-1640\",\n",
    "    \"models/bart-base/bright-moon-195/checkpoint-410\",\n",
    "    \"models/bart-base/floating-rat-203/checkpoint-820\",\n",
    "    \"models/bart-base/dancing-goat-167/checkpoint-410\",\n",
    "    \"models/bart-base/cheerful-fireworks-183/checkpoint-820\",\n",
    "]\n",
    "\n",
    "\n",
    "bart_names = [\n",
    "    \"text-exps-bart-large-10\",\n",
    "    \"text-exps-bart-large-10-aug\",\n",
    "    \"text-exps-bart-large-20\",\n",
    "    \"text-exps-bart-large-20-aug\",\n",
    "    \"text-exps-bart-10\",\n",
    "    \"text-exps-bart-10-aug\",\n",
    "    \"text-exps-bart-20\",\n",
    "    \"text-exps-bart-20-aug\",\n",
    "]\n",
    "\n",
    "for path, name in zip(bart_model_paths, bart_names):\n",
    "    model = AutoModelForSeq2SeqLM.from_pretrained(f\"../{path}\")\n",
    "    model.push_to_hub(name)\n",
    "    tokenizer = AutoTokenizer.from_pretrained(f\"../{path}\")\n",
    "    tokenizer.push_to_hub(name)"
   ]
  },
  {
   "cell_type": "code",
   "execution_count": 9,
   "metadata": {},
   "outputs": [],
   "source": [
    "t5_model_paths = [\n",
    "    \"models/t5-base/beaming-kumquat-166/checkpoint-1107\",\n",
    "    \"models/t5-base/enchanting-springroll-182/checkpoint-2050\",\n",
    "    \"models/t5-base/lambent-peony-196/checkpoint-1025\",\n",
    "    \"models/t5-base/golden-firecracker-197/checkpoint-2050\",\n",
    "    \"models/t5-base/lambent-rabbit-201/checkpoint-1312\",\n",
    "    \"models/t5-base/lunar-monkey-202/checkpoint-3280\",\n",
    "    \"models/t5-base/bright-monkey-210/checkpoint-1312\",\n",
    "    \"models/t5-base/brilliant-moon-211/checkpoint-3280\",\n",
    "]\n",
    "\n",
    "t5_model_names = [\n",
    "    \"text-exps-t5-20\",\n",
    "    \"text-exps-t5-20-aug\",\n",
    "    \"text-exps-t5-10\",\n",
    "    \"text-exps-t5-10-aug\",\n",
    "    \"text-exps-t5-large-20\",\n",
    "    \"text-exps-t5-large-20-aug\",\n",
    "    \"text-exps-t5-large-10\",\n",
    "    \"text-exps-t5-large-10-aug\",\n",
    "]\n",
    "\n",
    "for path, name in zip(t5_model_paths, t5_model_names):\n",
    "    model = AutoModelForSeq2SeqLM.from_pretrained(f\"../{path}\")\n",
    "    model.push_to_hub(name)\n",
    "    tokenizer = AutoTokenizer.from_pretrained(f\"../{path}\")\n",
    "    tokenizer.push_to_hub(name)"
   ]
  },
  {
   "cell_type": "code",
   "execution_count": 7,
   "metadata": {},
   "outputs": [],
   "source": [
    "qa_model_paths = [\"models/qa/t5-base/dancing-fireworks-44/checkpoint-15192\",\n",
    "                  \"models/qa/bart-base/legendary-rat-45/checkpoint-15192\"]\n",
    "qa_model_names = [\"text-exps-qa-t5\", \"text-exps-qa-bart\"]\n",
    "\n",
    "for path, name in zip(qa_model_paths, qa_model_names):\n",
    "    model = AutoModelForSeq2SeqLM.from_pretrained(f\"../{path}\")\n",
    "    model.push_to_hub(name)\n",
    "    tokenizer = AutoTokenizer.from_pretrained(f\"../{path}\")\n",
    "    tokenizer.push_to_hub(name)"
   ]
  },
  {
   "cell_type": "code",
   "execution_count": 8,
   "metadata": {},
   "outputs": [
    {
     "name": "stderr",
     "output_type": "stream",
     "text": [
      "Downloading: 100%|██████████| 2.40k/2.40k [00:00<00:00, 1.81MB/s]\n",
      "Downloading: 100%|██████████| 792k/792k [00:00<00:00, 2.10MB/s]\n",
      "Downloading: 100%|██████████| 2.42M/2.42M [00:00<00:00, 14.6MB/s]\n",
      "Downloading: 100%|██████████| 2.20k/2.20k [00:00<00:00, 1.88MB/s]\n",
      "Downloading: 100%|██████████| 892M/892M [00:19<00:00, 45.2MB/s] \n"
     ]
    }
   ],
   "source": [
    "from transformers import AutoTokenizer, AutoModelForSeq2SeqLM\n",
    "\n",
    "tokenizer = AutoTokenizer.from_pretrained(\"james-burton/text-exps-qa-t5\")\n",
    "\n",
    "model = AutoModelForSeq2SeqLM.from_pretrained(\"james-burton/text-exps-qa-t5\")"
   ]
  },
  {
   "cell_type": "code",
   "execution_count": null,
   "metadata": {},
   "outputs": [],
   "source": []
  }
 ],
 "metadata": {
  "kernelspec": {
   "display_name": "env",
   "language": "python",
   "name": "python3"
  },
  "language_info": {
   "codemirror_mode": {
    "name": "ipython",
    "version": 3
   },
   "file_extension": ".py",
   "mimetype": "text/x-python",
   "name": "python",
   "nbconvert_exporter": "python",
   "pygments_lexer": "ipython3",
   "version": "3.10.6"
  },
  "orig_nbformat": 4
 },
 "nbformat": 4,
 "nbformat_minor": 2
}
