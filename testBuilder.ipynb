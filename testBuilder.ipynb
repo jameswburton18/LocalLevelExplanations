{
 "cells": [
  {
   "cell_type": "code",
   "execution_count": 11,
   "metadata": {},
   "outputs": [],
   "source": [
    "from src.datasetComposer import DatasetBuilder,compactComposer,test_path,composed_test_path,composed_train_path\n",
    "import json"
   ]
  },
  {
   "cell_type": "code",
   "execution_count": 2,
   "metadata": {},
   "outputs": [
    {
     "data": {
      "text/plain": [
       "'raw_data/processed_data/train_pack4.dat'"
      ]
     },
     "execution_count": 2,
     "metadata": {},
     "output_type": "execute_result"
    }
   ],
   "source": [
    "composed_train_path"
   ]
  },
  {
   "cell_type": "code",
   "execution_count": 12,
   "metadata": {},
   "outputs": [],
   "source": [
    "tests = json.load(open(test_path,encoding='utf-8'))\n",
    "yyu = compactComposer(tests[:2],\n",
    "                      iterative_mode=True)"
   ]
  },
  {
   "cell_type": "code",
   "execution_count": 18,
   "metadata": {},
   "outputs": [
    {
     "data": {
      "text/plain": [
       "[{'rele_feat': [['feat3value',\n",
       "    'feat8value',\n",
       "    'feat5value',\n",
       "    'feat7value',\n",
       "    'feat10value',\n",
       "    'feat9value',\n",
       "    'feat4value'],\n",
       "   ['feat2value', 'feat6value', 'feat1value'],\n",
       "   []],\n",
       "  'directions': [['feat3value',\n",
       "    'feat2value',\n",
       "    'feat8value',\n",
       "    'feat6value',\n",
       "    'feat1value',\n",
       "    'feat5value',\n",
       "    'feat7value',\n",
       "    'feat10value',\n",
       "    'feat9value',\n",
       "    'feat4value'],\n",
       "   [1, -1, 1, -1, -1, 1, 1, 1, 1, 1]],\n",
       "  'label_placeholders': {'C1': ' predictionlabel', 'C2': 'predictionrankB'},\n",
       "  'preamble': 'prediction: predictionlabel && predictionlabel: 69.02% && predictionrankB: 30.98% <|section-sep|> feat3value:+ && feat2value:- && feat8value:+ && feat6value:- && feat1value:- && feat5value:+ && feat7value:+ && feat10value:+ && feat9value:+ && feat4value:+ <|section-sep|> <explain>',\n",
       "  'narration': 'The classifier is 69.02% certain that the given case is under the class label  predictionlabel, implying that the likelihood of predictionrankB is only 30.98%. Analysis performed to understand the contribution of each input feature revealed that: F3, F2, and F8 are the most influential features when assigning a label to the given case. Features F6, F1, F5, and F7 have moderate contributions, whereas the F10, F9 and F4 have lower relevance to the final classification decision. [N1S]',\n",
       "  'prev_seq': '<prem>',\n",
       "  'positives': ['feat3value',\n",
       "   'feat8value',\n",
       "   'feat5value',\n",
       "   'feat7value',\n",
       "   'feat10value',\n",
       "   'feat9value',\n",
       "   'feat4value'],\n",
       "  'negatives': ['feat2value', 'feat6value', 'feat1value'],\n",
       "  'neutral': [],\n",
       "  'pred_label': ' predictionlabel',\n",
       "  'output': 'The classifier is 69.02 percent certain that the given case is under the class label predictionlabel, implying that the likelihood of predictionrankB is only 30.98 percent. Analysis performed to understand the contribution of each input feature revealed that: featAP, featCN, and featDP are the most influential features when assigning a label to the given case. Features featEN, featFN, featGP, and featHP have moderate contributions, whereas the featIP, featJP and featKP have lower relevance to the final classification decision. [N1S]',\n",
       "  'directions_org': [['F3',\n",
       "    'F2',\n",
       "    'F8',\n",
       "    'F6',\n",
       "    'F1',\n",
       "    'F5',\n",
       "    'F7',\n",
       "    'F10',\n",
       "    'F9',\n",
       "    'F4'],\n",
       "   [1, -1, 1, -1, -1, 1, 1, 1, 1, 1]],\n",
       "  'feature_map': {'feat10value': 'F10',\n",
       "   'feat9value': 'F9',\n",
       "   'feat8value': 'F8',\n",
       "   'feat7value': 'F7',\n",
       "   'feat6value': 'F6',\n",
       "   'feat5value': 'F5',\n",
       "   'feat4value': 'F4',\n",
       "   'feat3value': 'F3',\n",
       "   'feat2value': 'F2',\n",
       "   'feat1value': 'F1'},\n",
       "  'new_preamble_1': 'prediction: predictionlabel && predictionlabel: 69.02% && predictionrankB: 30.98% <|section-sep|> featAP featCN featDP featEN featFN featGP featHP featIP featJP featKP <|section-sep|> <mentions> <positives> featAP featDP featGP featHP featIP featJP featKP </positives> <|section-sep|> <negatives> featCN featEN featFN </negatives> <|section-sep|> <neutrals> </neutrals> <|section-sep|> <explain>',\n",
       "  'new_preamble_2': 'prediction: predictionlabel && predictionlabel: 69.02% && predictionrankB: 30.98% <|section-sep|> featAP featCN featDP featEN featFN featGP featHP featIP featJP featKP <|section-sep|> <mentions> featAP featDP featGP featHP featIP featJP featKP <|section-sep|> featCN featEN featFN <|section-sep|> </mentions> <|section-sep|> <explain>',\n",
       "  'new_preamble_3': 'prediction: predictionlabel && predictionlabel: 69.02% && predictionrankB: 30.98% <|section-sep|> featAP featCN featDP featEN featFN featGP featHP featIP featJP featKP <|section-sep|> <mentions> featAP:+ featDP:+ featGP:+ featHP:+ featIP:+ featJP:+ featKP:+ <|section-sep|> featCN:- featEN:- featFN:- <|section-sep|> </mentions> <|section-sep|> <explain>',\n",
       "  'new_preamble_4': 'prediction: predictionlabel && predictionlabel: 69.02% && predictionrankB: 30.98% <|section-sep|> featAP featCN featDP featEN featFN featGP featHP featIP featJP featKP <|section-sep|> <mentions> <negatives> featCN featEN featFN </negatives> <|section-sep|> <positives> featAP featDP featGP featHP featIP featJP featKP </positives> <|section-sep|> <neutrals> </neutrals> <|section-sep|> <explain>',\n",
       "  'attributions': array([1, 2, 1, 2, 2, 1, 1, 1, 1, 1]),\n",
       "  'reverse_map': {'featAP': 'F3',\n",
       "   'featCN': 'F2',\n",
       "   'featDP': 'F8',\n",
       "   'featEN': 'F6',\n",
       "   'featFN': 'F1',\n",
       "   'featGP': 'F5',\n",
       "   'featHP': 'F7',\n",
       "   'featIP': 'F10',\n",
       "   'featJP': 'F9',\n",
       "   'featKP': 'F4'},\n",
       "  'input_feats': ['featAP',\n",
       "   'featCN',\n",
       "   'featDP',\n",
       "   'featEN',\n",
       "   'featFN',\n",
       "   'featGP',\n",
       "   'featHP',\n",
       "   'featIP',\n",
       "   'featJP',\n",
       "   'featKP']},\n",
       " {'rele_feat': [['feat3value', 'feat8value'], ['feat2value'], []],\n",
       "  'directions': [['feat3value',\n",
       "    'feat2value',\n",
       "    'feat8value',\n",
       "    'feat6value',\n",
       "    'feat1value',\n",
       "    'feat5value',\n",
       "    'feat7value',\n",
       "    'feat10value',\n",
       "    'feat9value',\n",
       "    'feat4value'],\n",
       "   [1, -1, 1, -1, -1, 1, 1, 1, 1, 1]],\n",
       "  'label_placeholders': {'C1': ' predictionlabel', 'C2': 'predictionrankB'},\n",
       "  'preamble': 'prediction: predictionlabel && predictionlabel: 69.02% && predictionrankB: 30.98% <|section-sep|> feat3value:+ && feat2value:- && feat8value:+ && feat6value:- && feat1value:- && feat5value:+ && feat7value:+ && feat10value:+ && feat9value:+ && feat4value:+ <|section-sep|> <explain>',\n",
       "  'narration': 'F3 and F8 push the class assignment towards  predictionlabel, whereas F2 does the opposite, decreasing the likelihood of  predictionlabel. [N2S]',\n",
       "  'prev_seq': 'The classifier is 69.02 percent certain that the given case is under the class label predictionlabel, implying that the likelihood of predictionrankB is only 30.98 percent. Analysis performed to understand the contribution of each input feature revealed that: featAP, featCN, and featDP are the most influential features when assigning a label to the given case. Features featEN, featFN, featGP, and featHP have moderate contributions, whereas the featIP, featJP and featKP have lower relevance to the final classification decision. [N1S]',\n",
       "  'positives': ['feat3value',\n",
       "   'feat8value',\n",
       "   'feat5value',\n",
       "   'feat7value',\n",
       "   'feat10value',\n",
       "   'feat9value',\n",
       "   'feat4value'],\n",
       "  'negatives': ['feat2value', 'feat6value', 'feat1value'],\n",
       "  'neutral': [],\n",
       "  'pred_label': ' predictionlabel',\n",
       "  'output': 'featAP and featDP push the class assignment towards predictionlabel, whereas featCN does the opposite, decreasing the likelihood of predictionlabel. [N2S]',\n",
       "  'directions_org': [['F3',\n",
       "    'F2',\n",
       "    'F8',\n",
       "    'F6',\n",
       "    'F1',\n",
       "    'F5',\n",
       "    'F7',\n",
       "    'F10',\n",
       "    'F9',\n",
       "    'F4'],\n",
       "   [1, -1, 1, -1, -1, 1, 1, 1, 1, 1]],\n",
       "  'feature_map': {'feat10value': 'F10',\n",
       "   'feat9value': 'F9',\n",
       "   'feat8value': 'F8',\n",
       "   'feat7value': 'F7',\n",
       "   'feat6value': 'F6',\n",
       "   'feat5value': 'F5',\n",
       "   'feat4value': 'F4',\n",
       "   'feat3value': 'F3',\n",
       "   'feat2value': 'F2',\n",
       "   'feat1value': 'F1'},\n",
       "  'new_preamble_1': 'prediction: predictionlabel && predictionlabel: 69.02% && predictionrankB: 30.98% <|section-sep|> featAP featCN featDP featEN featFN featGP featHP featIP featJP featKP <|section-sep|> <mentions> <positives> featAP featDP </positives> <|section-sep|> <negatives> featCN </negatives> <|section-sep|> <neutrals> </neutrals> <|section-sep|> <explain>',\n",
       "  'new_preamble_2': 'prediction: predictionlabel && predictionlabel: 69.02% && predictionrankB: 30.98% <|section-sep|> featAP featCN featDP featEN featFN featGP featHP featIP featJP featKP <|section-sep|> <mentions> featAP featDP <|section-sep|> featCN <|section-sep|> </mentions> <|section-sep|> <explain>',\n",
       "  'new_preamble_3': 'prediction: predictionlabel && predictionlabel: 69.02% && predictionrankB: 30.98% <|section-sep|> featAP featCN featDP featEN featFN featGP featHP featIP featJP featKP <|section-sep|> <mentions> featAP:+ featDP:+ <|section-sep|> featCN:- <|section-sep|> </mentions> <|section-sep|> <explain>',\n",
       "  'new_preamble_4': 'prediction: predictionlabel && predictionlabel: 69.02% && predictionrankB: 30.98% <|section-sep|> featAP featCN featDP featEN featFN featGP featHP featIP featJP featKP <|section-sep|> <mentions> <negatives> featCN </negatives> <|section-sep|> <positives> featAP featDP </positives> <|section-sep|> <neutrals> </neutrals> <|section-sep|> <explain>',\n",
       "  'attributions': array([1, 2, 1, 2, 2, 1, 1, 1, 1, 1]),\n",
       "  'reverse_map': {'featAP': 'F3',\n",
       "   'featCN': 'F2',\n",
       "   'featDP': 'F8',\n",
       "   'featEN': 'F6',\n",
       "   'featFN': 'F1',\n",
       "   'featGP': 'F5',\n",
       "   'featHP': 'F7',\n",
       "   'featIP': 'F10',\n",
       "   'featJP': 'F9',\n",
       "   'featKP': 'F4'},\n",
       "  'input_feats': ['featAP',\n",
       "   'featCN',\n",
       "   'featDP',\n",
       "   'featEN',\n",
       "   'featFN',\n",
       "   'featGP',\n",
       "   'featHP',\n",
       "   'featIP',\n",
       "   'featJP',\n",
       "   'featKP']},\n",
       " {'rele_feat': [['feat5value', 'feat7value', 'feat10value'],\n",
       "   ['feat2value', 'feat6value', 'feat1value'],\n",
       "   []],\n",
       "  'directions': [['feat3value',\n",
       "    'feat2value',\n",
       "    'feat8value',\n",
       "    'feat6value',\n",
       "    'feat1value',\n",
       "    'feat5value',\n",
       "    'feat7value',\n",
       "    'feat10value',\n",
       "    'feat9value',\n",
       "    'feat4value'],\n",
       "   [1, -1, 1, -1, -1, 1, 1, 1, 1, 1]],\n",
       "  'label_placeholders': {'C1': ' predictionlabel', 'C2': 'predictionrankB'},\n",
       "  'preamble': 'prediction: predictionlabel && predictionlabel: 69.02% && predictionrankB: 30.98% <|section-sep|> feat3value:+ && feat2value:- && feat8value:+ && feat6value:- && feat1value:- && feat5value:+ && feat7value:+ && feat10value:+ && feat9value:+ && feat4value:+ <|section-sep|> <explain>',\n",
       "  'narration': 'Similar to F2, F6, and F1 negatively impact the  predictionlabel classification, whereas F7, F10, and F5 positively push the decision towards the  predictionlabel class. [N3S]',\n",
       "  'prev_seq': 'The classifier is 69.02 percent certain that the given case is under the class label predictionlabel, implying that the likelihood of predictionrankB is only 30.98 percent. Analysis performed to understand the contribution of each input feature revealed that: featAP, featCN, and featDP are the most influential features when assigning a label to the given case. Features featEN, featFN, featGP, and featHP have moderate contributions, whereas the featIP, featJP and featKP have lower relevance to the final classification decision. [N1S] featAP and featDP push the class assignment towards predictionlabel, whereas featCN does the opposite, decreasing the likelihood of predictionlabel. [N2S]',\n",
       "  'positives': ['feat3value',\n",
       "   'feat8value',\n",
       "   'feat5value',\n",
       "   'feat7value',\n",
       "   'feat10value',\n",
       "   'feat9value',\n",
       "   'feat4value'],\n",
       "  'negatives': ['feat2value', 'feat6value', 'feat1value'],\n",
       "  'neutral': [],\n",
       "  'pred_label': ' predictionlabel',\n",
       "  'output': 'Similar to featCN, featEN, and featFN negatively impact the predictionlabel classification, whereas featHP, featIP, and featGP positively push the decision towards the predictionlabel class. [N3S]',\n",
       "  'directions_org': [['F3',\n",
       "    'F2',\n",
       "    'F8',\n",
       "    'F6',\n",
       "    'F1',\n",
       "    'F5',\n",
       "    'F7',\n",
       "    'F10',\n",
       "    'F9',\n",
       "    'F4'],\n",
       "   [1, -1, 1, -1, -1, 1, 1, 1, 1, 1]],\n",
       "  'feature_map': {'feat10value': 'F10',\n",
       "   'feat9value': 'F9',\n",
       "   'feat8value': 'F8',\n",
       "   'feat7value': 'F7',\n",
       "   'feat6value': 'F6',\n",
       "   'feat5value': 'F5',\n",
       "   'feat4value': 'F4',\n",
       "   'feat3value': 'F3',\n",
       "   'feat2value': 'F2',\n",
       "   'feat1value': 'F1'},\n",
       "  'new_preamble_1': 'prediction: predictionlabel && predictionlabel: 69.02% && predictionrankB: 30.98% <|section-sep|> featAP featCN featDP featEN featFN featGP featHP featIP featJP featKP <|section-sep|> <mentions> <positives> featGP featHP featIP </positives> <|section-sep|> <negatives> featCN featEN featFN </negatives> <|section-sep|> <neutrals> </neutrals> <|section-sep|> <explain>',\n",
       "  'new_preamble_2': 'prediction: predictionlabel && predictionlabel: 69.02% && predictionrankB: 30.98% <|section-sep|> featAP featCN featDP featEN featFN featGP featHP featIP featJP featKP <|section-sep|> <mentions> featGP featHP featIP <|section-sep|> featCN featEN featFN <|section-sep|> </mentions> <|section-sep|> <explain>',\n",
       "  'new_preamble_3': 'prediction: predictionlabel && predictionlabel: 69.02% && predictionrankB: 30.98% <|section-sep|> featAP featCN featDP featEN featFN featGP featHP featIP featJP featKP <|section-sep|> <mentions> featGP:+ featHP:+ featIP:+ <|section-sep|> featCN:- featEN:- featFN:- <|section-sep|> </mentions> <|section-sep|> <explain>',\n",
       "  'new_preamble_4': 'prediction: predictionlabel && predictionlabel: 69.02% && predictionrankB: 30.98% <|section-sep|> featAP featCN featDP featEN featFN featGP featHP featIP featJP featKP <|section-sep|> <mentions> <negatives> featCN featEN featFN </negatives> <|section-sep|> <positives> featGP featHP featIP </positives> <|section-sep|> <neutrals> </neutrals> <|section-sep|> <explain>',\n",
       "  'attributions': array([1, 2, 1, 2, 2, 1, 1, 1, 1, 1]),\n",
       "  'reverse_map': {'featAP': 'F3',\n",
       "   'featCN': 'F2',\n",
       "   'featDP': 'F8',\n",
       "   'featEN': 'F6',\n",
       "   'featFN': 'F1',\n",
       "   'featGP': 'F5',\n",
       "   'featHP': 'F7',\n",
       "   'featIP': 'F10',\n",
       "   'featJP': 'F9',\n",
       "   'featKP': 'F4'},\n",
       "  'input_feats': ['featAP',\n",
       "   'featCN',\n",
       "   'featDP',\n",
       "   'featEN',\n",
       "   'featFN',\n",
       "   'featGP',\n",
       "   'featHP',\n",
       "   'featIP',\n",
       "   'featJP',\n",
       "   'featKP']},\n",
       " {'rele_feat': [['feat9value', 'feat4value'], [], []],\n",
       "  'directions': [['feat3value',\n",
       "    'feat2value',\n",
       "    'feat8value',\n",
       "    'feat6value',\n",
       "    'feat1value',\n",
       "    'feat5value',\n",
       "    'feat7value',\n",
       "    'feat10value',\n",
       "    'feat9value',\n",
       "    'feat4value'],\n",
       "   [1, -1, 1, -1, -1, 1, 1, 1, 1, 1]],\n",
       "  'label_placeholders': {'C1': ' predictionlabel', 'C2': 'predictionrankB'},\n",
       "  'preamble': 'prediction: predictionlabel && predictionlabel: 69.02% && predictionrankB: 30.98% <|section-sep|> feat3value:+ && feat2value:- && feat8value:+ && feat6value:- && feat1value:- && feat5value:+ && feat7value:+ && feat10value:+ && feat9value:+ && feat4value:+ <|section-sep|> <explain>',\n",
       "  'narration': 'Features F9, and F4 all have little impact on the final decision, with F4 having the least impact. [EON]',\n",
       "  'prev_seq': 'The classifier is 69.02 percent certain that the given case is under the class label predictionlabel, implying that the likelihood of predictionrankB is only 30.98 percent. Analysis performed to understand the contribution of each input feature revealed that: featAP, featCN, and featDP are the most influential features when assigning a label to the given case. Features featEN, featFN, featGP, and featHP have moderate contributions, whereas the featIP, featJP and featKP have lower relevance to the final classification decision. [N1S] featAP and featDP push the class assignment towards predictionlabel, whereas featCN does the opposite, decreasing the likelihood of predictionlabel. [N2S] Similar to featCN, featEN, and featFN negatively impact the predictionlabel classification, whereas featHP, featIP, and featGP positively push the decision towards the predictionlabel class. [N3S] [EON]',\n",
       "  'positives': ['feat3value',\n",
       "   'feat8value',\n",
       "   'feat5value',\n",
       "   'feat7value',\n",
       "   'feat10value',\n",
       "   'feat9value',\n",
       "   'feat4value'],\n",
       "  'negatives': ['feat2value', 'feat6value', 'feat1value'],\n",
       "  'neutral': [],\n",
       "  'pred_label': ' predictionlabel',\n",
       "  'output': 'Features featJP, and featKP all have little impact on the final decision, with featKP having the least impact. [EON]',\n",
       "  'directions_org': [['F3',\n",
       "    'F2',\n",
       "    'F8',\n",
       "    'F6',\n",
       "    'F1',\n",
       "    'F5',\n",
       "    'F7',\n",
       "    'F10',\n",
       "    'F9',\n",
       "    'F4'],\n",
       "   [1, -1, 1, -1, -1, 1, 1, 1, 1, 1]],\n",
       "  'feature_map': {'feat10value': 'F10',\n",
       "   'feat9value': 'F9',\n",
       "   'feat8value': 'F8',\n",
       "   'feat7value': 'F7',\n",
       "   'feat6value': 'F6',\n",
       "   'feat5value': 'F5',\n",
       "   'feat4value': 'F4',\n",
       "   'feat3value': 'F3',\n",
       "   'feat2value': 'F2',\n",
       "   'feat1value': 'F1'},\n",
       "  'new_preamble_1': 'prediction: predictionlabel && predictionlabel: 69.02% && predictionrankB: 30.98% <|section-sep|> featAP featCN featDP featEN featFN featGP featHP featIP featJP featKP <|section-sep|> <mentions> <positives> featJP featKP </positives> <|section-sep|> <negatives> </negatives> <|section-sep|> <neutrals> </neutrals> <|section-sep|> <explain>',\n",
       "  'new_preamble_2': 'prediction: predictionlabel && predictionlabel: 69.02% && predictionrankB: 30.98% <|section-sep|> featAP featCN featDP featEN featFN featGP featHP featIP featJP featKP <|section-sep|> <mentions> featJP featKP <|section-sep|> <|section-sep|> </mentions> <|section-sep|> <explain>',\n",
       "  'new_preamble_3': 'prediction: predictionlabel && predictionlabel: 69.02% && predictionrankB: 30.98% <|section-sep|> featAP featCN featDP featEN featFN featGP featHP featIP featJP featKP <|section-sep|> <mentions> featJP:+ featKP:+ <|section-sep|> <|section-sep|> </mentions> <|section-sep|> <explain>',\n",
       "  'new_preamble_4': 'prediction: predictionlabel && predictionlabel: 69.02% && predictionrankB: 30.98% <|section-sep|> featAP featCN featDP featEN featFN featGP featHP featIP featJP featKP <|section-sep|> <mentions> <negatives> </negatives> <|section-sep|> <positives> featJP featKP </positives> <|section-sep|> <neutrals> </neutrals> <|section-sep|> <explain>',\n",
       "  'attributions': array([1, 2, 1, 2, 2, 1, 1, 1, 1, 1]),\n",
       "  'reverse_map': {'featAP': 'F3',\n",
       "   'featCN': 'F2',\n",
       "   'featDP': 'F8',\n",
       "   'featEN': 'F6',\n",
       "   'featFN': 'F1',\n",
       "   'featGP': 'F5',\n",
       "   'featHP': 'F7',\n",
       "   'featIP': 'F10',\n",
       "   'featJP': 'F9',\n",
       "   'featKP': 'F4'},\n",
       "  'input_feats': ['featAP',\n",
       "   'featCN',\n",
       "   'featDP',\n",
       "   'featEN',\n",
       "   'featFN',\n",
       "   'featGP',\n",
       "   'featHP',\n",
       "   'featIP',\n",
       "   'featJP',\n",
       "   'featKP']}]"
      ]
     },
     "execution_count": 18,
     "metadata": {},
     "output_type": "execute_result"
    }
   ],
   "source": [
    "yyu[0]"
   ]
  },
  {
   "cell_type": "code",
   "execution_count": 4,
   "metadata": {},
   "outputs": [
    {
     "data": {
      "text/plain": [
       "'prediction: predictionlabel && predictionlabel: 98.44% && predictionrankB: 1.56% <|section-sep|> featAP featCP featDN featEP featFP featGP featHN featIN featJN featKP featLN featMP <|section-sep|> <mentions> <|section-sep|> featHN:- featIN:- featJN:- featLN:- <|section-sep|> </mentions> <|section-sep|> <explain>'"
      ]
     },
     "execution_count": 4,
     "metadata": {},
     "output_type": "execute_result"
    }
   ],
   "source": [
    "yyu[1][1][ 'new_preamble_3']"
   ]
  },
  {
   "cell_type": "code",
   "execution_count": null,
   "metadata": {},
   "outputs": [],
   "source": [
    "exp_dataset.tokenizer_"
   ]
  },
  {
   "cell_type": "code",
   "execution_count": 5,
   "metadata": {},
   "outputs": [],
   "source": [
    "exp_dataset = DatasetBuilder('facebook/bart-base', composed_train_path, composed_test_path,\n",
    "                             iterative_mode=True, composed_already=True, preamble_choice=3)\n"
   ]
  },
  {
   "cell_type": "code",
   "execution_count": 6,
   "metadata": {},
   "outputs": [
    {
     "data": {
      "text/plain": [
       "'prediction: predictionlabel && predictionlabel: 69.02% && predictionrankB: 30.98% <|section-sep|> featAP featCN featDP featEN featFN featGP featHP featIP featJP featKP <|section-sep|> <mentions> featAP featDP featGP featHP featIP featJP featKP <|section-sep|> featCN featEN featFN <|section-sep|> </mentions> <|section-sep|> <explain>'"
      ]
     },
     "execution_count": 6,
     "metadata": {},
     "output_type": "execute_result"
    }
   ],
   "source": [
    "exp_dataset.test_data_raw[0]['new_preamble_2']"
   ]
  },
  {
   "cell_type": "code",
   "execution_count": 7,
   "metadata": {},
   "outputs": [],
   "source": [
    "exp_dataset.fit()"
   ]
  },
  {
   "cell_type": "code",
   "execution_count": 6,
   "metadata": {},
   "outputs": [
    {
     "data": {
      "text/plain": [
       "2418"
      ]
     },
     "execution_count": 6,
     "metadata": {},
     "output_type": "execute_result"
    }
   ],
   "source": [
    "len(exp_dataset.train_dataset)"
   ]
  },
  {
   "cell_type": "code",
   "execution_count": 8,
   "metadata": {},
   "outputs": [
    {
     "data": {
      "text/plain": [
       "Features(input_ids=tensor([37466, 26579,    35, 16782, 33480,  1437, 49145, 16782, 33480,    35,\n",
       "         5913,     4,  4197,   207,  1437, 49145, 16782, 40081,   387,    35,\n",
       "          389,     4,  5208,   207,  1437, 50279, 11930,   591, 11930, 29990,\n",
       "        11930,  5174, 11930,  2796, 11930, 38350, 11930, 12694, 11930,  7331,\n",
       "        11930,  3808, 11930, 12887, 11930,   530,   510,  1437, 50279,  1437,\n",
       "        50277, 11930,   591, 11930,  5174,  1437, 50279, 11930, 29990,  1437,\n",
       "        50279,  1437, 50278,  1437, 50279,  1437, 50270,  1437, 50295,    20,\n",
       "         1380, 24072,    16,  5913,     4,  4197,   135,  1402,    14,     5,\n",
       "          576,   403,    16,   223,     5,  1380,  6929, 16782, 33480,     6,\n",
       "        28695,    14,     5, 11801,     9, 16782, 40081,   387,    16,   129,\n",
       "          389,     4,  5208,   135,     4,  1437, 50292]), attention_mask=tensor([1, 1, 1, 1, 1, 1, 1, 1, 1, 1, 1, 1, 1, 1, 1, 1, 1, 1, 1, 1, 1, 1, 1, 1,\n",
       "        1, 1, 1, 1, 1, 1, 1, 1, 1, 1, 1, 1, 1, 1, 1, 1, 1, 1, 1, 1, 1, 1, 1, 1,\n",
       "        1, 1, 1, 1, 1, 1, 1, 1, 1, 1, 1, 1, 1, 1, 1, 1, 1, 1, 1, 1, 1, 1, 1, 1,\n",
       "        1, 1, 1, 1, 1, 1, 1, 1, 1, 1, 1, 1, 1, 1, 1, 1, 1, 1, 1, 1, 1, 1, 1, 1,\n",
       "        1, 1, 1, 1, 1, 1, 1, 1, 1, 1, 1]), labels=tensor([    0, 43932,  3744,     7,  1346,     5,  5883,     9,   349,  8135,\n",
       "         1905,  1487,    14,    35, 11930,   591,     6, 11930, 29990,     6,\n",
       "            8, 11930,  5174,    32,     5,   144,  9283,  1575,    77, 36457,\n",
       "           10,  6929,     7,     5,   576,   403,     4,  1437, 50293,     2]), decoder_attention_mask=tensor([1, 1, 1, 1, 1, 1, 1, 1, 1, 1, 1, 1, 1, 1, 1, 1, 1, 1, 1, 1, 1, 1, 1, 1,\n",
       "        1, 1, 1, 1, 1, 1, 1, 1, 1, 1, 1, 1, 1, 1, 1, 1]))"
      ]
     },
     "execution_count": 8,
     "metadata": {},
     "output_type": "execute_result"
    }
   ],
   "source": [
    "exp_dataset.transform(yyu[0][1])"
   ]
  },
  {
   "cell_type": "code",
   "execution_count": 9,
   "metadata": {},
   "outputs": [
    {
     "data": {
      "text/plain": [
       "Features(input_ids=tensor([37466, 26579,    35, 16782, 33480,  1437, 49145, 16782, 33480,    35,\n",
       "         4034,     4,  3103,   207,  1437, 49145, 16782, 40081,   387,    35,\n",
       "          971,     4,  2983,   207,  1437, 49145, 16782, 40081,   347,    35,\n",
       "          706,     4,  3367,   207,  1437, 50275, 11930,   591, 11930,  7496,\n",
       "        11930, 40795, 11930,  2796, 11930,  9763, 11930, 17567, 11930,   725,\n",
       "          487, 11930,  3808, 11930, 39131, 11930, 21738,  1437, 50275,  1437,\n",
       "        50274,  1437, 50270,  1437, 50272,  1437, 50275,  1437, 50268,  1437,\n",
       "        50271,  1437, 50275,  1437, 50269,  1437, 50273,  1437, 50275,  1437,\n",
       "        50267,  1437, 50290]), attention_mask=tensor([1, 1, 1, 1, 1, 1, 1, 1, 1, 1, 1, 1, 1, 1, 1, 1, 1, 1, 1, 1, 1, 1, 1, 1,\n",
       "        1, 1, 1, 1, 1, 1, 1, 1, 1, 1, 1, 1, 1, 1, 1, 1, 1, 1, 1, 1, 1, 1, 1, 1,\n",
       "        1, 1, 1, 1, 1, 1, 1, 1, 1, 1, 1, 1, 1, 1, 1, 1, 1, 1, 1, 1, 1, 1, 1, 1,\n",
       "        1, 1, 1, 1, 1, 1, 1, 1, 1, 1, 1]), labels=tensor([    0,   133, 17194,  7460,     7,  3008,     5, 20257, 17876,  1380,\n",
       "        16782, 33480,    19,    10, 11801,     9,   198,  4034,     4,  3103,\n",
       "          135,     6,  1380, 16782, 40081,   387,    19,    10, 11801,     9,\n",
       "         2219,   971,     4,  2983,   135,     6,     8,  1380, 16782, 40081,\n",
       "          347,    19,    10, 11801,     9,   198,   706,     4,  3367,   135,\n",
       "            4,  9068,     6,     5,   507, 16782,   568,    16,    14, 16782,\n",
       "        33480,    16,     5,   144, 15186,  6929,     4,  1437, 50288,     2]), decoder_attention_mask=tensor([1, 1, 1, 1, 1, 1, 1, 1, 1, 1, 1, 1, 1, 1, 1, 1, 1, 1, 1, 1, 1, 1, 1, 1,\n",
       "        1, 1, 1, 1, 1, 1, 1, 1, 1, 1, 1, 1, 1, 1, 1, 1, 1, 1, 1, 1, 1, 1, 1, 1,\n",
       "        1, 1, 1, 1, 1, 1, 1, 1, 1, 1, 1, 1, 1, 1, 1, 1, 1, 1, 1, 1, 1, 1]))"
      ]
     },
     "execution_count": 9,
     "metadata": {},
     "output_type": "execute_result"
    }
   ],
   "source": [
    "exp_dataset.train_dataset[0]"
   ]
  },
  {
   "cell_type": "code",
   "execution_count": 9,
   "metadata": {},
   "outputs": [],
   "source": [
    "import json"
   ]
  },
  {
   "cell_type": "code",
   "execution_count": 3,
   "metadata": {},
   "outputs": [],
   "source": []
  },
  {
   "cell_type": "code",
   "execution_count": 10,
   "metadata": {},
   "outputs": [
    {
     "name": "stdout",
     "output_type": "stream",
     "text": [
      "{' predictionlabel': ' C1', 'predictionrankB': ' C2', 'predictionrankC': ' C4', 'predictionrankD': ' C3'}\n"
     ]
    }
   ],
   "source": [
    "data = json.load(open('datasets/simulated_predictions_7l.json'))\n",
    "yyu = compactComposer(data[-1],iterative_mode=False,force_consistency=True)[0]\n",
    "print( {p:' '+l for l,p in yyu[0]['label_placeholders'].items()})"
   ]
  },
  {
   "cell_type": "code",
   "execution_count": 39,
   "metadata": {},
   "outputs": [
    {
     "name": "stdout",
     "output_type": "stream",
     "text": [
      "{}\n"
     ]
    }
   ],
   "source": [
    "print(yyu[0]['reverse_map'])"
   ]
  },
  {
   "cell_type": "code",
   "execution_count": 30,
   "metadata": {},
   "outputs": [
    {
     "data": {
      "text/plain": [
       "'prediction: predictionlabel && predictionlabel: 47.55% && predictionrankB: 27.13% && predictionrankC: 22.35% && predictionrankD: 2.97% <|section-sep|> featAP featCP featDN featEP featFP featGP featHN featIN featJN featKN featLP featMP featQP featRN featSP featTP featUP featVP featWP featXN featYN featZN featBCN featBDO featBEO featBFO <|section-sep|> <mentions> featAP:+ featCP:+ featEP:+ featFP:+ featGP:+ featLP:+ featMP:+ featQP:+ featSP:+ featTP:+ featUP:+ featVP:+ featWP:+ <|section-sep|> featDN:- featHN:- featIN:- featJN:- featKN:- featRN:- featXN:- featYN:- featZN:- featBCN:- <|section-sep|> featBDO:@ featBEO:@ featBFO:@ </mentions> <|section-sep|> <explain>'"
      ]
     },
     "execution_count": 30,
     "metadata": {},
     "output_type": "execute_result"
    }
   ],
   "source": [
    "yyu[0]['new_preamble_3']\n",
    "#\"prediction_confidence_level\": \"C1:5.55%, C2:3.4%, C3:86.31%, C4:4.75%\","
   ]
  },
  {
   "cell_type": "code",
   "execution_count": null,
   "metadata": {},
   "outputs": [],
   "source": [
    "\"\"\"\n",
    "The most appropriate label for the test case under consideration with a relatively high confidence level is C3 and this is primarily because the predicted likelihood of the alternative labels, C2, C1, and C4 are 3.4%, 5.55%, and 4.75%, respectively. The label assignment for the case under consideration here  is largely based on the values of F18, F27, F13, F31, and F7, whereas the values of F17, F35, F8, and F10 are not taken into consideration since their attributions indicates that they have insignificant influence on the classifier. Strongly increasing the probability that C3 is actually the true label are the positive variables F18, F27, F13, F7,  and F2. On the contrary, the negative variables driving the classification decision towards the alternative labels are mainly F31, F16, F29, F5, F22, and F26. The other positively supporting variables further increasing the certainty in the classification decision are F3, F28, F11, F34 and F24. With most of the top variables having positive impact on the classifier, it explains why the clasisfier is certain that none of the alternative labels is the true label for the case under consideration.\n",
    "\"\"\""
   ]
  },
  {
   "cell_type": "code",
   "execution_count": null,
   "metadata": {},
   "outputs": [],
   "source": [
    "\"F17\",\n",
    "                \"F35\",\n",
    "                \"F8\",\n",
    "                \"F10\""
   ]
  }
 ],
 "metadata": {
  "kernelspec": {
   "display_name": "env",
   "language": "python",
   "name": "python3"
  },
  "language_info": {
   "codemirror_mode": {
    "name": "ipython",
    "version": 3
   },
   "file_extension": ".py",
   "mimetype": "text/x-python",
   "name": "python",
   "nbconvert_exporter": "python",
   "pygments_lexer": "ipython3",
   "version": "3.10.6 (main, Nov  2 2022, 18:53:38) [GCC 11.3.0]"
  },
  "orig_nbformat": 4,
  "vscode": {
   "interpreter": {
    "hash": "3f53d471a03fb5b9741311ec5f82522ec5f217d64ed47634b801d3f5199a0064"
   }
  }
 },
 "nbformat": 4,
 "nbformat_minor": 2
}
