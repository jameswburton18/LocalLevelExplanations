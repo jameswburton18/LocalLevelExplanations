{
 "cells": [
  {
   "cell_type": "code",
   "execution_count": 2,
   "metadata": {},
   "outputs": [
    {
     "name": "stderr",
     "output_type": "stream",
     "text": [
      "/home/james/CodingProjects/Local_level_model_explanations/env/lib/python3.10/site-packages/tqdm/auto.py:22: TqdmWarning: IProgress not found. Please update jupyter and ipywidgets. See https://ipywidgets.readthedocs.io/en/stable/user_install.html\n",
      "  from .autonotebook import tqdm as notebook_tqdm\n",
      "2023-01-17 09:23:47.247295: I tensorflow/core/platform/cpu_feature_guard.cc:193] This TensorFlow binary is optimized with oneAPI Deep Neural Network Library (oneDNN) to use the following CPU instructions in performance-critical operations:  AVX2 FMA\n",
      "To enable them in other operations, rebuild TensorFlow with the appropriate compiler flags.\n",
      "2023-01-17 09:23:47.763423: W tensorflow/compiler/xla/stream_executor/platform/default/dso_loader.cc:64] Could not load dynamic library 'libnvinfer.so.7'; dlerror: libnvinfer.so.7: cannot open shared object file: No such file or directory; LD_LIBRARY_PATH: :/usr/local/cuda/lib64:/home/james/Downloads/TensorRT-8.5.1.7/lib\n",
      "2023-01-17 09:23:47.763476: W tensorflow/compiler/xla/stream_executor/platform/default/dso_loader.cc:64] Could not load dynamic library 'libnvinfer_plugin.so.7'; dlerror: libnvinfer_plugin.so.7: cannot open shared object file: No such file or directory; LD_LIBRARY_PATH: :/usr/local/cuda/lib64:/home/james/Downloads/TensorRT-8.5.1.7/lib\n",
      "2023-01-17 09:23:47.763482: W tensorflow/compiler/tf2tensorrt/utils/py_utils.cc:38] TF-TRT Warning: Cannot dlopen some TensorRT libraries. If you would like to use Nvidia GPU with TensorRT, please make sure the missing libraries mentioned above are installed properly.\n"
     ]
    }
   ],
   "source": [
    "import json\n",
    "import numpy as np\n",
    "from collections import Counter\n",
    "import re\n",
    "from nltk import sent_tokenize\n",
    "from src.utils import (\n",
    "    linearise_input, convert_to_features, form_stepwise_input, \n",
    "    simplify_feat_names,\n",
    "    label_qs,\n",
    "    simplify_narr_question\n",
    ")\n",
    "from transformers import AutoModelForSeq2SeqLM, AutoTokenizer"
   ]
  },
  {
   "cell_type": "code",
   "execution_count": 3,
   "metadata": {},
   "outputs": [],
   "source": [
    "data = json.load(open('../raw_data/all_train.json',encoding='utf-8'))\n"
   ]
  },
  {
   "cell_type": "code",
   "execution_count": 4,
   "metadata": {},
   "outputs": [
    {
     "data": {
      "text/plain": [
       "dict_keys(['model_name', 'deleted', 'mturk_id', 'predicted_class', 'narrative_status', 'predicted_class_label', 'date_submitted', 'id', 'feature_division', 'date_approved', 'test_instance', 'features_placeholder', 'is_paid', 'task_name', 'prediction_confidence', 'redeem_code', 'narrator', 'narration', 'user_ip', 'narrative_question', 'prediction_confidence_level'])"
      ]
     },
     "execution_count": 4,
     "metadata": {},
     "output_type": "execute_result"
    }
   ],
   "source": [
    "data[0].keys()"
   ]
  },
  {
   "cell_type": "code",
   "execution_count": 5,
   "metadata": {},
   "outputs": [
    {
     "data": {
      "text/plain": [
       "['Hotel Satisfaction',\n",
       " 'Music Concert Attendance',\n",
       " 'Company Bankruptcy Prediction',\n",
       " 'Customer Churn Modelling',\n",
       " 'Concrete Strength Classification',\n",
       " 'Car Acceptability Valuation',\n",
       " 'Student Job Placement',\n",
       " 'Used Cars Price-Range Prediction',\n",
       " 'Student Job Placement',\n",
       " 'Concrete Strength Classification',\n",
       " 'Student Job Placement',\n",
       " 'Tic-Tac-Toe Strategy',\n",
       " 'House Price Classification',\n",
       " 'Advertisement Prediction',\n",
       " 'Music Concert Attendance',\n",
       " 'Mobile Price-Range Classification',\n",
       " 'Cab Surge Pricing System',\n",
       " 'Advertisement Prediction',\n",
       " 'Flight Price-Range Classification',\n",
       " 'Water Quality Classification',\n",
       " 'Employee Attrition',\n",
       " 'Company Bankruptcy Prediction',\n",
       " 'House Price Classification',\n",
       " 'E-Commerce Shipping',\n",
       " 'Printer Sales',\n",
       " 'Hotel Satisfaction',\n",
       " 'Vehicle Insurance Claims',\n",
       " 'Real Estate Investment',\n",
       " 'Vehicle Insurance Claims',\n",
       " 'Insurance Churn',\n",
       " 'Student Job Placement',\n",
       " 'Vehicle Insurance Claims',\n",
       " 'Insurance Churn',\n",
       " 'Credit Card Fraud Classification',\n",
       " 'Tic-Tac-Toe Strategy',\n",
       " 'Student Job Placement',\n",
       " 'Basketball Players Career Length Prediction',\n",
       " 'Flight Price-Range Classification',\n",
       " 'Used Cars Price-Range Prediction',\n",
       " 'Food Ordering Customer Churn Prediction',\n",
       " 'Water Quality Classification',\n",
       " 'Credit Card Fraud Classification',\n",
       " 'Student Job Placement',\n",
       " 'Student Job Placement',\n",
       " 'Employee Attrition',\n",
       " 'Vehicle Insurance Claims',\n",
       " 'Employee Promotion Prediction',\n",
       " 'Wine Quality Prediction',\n",
       " 'Printer Sales',\n",
       " 'Credit Risk Classification',\n",
       " 'Car Acceptability Valuation',\n",
       " 'Flight Price-Range Classification',\n",
       " 'Credit Risk Classification',\n",
       " 'Australian Credit Approval',\n",
       " 'Broadband Sevice Signup',\n",
       " 'Printer Sales',\n",
       " 'Concrete Strength Classification',\n",
       " 'Cab Surge Pricing System',\n",
       " 'House Price Classification',\n",
       " 'Suspicious Bidding Identification',\n",
       " 'Wine Quality Prediction',\n",
       " 'Mobile Price-Range Classification',\n",
       " 'Credit Risk Classification',\n",
       " 'Bike Sharing Demand',\n",
       " 'Cab Surge Pricing System',\n",
       " 'Flight Price-Range Classification',\n",
       " 'Personal Loan Modelling',\n",
       " 'German Credit Evaluation',\n",
       " 'Company Bankruptcy Prediction',\n",
       " 'Suspicious Bidding Identification',\n",
       " 'Airline Passenger Satisfaction',\n",
       " 'Bike Sharing Demand',\n",
       " 'German Credit Evaluation',\n",
       " 'House Price Classification',\n",
       " 'Customer Churn Modelling',\n",
       " 'Insurance Churn',\n",
       " 'Health Care Services Satisfaction Prediction',\n",
       " 'Real Estate Investment',\n",
       " 'Australian Credit Approval',\n",
       " 'Basketball Players Career Length Prediction',\n",
       " 'Annual Income Earnings',\n",
       " 'Airline Passenger Satisfaction',\n",
       " 'Paris House Classification',\n",
       " 'Health Care Services Satisfaction Prediction',\n",
       " 'Employee Promotion Prediction',\n",
       " 'Annual Income Earnings',\n",
       " 'Real Estate Investment',\n",
       " 'Personal Loan Modelling',\n",
       " 'Airline Passenger Satisfaction',\n",
       " 'E-Commerce Shipping',\n",
       " 'Annual Income Earnings',\n",
       " 'Basketball Players Career Length Prediction',\n",
       " 'Ethereum Fraud Detection',\n",
       " 'German Credit Evaluation',\n",
       " 'Paris House Classification',\n",
       " 'Broadband Sevice Signup',\n",
       " 'Customer Churn Modelling',\n",
       " 'Food Ordering Customer Churn Prediction',\n",
       " 'Air Quality Prediction',\n",
       " 'Wine Quality Prediction',\n",
       " 'Wine Quality Prediction',\n",
       " 'Real Estate Investment',\n",
       " 'Concrete Strength Classification',\n",
       " 'Employee Attrition',\n",
       " 'Cab Surge Pricing System',\n",
       " 'Credit Risk Classification',\n",
       " 'Used Cars Price-Range Prediction',\n",
       " 'Real Estate Investment',\n",
       " 'Flight Price-Range Classification',\n",
       " 'Airline Passenger Satisfaction',\n",
       " 'Hotel Satisfaction',\n",
       " 'Advertisement Prediction',\n",
       " 'Advertisement Prediction',\n",
       " 'House Price Classification',\n",
       " 'Suspicious Bidding Identification',\n",
       " 'Food Ordering Customer Churn Prediction',\n",
       " 'Annual Income Earnings',\n",
       " 'Tic-Tac-Toe Strategy',\n",
       " 'E-Commerce Shipping',\n",
       " 'Australian Credit Approval',\n",
       " 'Car Acceptability Valuation',\n",
       " 'Employee Attrition',\n",
       " 'Company Bankruptcy Prediction',\n",
       " 'Customer Churn Modelling',\n",
       " 'Broadband Sevice Signup',\n",
       " 'Tic-Tac-Toe Strategy',\n",
       " 'Basketball Players Career Length Prediction',\n",
       " 'Australian Credit Approval',\n",
       " 'Used Cars Price-Range Prediction',\n",
       " 'House Price Classification',\n",
       " 'Bike Sharing Demand',\n",
       " 'Job Change of Data Scientists',\n",
       " 'Personal Loan Modelling',\n",
       " 'Bike Sharing Demand',\n",
       " 'Mobile Price-Range Classification',\n",
       " 'Employee Attrition',\n",
       " 'German Credit Evaluation',\n",
       " 'German Credit Evaluation',\n",
       " 'Tic-Tac-Toe Strategy',\n",
       " 'Ethereum Fraud Detection',\n",
       " 'Wine Quality Prediction',\n",
       " 'Broadband Sevice Signup',\n",
       " 'Employee Promotion Prediction',\n",
       " 'Water Quality Classification',\n",
       " 'Personal Loan Modelling',\n",
       " 'Credit Card Fraud Classification',\n",
       " 'Printer Sales',\n",
       " 'Credit Card Fraud Classification',\n",
       " 'Printer Sales',\n",
       " 'Ethereum Fraud Detection',\n",
       " 'Australian Credit Approval',\n",
       " 'Personal Loan Modelling',\n",
       " 'Employee Promotion Prediction',\n",
       " 'Insurance Churn',\n",
       " 'Advertisement Prediction',\n",
       " 'House Price Classification',\n",
       " 'Concrete Strength Classification',\n",
       " 'Mobile Price-Range Classification',\n",
       " 'Job Change of Data Scientists',\n",
       " 'Employee Attrition',\n",
       " 'Flight Price-Range Classification',\n",
       " 'Mobile Price-Range Classification',\n",
       " 'Health Care Services Satisfaction Prediction',\n",
       " 'Advertisement Prediction',\n",
       " 'Employee Attrition',\n",
       " 'Paris House Classification',\n",
       " 'Basketball Players Career Length Prediction',\n",
       " 'Company Bankruptcy Prediction',\n",
       " 'Food Ordering Customer Churn Prediction',\n",
       " 'Used Cars Price-Range Prediction',\n",
       " 'Bike Sharing Demand',\n",
       " 'Ethereum Fraud Detection',\n",
       " 'Broadband Sevice Signup',\n",
       " 'Employee Promotion Prediction',\n",
       " 'Annual Income Earnings',\n",
       " 'Flight Price-Range Classification',\n",
       " 'Ethereum Fraud Detection',\n",
       " 'Concrete Strength Classification',\n",
       " 'Food Ordering Customer Churn Prediction',\n",
       " 'Employee Promotion Prediction',\n",
       " 'House Price Classification',\n",
       " 'Car Acceptability Valuation',\n",
       " 'Hotel Satisfaction',\n",
       " 'Airline Passenger Satisfaction',\n",
       " 'Flight Price-Range Classification',\n",
       " 'German Credit Evaluation',\n",
       " 'Wine Quality Prediction',\n",
       " 'Cab Surge Pricing System',\n",
       " 'Customer Churn Modelling',\n",
       " 'Australian Credit Approval',\n",
       " 'Bike Sharing Demand',\n",
       " 'Water Quality Classification',\n",
       " 'Used Cars Price-Range Prediction',\n",
       " 'German Credit Evaluation',\n",
       " 'Wine Quality Prediction',\n",
       " 'Student Job Placement',\n",
       " 'Flight Price-Range Classification',\n",
       " 'Australian Credit Approval',\n",
       " 'Concrete Strength Classification',\n",
       " 'Used Cars Price-Range Prediction',\n",
       " 'Ethereum Fraud Detection',\n",
       " 'Company Bankruptcy Prediction',\n",
       " 'Employee Attrition',\n",
       " 'Flight Price-Range Classification',\n",
       " 'Student Job Placement',\n",
       " 'Paris House Classification',\n",
       " 'Vehicle Insurance Claims',\n",
       " 'Concrete Strength Classification',\n",
       " 'Hotel Satisfaction',\n",
       " 'Printer Sales',\n",
       " 'Car Acceptability Valuation',\n",
       " 'Concrete Strength Classification',\n",
       " 'Hotel Satisfaction',\n",
       " 'Concrete Strength Classification',\n",
       " 'Tic-Tac-Toe Strategy',\n",
       " 'Food Ordering Customer Churn Prediction',\n",
       " 'Employee Attrition',\n",
       " 'Real Estate Investment',\n",
       " 'Wine Quality Prediction',\n",
       " 'Food Ordering Customer Churn Prediction',\n",
       " 'German Credit Evaluation',\n",
       " 'Annual Income Earnings',\n",
       " 'E-Commerce Shipping',\n",
       " 'Employee Promotion Prediction',\n",
       " 'Paris House Classification',\n",
       " 'Paris House Classification',\n",
       " 'House Price Classification',\n",
       " 'House Price Classification',\n",
       " 'Airline Passenger Satisfaction',\n",
       " 'Flight Price-Range Classification',\n",
       " 'Flight Price-Range Classification',\n",
       " 'Cab Surge Pricing System',\n",
       " 'Cab Surge Pricing System',\n",
       " 'Cab Surge Pricing System',\n",
       " 'Cab Surge Pricing System',\n",
       " 'Broadband Sevice Signup',\n",
       " 'Broadband Sevice Signup',\n",
       " 'Flight Price-Range Classification',\n",
       " 'Flight Price-Range Classification',\n",
       " 'Printer Sales',\n",
       " 'Printer Sales',\n",
       " 'Employee Promotion Prediction',\n",
       " 'Food Ordering Customer Churn Prediction',\n",
       " 'Used Cars Price-Range Prediction',\n",
       " 'Flight Price-Range Classification',\n",
       " 'Flight Price-Range Classification',\n",
       " 'Tic-Tac-Toe Strategy',\n",
       " 'Vehicle Insurance Claims',\n",
       " 'Vehicle Insurance Claims',\n",
       " 'Printer Sales',\n",
       " 'Basketball Players Career Length Prediction',\n",
       " 'E-Commerce Shipping',\n",
       " 'Tic-Tac-Toe Strategy',\n",
       " 'Tic-Tac-Toe Strategy',\n",
       " 'Company Bankruptcy Prediction',\n",
       " 'Company Bankruptcy Prediction',\n",
       " 'Customer Churn Modelling',\n",
       " 'E-Commerce Shipping',\n",
       " 'Company Bankruptcy Prediction',\n",
       " 'Flight Price-Range Classification',\n",
       " 'Flight Price-Range Classification',\n",
       " 'Advertisement Prediction',\n",
       " 'Mobile Price-Range Classification',\n",
       " 'Mobile Price-Range Classification',\n",
       " 'Annual Income Earnings',\n",
       " 'Real Estate Investment',\n",
       " 'Advertisement Prediction',\n",
       " 'Customer Churn Modelling',\n",
       " 'Basketball Players Career Length Prediction',\n",
       " 'Student Job Placement',\n",
       " 'Credit Card Fraud Classification',\n",
       " 'Customer Churn Modelling',\n",
       " 'Tic-Tac-Toe Strategy',\n",
       " 'Broadband Sevice Signup',\n",
       " 'Basketball Players Career Length Prediction',\n",
       " 'Annual Income Earnings',\n",
       " 'Annual Income Earnings',\n",
       " 'Credit Risk Classification',\n",
       " 'Credit Risk Classification',\n",
       " 'Used Cars Price-Range Prediction',\n",
       " 'Used Cars Price-Range Prediction',\n",
       " 'Cab Surge Pricing System',\n",
       " 'Cab Surge Pricing System',\n",
       " 'Cab Surge Pricing System',\n",
       " 'Insurance Churn',\n",
       " 'Insurance Churn',\n",
       " 'Credit Risk Classification',\n",
       " 'Credit Risk Classification',\n",
       " 'Airline Passenger Satisfaction',\n",
       " 'Airline Passenger Satisfaction',\n",
       " 'Credit Risk Classification',\n",
       " 'Credit Risk Classification',\n",
       " 'Air Quality Prediction',\n",
       " 'Air Quality Prediction',\n",
       " 'Music Concert Attendance',\n",
       " 'Music Concert Attendance',\n",
       " 'Personal Loan Modelling',\n",
       " 'Personal Loan Modelling',\n",
       " 'Suspicious Bidding Identification',\n",
       " 'Suspicious Bidding Identification',\n",
       " 'German Credit Evaluation',\n",
       " 'German Credit Evaluation',\n",
       " 'Hotel Satisfaction',\n",
       " 'Australian Credit Approval',\n",
       " 'Australian Credit Approval',\n",
       " 'Mobile Price-Range Classification',\n",
       " 'German Credit Evaluation',\n",
       " 'Tic-Tac-Toe Strategy',\n",
       " 'Customer Churn Modelling',\n",
       " 'Car Acceptability Valuation',\n",
       " 'Student Job Placement',\n",
       " 'Student Job Placement',\n",
       " 'Personal Loan Modelling',\n",
       " 'Personal Loan Modelling',\n",
       " 'Australian Credit Approval',\n",
       " 'Australian Credit Approval',\n",
       " 'Ethereum Fraud Detection',\n",
       " 'Ethereum Fraud Detection',\n",
       " 'Printer Sales',\n",
       " 'Printer Sales',\n",
       " 'Credit Card Fraud Classification',\n",
       " 'Credit Card Fraud Classification',\n",
       " 'Printer Sales',\n",
       " 'Printer Sales',\n",
       " 'Credit Card Fraud Classification',\n",
       " 'Personal Loan Modelling',\n",
       " 'Water Quality Classification',\n",
       " 'Employee Promotion Prediction',\n",
       " 'Broadband Sevice Signup',\n",
       " 'Wine Quality Prediction',\n",
       " 'Ethereum Fraud Detection',\n",
       " 'Mobile Price-Range Classification',\n",
       " 'Ethereum Fraud Detection',\n",
       " 'Bike Sharing Demand',\n",
       " 'Used Cars Price-Range Prediction',\n",
       " 'Food Ordering Customer Churn Prediction',\n",
       " 'Company Bankruptcy Prediction',\n",
       " 'Basketball Players Career Length Prediction',\n",
       " 'Paris House Classification',\n",
       " 'Paris House Classification',\n",
       " 'Advertisement Prediction',\n",
       " 'Health Care Services Satisfaction Prediction',\n",
       " 'Mobile Price-Range Classification',\n",
       " 'Flight Price-Range Classification',\n",
       " 'Job Change of Data Scientists',\n",
       " 'Employee Promotion Prediction',\n",
       " 'Advertisement Prediction',\n",
       " 'House Price Classification',\n",
       " 'Concrete Strength Classification',\n",
       " 'Mobile Price-Range Classification',\n",
       " 'Employee Attrition',\n",
       " 'Insurance Churn',\n",
       " 'Company Bankruptcy Prediction',\n",
       " 'Employee Attrition',\n",
       " 'Ethereum Fraud Detection',\n",
       " 'Used Cars Price-Range Prediction',\n",
       " 'Concrete Strength Classification',\n",
       " 'Used Cars Price-Range Prediction',\n",
       " 'Real Estate Investment',\n",
       " 'Air Quality Prediction',\n",
       " 'Air Quality Prediction',\n",
       " 'Food Ordering Customer Churn Prediction',\n",
       " 'Food Ordering Customer Churn Prediction',\n",
       " 'Credit Risk Classification',\n",
       " 'Mobile Price-Range Classification',\n",
       " 'Mobile Price-Range Classification',\n",
       " 'Basketball Players Career Length Prediction',\n",
       " 'Basketball Players Career Length Prediction',\n",
       " 'Food Ordering Customer Churn Prediction',\n",
       " 'Food Ordering Customer Churn Prediction',\n",
       " 'Basketball Players Career Length Prediction',\n",
       " 'Basketball Players Career Length Prediction',\n",
       " 'Hotel Satisfaction',\n",
       " 'Hotel Satisfaction',\n",
       " 'Job Change of Data Scientists',\n",
       " 'Job Change of Data Scientists',\n",
       " 'E-Commerce Shipping',\n",
       " 'E-Commerce Shipping',\n",
       " 'Employee Promotion Prediction',\n",
       " 'Employee Promotion Prediction',\n",
       " 'Employee Attrition',\n",
       " 'Employee Attrition',\n",
       " 'Employee Attrition',\n",
       " 'Vehicle Insurance Claims',\n",
       " 'Vehicle Insurance Claims',\n",
       " 'Advertisement Prediction',\n",
       " 'Advertisement Prediction',\n",
       " 'Printer Sales',\n",
       " 'Printer Sales',\n",
       " 'Health Care Services Satisfaction Prediction',\n",
       " 'Health Care Services Satisfaction Prediction',\n",
       " 'Health Care Services Satisfaction Prediction',\n",
       " 'Annual Income Earnings',\n",
       " 'Annual Income Earnings',\n",
       " 'Annual Income Earnings',\n",
       " 'Annual Income Earnings',\n",
       " 'Airline Passenger Satisfaction',\n",
       " 'Airline Passenger Satisfaction',\n",
       " 'Advertisement Prediction',\n",
       " 'Advertisement Prediction',\n",
       " 'Vehicle Insurance Claims',\n",
       " 'Vehicle Insurance Claims',\n",
       " 'Cab Surge Pricing System',\n",
       " 'House Price Classification',\n",
       " 'Broadband Sevice Signup',\n",
       " 'Mobile Price-Range Classification',\n",
       " 'Health Care Services Satisfaction Prediction',\n",
       " 'Credit Risk Classification',\n",
       " 'Flight Price-Range Classification',\n",
       " 'E-Commerce Shipping',\n",
       " 'German Credit Evaluation',\n",
       " 'Personal Loan Modelling',\n",
       " 'Used Cars Price-Range Prediction',\n",
       " 'Air Quality Prediction',\n",
       " 'Air Quality Prediction',\n",
       " 'Cab Surge Pricing System',\n",
       " 'Cab Surge Pricing System',\n",
       " 'Water Quality Classification',\n",
       " 'Flight Price-Range Classification',\n",
       " 'Flight Price-Range Classification',\n",
       " 'Used Cars Price-Range Prediction',\n",
       " None,\n",
       " None,\n",
       " None,\n",
       " None,\n",
       " None,\n",
       " None,\n",
       " None,\n",
       " None,\n",
       " None,\n",
       " None,\n",
       " None,\n",
       " None,\n",
       " None,\n",
       " None,\n",
       " None,\n",
       " None,\n",
       " None,\n",
       " None,\n",
       " None,\n",
       " None,\n",
       " None,\n",
       " None,\n",
       " None,\n",
       " None,\n",
       " None,\n",
       " None,\n",
       " None,\n",
       " None,\n",
       " None,\n",
       " None,\n",
       " None,\n",
       " None,\n",
       " None,\n",
       " None,\n",
       " None,\n",
       " None,\n",
       " None,\n",
       " None,\n",
       " None,\n",
       " None,\n",
       " None,\n",
       " None,\n",
       " None,\n",
       " None,\n",
       " None,\n",
       " None,\n",
       " None,\n",
       " None,\n",
       " None,\n",
       " None,\n",
       " None,\n",
       " None,\n",
       " None,\n",
       " None,\n",
       " None,\n",
       " None,\n",
       " None,\n",
       " None,\n",
       " None,\n",
       " None,\n",
       " None,\n",
       " None,\n",
       " None,\n",
       " None,\n",
       " None,\n",
       " None,\n",
       " None,\n",
       " None,\n",
       " None,\n",
       " None,\n",
       " None,\n",
       " None,\n",
       " None,\n",
       " None,\n",
       " None,\n",
       " None,\n",
       " None,\n",
       " None,\n",
       " None,\n",
       " None,\n",
       " None,\n",
       " None,\n",
       " None,\n",
       " None,\n",
       " None,\n",
       " None,\n",
       " None,\n",
       " None,\n",
       " None,\n",
       " None,\n",
       " None,\n",
       " None,\n",
       " None,\n",
       " None,\n",
       " None,\n",
       " None,\n",
       " None,\n",
       " None,\n",
       " None,\n",
       " None,\n",
       " None,\n",
       " None,\n",
       " None,\n",
       " None,\n",
       " None,\n",
       " None,\n",
       " None,\n",
       " None,\n",
       " None]"
      ]
     },
     "execution_count": 5,
     "metadata": {},
     "output_type": "execute_result"
    }
   ],
   "source": [
    "[i.get('task_name', None) for i in data]"
   ]
  },
  {
   "cell_type": "code",
   "execution_count": 6,
   "metadata": {},
   "outputs": [
    {
     "data": {
      "text/plain": [
       "dict_values([9, 4, 11, 9, 12, 6, 12, 15, 11, 12, 14, 14, 15, 22, 6, 14, 9, 15, 11, 8, 7, 8, 13, 13, 12, 9, 12, 11, 10, 5, 7, 11, 12, 10, 8, 13, 8, 11, 7, 5, 109])"
      ]
     },
     "execution_count": 6,
     "metadata": {},
     "output_type": "execute_result"
    }
   ],
   "source": [
    "from collections import Counter\n",
    "count = Counter([i.get('task_name', None) for i in data])\n",
    "(count.values())"
   ]
  },
  {
   "cell_type": "code",
   "execution_count": 7,
   "metadata": {},
   "outputs": [
    {
     "data": {
      "text/plain": [
       "dict_values([85, 72, 4, 10, 21, 34, 4, 37, 6, 50, 20, 3, 13, 33, 6, 11, 1, 5, 4, 2, 109])"
      ]
     },
     "execution_count": 7,
     "metadata": {},
     "output_type": "execute_result"
    }
   ],
   "source": [
    "count = Counter([i.get('model_name', None) for i in data])\n",
    "(count.most_common())\n",
    "count.values()"
   ]
  },
  {
   "cell_type": "code",
   "execution_count": 8,
   "metadata": {},
   "outputs": [],
   "source": [
    "no_task = [x for x in data if x.get('narrative_question', None) == None]"
   ]
  },
  {
   "cell_type": "code",
   "execution_count": 9,
   "metadata": {},
   "outputs": [
    {
     "data": {
      "text/plain": [
       "109"
      ]
     },
     "execution_count": 9,
     "metadata": {},
     "output_type": "execute_result"
    }
   ],
   "source": [
    "len(no_task)"
   ]
  },
  {
   "cell_type": "code",
   "execution_count": 10,
   "metadata": {},
   "outputs": [],
   "source": [
    "json.dump(no_task, open('no_task.json', 'w', encoding='utf-8'), ensure_ascii=False)"
   ]
  },
  {
   "cell_type": "code",
   "execution_count": 11,
   "metadata": {},
   "outputs": [
    {
     "data": {
      "text/plain": [
       "{'date_approved, date_submitted, deleted, feature_division, features_placeholder, id, is_paid, model_name, mturk_id, narration, narrative_question, narrative_status, narrator, predicted_class, predicted_class_label, prediction_confidence, prediction_confidence_level, redeem_code, task_name, test_instance, user_ip',\n",
       " 'date_approved, date_submitted, deleted, feature_division, features_placeholder, id, is_paid, model_name, mturk_id, narration, narrative_question, narrative_status, narrator, predicted_class, predicted_class_label, prediction_confidence_level, redeem_code, task_name, test_instance, user_ip',\n",
       " 'feature_division, narration, narration3, predicted_class, prediction_confidence_level',\n",
       " 'feature_division, narration, predicted_class, prediction_confidence_level'}"
      ]
     },
     "execution_count": 11,
     "metadata": {},
     "output_type": "execute_result"
    }
   ],
   "source": [
    "set([', '.join(sorted(list(task.keys()))) for task in data])"
   ]
  },
  {
   "cell_type": "markdown",
   "metadata": {},
   "source": [
    "There is only one instance of narration3. I think this must have been an instance where there was 2 narrations for one thing"
   ]
  },
  {
   "cell_type": "code",
   "execution_count": 12,
   "metadata": {},
   "outputs": [
    {
     "data": {
      "text/plain": [
       "[('feature_division, narration, predicted_class, prediction_confidence_level',\n",
       "  108),\n",
       " ('feature_division, narration, narration3, predicted_class, prediction_confidence_level',\n",
       "  1)]"
      ]
     },
     "execution_count": 12,
     "metadata": {},
     "output_type": "execute_result"
    }
   ],
   "source": [
    "Counter([', '.join(sorted(list(task.keys()))) for task in no_task]).most_common()"
   ]
  },
  {
   "cell_type": "code",
   "execution_count": 13,
   "metadata": {},
   "outputs": [
    {
     "data": {
      "text/plain": [
       "3"
      ]
     },
     "execution_count": 13,
     "metadata": {},
     "output_type": "execute_result"
    }
   ],
   "source": [
    "min([(len(d['prediction_confidence_level'].split(','))) for d in no_task])"
   ]
  },
  {
   "cell_type": "code",
   "execution_count": 14,
   "metadata": {},
   "outputs": [],
   "source": [
    "task = [x for x in data if x.get('task_name', None) != None]"
   ]
  },
  {
   "cell_type": "code",
   "execution_count": 15,
   "metadata": {},
   "outputs": [
    {
     "data": {
      "text/plain": [
       "4"
      ]
     },
     "execution_count": 15,
     "metadata": {},
     "output_type": "execute_result"
    }
   ],
   "source": [
    "max([(len(d['prediction_confidence_level'].split(','))) for d in task])"
   ]
  },
  {
   "cell_type": "code",
   "execution_count": 16,
   "metadata": {},
   "outputs": [
    {
     "data": {
      "text/plain": [
       "{'predicted_class': 'C3',\n",
       " 'prediction_confidence_level': 'C1:40.36%, C2:10.15%, C3:49.49%',\n",
       " 'feature_division': {'ranks': [['F14', 0],\n",
       "   ['F8', 1],\n",
       "   ['F15', 2],\n",
       "   ['F28', 3],\n",
       "   ['F2', 4],\n",
       "   ['F36', 5],\n",
       "   ['F30', 6],\n",
       "   ['F9', 7],\n",
       "   ['F26', 8],\n",
       "   ['F3', 9],\n",
       "   ['F18', 10],\n",
       "   ['F13', 11],\n",
       "   ['F35', 12],\n",
       "   ['F33', 13],\n",
       "   ['F32', 14],\n",
       "   ['F34', 15],\n",
       "   ['F38', 16],\n",
       "   ['F42', 17],\n",
       "   ['F23', 18],\n",
       "   ['F43', 19],\n",
       "   ['F12', 20],\n",
       "   ['F31', 21],\n",
       "   ['F4', 22],\n",
       "   ['F24', 23],\n",
       "   ['F5', 24],\n",
       "   ['F39', 25],\n",
       "   ['F21', 26],\n",
       "   ['F22', 27],\n",
       "   ['F37', 28],\n",
       "   ['F20', 29],\n",
       "   ['F16', 30],\n",
       "   ['F25', 31],\n",
       "   ['F40', 32],\n",
       "   ['F11', 33],\n",
       "   ['F10', 34],\n",
       "   ['F41', 35],\n",
       "   ['F17', 36],\n",
       "   ['F29', 37],\n",
       "   ['F6', 38],\n",
       "   ['F1', 39],\n",
       "   ['F7', 40],\n",
       "   ['F19', 41],\n",
       "   ['F27', 42]],\n",
       "  'contradict': ['F8',\n",
       "   'F28',\n",
       "   'F2',\n",
       "   'F36',\n",
       "   'F30',\n",
       "   'F3',\n",
       "   'F18',\n",
       "   'F13',\n",
       "   'F32',\n",
       "   'F34',\n",
       "   'F38',\n",
       "   'F43',\n",
       "   'F12',\n",
       "   'F31',\n",
       "   'F4',\n",
       "   'F24',\n",
       "   'F22',\n",
       "   'F16',\n",
       "   'F25'],\n",
       "  'support': ['F14',\n",
       "   'F15',\n",
       "   'F9',\n",
       "   'F26',\n",
       "   'F35',\n",
       "   'F33',\n",
       "   'F42',\n",
       "   'F23',\n",
       "   'F5',\n",
       "   'F39',\n",
       "   'F21',\n",
       "   'F37',\n",
       "   'F20',\n",
       "   'F40'],\n",
       "  'ignore': ['F11',\n",
       "   'F10',\n",
       "   'F41',\n",
       "   'F17',\n",
       "   'F29',\n",
       "   'F6',\n",
       "   'F1',\n",
       "   'F7',\n",
       "   'F19',\n",
       "   'F27']},\n",
       " 'narration': 'According to the classifier, C3 is the most probable label, followed by C1 and C2. To be specific, the predicted likelihoods across the classes C1, C3, and C2, respectively are 40.36%, 49.49%, and  10.15%. The moderately high classification confidence could largely be due to the impact of certain input features supplied to the classifier. In fact the attribution analysis indicates that F14, F8, F15, and F28 are the most relevant features resulting in the predicted probabilities across the labels. Other features with moderate contributions include F2, F36, F30, F26, F3, F18, and F9.  Among these top influential features, F8, F28, F2, F36, F30, F3, and F18 have negative contributions that shift the decision in a different direction towards the other possible label. On the contrary, the top positive features encouraging the classifier to label the case as C3 are F14, F15, F9, F26, F35, and F33. Considering the attributions across the positive and negative features, it is not surprising that there is such predicted probabilities for the different classes.'}"
      ]
     },
     "execution_count": 16,
     "metadata": {},
     "output_type": "execute_result"
    }
   ],
   "source": [
    "no_task[0]"
   ]
  },
  {
   "cell_type": "code",
   "execution_count": 17,
   "metadata": {},
   "outputs": [
    {
     "data": {
      "text/plain": [
       "48"
      ]
     },
     "execution_count": 17,
     "metadata": {},
     "output_type": "execute_result"
    }
   ],
   "source": [
    "test = json.load(open('../raw_data/test_set_new.json',encoding='utf-8'))\n",
    "len(test)"
   ]
  },
  {
   "cell_type": "code",
   "execution_count": 18,
   "metadata": {},
   "outputs": [
    {
     "data": {
      "text/plain": [
       "[('date_approved, date_submitted, deleted, feature_division, features_placeholder, id, is_paid, model_name, mturk_id, narration, narrative_question, narrative_status, narrator, predicted_class, predicted_class_label, prediction_confidence, prediction_confidence_level, redeem_code, task_name, test_instance, user_ip',\n",
       "  24),\n",
       " ('date_approved, date_submitted, deleted, feature_division, features_placeholder, id, is_paid, model_name, mturk_id, narration, narrative_question, narrative_status, narrator, predicted_class, predicted_class_label, prediction_confidence_level, redeem_code, task_name, test_instance, user_ip',\n",
       "  24)]"
      ]
     },
     "execution_count": 18,
     "metadata": {},
     "output_type": "execute_result"
    }
   ],
   "source": [
    "Counter([', '.join(sorted(list(task.keys()))) for task in test]).most_common()"
   ]
  },
  {
   "cell_type": "code",
   "execution_count": 19,
   "metadata": {},
   "outputs": [
    {
     "data": {
      "text/plain": [
       "31"
      ]
     },
     "execution_count": 19,
     "metadata": {},
     "output_type": "execute_result"
    }
   ],
   "source": [
    "count = Counter([i.get('task_name', None) for i in test])\n",
    "len(count.most_common())"
   ]
  },
  {
   "cell_type": "code",
   "execution_count": 20,
   "metadata": {},
   "outputs": [
    {
     "data": {
      "text/plain": [
       "48"
      ]
     },
     "execution_count": 20,
     "metadata": {},
     "output_type": "execute_result"
    }
   ],
   "source": [
    "len(test)"
   ]
  },
  {
   "attachments": {},
   "cell_type": "markdown",
   "metadata": {},
   "source": [
    "## Number of Features"
   ]
  },
  {
   "cell_type": "code",
   "execution_count": 21,
   "metadata": {},
   "outputs": [],
   "source": [
    "from datasets import load_dataset\n",
    "import matplotlib.pyplot as plt\n",
    "from src.utils import simplify_narr_question, label_qs"
   ]
  },
  {
   "cell_type": "code",
   "execution_count": 56,
   "metadata": {},
   "outputs": [
    {
     "name": "stderr",
     "output_type": "stream",
     "text": [
      "Using custom data configuration james-burton--textual-explanations-19ff8605823ae74a\n",
      "Found cached dataset parquet (/home/james/.cache/huggingface/datasets/james-burton___parquet/james-burton--textual-explanations-19ff8605823ae74a/0.0.0/2a3b91fbd88a2c90d1dbbb32b460cf621d31bd5b05b934492fdef7d8d6f236ec)\n",
      "Using custom data configuration james-burton--textual-explanations-19ff8605823ae74a\n",
      "Found cached dataset parquet (/home/james/.cache/huggingface/datasets/james-burton___parquet/james-burton--textual-explanations-19ff8605823ae74a/0.0.0/2a3b91fbd88a2c90d1dbbb32b460cf621d31bd5b05b934492fdef7d8d6f236ec)\n",
      "Using custom data configuration james-burton--textual-explanations-19ff8605823ae74a\n",
      "Found cached dataset parquet (/home/james/.cache/huggingface/datasets/james-burton___parquet/james-burton--textual-explanations-19ff8605823ae74a/0.0.0/2a3b91fbd88a2c90d1dbbb32b460cf621d31bd5b05b934492fdef7d8d6f236ec)\n",
      "100%|██████████| 375/375 [00:08<00:00, 46.41ex/s]\n"
     ]
    }
   ],
   "source": [
    "train = load_dataset(\"james-burton/textual-explanations\", split='train')\n",
    "test = load_dataset(\"james-burton/textual-explanations\", split='test')\n",
    "val = load_dataset(\"james-burton/textual-explanations\", split='validation')\n",
    "\n",
    "simple_train = train.map(lambda x: simplify_narr_question(label_qs(x)),\n",
    "                              load_from_cache_file=False)"
   ]
  },
  {
   "cell_type": "code",
   "execution_count": 23,
   "metadata": {},
   "outputs": [
    {
     "data": {
      "text/plain": [
       "[]"
      ]
     },
     "execution_count": 23,
     "metadata": {},
     "output_type": "execute_result"
    },
    {
     "data": {
      "image/png": "[encoded data removed]",
      "text/plain": [
       "<Figure size 640x480 with 1 Axes>"
      ]
     },
     "metadata": {},
     "output_type": "display_data"
    }
   ],
   "source": [
    "plt.hist([len(fs) for fs in  train['feature_nums']], bins=50)\n",
    "plt.plot()"
   ]
  },
  {
   "attachments": {},
   "cell_type": "markdown",
   "metadata": {},
   "source": [
    "## Saving test narrations"
   ]
  },
  {
   "cell_type": "code",
   "execution_count": 24,
   "metadata": {},
   "outputs": [],
   "source": [
    "with open('../jb_data/narrations_only_test.txt', 'w') as f:\n",
    "    for item in test['narration']:\n",
    "        f.writelines(item + '\\n')\n",
    "                \n"
   ]
  },
  {
   "attachments": {},
   "cell_type": "markdown",
   "metadata": {},
   "source": [
    "## Dataset information"
   ]
  },
  {
   "attachments": {},
   "cell_type": "markdown",
   "metadata": {},
   "source": [
    "Statistics for the train set (length 375)\n",
    "\n",
    "The first question is either:\n",
    "* Summarise the prediction (336 times)\n",
    "* Summarise the ranking of the features (39 times)\n",
    "\n",
    "The second question is either:\n",
    "* Give an overview of the top features (250 times)\n",
    "* Give direction of influence of the following features (86 times)\n",
    "* Summarise the ranking of the features (39 times) ACCOUNTED FOR\n",
    "\n",
    "The third question is either:\n",
    "* Compare and contrast the following features (355 times)\n",
    "* 'For these top features, what are the respective directions of influence on the prediction?'(20 times)\n",
    "\n",
    "198 have 4 or more questions\n",
    "* Describe the direction of the following features (121 times)\n",
    "* Summarise the unimportant features (73 times)\n",
    "* 'Describe the degree of impact of the following features: [blank]?' (4 times)\n",
    "\n",
    "39 have 5 or more questions\n",
    "* 'Provide a statement on the features with the least impact on the prediction made for this test case.' (39 times) ACCOUNTED FOR\n",
    "\n"
   ]
  },
  {
   "attachments": {},
   "cell_type": "markdown",
   "metadata": {},
   "source": [
    "```python\n",
    "reg = re.compile(r'F\\d+')\n",
    "Counter([l['narrative_questions'][1] for l in train if l['narrative_questions'][0] == 'Provide a statement summarizing the prediction made for the test case.']).most_common()\n",
    "[[' '.join(reg.findall(n)) for n in l['narrative_questions']] for l in train if l['narrative_questions'][0] == 'Provide a statement summarizing the prediction made for the test case.']\n",
    "[' '.join(l['feature_nums']) for l in train if l['narrative_questions'][0] == 'Provide a statement summarizing the prediction made for the test case.']\n",
    "```\n",
    "A. For 99 cases the format is:\n",
    "* 'In a single sentence, state the prediction output of the model for the selected test case along with the confidence level of the prediction (if applicable).'\n",
    "* \"In no less three sentences, provide a brief overview of the features with a higher impact on the model's output prediction.\"\n",
    "* 'Describe the degree of impact of the following features: [0-4 fts (after first 7-9)]?' (3 times there are 0)\n",
    "\n",
    "B. For 78 cases the format is:\n",
    "* \"For this test instance, provide information on the predicted label along with the confidence level of the model's decision.\" -->\n",
    "* \"Summarize the top features influencing the model's decision along with the respective directions of influence on the prediction?\"\n",
    "* 'Summarize the direction of influence of the features [the next 3-4 features (after first 2-4)] with moderate impact on the prediction made for this test case.'\n",
    "\n",
    "C. For 53 cases the format is:\n",
    "* 'Summarize the prediction for the given test example?'\n",
    "* \"In two sentences, provide a brief overview of the features with a higher impact on the model's output prediction.\"\n",
    "* 'Compare and contrast the impact of the following attributes  [3-4 seemingly random features] on the model’s prediction of [C1/C2].'\n",
    "* 'Summarize the set of features has little to no impact on the prediction?'\n",
    "\n",
    "D. For 20 cases the format is:\n",
    "* 'Summarize the prediction for the given test example?'\n",
    "* 'For this test case, summarize the top features influencing the model's decision.'\n",
    "* 'For these top features, what are the respective directions of influence on the prediction?'\n",
    "* 'Provide a statement on the set of features has limited impact on the prediction of [C1/C2] by the model for the given test example?'\n",
    "\n",
    "E. For 39 cases the format is:\n",
    "* 'Summarize the prediction made for the test under consideration along with the likelihood of the different possible class labels.'\n",
    "* 'Provide a statement summarizing the ranking of the features as shown in the feature impact plot.'\n",
    "* 'Compare the direction of impact of the features: [2-5 top features].'\n",
    "* 'Summarize the direction of influence of the features [the next 3-4 features] with moderate impact on the prediction made for this test case.'\n",
    "* 'Provide a statement on the features with the least impact on the prediction made for this test case.'\n",
    "\n",
    "F. For 44 cases the format is:\n",
    "* 'Provide a statement summarizing the prediction made for the test case.'\n",
    "* 'For the current test instance, describe the direction of influence of the following features: [2-5 top features]'\n",
    "* 'Compare and contrast the impact of the following features [the next 3-4 features] on the model’s prediction of [C1/C2].'\n",
    "* 'Describe the degree of impact of the following features: [the next 0-4 features]?' (usually 4 unless there are not enough features)\n",
    "\n",
    "G. For 39 cases the format is:\n",
    "* 'Provide a statement summarizing the ranking of the features as shown in the feature impact plot.'\n",
    "* 'Summarize the direction of influence of the features [2-5 top features] on the prediction made for this test case.'\n",
    "* 'Compare the direction of impact of the features: [the next 3-4 features].'\n",
    "* 'Describe the degree of impact of the following features:[the next 0-4 features]'\n",
    "\n",
    "H. For 3 cases the format is:\n",
    "* 'Summarize the prediction made for the test under consideration along with the likelihood of the different possible class labels.'\n",
    "* 'Summarize the direction of influence of the variables [2-3 top features] on the prediction made for this test case.' -->\n",
    "* 'Compare the direction of impact of the variables: [the next 3-4 features].'\n",
    "* 'Describe the degree of impact of the following variables: [the next 3-4 features]?'\n",
    "\n",
    "| Q | A | New Q |\n",
    "| ---- | ---- | ---- |\n",
    "| Summarise the prediction | Note: In E (39) this question is asked across 2 sentences | Summarise the prediction |\n",
    "| Summarise the top features | A-D (250): Top features aren't named, just says 'top features' | a) Summarise the top features |\n",
    "|   | E-H  (125) specifies 2-5 top features | b) Summarise these top features ([fts]) |\n",
    "|   | Note: In D (20) this question is asked across 2 sentences |   |\n",
    "| Summarise moderate fts | A (99): 3-4 named fts (after first 7-9) | Summarise these moderate features ([fts]) |\n",
    "|   | B, C (131): 3-4 named fts (after first 2-4) |   |\n",
    "|   | E-H (125) named fts (the next 3-4) |   |\n",
    "|   | Note: D (20) does not have this Q\n",
    "| Summarise more/lower fts | C-E (112) describe fts with little to no impact (fts not named) | a) Summarise the negligible features |\n",
    "|   | F-H (86) 0-4 named fts | b) Summarise these negligible features ([fts]) |\n",
    "|   | Note: A,B (177) do not have a 4th Q |   |\n"
   ]
  },
  {
   "cell_type": "code",
   "execution_count": 25,
   "metadata": {},
   "outputs": [
    {
     "name": "stderr",
     "output_type": "stream",
     "text": [
      "Using custom data configuration james-burton--textual-explanations-19ff8605823ae74a\n",
      "Found cached dataset parquet (/home/james/.cache/huggingface/datasets/james-burton___parquet/james-burton--textual-explanations-19ff8605823ae74a/0.0.0/2a3b91fbd88a2c90d1dbbb32b460cf621d31bd5b05b934492fdef7d8d6f236ec)\n"
     ]
    }
   ],
   "source": [
    "train = load_dataset(\"james-burton/textual-explanations\", split='train')"
   ]
  },
  {
   "cell_type": "code",
   "execution_count": 26,
   "metadata": {},
   "outputs": [
    {
     "data": {
      "text/plain": [
       "[('In a single sentence, state the prediction output of the model for the selected test case along with the confidence level of the prediction (if applicable).',\n",
       "  99),\n",
       " (\"For this test instance, provide information on the predicted label along with the confidence level of the model's decision.\",\n",
       "  78),\n",
       " ('Summarize the prediction for the given test example?', 73),\n",
       " ('Provide a statement summarizing the prediction made for the test case.',\n",
       "  44),\n",
       " ('Summarize the prediction made for the test under consideration along with the likelihood of the different possible class labels.',\n",
       "  42),\n",
       " ('Provide a statement summarizing the ranking of the features as shown in the feature impact plot.',\n",
       "  39)]"
      ]
     },
     "execution_count": 26,
     "metadata": {},
     "output_type": "execute_result"
    }
   ],
   "source": [
    "Counter([l['narrative_questions'][0] for l in train ]).most_common()"
   ]
  },
  {
   "cell_type": "code",
   "execution_count": 27,
   "metadata": {},
   "outputs": [
    {
     "data": {
      "text/plain": [
       "[['', '', 'F5 F18 F1', ''],\n",
       " ['', '', 'F10 F12 F2 F21', ''],\n",
       " ['', '', 'F3 F10 F2 F6', ''],\n",
       " ['', '', 'F11 F2 F10 F15', ''],\n",
       " ['', '', 'F31 F15 F7', ''],\n",
       " ['', '', 'F4 F13 F16 F14', ''],\n",
       " ['', '', 'F3 F14 F11 F8', ''],\n",
       " ['', '', 'F2 F4 F5', ''],\n",
       " ['', '', 'F3 F13 F15', ''],\n",
       " ['', '', 'F12 F11 F19', ''],\n",
       " ['', '', 'F9 F59 F63', ''],\n",
       " ['', '', 'F13 F7 F18 F21', ''],\n",
       " ['', '', 'F24 F14 F30 F18', ''],\n",
       " ['', '', 'F4 F7 F5 F2', ''],\n",
       " ['', '', 'F4 F1 F14', ''],\n",
       " ['', '', 'F17 F26 F15', ''],\n",
       " ['', '', 'F8 F7 F1 F4', ''],\n",
       " ['', '', 'F11 F9 F4', ''],\n",
       " ['', '', 'F7 F2 F8', ''],\n",
       " ['', '', 'F15 F5 F4', ''],\n",
       " ['', '', 'F2 F10 F1 F4', ''],\n",
       " ['', '', 'F18 F12 F30 F10', ''],\n",
       " ['', '', 'F8 F7 F9 F1', ''],\n",
       " ['', '', 'F4 F10 F5 F9', ''],\n",
       " ['', '', 'F7 F6 F8', ''],\n",
       " ['', '', 'F4 F9 F7', ''],\n",
       " ['', '', 'F19 F22 F4', ''],\n",
       " ['', '', 'F8 F6 F4 F3', ''],\n",
       " ['', '', 'F9 F3 F2 F10', ''],\n",
       " ['', '', 'F2 F4 F6', ''],\n",
       " ['', '', 'F5 F6 F7', ''],\n",
       " ['', '', 'F8 F5 F7 F1', ''],\n",
       " ['', '', 'F9 F8 F16 F15', ''],\n",
       " ['', '', 'F3 F9 F12', ''],\n",
       " ['', '', 'F10 F3 F1', ''],\n",
       " ['', '', 'F2 F8 F4 F1', ''],\n",
       " ['', '', 'F9 F15 F1', ''],\n",
       " ['', '', 'F7 F4 F3 F2', ''],\n",
       " ['', '', 'F9 F7 F8', ''],\n",
       " ['', '', 'F1 F5 F7 F8', ''],\n",
       " ['', '', 'F16 F1 F5 F9', ''],\n",
       " ['', '', 'F1 F8 F7 F6', ''],\n",
       " ['', '', 'F29 F4 F45', ''],\n",
       " ['', '', 'F21 F20 F1', ''],\n",
       " ['', '', 'F10 F1 F7 F9', ''],\n",
       " ['', '', 'F12 F22 F20', ''],\n",
       " ['', '', 'F31 F42 F43', ''],\n",
       " ['', '', 'F3 F5 F7 F6', ''],\n",
       " ['', '', 'F10 F4 F6 F3', ''],\n",
       " ['', '', 'F3 F7 F1', ''],\n",
       " ['', '', 'F11 F8 F10 F7', ''],\n",
       " ['', '', 'F20 F30 F12', ''],\n",
       " ['', '', 'F6 F3 F2 F4', '']]"
      ]
     },
     "execution_count": 27,
     "metadata": {},
     "output_type": "execute_result"
    }
   ],
   "source": [
    "reg = re.compile(r'F\\d+')\n",
    "[[' '.join(reg.findall(n)) for n in l['narrative_questions']] for l in train if all((l['narrative_questions'][1] == \"In two sentences, provide a brief overview of the features with a higher impact on the model's output prediction.\", 1==1))]\n"
   ]
  },
  {
   "cell_type": "code",
   "execution_count": 28,
   "metadata": {},
   "outputs": [
    {
     "data": {
      "text/plain": [
       "[('Provide a statement on the features with the least impact on the prediction made for this test case.',\n",
       "  39)]"
      ]
     },
     "execution_count": 28,
     "metadata": {},
     "output_type": "execute_result"
    }
   ],
   "source": [
    "Counter([l['narrative_questions'][4] for l in train if all((l['narrative_questions'][0] == 'Summarize the prediction made for the test under consideration along with the likelihood of the different possible class labels.', l['narrative_questions'][1]=='Provide a statement summarizing the ranking of the features as shown in the feature impact plot.'))]).most_common()\n",
    "# Counter([len(l['narrative_questions']) for l in train if l['narrative_questions'][0] == 'In a single sentence, state the prediction output of the model for the selected test case along with the confidence level of the prediction (if applicable).']).most_common()"
   ]
  },
  {
   "attachments": {},
   "cell_type": "markdown",
   "metadata": {},
   "source": [
    "## Investigating answers to the questions"
   ]
  },
  {
   "attachments": {},
   "cell_type": "markdown",
   "metadata": {},
   "source": [
    "### Q1: Summarise the ranking of the features\n",
    "What does this mean?\n"
   ]
  },
  {
   "cell_type": "code",
   "execution_count": 29,
   "metadata": {},
   "outputs": [
    {
     "data": {
      "text/plain": [
       "['The classifier is 69.02% certain that the given case is under the class label C1, implying that the likelihood of C2 is only 30.98%',\n",
       " \"According to the machine learning model, it is more likely that the case's label is C2, with a certainty of 100.0%, and this prediction decision is mainly based on the effects of the following features: F8, F10, F6, F9, and F1 on the model\",\n",
       " 'The given case is likely C2 with a confidence level of 87.50% judged based on the values of the input features supplied to the classifier and according to the attributions analysis, F9 and F2 have a high degree of impact',\n",
       " 'The model has classified the instance as C2 due to the effects of the following features: F5, F8, F6, and F2',\n",
       " 'The likelihood of C2 being the correct label for the selected case or instance is 67.54% according to the classifier',\n",
       " 'The confidence level score with respect to each class label suggests that this case should be labelled as C2',\n",
       " 'The prediction probability of C1 is 17.93% and that of C2 is 82.07%',\n",
       " 'All features are shown to have a positive impact on the classification to class C1 or to have no impact at all',\n",
       " \"Deciding the most probable label for the given case on the basis of the values of the input variables, the classification algorithm's output decision is that:  the probability of C2 being the correct label is 79.78%, the probability of C1 is 20.22%\",\n",
       " 'According to the model employed, the label for the case is more likely to be C1',\n",
       " 'With a certainty of 100.0%, the model labels this case as C2 and from the predicted likelihoods across the classes, it can be inferred that the model verdict is that there is a zero chance that the case is under C1',\n",
       " 'According to the classification model employed here, there is a marginal chance that the true label for this test example is C1',\n",
       " 'The classification output observations that follow are based on the information supplied about this specific case',\n",
       " 'For the given case or instance, the model assigns the label C2, with the prediction confidence equal to 56.56%',\n",
       " 'The prediction made for this case by the model is that C1 is most likely the true label, with a confidence level of 72.03% higher than the 27.97% of the C2 label',\n",
       " 'Tasked with labelling cases, the classification model labels the case under consideration as C1 since the probability of C2 is only 20.22%',\n",
       " 'The classifier says that C1 has a 67.54 percent chance of being the correct label for the given example or case; consequently the label C2 has a 33.46 percent chance of being the chosen class',\n",
       " 'The classifier assigns the label C2 since the probability associated with C2 is greater than that of C1',\n",
       " \"It is important to note that the classifier's labelling decision is based solely on the information supplied\",\n",
       " 'According to the classification algorithm, there is 77.69% chance that the given case is part of the C1 population',\n",
       " 'The case given is labelled as C2 with close to an 82.07% confidence level, implying that the likelihood of C1 being the correct label is only 17.93%',\n",
       " \"The classifier's anticipated label for this case is C2 which is a decision that it is highly confident about since the predicted likelihood is 100.0%\",\n",
       " \"According to the model, there is a higher chance that the case's label is C1\",\n",
       " \"The model's prediction for this test case is C2 with an almost 100% confidence level which implies that the likelihood of it being a different class label is closer to 0%\",\n",
       " 'With a moderate likelihood of 50.0%, the label for this case is judged to be C3',\n",
       " 'C2 is the label predicted by the classification model employed and looking at the prediction probabilities, it valid to concluded that the model is very certain about the selected label',\n",
       " 'C3, out of the three potential classes, is the the label assigned with a high probability of 50.0%',\n",
       " 'The label assigned in this case by the classifier is C3, with a moderately high prediction confidence of 66.11%',\n",
       " 'The classification output decision is based solely on the information supplied to the model and it predicts class C4 with a higher confidence level, equal to 94.10%, indicating the model is very confident that the correct label for the given case is not either class C3 or class C1 or class C2',\n",
       " 'Based on the values of the input variables resulting in the predicted likelihoods across the classes, the classification algorithm is confident that the right label for the provided data is C1',\n",
       " 'The predicted label is C1 at a confidence level of 92.11%, insinuating that there is a 7.89% chance that the label could be C2',\n",
       " 'The case is labelled as C2 by the classifier, with the likelihood of this being correct equal to 94.37%, suggesting that there is a slight chance of about 5.63% that this decision could be wrong',\n",
       " 'C2 is the predicted label from the model for this case, and the model is very confident about it since the associated predicted likelihood of C2 is 100.0%',\n",
       " 'There is a high level of uncertainty when it comes to classifying the case here and this is mainly because the label with the highest possibility of 58.75% is C2, while there is a 41.25% chance that it could be C1',\n",
       " 'The prediction by the model for the given observation or case is C2, with the likelihood of being correct equal to 64.11%',\n",
       " 'This case labelled as C2 with 100.0% certainty by the algorithm or model employed here for this classification task hence there is little chance that C1 is the right label choice',\n",
       " 'The label assigned to this test case by the classification model has a 98.21% chance of being C2 and this means that C1 is only about 1.79% likely to be the appropriate class',\n",
       " 'Since the likelihood of C1 is only 9.70%, the classifier generates the label C2 with a confidence level of roughly 91.30% for the provided data or instance',\n",
       " 'The case is labelled as C1 by the model, mainly based on the influence of the following features: F9, F1, F5, and F8']"
      ]
     },
     "execution_count": 29,
     "metadata": {},
     "output_type": "execute_result"
    }
   ],
   "source": [
    "[l['narration'].split(\". \")[0] for l in train if l['narrative_questions'][0] == 'Provide a statement summarizing the ranking of the features as shown in the feature impact plot.']"
   ]
  },
  {
   "cell_type": "markdown",
   "metadata": {},
   "source": [
    "\n",
    "Answers to this question are almost always still the same as what we would have got for the other question: A statement on the prediction of the model."
   ]
  },
  {
   "attachments": {},
   "cell_type": "markdown",
   "metadata": {},
   "source": [
    "### Q2: Summarise the ranking of the features\n",
    "\n",
    "Is this the same as when asked in Q1?"
   ]
  },
  {
   "cell_type": "code",
   "execution_count": 30,
   "metadata": {},
   "outputs": [
    {
     "data": {
      "text/plain": [
       "[\" Regarding the classifier's decision, there is close to an even split on the probability of either of the possible labels is the correct label but the classifier chooses the label as C2\",\n",
       " 'F6 and F10 are deemed the most important features whereas on the other hand all the other features have moderate to minimal amounts of influence',\n",
       " 'The most relevant features that led to the C1 classification verdict are F5, F30, F26, F17, and F15',\n",
       " \"According to the attribution analysis conducted, the different input variables have varying degrees of influence on the model's decision here\",\n",
       " 'F12 and F1 are the most important variables with respect to this classification verdict while all other variables are shown to have a medium or low impact',\n",
       " 'F24 had the largest impact, followed by F23, F9, F18, F14, F10, F11, F2, F8, F21, F20, F27, F4, F12, F15, F19, F13, F16, F30, and finally, F29, which had the smallest non-zero impact',\n",
       " 'F11 is by far the most influential feature whereas F4, F6, and F17 have been recognised as having the biggest effect on prediction output here after F11',\n",
       " 'The prediction probability distribution across the classes C2 and C1 is 2.40% and 97.60%, respectively',\n",
       " 'Not all of the features are found to contribute to the label given here',\n",
       " 'Analysis shows that only 20 of the 46 input variables contribute to the prediction assertion above',\n",
       " 'The above classification decision is largely due to the values of F4, F8, F3, and F14',\n",
       " 'To explain the above prediction conclusion, the analysis revealed that the majority of the features have negative influences or attributions, pushing the prediction away from C2 in favour of C1',\n",
       " 'The decision above is based on the prediction probabilities for the two possible labels, C1 and C2, which are 94.25% and 5.75%, respectively',\n",
       " 'Not all the features are shown to contribute either positively or negatively towards the label assigned here',\n",
       " \"Based on the aforementioned, C1 is the most likely class label for the presented data instance, and according to the attribution analysis, the various input variables had varying degrees of impact on the model's classification judgement\",\n",
       " 'The order of importance of the features for the above classification verdict is F1, F4, F2, F6, F5, F7, F3, and F8',\n",
       " 'F12, F38, and F75 are the key variables that contributed to the classification choice',\n",
       " 'Ranking the contributions of the features to the prediction above, from the most relevant to the least relevant, is as follows: F2, F5, F1, F3, F4, F6, and F7',\n",
       " \"The top two variables with the greatest control over the model in terms of this case's label assignment are F11 and F4 but on the contrary, the rest of the variables have moderate-to-lower influence\",\n",
       " 'C1 has a 90.48% chance of being correct, implying that any of the other labels is highly unlikely',\n",
       " 'However, according to the model, there is a 45.34% chance that C2 could be the label, presenting some level of uncertainty in the classification verdict made here',\n",
       " 'The features are ranked in order of their respective impacts, from most important to least relevant: F10, F11, F9, F7, F12, F3, F6, F4, F8, F2, F1, and F5',\n",
       " 'By analysing the attributions of the input features, they can be ranked according to the level of impact, from the most important feature to the least relevant, as follows: F11, F1, F5, F2, F8, F12, F7, F10, F6, F9, F3, and F4',\n",
       " 'The in-depth analysis found that the bulk of the attributes had negative impacts, driving the prediction away from C1 and toward C2',\n",
       " ' Judging based on the predicted probabilities associated with the other remaining labels, the classifier is 75.0% confident that C3 is the correct label',\n",
       " 'By far, feature F12 had the most impact and following F12 are F5, F15, and F6 have been identified as having the comparable influence on classification',\n",
       " 'According to the model, there is an almost equal distribution in terms of the probability that any one of C1 and C2 is an appropriate label',\n",
       " \"Among the features employed for this classification, F4, F8, F10, F11, F12, and F9 are the top features influencing the model's prediction decision\",\n",
       " 'Just few features out of the entire input features are shown to have control over the prediction made here',\n",
       " 'This is because the probability of the other label, C1, is only 1.03%',\n",
       " 'The most relevant attribute is F5, followed by F7, F1, F6, F8, F9, F3, F4 and finally F2, which is the least relevant',\n",
       " 'The most influential features were F3, F5, and F14',\n",
       " 'First of all, the classification is performed with negligible contributions from the variables F23, F30, F15, F8, and F12 since their attributions are very close to zero',\n",
       " 'For this classification scenario, the input features that have the greatest influence on the end outcome are F22, F20, F37, and F10',\n",
       " 'Based on this, the model assigned the given case the label C2',\n",
       " 'It is fairly confident of its C3 classification and is very certain that the given case is not class C2',\n",
       " 'With the contribution of different variables, the most important variables in this classification decision are F27, F15, F2, F7, and F21',\n",
       " 'The top features contributing either positively or negatively to the labelling decision above include F11, F6, F1, and F3 with the strongest contribution to the prediction of C1 from F11, followed by F3, F6, and F1',\n",
       " 'In terms of the contributions from the different features, the most important features for this classification decision include F44, F8, F3, and F27']"
      ]
     },
     "execution_count": 30,
     "metadata": {},
     "output_type": "execute_result"
    }
   ],
   "source": [
    "[l['narration'].split(\". \")[1] for l in train if l['narrative_questions'][1] == 'Provide a statement summarizing the ranking of the features as shown in the feature impact plot.']"
   ]
  },
  {
   "attachments": {},
   "cell_type": "markdown",
   "metadata": {},
   "source": [
    "Seems to just be a 2 sentence question asking the same thing as the single sentence"
   ]
  },
  {
   "attachments": {},
   "cell_type": "markdown",
   "metadata": {},
   "source": [
    "### Q3: 'For these top features, what are the respective directions of influence on the prediction?' Are these top features named?"
   ]
  },
  {
   "attachments": {},
   "cell_type": "markdown",
   "metadata": {},
   "source": [
    "For these 20 instances,\n",
    "* 'Summarize the prediction for the given test example?'\n",
    "* 'For this test case, summarize the top features influencing the model's decision.'\n",
    "* 'For these top features, what are the respective directions of influence on the prediction?'\n",
    "* 'Provide a statement on the set of features has limited impact on the prediction of [C1/C2] by the model for the given test example?'\n"
   ]
  },
  {
   "cell_type": "code",
   "execution_count": 31,
   "metadata": {},
   "outputs": [
    {
     "data": {
      "text/plain": [
       "[(4, 20)]"
      ]
     },
     "execution_count": 31,
     "metadata": {},
     "output_type": "execute_result"
    }
   ],
   "source": [
    "reg = re.compile(r'F\\d+')\n",
    "[[reg.findall(n) for n in l['narrative_questions']] for l in train if l['narrative_questions'][2] == 'For these top features, what are the respective directions of influence on the prediction?']\n",
    "Counter([len(l['narrative_questions']) for l in train if l['narrative_questions'][2] == 'For these top features, what are the respective directions of influence on the prediction?']).most_common()"
   ]
  },
  {
   "attachments": {},
   "cell_type": "markdown",
   "metadata": {},
   "source": [
    "## Analysis on simplified questions"
   ]
  },
  {
   "attachments": {},
   "cell_type": "markdown",
   "metadata": {},
   "source": [
    "### Top features"
   ]
  },
  {
   "cell_type": "code",
   "execution_count": 32,
   "metadata": {},
   "outputs": [
    {
     "name": "stdout",
     "output_type": "stream",
     "text": [
      "[0, 1] [19, 18]\n",
      "[0, 1] [11, 10]\n",
      "[0, 1] [9, 8]\n",
      "[0, 1] [6, 5]\n",
      "[0, 1, 2] [19, 18, 17]\n",
      "[0, 1] [29, 28]\n",
      "[0, 1, 2, 3, 4] [37, 36, 35, 34, 33]\n",
      "[0, 1, 2, 3] [10, 9, 8, 7]\n",
      "[0, 1] [11, 10]\n",
      "[0, 1, 2, 3, 4] [29, 28, 27, 26, 25]\n",
      "[0, 1, 2, 3, 4] [8, 7, 6, 5, 4]\n",
      "[0, 1, 2, 3] [8, 7, 6, 5]\n",
      "[0, 1, 2] [8, 7, 6]\n",
      "[0, 1, 2, 3, 4] [18, 17, 16, 15, 14]\n",
      "[0, 1, 2, 3, 4] [13, 12, 11, 10, 9]\n",
      "[0, 1, 2] [19, 18, 17]\n",
      "[0, 1, 2, 3, 4] [32, 31, 30, 29, 28]\n",
      "[0, 1, 2, 3, 4] [37, 36, 35, 34, 33]\n",
      "[0, 1] [45, 44]\n",
      "[0, 1] [13, 12]\n",
      "[0, 1, 2, 3] [10, 9, 8, 7]\n",
      "[0, 1, 2, 3] [10, 9, 8, 7]\n",
      "[0, 1] [41, 40]\n",
      "[0, 1, 2] [18, 17, 16]\n",
      "[0, 1, 2, 3, 4] [9, 8, 7, 6, 5]\n",
      "[0, 1] [41, 40]\n",
      "[0, 1] [14, 13]\n",
      "[0, 1, 2, 3, 4] [37, 36, 35, 34, 33]\n",
      "[0, 1, 2, 3, 4] [37, 36, 35, 34, 33]\n",
      "[0, 1, 2] [7, 6, 5]\n",
      "[0, 1] [92, 91]\n",
      "[0, 1, 2, 3, 4] [45, 44, 43, 42, 41]\n",
      "[0, 1] [29, 28]\n",
      "[0, 1] [29, 28]\n",
      "[0, 1, 2, 3, 4] [13, 12, 11, 10, 9]\n",
      "[0, 1, 2, 3, 4] [6, 5, 4, 3, 2]\n",
      "[0, 1, 2, 3] [11, 10, 9, 8]\n",
      "[0, 1, 2, 3] [10, 9, 8, 7]\n",
      "[0, 1] [6, 5]\n",
      "[0, 1] [41, 40]\n",
      "[0, 1] [8, 7]\n",
      "[0, 1] [11, 10]\n",
      "[0, 1, 2, 3, 4] [11, 10, 9, 8, 7]\n",
      "[0, 1] [14, 13]\n",
      "[0, 1, 2] [41, 40, 39]\n",
      "[0, 1] [11, 10]\n",
      "[0, 1, 2] [19, 18, 17]\n",
      "[0, 1] [9, 8]\n",
      "[0, 1] [7, 6]\n",
      "[0, 1, 2, 3] [8, 7, 6, 5]\n",
      "[0, 1] [32, 31]\n",
      "[0, 1] [7, 6]\n",
      "[0, 1] [41, 40]\n",
      "[0, 1] [14, 13]\n",
      "[0, 1, 2, 3] [92, 91, 90, 89]\n",
      "[0, 1] [6, 5]\n",
      "[0, 1, 2] [5, 4, 3]\n",
      "[0, 1, 2] [6, 5, 4]\n",
      "[0, 1, 2] [16, 15, 14]\n",
      "[0, 1, 2, 3, 4] [13, 12, 11, 10, 9]\n",
      "[0, 1, 2, 3] [10, 9, 8, 7]\n",
      "[0, 1, 2, 3] [10, 9, 8, 7]\n",
      "[0, 1] [11, 10]\n",
      "[0, 1] [11, 10]\n",
      "[0, 1, 2] [18, 17, 16]\n",
      "[0, 1, 2] [19, 18, 17]\n",
      "[0, 1, 2] [18, 17, 16]\n",
      "[0, 1] [11, 10]\n",
      "[0, 1, 2, 3, 4] [18, 17, 16, 15, 14]\n",
      "[0, 1] [19, 18]\n",
      "[0, 1, 2, 3] [14, 13, 12, 11]\n",
      "[0, 1] [15, 14]\n",
      "[0, 1] [45, 44]\n",
      "[0, 1, 2, 3] [15, 14, 13, 12]\n",
      "[0, 1] [41, 40]\n",
      "[0, 1, 2, 3] [11, 10, 9, 8]\n",
      "[0, 1, 2, 3, 4] [8, 7, 6, 5, 4]\n",
      "[0, 1, 2] [7, 6, 5]\n",
      "[0, 1, 2, 3, 4] [45, 44, 43, 42, 41]\n",
      "[0, 1] [12, 11]\n",
      "[0, 1] [8, 7]\n",
      "[0, 1, 2, 3, 4] [14, 13, 12, 11, 10]\n",
      "[0, 1, 2, 3] [11, 10, 9, 8]\n",
      "[0, 1, 2, 3] [10, 9, 8, 7]\n",
      "[0, 1, 2, 3, 4] [19, 18, 17, 16, 15]\n",
      "[0, 1, 2, 3] [7, 6, 5, 4]\n",
      "[0, 1] [9, 8]\n",
      "[0, 1] [11, 10]\n",
      "[0, 1] [12, 11]\n",
      "[0, 1, 2] [32, 31, 30]\n",
      "[0, 1] [11, 10]\n",
      "[0, 1] [11, 10]\n",
      "[0, 1] [41, 40]\n",
      "[0, 1, 2, 3, 4] [8, 7, 6, 5, 4]\n",
      "[0, 1, 2] [41, 40, 39]\n",
      "[0, 1, 2] [11, 10, 9]\n",
      "[0, 1, 2] [45, 44, 43]\n",
      "[0, 1, 2, 3, 4] [14, 13, 12, 11, 10]\n",
      "[0, 1] [5, 4]\n",
      "[0, 1] [5, 4]\n",
      "[0, 1, 2, 3] [12, 11, 10, 9]\n",
      "[0, 1] [8, 7]\n",
      "[0, 1, 2] [5, 4, 3]\n",
      "[0, 1] [13, 12]\n",
      "[0, 1] [29, 28]\n",
      "[0, 1, 2, 3] [37, 36, 35, 34]\n",
      "[0, 1, 2, 3] [13, 12, 11, 10]\n",
      "[0, 1, 2] [11, 10, 9]\n",
      "[0, 1, 2, 3] [45, 44, 43, 42]\n",
      "[0, 1, 2] [10, 9, 8]\n",
      "[0, 1, 2] [19, 18, 17]\n",
      "[0, 1] [11, 10]\n",
      "[0, 1] [10, 9]\n",
      "[0, 1] [12, 11]\n",
      "[0, 1] [15, 14]\n",
      "[0, 1, 2, 3] [7, 6, 5, 4]\n",
      "[0, 1, 2, 3] [12, 11, 10, 9]\n",
      "[0, 1] [10, 9]\n",
      "[0, 1] [8, 7]\n",
      "[0, 1, 2] [19, 18, 17]\n",
      "[0, 1, 2, 3, 4] [8, 7, 6, 5, 4]\n",
      "[0, 1, 2, 3, 4] [11, 10, 9, 8, 7]\n",
      "[0, 1] [6, 5]\n",
      "[0, 1, 2, 3] [45, 44, 43, 42]\n",
      "[0, 1, 2] [8, 7, 6]\n"
     ]
    }
   ],
   "source": [
    "reg = re.compile(r'F\\d+')\n",
    "mentions = [[reg.findall(n)for n in l['narrative_questions']][1] for l in simple_train if l['narrative_questions'][1][:28] == \"Summarise these top features\"]\n",
    "all_fts = [l['feature_nums'] for l in simple_train if l['narrative_questions'][1][:28] == \"Summarise these top features\"]\n",
    "indexes = [[narr.index(val) for val in mention] for narr, mention in zip(all_fts, mentions)]\n",
    "\n",
    "rev_indexes = [[narr[::-1].index(val) for val in mention] for narr, mention in zip(all_fts, mentions)]\n",
    "\n",
    "for i, r_i in zip(indexes, rev_indexes):\n",
    "    print(i, r_i)"
   ]
  },
  {
   "cell_type": "code",
   "execution_count": 33,
   "metadata": {},
   "outputs": [
    {
     "data": {
      "text/plain": [
       "[(0, 125), (1, 125), (2, 71), (3, 47), (4, 24)]"
      ]
     },
     "execution_count": 33,
     "metadata": {},
     "output_type": "execute_result"
    }
   ],
   "source": [
    "Counter([item for sublist in indexes for item in sublist]).most_common()"
   ]
  },
  {
   "attachments": {},
   "cell_type": "markdown",
   "metadata": {},
   "source": [
    "### Moderate features"
   ]
  },
  {
   "cell_type": "code",
   "execution_count": 34,
   "metadata": {},
   "outputs": [
    {
     "name": "stdout",
     "output_type": "stream",
     "text": [
      "[5, 6, 7] [10, 9, 8]\n",
      "[2, 3, 4, 5] [17, 16, 15, 14]\n",
      "[] []\n",
      "[2, 3, 4, 5] [9, 8, 7, 6]\n",
      "[5, 6, 7] [4, 3, 2]\n",
      "[6, 7, 8] [12, 11, 10]\n",
      "[6, 7, 8] [19, 18, 17]\n",
      "[3, 4, 5] [16, 15, 14]\n",
      "[2, 3, 4, 5] [9, 8, 7, 6]\n",
      "[13, 1, 24, 6] [12, 24, 1, 19]\n",
      "[4, 5, 6] [88, 87, 86]\n",
      "[2, 3, 4, 5] [9, 8, 7, 6]\n",
      "[3, 4, 5] [8, 7, 6]\n",
      "[2, 3, 4, 5] [8, 7, 6, 5]\n",
      "[2, 3, 4, 5] [7, 6, 5, 4]\n",
      "[2, 3, 4, 5] [4, 3, 2, 1]\n",
      "[2, 3, 4, 5] [43, 42, 41, 40]\n",
      "[7, 8, 9] [12, 11, 10]\n",
      "[2, 3, 4, 5] [14, 13, 12, 11]\n",
      "[8, 9] [1, 0]\n",
      "[6, 7, 8] [2, 1, 0]\n",
      "[6] [0]\n",
      "[3, 4, 5] [16, 15, 14]\n",
      "[4, 5, 6] [41, 40, 39]\n",
      "[6, 7, 8] [2, 1, 0]\n",
      "[2, 3, 4, 5] [6, 5, 4, 3]\n",
      "[8, 9, 10] [3, 2, 1]\n",
      "[2, 3, 4, 5] [27, 26, 25, 24]\n",
      "[2, 3, 4, 5] [23, 22, 21, 20]\n",
      "[7, 8, 9] [4, 3, 2]\n",
      "[3, 4, 5] [16, 15, 14]\n",
      "[5, 6, 7] [32, 31, 30]\n",
      "[4, 5, 6] [6, 5, 4]\n",
      "[6, 7, 8, 9] [23, 22, 21, 20]\n",
      "[2, 3, 4, 5] [9, 8, 7, 6]\n",
      "[6, 7, 8] [2, 1, 0]\n",
      "[6, 7, 8, 9] [31, 30, 29, 28]\n",
      "[5, 6, 7] [3, 2, 1]\n",
      "[5, 6, 7] [24, 23, 22]\n",
      "[5, 6, 7] [3, 2, 1]\n",
      "[8, 9, 10] [24, 23, 22]\n",
      "[2, 3, 4, 5] [14, 13, 12, 11]\n",
      "[6, 7, 8, 9] [5, 4, 3, 2]\n",
      "[7, 8, 9] [9, 8, 7]\n",
      "[2, 3, 4, 5] [16, 15, 14, 13]\n",
      "[5, 6, 7] [14, 13, 12]\n",
      "[4, 5, 6] [4, 3, 2]\n",
      "[6, 7, 8, 9] [13, 12, 11, 10]\n",
      "[3, 4, 5] [5, 4, 3]\n",
      "[5, 6, 7] [10, 9, 8]\n",
      "[5, 6, 7] [13, 12, 11]\n",
      "[6, 7, 8] [3, 2, 1]\n",
      "[3, 4, 5] [5, 4, 3]\n",
      "[5, 6, 7] [6, 5, 4]\n",
      "[3, 4, 5] [15, 14, 13]\n",
      "[6, 7, 8] [19, 18, 17]\n",
      "[8, 9, 10] [2, 1, 0]\n",
      "[5, 6, 7] [8, 7, 6]\n",
      "[2, 3, 4, 5] [3, 2, 1, 0]\n",
      "[3, 4, 5] [16, 15, 14]\n",
      "[5, 6, 7] [27, 26, 25]\n",
      "[5, 6, 7] [32, 31, 30]\n",
      "[3, 4, 5] [11, 10, 9]\n",
      "[5, 6, 7] [4, 3, 2]\n",
      "[2, 3, 4, 5] [43, 42, 41, 40]\n",
      "[2, 3, 4, 5] [11, 10, 9, 8]\n",
      "[4, 5, 6] [6, 5, 4]\n",
      "[4, 5, 6] [6, 5, 4]\n",
      "[6, 7, 8, 9] [5, 4, 3, 2]\n",
      "[5, 6, 7] [20, 19, 18]\n",
      "[6, 7, 8, 9] [5, 4, 3, 2]\n",
      "[4, 5, 6] [88, 87, 86]\n",
      "[2, 3, 4, 5] [39, 38, 37, 36]\n",
      "[8, 9] [1, 0]\n",
      "[3, 4, 5] [15, 14, 13]\n",
      "[5, 6, 7] [4, 3, 2]\n",
      "[6, 7, 8] [2, 1, 0]\n",
      "[4, 5, 6] [28, 27, 26]\n",
      "[2, 3, 4, 5] [39, 38, 37, 36]\n",
      "[6, 7, 8, 9] [31, 30, 29, 28]\n",
      "[6, 7, 8] [19, 18, 17]\n",
      "[8, 9, 10] [3, 2, 1]\n",
      "[2, 3, 4, 5] [23, 22, 21, 20]\n",
      "[2, 3, 4, 5] [12, 11, 10, 9]\n",
      "[6, 7, 8] [26, 25, 24]\n",
      "[5, 6, 7] [5, 4, 3]\n",
      "[6, 7, 8] [5, 4, 3]\n",
      "[5, 6, 7] [32, 31, 30]\n",
      "[6, 7, 8, 9] [5, 4, 3, 2]\n",
      "[2, 3, 4, 5] [9, 8, 7, 6]\n",
      "[2, 3, 4, 5] [19, 18, 17, 16]\n",
      "[6, 7, 8] [2, 1, 0]\n",
      "[5, 6, 7] [32, 31, 30]\n",
      "[7, 8, 9] [85, 84, 83]\n",
      "[3, 4, 5] [4, 3, 2]\n",
      "[6, 7, 8, 9] [23, 22, 21, 20]\n",
      "[2, 3, 4, 5] [90, 89, 88, 87]\n",
      "[5, 6, 7] [40, 39, 38]\n",
      "[2, 3, 4, 5] [27, 26, 25, 24]\n",
      "[2, 3, 4, 5] [27, 26, 25, 24]\n",
      "[2, 3, 4, 5] [9, 8, 7, 6]\n",
      "[3, 4, 5] [10, 9, 8]\n",
      "[7, 8, 9] [22, 21, 20]\n",
      "[2, 3, 4, 5] [27, 26, 25, 24]\n",
      "[6, 7, 8, 9] [3, 2, 1, 0]\n",
      "[6, 7, 8, 9] [10, 9, 8, 7]\n",
      "[6, 7, 8] [5, 4, 3]\n",
      "[5, 6, 7] [20, 19, 18]\n",
      "[5, 6, 7] [8, 7, 6]\n",
      "[2, 3, 4, 5] [7, 6, 5, 4]\n",
      "[7, 8, 9] [25, 24, 23]\n",
      "[5, 6, 7] [20, 19, 18]\n",
      "[5, 6] [1, 0]\n",
      "[5, 6, 7] [10, 9, 8]\n",
      "[4, 5, 6] [7, 6, 5]\n",
      "[3, 4, 5] [10, 9, 8]\n",
      "[4, 5, 6] [6, 5, 4]\n",
      "[8] [0]\n",
      "[2, 3, 4, 5] [9, 8, 7, 6]\n",
      "[6, 7, 8] [8, 7, 6]\n",
      "[6, 7, 8, 9] [15, 14, 13, 12]\n",
      "[5, 6, 7] [4, 3, 2]\n",
      "[2, 3, 4, 5] [4, 3, 2, 1]\n",
      "[3, 4, 5] [11, 10, 9]\n",
      "[2, 3, 4, 5] [9, 8, 7, 6]\n",
      "[2, 3, 4, 5] [9, 8, 7, 6]\n",
      "[2, 3, 4, 5] [27, 26, 25, 24]\n",
      "[2, 3, 4, 5] [39, 38, 37, 36]\n",
      "[2, 3, 4, 5] [7, 6, 5, 4]\n",
      "[6, 7, 8] [2, 1, 0]\n",
      "[6, 7, 8, 9] [4, 3, 2, 1]\n",
      "[2, 3, 4, 5] [6, 5, 4, 3]\n",
      "[2, 3, 4, 5] [9, 8, 7, 6]\n",
      "[6] [0]\n",
      "[6, 7, 8] [2, 1, 0]\n",
      "[5, 6, 7] [6, 5, 4]\n",
      "[6, 7] [1, 0]\n",
      "[2, 3, 4, 5] [12, 11, 10, 9]\n",
      "[2, 3, 4, 5] [9, 8, 7, 6]\n",
      "[6, 7, 8] [39, 38, 37]\n",
      "[6, 7, 8] [5, 4, 3]\n",
      "[6, 7, 8, 9] [10, 9, 8, 7]\n",
      "[5, 6, 7] [3, 2, 1]\n",
      "[3, 4, 5] [5, 4, 3]\n",
      "[3, 4, 5] [10, 9, 8]\n",
      "[3, 4, 5] [38, 37, 36]\n",
      "[2, 3, 4, 5] [11, 10, 9, 8]\n",
      "[3, 4, 5] [5, 4, 3]\n",
      "[6, 7, 8] [3, 2, 1]\n",
      "[2, 3, 4, 5] [9, 8, 7, 6]\n",
      "[3, 4, 5] [5, 4, 3]\n",
      "[5, 6, 7] [3, 2, 1]\n",
      "[5, 6, 7] [3, 2, 1]\n",
      "[3, 4, 5] [16, 15, 14]\n",
      "[5, 6, 7] [10, 9, 8]\n",
      "[2, 3, 4, 5] [7, 6, 5, 4]\n",
      "[8, 9, 10] [17, 16, 15]\n",
      "[6, 7, 8] [19, 18, 17]\n",
      "[7, 8, 9] [4, 3, 2]\n",
      "[7, 8, 9] [4, 3, 2]\n",
      "[2, 3, 4, 5] [5, 4, 3, 2]\n",
      "[4, 5, 6] [4, 3, 2]\n",
      "[6, 7, 8, 9] [9, 8, 7, 6]\n",
      "[6, 7, 8] [5, 4, 3]\n",
      "[5, 6, 7] [4, 3, 2]\n",
      "[2, 3, 4, 5] [30, 29, 28, 27]\n",
      "[2, 3, 4, 5] [43, 42, 41, 40]\n",
      "[2, 3, 4, 5] [5, 4, 3, 2]\n",
      "[2, 3, 4, 5] [39, 38, 37, 36]\n",
      "[2, 3, 4, 5] [12, 11, 10, 9]\n",
      "[4, 5, 6] [88, 87, 86]\n",
      "[7, 8, 9] [3, 2, 1]\n",
      "[4, 5, 6] [28, 27, 26]\n",
      "[2, 3, 4, 5] [10, 9, 8, 7]\n",
      "[4, 5, 6] [7, 6, 5]\n",
      "[2, 3, 4, 5] [4, 3, 2, 1]\n",
      "[6, 7, 8, 9] [23, 22, 21, 20]\n",
      "[5, 6, 7] [20, 19, 18]\n",
      "[3, 4, 5] [2, 1, 0]\n",
      "[5, 6, 7] [10, 9, 8]\n",
      "[2, 3, 4, 5] [9, 8, 7, 6]\n",
      "[3, 4, 5] [3, 2, 1]\n",
      "[3, 4, 5] [13, 12, 11]\n",
      "[5, 6, 7] [8, 7, 6]\n",
      "[3, 4, 5] [16, 15, 14]\n",
      "[2, 3, 4, 5] [8, 7, 6, 5]\n",
      "[8, 9, 10] [2, 1, 0]\n",
      "[4, 5, 6] [6, 5, 4]\n",
      "[3, 4, 5] [10, 9, 8]\n",
      "[2, 3, 4, 5] [7, 6, 5, 4]\n",
      "[4, 5, 6] [6, 5, 4]\n",
      "[2, 3, 4, 5] [9, 8, 7, 6]\n",
      "[8] [0]\n",
      "[8, 9, 10] [6, 5, 4]\n",
      "[2, 3, 4, 5] [9, 8, 7, 6]\n",
      "[3, 4, 5] [15, 14, 13]\n",
      "[7] [0]\n",
      "[2, 3, 4, 5] [17, 16, 15, 14]\n",
      "[3, 4, 5] [16, 15, 14]\n",
      "[5, 6, 7] [11, 10, 9]\n",
      "[3, 4, 5] [15, 14, 13]\n",
      "[2, 3, 4, 5] [9, 8, 7, 6]\n",
      "[2, 3, 4, 5] [10, 9, 8, 7]\n",
      "[5, 6, 7] [10, 9, 8]\n",
      "[6, 7, 8, 9] [9, 8, 7, 6]\n",
      "[2, 3, 4, 5] [9, 8, 7, 6]\n",
      "[6, 7, 8] [9, 8, 7]\n",
      "[2, 3, 4, 5] [8, 7, 6, 5]\n",
      "[5, 6, 7] [13, 12, 11]\n",
      "[8] [0]\n",
      "[2, 3, 4, 5] [17, 16, 15, 14]\n",
      "[2, 3, 4, 5] [6, 5, 4, 3]\n",
      "[4, 5, 6] [10, 9, 8]\n",
      "[2, 3, 4, 5] [13, 12, 11, 10]\n",
      "[8, 9, 10] [24, 23, 22]\n",
      "[3, 4, 5] [7, 6, 5]\n",
      "[2, 3, 4, 5] [43, 42, 41, 40]\n",
      "[4, 5, 6] [11, 10, 9]\n",
      "[6, 7] [1, 0]\n",
      "[2, 3, 4, 5] [39, 38, 37, 36]\n",
      "[4, 5, 6] [7, 6, 5]\n",
      "[6, 7, 8, 9] [3, 2, 1, 0]\n",
      "[2, 3, 4, 5] [8, 7, 6, 5]\n",
      "[4, 5, 6] [2, 1, 0]\n",
      "[5, 6, 7] [3, 2, 1]\n",
      "[] []\n",
      "[3, 4, 5] [5, 4, 3]\n",
      "[3, 4, 5] [5, 4, 3]\n",
      "[3, 4, 5] [10, 9, 8]\n",
      "[3, 4, 5] [4, 3, 2]\n",
      "[2, 3, 4, 5] [14, 13, 12, 11]\n",
      "[6, 7, 8, 9] [31, 30, 29, 28]\n",
      "[2, 3, 4, 5] [6, 5, 4, 3]\n",
      "[5, 6, 7] [40, 39, 38]\n",
      "[7, 8, 9] [85, 84, 83]\n",
      "[6, 7, 8, 9] [6, 5, 4, 3]\n",
      "[6, 7, 8] [23, 22, 21]\n",
      "[2, 3, 4, 5] [10, 9, 8, 7]\n",
      "[2, 3, 4, 5] [6, 5, 4, 3]\n",
      "[3, 4, 5] [9, 8, 7]\n",
      "[5, 6, 7] [9, 8, 7]\n",
      "[4, 5, 6] [7, 6, 5]\n",
      "[4, 5, 6] [6, 5, 4]\n",
      "[4, 5, 6] [88, 87, 86]\n",
      "[2, 3, 4, 5] [8, 7, 6, 5]\n",
      "[5, 6, 7] [14, 13, 12]\n",
      "[8, 9, 10] [2, 1, 0]\n",
      "[4, 5, 6] [3, 2, 1]\n",
      "[2, 3, 4, 5] [19, 18, 17, 16]\n",
      "[2, 3, 4, 5] [7, 6, 5, 4]\n",
      "[6, 7, 8] [13, 12, 11]\n",
      "[5, 6, 7] [2, 1, 0]\n",
      "[4, 5, 6] [15, 14, 13]\n",
      "[2, 3, 4, 5] [9, 8, 7, 6]\n",
      "[3, 4, 5] [16, 15, 14]\n",
      "[4, 5, 6] [8, 7, 6]\n",
      "[7, 8, 9] [3, 2, 1]\n",
      "[5, 6, 7] [4, 3, 2]\n",
      "[8, 9, 10] [2, 1, 0]\n",
      "[2, 3, 4, 5] [10, 9, 8, 7]\n",
      "[2, 3, 4, 5] [7, 6, 5, 4]\n",
      "[7, 8, 9] [2, 1, 0]\n",
      "[8, 9] [1, 0]\n",
      "[6] [0]\n",
      "[2, 3, 4, 5] [5, 4, 3, 2]\n",
      "[2, 3, 4, 5] [8, 7, 6, 5]\n",
      "[3, 4, 5] [29, 28, 27]\n",
      "[6, 7, 8] [12, 11, 10]\n",
      "[5, 6, 7] [10, 9, 8]\n",
      "[2, 3, 4, 5] [9, 8, 7, 6]\n",
      "[2, 3, 4, 5] [9, 8, 7, 6]\n",
      "[2, 3, 4, 5] [39, 38, 37, 36]\n",
      "[2, 3, 4, 5] [8, 7, 6, 5]\n",
      "[3, 4, 5] [18, 17, 16]\n",
      "[5, 6, 7] [3, 2, 1]\n",
      "[4, 5, 6] [4, 3, 2]\n",
      "[5, 6, 7] [10, 9, 8]\n",
      "[3, 4, 5] [38, 37, 36]\n",
      "[3, 4, 5] [8, 7, 6]\n",
      "[3, 4, 5] [16, 15, 14]\n",
      "[6, 7, 8] [5, 4, 3]\n",
      "[2, 3, 4, 5] [6, 5, 4, 3]\n",
      "[2, 3, 4, 5] [17, 16, 15, 14]\n",
      "[4, 5, 6] [8, 7, 6]\n",
      "[2, 3, 4, 5] [6, 5, 4, 3]\n",
      "[3, 4, 5] [42, 41, 40]\n",
      "[5, 6, 7] [4, 3, 2]\n",
      "[2, 3, 4, 5] [17, 16, 15, 14]\n",
      "[6, 7, 8, 9] [23, 22, 21, 20]\n",
      "[5, 6, 7] [9, 8, 7]\n",
      "[2, 3, 4, 5] [3, 2, 1, 0]\n",
      "[2, 3, 4, 5] [23, 22, 21, 20]\n",
      "[3, 4, 5] [8, 7, 6]\n",
      "[6, 7, 8] [39, 38, 37]\n",
      "[2, 3, 4, 5] [3, 2, 1, 0]\n",
      "[2, 3, 4, 5] [6, 5, 4, 3]\n",
      "[4, 5, 6] [8, 7, 6]\n",
      "[2, 3, 4, 5] [6, 5, 4, 3]\n",
      "[3, 4, 5] [10, 9, 8]\n",
      "[6, 7, 8, 9] [35, 34, 33, 32]\n",
      "[3, 4, 5] [5, 4, 3]\n",
      "[7] [0]\n",
      "[3, 4, 5] [2, 1, 0]\n",
      "[7, 8, 9] [12, 11, 10]\n",
      "[2, 3, 4, 5] [11, 10, 9, 8]\n",
      "[2, 3, 4, 5] [27, 26, 25, 24]\n",
      "[2, 3, 4, 5] [23, 22, 21, 20]\n",
      "[2, 3, 4, 5] [3, 2, 1, 0]\n",
      "[4, 5, 6] [33, 32, 31]\n",
      "[6, 7, 8, 9] [13, 12, 11, 10]\n",
      "[5, 6, 7] [40, 39, 38]\n",
      "[5, 6, 7] [20, 19, 18]\n",
      "[8, 9] [1, 0]\n",
      "[6, 7, 8, 9] [10, 9, 8, 7]\n",
      "[] []\n",
      "[4, 5, 6] [9, 8, 7]\n",
      "[3, 4, 5] [8, 7, 6]\n",
      "[4, 5, 6] [41, 40, 39]\n",
      "[2, 3, 4, 5] [9, 8, 7, 6]\n",
      "[6, 7, 8, 9] [5, 4, 3, 2]\n",
      "[3, 4, 5] [7, 6, 5]\n",
      "[3, 4, 5] [26, 25, 24]\n",
      "[3, 4, 5] [16, 15, 14]\n",
      "[5, 6, 7] [40, 39, 38]\n",
      "[2, 3, 4, 5] [9, 8, 7, 6]\n",
      "[7, 8, 9] [25, 24, 23]\n",
      "[2, 3, 4, 5] [9, 8, 7, 6]\n",
      "[2, 3, 4, 5] [8, 7, 6, 5]\n",
      "[2, 3, 4, 5] [10, 9, 8, 7]\n",
      "[2, 3, 4, 5] [13, 12, 11, 10]\n",
      "[4, 5, 6] [3, 2, 1]\n",
      "[4, 5, 6] [14, 13, 12]\n",
      "[2, 3, 4, 5] [14, 13, 12, 11]\n",
      "[4, 5, 6] [8, 7, 6]\n",
      "[2, 3, 4, 5] [8, 7, 6, 5]\n",
      "[7, 8, 9] [85, 84, 83]\n",
      "[2, 3, 4, 5] [6, 5, 4, 3]\n",
      "[6, 7, 8, 9] [23, 22, 21, 20]\n",
      "[7, 8, 9] [22, 21, 20]\n",
      "[3, 4, 5] [16, 15, 14]\n",
      "[8, 9, 10] [2, 1, 0]\n",
      "[5, 6, 7] [3, 2, 1]\n",
      "[5, 6, 7] [6, 5, 4]\n",
      "[2, 3, 4, 5] [4, 3, 2, 1]\n",
      "[3, 4, 5] [10, 9, 8]\n",
      "[4, 5, 6] [41, 40, 39]\n",
      "[3, 4, 5] [18, 17, 16]\n",
      "[6, 7, 8] [4, 3, 2]\n",
      "[5, 6, 7] [4, 3, 2]\n",
      "[3, 4, 5] [5, 4, 3]\n",
      "[2, 3, 4, 5] [9, 8, 7, 6]\n",
      "[6, 7, 8] [26, 25, 24]\n",
      "[4, 5, 6] [15, 14, 13]\n",
      "[3, 4, 5] [26, 25, 24]\n",
      "[2, 3, 4, 5] [3, 2, 1, 0]\n"
     ]
    }
   ],
   "source": [
    "reg = re.compile(r'F\\d+')\n",
    "mentions = [[reg.findall(n)for n in l['narrative_questions']][2] for l in simple_train if l['narrative_questions'][2][:33] == \"Summarise these moderate features\"]\n",
    "all_fts = [l['feature_nums'] for l in simple_train if l['narrative_questions'][2][:33] == \"Summarise these moderate features\"]\n",
    "indexes = [[narr.index(val) for val in mention] for narr, mention in zip(all_fts, mentions)]\n",
    "\n",
    "rev_indexes = [[narr[::-1].index(val) for val in mention] for narr, mention in zip(all_fts, mentions)]\n",
    "\n",
    "for i, r_i in zip(indexes, rev_indexes):\n",
    "    print(i, r_i)"
   ]
  },
  {
   "cell_type": "code",
   "execution_count": 35,
   "metadata": {},
   "outputs": [
    {
     "data": {
      "text/plain": [
       "[(5, 255),\n",
       " (4, 200),\n",
       " (3, 163),\n",
       " (6, 153),\n",
       " (7, 129),\n",
       " (2, 109),\n",
       " (8, 89),\n",
       " (9, 57),\n",
       " (10, 11),\n",
       " (13, 1),\n",
       " (1, 1),\n",
       " (24, 1)]"
      ]
     },
     "execution_count": 35,
     "metadata": {},
     "output_type": "execute_result"
    }
   ],
   "source": [
    "Counter([item for sublist in indexes for item in sublist]).most_common()"
   ]
  },
  {
   "attachments": {},
   "cell_type": "markdown",
   "metadata": {},
   "source": [
    "### Negligible features"
   ]
  },
  {
   "cell_type": "code",
   "execution_count": 36,
   "metadata": {},
   "outputs": [
    {
     "name": "stdout",
     "output_type": "stream",
     "text": [
      "[6, 7, 8, 9] [3, 2, 1, 0]\n",
      "[6] [0]\n",
      "[6, 7, 8, 9] [13, 12, 11, 10]\n",
      "[7, 8, 9] [3, 2, 1]\n",
      "[8] [0]\n",
      "[7, 8] [1, 0]\n",
      "[6, 7, 8] [2, 1, 0]\n",
      "[8, 9, 10] [5, 4, 3]\n",
      "[8, 9, 10] [24, 23, 22]\n",
      "[7, 8, 9] [3, 2, 1]\n",
      "[7, 8, 9] [3, 2, 1]\n",
      "[6, 7, 8, 9] [35, 34, 33, 32]\n",
      "[6, 7, 8, 9] [35, 34, 33, 32]\n",
      "[6, 7, 8, 9] [8, 7, 6, 5]\n",
      "[8, 9, 10] [37, 36, 35]\n",
      "[6, 7, 8] [23, 22, 21]\n",
      "[6, 7, 8, 9] [23, 22, 21, 20]\n",
      "[8, 9, 10] [5, 4, 3]\n",
      "[7, 8, 9] [3, 2, 1]\n",
      "[6] [0]\n",
      "[6, 7, 8] [35, 34, 33]\n",
      "[6, 7, 8] [2, 1, 0]\n",
      "[6, 7, 8, 9] [5, 4, 3, 2]\n",
      "[8, 9, 10] [3, 2, 1]\n",
      "[6, 7, 8, 9] [8, 7, 6, 5]\n",
      "[6, 7, 8, 9] [35, 34, 33, 32]\n",
      "[6, 7, 8, 9] [13, 12, 11, 10]\n",
      "[6, 7, 8, 9] [3, 2, 1, 0]\n",
      "[6, 7] [1, 0]\n",
      "[7, 8] [1, 0]\n",
      "[6, 7] [1, 0]\n",
      "[6, 7, 8, 9] [35, 34, 33, 32]\n",
      "[6, 7, 8, 9] [8, 7, 6, 5]\n",
      "[7, 8, 9] [85, 84, 83]\n",
      "[6] [0]\n",
      "[] []\n",
      "[6] [0]\n",
      "[6, 7, 8, 9] [10, 9, 8, 7]\n",
      "[8, 9, 10] [5, 4, 3]\n",
      "[7, 8, 9] [3, 2, 1]\n",
      "[7, 8, 9] [3, 2, 1]\n",
      "[6, 7, 8, 9] [12, 11, 10, 9]\n",
      "[6, 7, 8, 9] [13, 12, 11, 10]\n",
      "[7, 8, 9] [7, 6, 5]\n",
      "[7, 8, 9] [8, 7, 6]\n",
      "[6, 7, 8] [35, 34, 33]\n",
      "[7, 8, 9] [4, 3, 2]\n",
      "[8] [0]\n",
      "[8, 9, 10] [37, 36, 35]\n",
      "[6, 7, 8] [6, 5, 4]\n",
      "[8, 9, 10] [6, 5, 4]\n",
      "[7, 8, 9] [4, 3, 2]\n",
      "[7, 8, 9] [3, 2, 1]\n",
      "[8, 9, 10] [11, 10, 9]\n",
      "[7] [0]\n",
      "[6, 7, 8, 9] [3, 2, 1, 0]\n",
      "[6, 7, 8] [5, 4, 3]\n",
      "[6, 7, 8] [6, 5, 4]\n",
      "[6, 7, 8] [5, 4, 3]\n",
      "[6, 7, 8, 9] [5, 4, 3, 2]\n",
      "[6, 7, 8] [35, 34, 33]\n",
      "[8] [0]\n",
      "[6, 7, 8, 9] [35, 34, 33, 32]\n",
      "[6, 7, 8, 9] [5, 4, 3, 2]\n",
      "[6, 7, 8, 9] [39, 38, 37, 36]\n",
      "[8, 9, 10] [6, 5, 4]\n",
      "[] []\n",
      "[] []\n",
      "[7, 8, 9] [5, 4, 3]\n",
      "[6, 7, 8] [2, 1, 0]\n",
      "[] []\n",
      "[6, 7, 8] [7, 6, 5]\n",
      "[6, 7, 8, 9] [13, 12, 11, 10]\n",
      "[6, 7, 8, 9] [5, 4, 3, 2]\n",
      "[6, 7, 8] [4, 3, 2]\n",
      "[6, 7, 8] [6, 5, 4]\n",
      "[6, 7, 8, 9] [9, 8, 7, 6]\n",
      "[7] [0]\n",
      "[7, 8, 9] [5, 4, 3]\n",
      "[6, 7, 8] [4, 3, 2]\n",
      "[6, 7, 8] [2, 1, 0]\n",
      "[6, 7, 8, 9] [13, 12, 11, 10]\n",
      "[8] [0]\n",
      "[8, 9, 10] [3, 2, 1]\n",
      "[6] [0]\n",
      "[6, 7, 8] [2, 1, 0]\n"
     ]
    }
   ],
   "source": [
    "reg = re.compile(r'F\\d+')\n",
    "mentions = [[reg.findall(n)for n in l['narrative_questions']][-1] for l in simple_train if l['narrative_questions'][3][:35] == \"Summarise these negligible features\"]\n",
    "all_fts = [l['feature_nums'] for l in simple_train if l['narrative_questions'][3][:35] == \"Summarise these negligible features\"]\n",
    "indexes = [[narr.index(val) for val in mention] for narr, mention in zip(all_fts, mentions)]\n",
    "\n",
    "rev_indexes = [[narr[::-1].index(val) for val in mention] for narr, mention in zip(all_fts, mentions)]\n",
    "\n",
    "for i, r_i in zip(indexes, rev_indexes):\n",
    "    print(i, r_i)"
   ]
  },
  {
   "cell_type": "code",
   "execution_count": 37,
   "metadata": {},
   "outputs": [
    {
     "data": {
      "text/plain": [
       "[(8, 73), (7, 62), (9, 50), (6, 49), (10, 11)]"
      ]
     },
     "execution_count": 37,
     "metadata": {},
     "output_type": "execute_result"
    }
   ],
   "source": [
    "Counter([item for sublist in indexes for item in sublist]).most_common()"
   ]
  },
  {
   "attachments": {},
   "cell_type": "markdown",
   "metadata": {},
   "source": [
    "### For when features weren't included in the question, which features were mentioned in the narration?"
   ]
  },
  {
   "attachments": {},
   "cell_type": "markdown",
   "metadata": {},
   "source": [
    "### Top features"
   ]
  },
  {
   "cell_type": "code",
   "execution_count": 38,
   "metadata": {},
   "outputs": [
    {
     "name": "stdout",
     "output_type": "stream",
     "text": [
      "[[], [], [0, 2, 1, 14, 13, 15], [0, 2, 1, 4], [6, 9, 7, 10], [3, 5, 8, 13, 14, 15], []]\n",
      "[[], [0, 1, 2, 3, 4, 5], [0], [1, 2, 3], [0]]\n",
      "[[], [1, 2, 0], [5, 3, 8, 7, 6], [4, 9, 10], [0, 2, 1], [11]]\n",
      "[[], [], [1, 0, 2], [6, 8, 7, 9, 3, 4, 5], [0, 1, 3, 6, 8], [2, 4, 7, 5, 9]]\n",
      "[[], [], [0, 1], [2, 3, 4, 5], [2, 5, 8, 10, 17], [0, 1, 3, 4, 6, 7]]\n",
      "[[], [0, 1, 2], [20, 21, 22, 23, 24, 25], [6, 9, 10, 14, 15, 16], [0, 1, 2, 4, 3, 5]]\n",
      "[[], [1, 3, 2, 0, 0, 1, 3, 2], [5, 4, 2], [17, 19, 16, 18]]\n",
      "[[], [0, 1, 2, 3], [20, 21, 22, 23, 24, 25], [0, 1, 2], [3, 5, 6, 7], [4, 8, 12, 13, 14, 15, 17, 18, 19]]\n",
      "[[], [0, 1, 2, 3, 4, 6, 5], [7, 8, 9, 11, 10, 12, 13, 14, 15, 16, 17, 18, 19], [20, 21, 22, 23], [], [5, 8, 17, 18, 19], [0, 1, 2, 3]]\n",
      "[[], [0, 1, 2, 3], [2, 3, 4], [11, 9, 10], [5, 8, 7, 6], [4, 9, 1, 2, 0]]\n",
      "[[], [0, 1, 3, 2, 9, 10, 11], [0, 1, 2, 3, 6, 8, 10], [4, 5, 11, 9, 7], []]\n",
      "[[], [], [0, 1, 2, 3], [4, 5, 6], [9, 10, 11], [7, 8], [1, 0, 3, 2]]\n",
      "[[], [], [0, 1, 2, 3, 8, 9, 10], [4, 5, 6, 7], [0, 2, 3, 7], [1, 4, 6, 5], []]\n",
      "[[], [], [0, 1, 2, 3], [4, 5, 6], [], [20, 21, 22, 23], [0, 1, 2, 3], [4, 5, 7, 9], []]\n",
      "[[], [], [0, 1, 2], [16, 17, 18, 19], [4, 3]]\n",
      "[[], [0, 2, 1], [], [5, 6, 7], [3, 4, 8, 10, 12], [0, 2, 1], [13, 14, 15, 16]]\n",
      "[[], [], [0, 1, 2, 8, 9], [], [6, 7, 8], []]\n",
      "[[], [], [], [], [0, 4, 5, 6, 8], [1, 2, 3, 7]]\n",
      "[[], [0, 1, 2, 3, 1, 2], [4, 5, 6, 7], [4, 5, 6, 7], [20, 21, 22, 23]]\n",
      "[[], [], [0, 1, 2, 3, 4, 5, 6], [0, 6]]\n",
      "[[], [], [0, 1, 2, 3, 4], [20, 21, 22, 23], [0, 1, 3, 6, 7, 9, 13, 17, 18], [2, 4, 5, 8, 11, 12, 10], [], [0, 1]]\n",
      "[[], [1, 0, 2, 3], [], [], [7, 4, 8], []]\n",
      "[[], [1, 0, 2, 3], [8], [0, 4, 2, 3], [1, 6, 5]]\n",
      "[[], [], [0, 3, 5, 7, 10], [1, 2, 4, 6, 9, 11, 8], [0, 3, 1, 2], [9, 10, 11]]\n",
      "[[], [2, 0, 1, 3], [23, 25, 22, 20, 24, 21], [6, 5, 4, 7], [5, 6, 1, 0, 4, 14, 2, 12, 3, 17]]\n",
      "[[], [0, 2, 1, 3, 9, 10, 11], [0, 1, 3, 10, 9, 7], [2, 4, 5, 6, 8, 11], []]\n",
      "[[], [], [0, 1, 2], [6, 8, 12, 14, 0, 1, 2], [15, 17, 18, 19], [3, 4, 5, 7], []]\n",
      "[[], [], [0, 1, 2, 3, 4], [5, 6, 7, 8], [15, 16, 17, 18, 19], [20, 21, 22, 23, 24, 25, 26, 27, 28, 29], [0, 4, 10], [1, 7, 2]]\n",
      "[[], [0, 1, 2, 3], [0, 1], [4], [2, 3, 5, 6, 7, 8], []]\n",
      "[[], [0, 1, 2, 3, 4, 5, 6, 7, 8, 9, 10, 11, 12, 13, 14, 15, 16, 17, 18, 19], [20, 22, 21], [0, 1], [2, 4, 3], [0, 5, 1]]\n",
      "[[], [0, 1, 2, 7, 8], [3, 4, 5, 6, 0, 1, 2], [], [0, 2, 5, 6], [1, 3, 4, 7]]\n",
      "[[], [], [], [0], [1, 2, 3, 4, 5, 6, 7, 8], [1, 3, 4, 6, 7], [2, 5, 8, 0]]\n",
      "[[], [0, 2, 1], [], [1, 0, 2], [13, 14, 15, 16]]\n",
      "[[], [], [0, 1, 2, 4], [3, 5, 6, 7, 8, 9, 10, 11], []]\n",
      "[[], [0, 1, 2], [3, 4, 5, 6, 7, 13, 14, 15, 16], [4, 6, 11, 16, 14], [3, 5, 8, 7]]\n",
      "[[], [0, 1, 2, 3, 16, 18, 17], [5, 10, 11, 14], [], [0, 1, 2, 3, 7, 6]]\n",
      "[[], [], [0, 1, 2, 3, 17, 18, 19], [0, 1, 2, 3], [6, 10, 11, 12], [4, 5, 8, 7, 9], [0], [16, 18, 19]]\n",
      "[[], [], [0, 2, 1, 4, 3], [0, 1, 2, 3, 4], [0, 2, 5, 6, 1, 3, 4, 7], [], [], []]\n",
      "[[], [0, 1], [2, 3, 4, 5], [2, 3, 6, 7], [12, 13, 14, 15]]\n",
      "[[], [0, 2, 1, 7, 8, 9], [0, 1, 6, 7, 8], [2, 3, 4, 5, 9], [0, 1]]\n",
      "[[], [0, 1, 2, 3, 4, 5, 6, 7, 8], [0, 2], [1, 4, 5, 7, 3, 6, 8], []]\n",
      "[[], [], [0, 1, 2], [9, 10, 11], [0, 1, 2, 9, 10, 8, 11, 3, 4, 5, 6], [3, 6, 9], [0, 1, 2, 4, 7, 5]]\n",
      "[[], [], [], [1, 3, 7, 9, 10, 14, 17], [0, 2, 4, 5, 6]]\n",
      "[[], [0, 1, 2], [], [20, 21, 22, 23, 24, 25], [6, 9, 10, 14, 15, 16], []]\n",
      "[[], [3, 6, 1, 7, 0, 2, 5, 4], [0, 10, 9], [0, 2, 4, 5]]\n",
      "[[], [], [0, 1, 4, 5], [3, 2], [0, 1, 4, 5]]\n",
      "[[], [], [0, 1, 2, 3, 4, 5, 6, 7, 8, 9, 10, 11, 12, 13, 14], [0], [1, 2, 3], [0, 6, 13, 9], []]\n",
      "[[], [1, 0, 2, 6, 8, 7, 9], [3, 4, 5], [0, 1, 3, 6, 8], [2, 4, 7, 5, 9]]\n",
      "[[], [0, 1, 2, 3], [8, 9, 10, 11], [2, 4, 8, 9, 10, 11]]\n",
      "[[], [0, 1, 2], [6, 5, 7, 4], [6, 0, 2, 5, 1, 3, 4, 7], [], [25, 20, 23, 22]]\n",
      "[[], [], [], [0, 1, 2], [3, 4, 5, 6, 7, 8, 9, 10, 11], [1, 2, 5, 6, 7, 0, 3, 4]]\n",
      "[[], [], [], [0, 1, 2, 3, 4], [], [20, 21, 22, 23], [2, 7, 8, 9, 12, 14], [0, 1, 3, 4]]\n",
      "[[], [], [0, 1, 2, 3], [7, 8, 9], [], [0, 3, 4, 6, 1, 5, 7, 2]]\n",
      "[[], [0], [1, 2, 3, 4, 5, 6, 7, 8], [], [0, 2, 3, 6, 5], [1, 4, 7, 8]]\n",
      "[[], [], [0, 1, 3, 2, 6, 4, 5], [20, 21, 22, 24, 23], [6, 4, 5, 0, 1, 3, 7, 2]]\n",
      "[[], [0, 1, 2, 3, 4, 5, 6, 7, 8, 9, 10, 11, 12, 13, 14, 15, 16, 17, 18, 19], [0, 1], [2, 4, 3], [0, 5, 1]]\n",
      "[[], [0, 1, 2], [20, 21, 22, 23, 24, 25], [6, 9, 10, 14, 15, 16], [0, 1, 2, 3, 4, 5, 7]]\n",
      "[[], [], [0, 1, 5, 8, 10], [2, 3, 4, 6, 7, 9], [0, 1, 2, 3], [11]]\n",
      "[[], [2, 1, 0], [0, 1, 2], [0, 1, 2], [3, 4, 5], [6, 2], [20, 21, 23, 22, 24, 25]]\n",
      "[[], [], [0], [1, 2, 3, 4], [5], [6, 7], [20, 21, 22, 23]]\n",
      "[[], [0, 1, 2, 3, 4, 5, 6], [7, 8, 9, 10], [3, 5], [3, 5, 0, 1, 2]]\n",
      "[[], [0, 1, 2], [3, 5, 6, 9], [7, 4, 8], []]\n",
      "[[], [0, 1, 2, 3, 4], [8, 9, 10, 11], [5, 6, 7], [3, 4, 6, 7, 9, 11], [0, 1, 2]]\n",
      "[[], [], [], [0, 1, 2, 3, 4, 5, 6, 7, 8, 9, 10, 11], [1, 4, 7, 9, 11], [0, 2, 3, 6, 5]]\n",
      "[[], [], [0, 2, 4, 3], [1], [5, 6, 7, 8], [9, 10, 11], [0, 2, 4, 3], [16, 17, 18, 19, 20, 21]]\n",
      "[[], [], [], [0, 1, 2], [7, 6, 8], [1, 2, 4, 5], [0, 3, 6, 7, 8], [1, 2, 4, 5, 0]]\n",
      "[[], [0, 4, 1, 2, 5], [3], [6, 7, 13, 14], [7, 8, 9], [20, 21, 22, 23], [0, 4, 1, 2, 5, 3, 13, 14, 15]]\n",
      "[[], [0, 1, 3, 2], [0, 1, 2], [3, 5], [0, 1, 2], [7, 8, 9, 10, 11, 12]]\n",
      "[[], [1, 0, 2, 3, 4, 25, 26, 27, 28, 29], [1, 0, 4, 3], [2, 10, 11], []]\n",
      "[[], [0, 1, 2, 3, 4, 5, 6, 7, 8, 9, 10, 11, 12, 13, 14, 16, 17, 18, 19], [1, 0], [4, 5, 8], [2, 3, 6, 7, 9, 10], [20, 29, 25, 23]]\n",
      "[[], [], [0], [1, 2, 3, 6, 0], [4, 5, 7, 8, 9, 10, 11, 9, 10, 11]]\n",
      "[[], [0, 1, 2, 3], [4, 5, 7, 9], [0, 1, 2, 3], [6, 8, 10, 12]]\n",
      "[[], [0, 1, 2, 3, 4, 5, 6, 7, 8, 9, 10, 11, 12], [13, 14, 15, 16, 17, 18, 19], [20, 21, 22, 23], [0, 1, 2, 4, 7, 10, 18], []]\n",
      "[[], [1, 0, 2, 3], [7, 8, 9], [4, 5], [1, 0, 2, 6, 3]]\n",
      "[[], [0, 1, 2], [3, 4, 5], [13, 14, 15, 16], [], [4, 6, 7]]\n",
      "[[], [0, 1, 2], [3, 5, 6, 9], [4, 7, 8], []]\n",
      "[[], [], [0, 1, 2, 3, 4, 5], [0, 1], [2, 3, 4, 5, 5], [6, 7, 8], [6, 8, 7]]\n",
      "[[], [], [], [0, 1, 3, 2], [6, 5, 7, 4], [6, 0, 2, 8, 9, 5, 1, 3, 4, 7], [25, 24, 23, 22]]\n",
      "[[], [0], [1, 2, 3, 4, 5, 6, 7, 0], [0], [2, 3, 4, 5], [0], [0]]\n",
      "[[], [0, 1, 2, 3, 4, 5, 6], [0, 2, 4, 5, 6], [7, 8, 9, 29, 30]]\n",
      "[[], [0, 1, 3, 2], [0, 1], [2, 1, 0], [4, 5, 7, 8], [6, 9, 10, 11], [20, 21, 22, 23]]\n",
      "[[], [0, 1, 2], [0, 1, 2], [8, 10, 11], [4, 5, 7, 9]]\n",
      "[[], [], [13, 14, 15, 0, 1, 2], [2, 5, 9, 11, 12, 13, 14], [0, 1, 3, 4, 6, 7, 8]]\n",
      "[[], [0, 1, 2, 11, 12, 13], [3, 1, 5, 6, 11], [0, 2, 4, 7]]\n",
      "[[], [], [0], [7, 8], [], [0, 3, 2], [1, 4, 0]]\n",
      "[[], [0, 1, 2, 3, 4, 5, 6, 7, 8, 9, 10, 11], [0, 1, 10, 11], [8, 9, 10], [8, 9, 10, 0, 1, 2, 3, 4]]\n",
      "[[], [], [0, 1, 2, 12, 13, 14], [3, 4, 5], [0, 4, 5, 7, 8, 14], [1, 2, 6, 3], []]\n",
      "[[], [1, 0, 2, 3], [20, 21], [20, 21, 4, 5, 6, 7], [], [1, 0, 2, 4, 5, 6, 8], [3, 7, 9, 10], []]\n",
      "[[], [4, 3, 2, 1, 0], [5, 6, 5], [5, 6], [9, 8], [9, 8, 6], [9, 8, 6]]\n",
      "[[], [0, 1, 2], [12, 13, 14], [0, 13, 9, 6, 1, 2, 3], []]\n",
      "[[], [2, 0, 1], [], [3, 5, 6, 7, 8], [4, 9, 10], [1, 2, 0], [11]]\n",
      "[[], [4, 9], [0, 3, 1, 2], [5, 6, 7, 8, 10, 11], [9, 4, 0, 1, 2]]\n",
      "[[], [0, 1, 2, 3, 4, 5, 6, 7, 8, 9, 10, 11, 12, 13, 14, 15, 16, 17, 19, 18], [], [20, 22, 23, 21], [0, 1, 2, 3], [0, 1], [4, 5, 8, 6, 7, 9, 10]]\n",
      "[[], [0, 1, 2], [0, 2, 3, 9], [0, 2, 3, 9], [1, 5, 4], [8, 7, 6]]\n",
      "[[], [], [], [0, 4, 5, 6, 8], [1, 2, 3, 7]]\n",
      "[[1, 0, 2], [1, 0, 2, 8, 9, 10, 2, 6, 7, 9], [0, 1, 3, 4, 5]]\n",
      "[[], [], [], [0, 1, 2, 3], [5, 6]]\n",
      "[[], [0, 1, 2, 3], [0, 1], [4], [2, 3, 5, 6, 7, 8], []]\n",
      "[[], [0, 1, 2, 3, 9], [0, 1, 2, 3, 4, 9], [5, 6, 7, 8]]\n",
      "[[], [0, 1, 6, 7], [2, 3, 5], [0, 1, 4, 6, 7]]\n",
      "[[], [0, 1, 2, 3, 3], [0, 1, 2, 3, 4, 5], [0, 1, 2, 4, 5], [3, 7, 10, 8, 11]]\n",
      "[[0, 1, 2, 3], [], [0, 3, 4, 5], [1, 2, 6, 8], [21, 20, 22, 23]]\n",
      "[[], [0, 2, 1, 8, 9, 10, 11], [3, 4, 5], [1, 4, 8, 9], [0, 2, 3]]\n",
      "[[], [0, 1, 2], [3, 4, 5], [13, 14, 15, 16], [], [4, 6, 7]]\n",
      "[[], [], [8, 7, 6, 5, 4, 3, 2, 1, 0], [7, 8, 1, 0], [0, 3, 2, 6], [1, 5, 4]]\n",
      "[[], [0, 1, 3, 4, 5, 2, 6, 7, 8], [], [0, 5, 7, 8, 1, 2, 3, 4, 6], [1, 2, 3, 4, 6, 0, 5, 7, 8]]\n",
      "[[], [0, 1, 2, 8, 9, 10], [], [0, 7, 9]]\n",
      "[[], [0, 1, 2, 3], [], [7, 9, 4, 5], [12, 10, 8, 6], [12, 10, 8, 6]]\n",
      "[[], [0, 1, 2, 11, 12, 13], [], [3, 5, 6, 11, 12, 13], [0, 1, 2, 7, 8, 9, 4], []]\n",
      "[[], [], [0, 1, 3, 2], [7, 8, 4, 5, 6], [0, 5, 7, 8], [1, 2, 3, 4, 6], [1, 2, 3]]\n",
      "[[], [0, 1, 2, 3, 4, 5], [6, 7, 8, 9], [2, 4, 5]]\n",
      "[[], [0, 1, 2, 3], [6, 8], [0, 1, 2, 3]]\n",
      "[[], [0, 1, 2, 7, 8], [0, 1, 2, 6], [4, 3, 5, 7, 8]]\n",
      "[[], [], [8, 7, 6, 5, 4, 3, 2, 1, 0], [7, 8, 1, 2, 0], [0, 3, 2, 6], [4, 5, 1]]\n",
      "[[], [0, 1], [2, 3, 4, 5], [5, 10, 12, 6, 8, 9, 7], [13, 14, 12, 15], [13, 15, 12, 14]]\n",
      "[[], [], [20, 21, 22, 1, 0], [2, 6, 7, 5], [1, 4, 5, 7, 9, 10, 18], [0, 2, 3, 6, 11, 8]]\n",
      "[[], [0, 1, 2, 3, 4, 5, 20, 21, 22, 23, 24, 25], [6, 7, 9, 10], [0, 4, 7, 10, 12, 13, 14, 19], [1, 2, 3, 5], [0]]\n",
      "[[], [1, 2, 3, 6], [0, 4, 5, 7], [0, 9, 10, 11]]\n",
      "[[], [0, 1, 2, 3, 4], [0, 1], [2, 3, 4], [8, 7, 10, 5, 6, 9], [20, 21, 22, 23]]\n",
      "[[], [], [0, 1, 2, 3], [11], [0, 2, 1], [6, 9, 10], [3, 4, 5, 7, 8, 11]]\n",
      "[[], [0, 1, 2, 4, 3], [13, 14, 15], [3, 4], [8, 9, 10, 15], [0, 1, 2], []]\n",
      "[[], [], [0, 1, 2], [10, 11], [0, 1, 8, 9, 11], [2, 3, 4, 5]]\n",
      "[[], [0, 1, 2, 3, 2], [5, 8, 6, 7], [9]]\n",
      "[[], [0, 1, 2, 3], [4, 5, 6], [], [20, 21, 22, 23], [0, 1, 2, 3], [4, 5, 7, 9], []]\n",
      "[[], [0, 1, 2, 7, 8, 9], [1, 1, 7, 9], []]\n",
      "[[], [0, 1, 2], [8, 9, 10], [], [0, 7, 9], []]\n",
      "[[], [], [0, 1, 4, 2, 3], [0, 1, 2], [3, 4, 5, 8, 10]]\n",
      "[[], [0, 1, 3, 2, 6, 4, 5, 20, 21, 22, 23], [0, 1, 3, 7, 2], [4, 5, 6, 8]]\n",
      "[[], [0, 1, 2, 3, 5, 4], [4, 5], [], [6, 7, 9, 10, 11], [8, 7, 5, 4]]\n",
      "[[], [0, 1, 2], [3, 4, 6], []]\n",
      "[[], [1, 0, 2, 3, 4, 25, 26, 27, 28, 29], [1, 0, 4, 3, 2, 10, 11], []]\n",
      "[[], [0, 1, 2], [6, 5, 7], [6, 0, 2, 5, 1, 3, 4, 7], [24, 23, 25, 22]]\n",
      "[[], [0, 1], [2, 3, 4, 5], [6, 7], [12, 13, 14, 15]]\n",
      "[[], [0, 2, 1], [3, 5, 6, 7, 8], [4, 9, 10], [0, 2, 1], [11]]\n",
      "[[], [], [0, 1, 2], [6, 8, 12, 14], [0, 1, 2], [15, 17, 18, 19], [3, 4, 5, 7], []]\n",
      "[[], [0], [2, 5], [3, 4], [6, 7, 8, 9, 10], [1, 3, 4, 6, 7, 9]]\n",
      "[[], [1, 3, 6, 7, 0, 2, 5, 4], [0, 9, 10]]\n",
      "[[], [0, 1, 2], [], [8, 9, 11, 13], []]\n",
      "[[], [0, 1, 2], [0, 2, 3, 9], [0, 2, 3, 9], [1, 5, 4, 8, 7, 6]]\n",
      "[[], [], [0, 1, 2, 7, 8], [0, 3, 2], [1, 4, 0], []]\n",
      "[[], [0, 1, 2], [12, 13, 14], [0, 1, 2], [5, 6, 7, 8], [3, 4, 11, 10, 14], []]\n",
      "[[], [7, 6, 5, 4, 3, 2, 1, 0], []]\n",
      "[[], [1, 0, 2, 18, 16, 17, 15, 19], [3, 4, 5], [3], [0, 1], []]\n",
      "[[], [], [0, 1, 2, 15, 14, 16], [0, 4, 3, 5, 6], [1, 9, 8, 12], []]\n",
      "[[], [1, 0, 2, 3, 10, 11, 12], [4, 5, 6, 7, 8, 9], [2, 5, 9, 1, 0, 4, 3]]\n",
      "[[], [], [13, 14, 15, 0, 1, 2], [2, 5, 9, 11, 12, 13, 14], [0, 1, 3, 4, 6, 7, 8]]\n",
      "[[], [], [], [0, 1, 2, 3, 4], [11, 12, 13, 14, 15], [5, 0, 6, 10, 11, 14, 15], [1, 2, 3, 4]]\n",
      "[[], [], [0, 1, 2, 3, 4], [7, 10, 11], [], [5, 6, 8, 9], []]\n",
      "[[], [0, 1, 3, 4, 2, 12, 13, 14, 15], [0, 2, 4, 8, 11, 13, 14, 15], [1, 3, 5, 6, 7]]\n",
      "[[], [0, 1, 2, 3, 4, 10, 7, 8, 9], [3, 8], [0, 1, 2, 4, 5, 6]]\n",
      "[[], [0, 8, 7], [], [0, 3, 2], [1, 7, 8, 4, 0]]\n",
      "[[], [0, 1, 2, 3], [8], [0, 4, 2, 3], [1, 6, 5]]\n",
      "[[], [], [], [0], [1, 2, 3, 4, 5, 6, 7, 8], [1, 3, 4, 6, 9, 11, 7], [2, 5, 12, 10, 8, 0]]\n",
      "[[], [1, 0, 2], [8, 9, 10], [3, 4, 5], [2, 3], [], []]\n",
      "[[], [], [0, 1, 6, 7], [2, 3, 5], [0, 1, 4, 6, 7]]\n",
      "[[], [0, 1, 2, 3], [8, 9], [], [2, 3, 5, 6]]\n",
      "[[], [0, 1], [2, 5, 10, 8], [3, 4], [6, 7, 8, 9, 10], [1, 3, 4, 6, 7, 9]]\n",
      "[[], [5, 6], [], [0, 1, 3, 2, 4]]\n",
      "[[], [0, 1, 2, 3, 4, 5], [0, 1, 2, 4, 3], [0, 1, 2, 3, 4, 5]]\n",
      "[[], [], [2, 0, 1], [0], [1, 2], [3, 4], [7, 8]]\n",
      "[[], [], [0, 1, 2, 7, 8], [3, 4, 5, 6]]\n",
      "[[], [], [0, 1, 2, 3, 4], [7, 6, 8], [2, 3, 4], [5, 0, 1, 6, 7, 8], []]\n",
      "[[], [0, 1, 2], [3, 4, 5, 6, 8], [11, 8, 13, 9], []]\n",
      "[[], [], [0, 1, 2], [1, 0, 2], [13, 14, 15, 16]]\n",
      "[[], [0, 1, 2, 3, 4, 5, 6, 7, 8, 9, 10, 11, 12, 13, 14, 15, 16, 17, 18, 19], [20, 22, 21], [0, 1], [2, 4, 3], [0, 5, 1]]\n",
      "[[], [0, 2, 4, 7], [1, 3, 5], [1, 0, 7, 8]]\n",
      "[[], [0, 1, 2, 4, 5, 3, 0, 1, 2, 4, 5, 3], [6, 7, 13, 15, 17, 14], [7, 8, 10, 11, 12, 9], [20, 21, 24, 25, 22]]\n",
      "[[], [], [0, 1, 2, 3], [9, 10, 11, 12], [8, 4, 10], [0, 1, 2]]\n",
      "[[], [0, 1, 2, 3, 4, 6, 5], [20, 21, 22, 23, 24, 25, 26, 27, 28, 29], [0, 1, 2], []]\n",
      "[[], [], [0, 1, 2, 3], [], [7, 6, 9, 10, 11], [4, 5, 12], []]\n",
      "[[], [0, 1, 2, 3, 4, 6, 5], [7, 8, 9, 11, 10, 12, 13, 14, 15, 16, 17, 18, 19], [20, 21, 22, 23], [5, 8, 17, 18, 19], [0, 1, 2, 3]]\n",
      "[[0, 1, 2, 3], [3, 8, 10], [0, 1, 4, 5, 6, 2], []]\n",
      "[[], [0, 1, 2, 3, 4], [5, 6, 7, 8, 9, 10, 11, 12, 13, 14, 15, 16, 17, 19, 18], [0, 1], [5, 6, 9], [2, 3, 4, 7], [20, 21, 22, 23]]\n",
      "[[], [0, 1, 2, 7, 8, 9, 10], [0, 1, 4, 9, 10], [2, 3, 5]]\n",
      "[[], [0, 1, 2, 7, 8, 9], [1, 1, 7, 9], [2, 0, 3, 4, 5, 8]]\n",
      "[[], [4, 2, 0, 3], [9, 10, 11, 0, 2, 4, 3], [1, 7, 8, 5, 6], [16, 17, 18, 19, 20, 21], [21, 20]]\n",
      "[[], [0, 1, 2, 3], [0, 1], [3], [2], [0, 1, 2], [6, 7, 8], [6, 7, 8]]\n",
      "[[], [6, 7], [1, 2, 3], [0], [4, 5, 7], []]\n",
      "[[], [], [0, 1, 2], [], [16, 17, 18, 19, 3, 4, 5, 6], [3, 4, 5, 7, 8, 6], [0, 1, 2, 12, 14, 17], [19]]\n",
      "[[], [0, 1, 2, 3], [0, 1, 3, 2], [5, 4, 17, 19, 18, 16]]\n",
      "[[], [0, 1, 2, 3], [5, 6, 4], [7, 8, 9, 10, 11, 12, 8, 10]]\n",
      "[[], [], [0, 1, 2, 3], [0, 1, 2], [], [3, 4, 5, 8, 10]]\n",
      "[[], [0, 1, 2], [0, 1, 2], [5, 8, 6, 7], [9]]\n",
      "[[], [0, 1, 2, 7, 8, 9, 10], [0, 1, 4, 9, 10], [2, 3, 5]]\n",
      "[[], [0], [1, 2, 3, 4, 5, 6, 7, 0], [0], [2, 3, 4, 5], [0], [0]]\n",
      "[[], [0, 7, 8, 9], [1, 2, 3, 4, 5, 6, 7, 8, 9, 0], [0, 2, 1, 3, 4, 6, 9]]\n",
      "[[], [1, 0, 2, 8, 9], [], [6, 7, 8], []]\n",
      "[[], [], [], [1, 0, 3, 2], [6, 5]]\n",
      "[[], [0, 1], [6, 7, 2, 3, 4, 5], [1, 4, 5], [0, 2, 3, 6, 7]]\n",
      "[[0, 1, 2, 3], [], [3, 8, 10], [0, 1, 2], []]\n",
      "[[], [0, 1], [2, 3, 4, 5], [2, 5, 8, 10, 17], [0, 1, 3, 4, 6, 7]]\n",
      "[[], [0, 1, 2, 3, 14, 15], [0, 1, 2], [4, 5, 6, 7, 14, 8], [0, 1]]\n",
      "[[], [], [0, 1, 2, 3, 4, 5, 6, 7, 8, 9, 10], [10], [0, 1, 2, 8], [3, 4, 5, 6, 7, 9], [0, 1, 2]]\n",
      "[[], [0, 1, 2, 3, 4, 5], [0, 1, 2], [4, 5, 6, 8], [3, 7, 9, 11, 12], [0, 1, 2], [20, 21]]\n",
      "[[], [], [0, 1, 2, 3], [3, 4, 5, 6, 7, 1], [0, 2, 7, 8], [1, 3, 4]]\n",
      "[[], [], [0, 2, 1, 14, 15], [3, 4, 5, 6, 7], [2, 5, 9, 11, 12, 13, 14], [0, 1, 3, 4, 6, 7, 8]]\n",
      "[[], [], [], [0, 2, 3, 1, 4, 0], [0, 1, 6, 4], [2, 3, 5]]\n",
      "[[], [0, 2, 3, 1], [9, 10, 7], [], [2, 4, 8, 9, 10, 11], [0, 1, 6, 5, 3]]\n",
      "[[], [6, 7, 10, 12], [0, 1, 2, 3]]\n",
      "[[], [0, 1], [0, 4], [2, 3, 4, 5, 2, 3, 4, 5], [6, 7, 8], [8]]\n",
      "[[], [], [1, 0, 2, 15, 16, 17, 18, 19], [3, 4, 5], [3, 1, 0, 2, 3, 4], [0, 1]]\n",
      "[[], [12, 11, 10, 0, 1, 2, 3, 4], [0, 1], [2, 3, 5, 6], [4], [4, 8, 10], [4, 8, 10]]\n",
      "[[], [0], [4], [2, 3, 4, 5], [2, 3, 4, 5], [6, 7, 8]]\n",
      "[[], [0, 1, 2, 0, 1], [2, 5, 6, 7, 3, 4, 1, 0], [9, 8]]\n",
      "[[], [0, 1, 2], [8, 9, 10], [], [0, 7, 9], []]\n",
      "[[], [], [0, 1, 2, 0, 1, 2], [4, 3, 5], [9, 10, 11, 12, 13, 14, 15]]\n",
      "[[], [0], [0], [0], [2, 1, 3], [22, 20, 21, 23, 24, 25, 26, 27, 28, 29]]\n",
      "[[], [0, 1, 2], [0], [1, 2, 3, 4], [7, 8]]\n",
      "[[], [1, 3, 2, 0], [23, 25, 22, 20, 24, 21], [6, 5, 4, 7], [5, 6, 1, 0, 4, 14, 2, 12, 3, 17]]\n",
      "[[], [0, 1, 3, 2, 9, 10, 11], [0, 8, 3, 6, 2, 1, 10], [4, 5, 11, 9, 7], []]\n",
      "[[0, 2, 1, 3], [0, 5, 4, 3], [], [1, 2, 6, 8], [21, 20, 22, 23]]\n",
      "[[], [0, 1, 2, 3, 4, 7, 8], [2, 3, 4, 5], [0, 1, 6], []]\n",
      "[[], [0, 1, 2], [11, 12, 13], [3, 4, 6, 5, 8, 9, 10], [], [6, 7, 10, 12, 0, 1, 2, 3, 4]]\n",
      "[[], [0, 1, 2], [], [8, 9, 11, 13], []]\n",
      "[[], [], [0, 1, 2, 3, 4, 5], [7, 8, 9, 10, 16], [35, 36, 37, 38, 39], [0, 1, 3, 2]]\n",
      "[[], [0, 1], [6, 7, 8], [2, 3, 4, 5], [6, 7, 8]]\n",
      "[[], [], [7, 6, 5, 4, 3, 2, 1, 0], []]\n",
      "[[], [2, 0, 1], [18, 19, 16, 17], [4, 3]]\n",
      "[[], [], [2, 1, 3, 0], [0, 9], [0, 1, 2, 3, 4, 9], [5, 6, 7, 8]]\n",
      "[[], [0, 1, 2, 3], [20, 21, 22, 23, 24, 25], [4, 5, 6, 7], [1, 0, 5, 6, 2, 3, 4, 12, 14, 17]]\n",
      "[[], [], [0, 1, 2, 3], [4, 5], [4, 5]]\n",
      "[[], [], [0, 2, 1, 4, 3], [0, 1, 2, 3, 4], [0, 2, 5, 6, 1, 3, 4, 7], [], []]\n",
      "[[], [0, 1, 2, 3], [0, 1, 3, 5, 6], [2, 4, 7, 8, 9], [35, 36, 37, 38, 39, 33, 34, 32], [0, 1]]\n",
      "[[], [0, 1, 3, 2], [6, 4, 7, 5], [20, 21, 22], [0, 2, 5], [1, 3, 7, 4]]\n",
      "[[], [], [0, 1, 2, 3], [8, 9], [], [0, 3, 4, 6], [1, 7, 5, 2]]\n",
      "[[], [0, 1, 2], [3, 4, 5], [13, 14, 15, 16], [], [4, 6, 7]]\n",
      "[[], [0, 1, 2], [0, 3], [0], [1, 2, 4, 5, 6, 7], [8, 9]]\n",
      "[[], [], [0, 1, 2, 3, 5, 5], [4], []]\n",
      "[[], [], [0], [1, 2, 3, 6], [0], [4, 5, 7, 8, 9, 10, 11]]\n",
      "[[], [0, 1, 2], [10, 11], [3, 4, 5, 6], [4, 9, 10, 0, 1, 2]]\n",
      "[[], [1, 2, 0], [], [3, 4, 6, 7, 5], [20, 21, 22, 23, 28], []]\n",
      "[[], [0, 1], [2, 3, 4, 5, 6, 7, 8, 9, 10, 11, 12, 13, 14, 15, 16, 17, 18, 19], [2, 4, 7, 10, 8]]\n",
      "[[], [], [0], [1, 2, 3, 6], [0], [4, 5, 7, 8, 9, 10, 11], [9, 10, 11]]\n",
      "[[], [], [0, 1, 2, 3, 4, 5, 6], [2, 4, 5, 11, 6], [7, 8, 10, 12, 9], [23, 24, 29, 30, 31, 32]]\n",
      "[[], [], [2, 1, 0], [14, 15, 16, 17, 18], [], [], [0, 2, 4, 1, 3, 7], []]\n",
      "[[], [0, 2, 1], [1], [0, 2], [13, 14, 15, 16]]\n",
      "[[], [0, 1, 2, 4, 5], [3], [6, 8, 9, 10, 11, 12, 7, 13, 15, 17, 14], [20, 21, 22, 24, 25, 23]]\n",
      "[[], [0, 1, 2, 3, 4], [22, 20, 21, 23, 24], [2, 4, 1, 16, 15, 19], [0, 5, 6, 7, 8, 9, 10, 3]]\n",
      "[[], [0, 1, 2, 3, 4, 5, 6, 7, 8, 9, 10, 11, 12], [13, 14, 15, 16, 17, 18, 19], [], [20, 21, 22, 23], [0, 1, 2, 4, 7, 10, 19], []]\n",
      "[[], [1, 3, 6, 7], [0, 2, 5, 4], [0, 9, 10, 0]]\n",
      "[[], [], [0, 2, 4, 6], [10, 13, 16, 18, 17], [1, 3, 5, 7, 8, 9, 11, 12, 14, 15, 19], [20, 21, 22, 24]]\n",
      "[[], [], [1, 0, 2], [11, 12, 13], [3, 6, 11], [0, 1, 2, 4, 3, 6, 11]]\n",
      "[[], [], [0, 1, 2, 5, 3, 4], [0, 1, 2], [0, 1, 2, 4, 5, 6, 8], [3, 7, 9, 11, 12, 0, 1, 2], [20, 21]]\n",
      "[[], [1, 0, 2, 3, 8, 9, 10], [], [0, 1, 8, 10], [2, 3, 4, 5, 6]]\n",
      "[[], [4, 3, 2, 1, 0], [5, 6, 5], [5, 6], [9, 8], [6, 8, 9], [9, 8, 6]]\n",
      "[[], [], [0, 1, 2, 3, 4, 5, 6, 7, 8, 9, 10, 11], [], [4, 6, 5, 8, 11, 10], [0, 1, 2]]\n",
      "[[], [0], [1, 2, 3, 4], [5, 6, 7], [20, 21, 22, 23]]\n",
      "[[], [], [0], [1, 2, 3, 4], [16, 17, 18, 19], [0]]\n",
      "[[], [], [0, 1, 2], [3, 4, 6, 7, 5], [20, 21, 22], []]\n",
      "[[], [0, 1], [], [2, 3, 4], [0, 1], [5], [5]]\n"
     ]
    }
   ],
   "source": [
    "reg = re.compile(r'F\\d+')\n",
    "mentions = [[reg.findall(n)for n in sent_tokenize(l['narration'])] for l in simple_train if l['narrative_questions'][1][:26] == \"Summarise the top features\"]\n",
    "all_fts = [l['feature_nums'] for l in simple_train if l['narrative_questions'][1][:26] == \"Summarise the top features\"]\n",
    "indexes = [[[narr.index(val) if len(sent)>0 else None for val in sent ] for sent in mention] for narr, mention in zip(all_fts, mentions)]\n",
    "rev_indexes = [[[narr[::-1].index(val) if len(sent)>0 else None for val in sent ] for sent in mention] for narr, mention in zip(all_fts, mentions)]\n",
    "\n",
    "mentions2 = [[reg.findall(n)for n in sent_tokenize(l['narration'])] for l in simple_train if l['narrative_questions'][1][:26] != \"Summarise the top features\"]\n",
    "all_fts2 = [l['feature_nums'] for l in simple_train if l['narrative_questions'][1][:26] != \"Summarise the top features\"]\n",
    "indexes2 = [[[narr.index(val) if len(sent)>0 else None for val in sent ] for sent in mention] for narr, mention in zip(all_fts2, mentions2)]\n",
    "\n",
    "for i, r_i in zip(indexes, rev_indexes):\n",
    "    print(i)#, r_i)\n",
    "    # print(r_i)"
   ]
  },
  {
   "cell_type": "code",
   "execution_count": 46,
   "metadata": {},
   "outputs": [
    {
     "data": {
      "text/plain": [
       "7"
      ]
     },
     "execution_count": 46,
     "metadata": {},
     "output_type": "execute_result"
    }
   ],
   "source": [
    "len(mentions[0])"
   ]
  },
  {
   "cell_type": "code",
   "execution_count": 54,
   "metadata": {},
   "outputs": [
    {
     "data": {
      "image/png": "[encoded data removed]",
      "text/plain": [
       "<Figure size 640x480 with 1 Axes>"
      ]
     },
     "metadata": {},
     "output_type": "display_data"
    }
   ],
   "source": [
    "# join mentions[0] into 1 list\n",
    "num_fts = [len(set([item for sublist in mention for item in sublist])) for mention in mentions]\n",
    "\n",
    "# Plot num_fts\n",
    "plt.hist(num_fts, bins=20)\n",
    "plt.show()"
   ]
  },
  {
   "cell_type": "code",
   "execution_count": 79,
   "metadata": {},
   "outputs": [
    {
     "data": {
      "image/png": "[encoded data removed]",
      "text/plain": [
       "<Figure size 2000x1000 with 2 Axes>"
      ]
     },
     "metadata": {},
     "output_type": "display_data"
    }
   ],
   "source": [
    "tf = Counter([item for group in indexes for sublist in group for item in sublist]).most_common()\n",
    "\n",
    "y = [count for tag, count in tf]\n",
    "x = [tag for tag, count in tf]\n",
    "\n",
    "fig, axs = plt.subplots(1, 2, figsize=(20, 10))\n",
    "axs[0].bar(x, y, color='crimson')\n",
    "axs[0].set_title(\"No ft mentions in Q\")\n",
    "axs[0].set_ylabel(\"Frequency number appears in answer\")\n",
    "# axs[0].yscale('log') # optionally set a log scale for the y-axis\n",
    "\n",
    "axs[0].set_xticks(x, rotation=90)\n",
    "for i, (tag, count) in enumerate(tf):\n",
    "    axs[0].text(i, count, f' {count} ', rotation=90,\n",
    "             ha='center', va='top' if i < 10 else 'bottom', color='white' if i < 10 else 'black')\n",
    "axs[0].set_xlim(-0.6, len(x)-0.4) # optionally set tighter x lims\n",
    "\n",
    "tf2 = Counter([item for group in indexes2 for sublist in group for item in sublist]).most_common()\n",
    "y2 = [count for tag, count in tf2]\n",
    "x2 = [tag for tag, count in tf2]\n",
    "\n",
    "axs[1].bar(x2, y2, color='crimson')\n",
    "\n",
    "axs[1].set_title(\"ft mentions in Q\")\n",
    "axs[1].set_ylabel(\"Frequency number appears in answer\")\n",
    "# axs[1].yscale('log') # optionally set a log scale for the y-axis\n",
    "\n",
    "axs[1].set_xticks(x2, rotation=90)\n",
    "for i, (tag, count) in enumerate(tf2):\n",
    "    axs[1].text(i, count, f' {count} ', rotation=90,\n",
    "             ha='center', va='top' if i < 10 else 'bottom', color='white' if i < 10 else 'black')\n",
    "axs[1].set_xlim(-0.6, len(x2)-0.4) # optionally set tighter x lims\n",
    "\n",
    "plt.show()\n"
   ]
  },
  {
   "attachments": {},
   "cell_type": "markdown",
   "metadata": {},
   "source": [
    "### Moderate features"
   ]
  },
  {
   "cell_type": "code",
   "execution_count": 49,
   "metadata": {},
   "outputs": [
    {
     "name": "stdout",
     "output_type": "stream",
     "text": [
      "[5, 6, 7] [10, 9, 8]\n",
      "[2, 3, 4, 5] [17, 16, 15, 14]\n",
      "[] []\n",
      "[2, 3, 4, 5] [9, 8, 7, 6]\n",
      "[5, 6, 7] [4, 3, 2]\n",
      "[6, 7, 8] [12, 11, 10]\n",
      "[6, 7, 8] [19, 18, 17]\n",
      "[3, 4, 5] [16, 15, 14]\n",
      "[2, 3, 4, 5] [9, 8, 7, 6]\n",
      "[13, 1, 24, 6] [12, 24, 1, 19]\n",
      "[4, 5, 6] [88, 87, 86]\n",
      "[2, 3, 4, 5] [9, 8, 7, 6]\n",
      "[3, 4, 5] [8, 7, 6]\n",
      "[2, 3, 4, 5] [8, 7, 6, 5]\n",
      "[2, 3, 4, 5] [7, 6, 5, 4]\n",
      "[2, 3, 4, 5] [4, 3, 2, 1]\n",
      "[2, 3, 4, 5] [43, 42, 41, 40]\n",
      "[7, 8, 9] [12, 11, 10]\n",
      "[2, 3, 4, 5] [14, 13, 12, 11]\n",
      "[8, 9] [1, 0]\n",
      "[6, 7, 8] [2, 1, 0]\n",
      "[6] [0]\n",
      "[3, 4, 5] [16, 15, 14]\n",
      "[4, 5, 6] [41, 40, 39]\n",
      "[6, 7, 8] [2, 1, 0]\n",
      "[2, 3, 4, 5] [6, 5, 4, 3]\n",
      "[8, 9, 10] [3, 2, 1]\n",
      "[2, 3, 4, 5] [27, 26, 25, 24]\n",
      "[2, 3, 4, 5] [23, 22, 21, 20]\n",
      "[7, 8, 9] [4, 3, 2]\n",
      "[3, 4, 5] [16, 15, 14]\n",
      "[5, 6, 7] [32, 31, 30]\n",
      "[4, 5, 6] [6, 5, 4]\n",
      "[6, 7, 8, 9] [23, 22, 21, 20]\n",
      "[2, 3, 4, 5] [9, 8, 7, 6]\n",
      "[6, 7, 8] [2, 1, 0]\n",
      "[6, 7, 8, 9] [31, 30, 29, 28]\n",
      "[5, 6, 7] [3, 2, 1]\n",
      "[5, 6, 7] [24, 23, 22]\n",
      "[5, 6, 7] [3, 2, 1]\n",
      "[8, 9, 10] [24, 23, 22]\n",
      "[2, 3, 4, 5] [14, 13, 12, 11]\n",
      "[6, 7, 8, 9] [5, 4, 3, 2]\n",
      "[7, 8, 9] [9, 8, 7]\n",
      "[2, 3, 4, 5] [16, 15, 14, 13]\n",
      "[5, 6, 7] [14, 13, 12]\n",
      "[4, 5, 6] [4, 3, 2]\n",
      "[6, 7, 8, 9] [13, 12, 11, 10]\n",
      "[3, 4, 5] [5, 4, 3]\n",
      "[5, 6, 7] [10, 9, 8]\n",
      "[5, 6, 7] [13, 12, 11]\n",
      "[6, 7, 8] [3, 2, 1]\n",
      "[3, 4, 5] [5, 4, 3]\n",
      "[5, 6, 7] [6, 5, 4]\n",
      "[3, 4, 5] [15, 14, 13]\n",
      "[6, 7, 8] [19, 18, 17]\n",
      "[8, 9, 10] [2, 1, 0]\n",
      "[5, 6, 7] [8, 7, 6]\n",
      "[2, 3, 4, 5] [3, 2, 1, 0]\n",
      "[3, 4, 5] [16, 15, 14]\n",
      "[5, 6, 7] [27, 26, 25]\n",
      "[5, 6, 7] [32, 31, 30]\n",
      "[3, 4, 5] [11, 10, 9]\n",
      "[5, 6, 7] [4, 3, 2]\n",
      "[2, 3, 4, 5] [43, 42, 41, 40]\n",
      "[2, 3, 4, 5] [11, 10, 9, 8]\n",
      "[4, 5, 6] [6, 5, 4]\n",
      "[4, 5, 6] [6, 5, 4]\n",
      "[6, 7, 8, 9] [5, 4, 3, 2]\n",
      "[5, 6, 7] [20, 19, 18]\n",
      "[6, 7, 8, 9] [5, 4, 3, 2]\n",
      "[4, 5, 6] [88, 87, 86]\n",
      "[2, 3, 4, 5] [39, 38, 37, 36]\n",
      "[8, 9] [1, 0]\n",
      "[3, 4, 5] [15, 14, 13]\n",
      "[5, 6, 7] [4, 3, 2]\n",
      "[6, 7, 8] [2, 1, 0]\n",
      "[4, 5, 6] [28, 27, 26]\n",
      "[2, 3, 4, 5] [39, 38, 37, 36]\n",
      "[6, 7, 8, 9] [31, 30, 29, 28]\n",
      "[6, 7, 8] [19, 18, 17]\n",
      "[8, 9, 10] [3, 2, 1]\n",
      "[2, 3, 4, 5] [23, 22, 21, 20]\n",
      "[2, 3, 4, 5] [12, 11, 10, 9]\n",
      "[6, 7, 8] [26, 25, 24]\n",
      "[5, 6, 7] [5, 4, 3]\n",
      "[6, 7, 8] [5, 4, 3]\n",
      "[5, 6, 7] [32, 31, 30]\n",
      "[6, 7, 8, 9] [5, 4, 3, 2]\n",
      "[2, 3, 4, 5] [9, 8, 7, 6]\n",
      "[2, 3, 4, 5] [19, 18, 17, 16]\n",
      "[6, 7, 8] [2, 1, 0]\n",
      "[5, 6, 7] [32, 31, 30]\n",
      "[7, 8, 9] [85, 84, 83]\n",
      "[3, 4, 5] [4, 3, 2]\n",
      "[6, 7, 8, 9] [23, 22, 21, 20]\n",
      "[2, 3, 4, 5] [90, 89, 88, 87]\n",
      "[5, 6, 7] [40, 39, 38]\n",
      "[2, 3, 4, 5] [27, 26, 25, 24]\n",
      "[2, 3, 4, 5] [27, 26, 25, 24]\n",
      "[2, 3, 4, 5] [9, 8, 7, 6]\n",
      "[3, 4, 5] [10, 9, 8]\n",
      "[7, 8, 9] [22, 21, 20]\n",
      "[2, 3, 4, 5] [27, 26, 25, 24]\n",
      "[6, 7, 8, 9] [3, 2, 1, 0]\n",
      "[6, 7, 8, 9] [10, 9, 8, 7]\n",
      "[6, 7, 8] [5, 4, 3]\n",
      "[5, 6, 7] [20, 19, 18]\n",
      "[5, 6, 7] [8, 7, 6]\n",
      "[2, 3, 4, 5] [7, 6, 5, 4]\n",
      "[7, 8, 9] [25, 24, 23]\n",
      "[5, 6, 7] [20, 19, 18]\n",
      "[5, 6] [1, 0]\n",
      "[5, 6, 7] [10, 9, 8]\n",
      "[4, 5, 6] [7, 6, 5]\n",
      "[3, 4, 5] [10, 9, 8]\n",
      "[4, 5, 6] [6, 5, 4]\n",
      "[8] [0]\n",
      "[2, 3, 4, 5] [9, 8, 7, 6]\n",
      "[6, 7, 8] [8, 7, 6]\n",
      "[6, 7, 8, 9] [15, 14, 13, 12]\n",
      "[5, 6, 7] [4, 3, 2]\n",
      "[2, 3, 4, 5] [4, 3, 2, 1]\n",
      "[3, 4, 5] [11, 10, 9]\n",
      "[2, 3, 4, 5] [9, 8, 7, 6]\n",
      "[2, 3, 4, 5] [9, 8, 7, 6]\n",
      "[2, 3, 4, 5] [27, 26, 25, 24]\n",
      "[2, 3, 4, 5] [39, 38, 37, 36]\n",
      "[2, 3, 4, 5] [7, 6, 5, 4]\n",
      "[6, 7, 8] [2, 1, 0]\n",
      "[6, 7, 8, 9] [4, 3, 2, 1]\n",
      "[2, 3, 4, 5] [6, 5, 4, 3]\n",
      "[2, 3, 4, 5] [9, 8, 7, 6]\n",
      "[6] [0]\n",
      "[6, 7, 8] [2, 1, 0]\n",
      "[5, 6, 7] [6, 5, 4]\n",
      "[6, 7] [1, 0]\n",
      "[2, 3, 4, 5] [12, 11, 10, 9]\n",
      "[2, 3, 4, 5] [9, 8, 7, 6]\n",
      "[6, 7, 8] [39, 38, 37]\n",
      "[6, 7, 8] [5, 4, 3]\n",
      "[6, 7, 8, 9] [10, 9, 8, 7]\n",
      "[5, 6, 7] [3, 2, 1]\n",
      "[3, 4, 5] [5, 4, 3]\n",
      "[3, 4, 5] [10, 9, 8]\n",
      "[3, 4, 5] [38, 37, 36]\n",
      "[2, 3, 4, 5] [11, 10, 9, 8]\n",
      "[3, 4, 5] [5, 4, 3]\n",
      "[6, 7, 8] [3, 2, 1]\n",
      "[2, 3, 4, 5] [9, 8, 7, 6]\n",
      "[3, 4, 5] [5, 4, 3]\n",
      "[5, 6, 7] [3, 2, 1]\n",
      "[5, 6, 7] [3, 2, 1]\n",
      "[3, 4, 5] [16, 15, 14]\n",
      "[5, 6, 7] [10, 9, 8]\n",
      "[2, 3, 4, 5] [7, 6, 5, 4]\n",
      "[8, 9, 10] [17, 16, 15]\n",
      "[6, 7, 8] [19, 18, 17]\n",
      "[7, 8, 9] [4, 3, 2]\n",
      "[7, 8, 9] [4, 3, 2]\n",
      "[2, 3, 4, 5] [5, 4, 3, 2]\n",
      "[4, 5, 6] [4, 3, 2]\n",
      "[6, 7, 8, 9] [9, 8, 7, 6]\n",
      "[6, 7, 8] [5, 4, 3]\n",
      "[5, 6, 7] [4, 3, 2]\n",
      "[2, 3, 4, 5] [30, 29, 28, 27]\n",
      "[2, 3, 4, 5] [43, 42, 41, 40]\n",
      "[2, 3, 4, 5] [5, 4, 3, 2]\n",
      "[2, 3, 4, 5] [39, 38, 37, 36]\n",
      "[2, 3, 4, 5] [12, 11, 10, 9]\n",
      "[4, 5, 6] [88, 87, 86]\n",
      "[7, 8, 9] [3, 2, 1]\n",
      "[4, 5, 6] [28, 27, 26]\n",
      "[2, 3, 4, 5] [10, 9, 8, 7]\n",
      "[4, 5, 6] [7, 6, 5]\n",
      "[2, 3, 4, 5] [4, 3, 2, 1]\n",
      "[6, 7, 8, 9] [23, 22, 21, 20]\n",
      "[5, 6, 7] [20, 19, 18]\n",
      "[3, 4, 5] [2, 1, 0]\n",
      "[5, 6, 7] [10, 9, 8]\n",
      "[2, 3, 4, 5] [9, 8, 7, 6]\n",
      "[3, 4, 5] [3, 2, 1]\n",
      "[3, 4, 5] [13, 12, 11]\n",
      "[5, 6, 7] [8, 7, 6]\n",
      "[3, 4, 5] [16, 15, 14]\n",
      "[2, 3, 4, 5] [8, 7, 6, 5]\n",
      "[8, 9, 10] [2, 1, 0]\n",
      "[4, 5, 6] [6, 5, 4]\n",
      "[3, 4, 5] [10, 9, 8]\n",
      "[2, 3, 4, 5] [7, 6, 5, 4]\n",
      "[4, 5, 6] [6, 5, 4]\n",
      "[2, 3, 4, 5] [9, 8, 7, 6]\n",
      "[8] [0]\n",
      "[8, 9, 10] [6, 5, 4]\n",
      "[2, 3, 4, 5] [9, 8, 7, 6]\n",
      "[3, 4, 5] [15, 14, 13]\n",
      "[7] [0]\n",
      "[2, 3, 4, 5] [17, 16, 15, 14]\n",
      "[3, 4, 5] [16, 15, 14]\n",
      "[5, 6, 7] [11, 10, 9]\n",
      "[3, 4, 5] [15, 14, 13]\n",
      "[2, 3, 4, 5] [9, 8, 7, 6]\n",
      "[2, 3, 4, 5] [10, 9, 8, 7]\n",
      "[5, 6, 7] [10, 9, 8]\n",
      "[6, 7, 8, 9] [9, 8, 7, 6]\n",
      "[2, 3, 4, 5] [9, 8, 7, 6]\n",
      "[6, 7, 8] [9, 8, 7]\n",
      "[2, 3, 4, 5] [8, 7, 6, 5]\n",
      "[5, 6, 7] [13, 12, 11]\n",
      "[8] [0]\n",
      "[2, 3, 4, 5] [17, 16, 15, 14]\n",
      "[2, 3, 4, 5] [6, 5, 4, 3]\n",
      "[4, 5, 6] [10, 9, 8]\n",
      "[2, 3, 4, 5] [13, 12, 11, 10]\n",
      "[8, 9, 10] [24, 23, 22]\n",
      "[3, 4, 5] [7, 6, 5]\n",
      "[2, 3, 4, 5] [43, 42, 41, 40]\n",
      "[4, 5, 6] [11, 10, 9]\n",
      "[6, 7] [1, 0]\n",
      "[2, 3, 4, 5] [39, 38, 37, 36]\n",
      "[4, 5, 6] [7, 6, 5]\n",
      "[6, 7, 8, 9] [3, 2, 1, 0]\n",
      "[2, 3, 4, 5] [8, 7, 6, 5]\n",
      "[4, 5, 6] [2, 1, 0]\n",
      "[5, 6, 7] [3, 2, 1]\n",
      "[] []\n",
      "[3, 4, 5] [5, 4, 3]\n",
      "[3, 4, 5] [5, 4, 3]\n",
      "[3, 4, 5] [10, 9, 8]\n",
      "[3, 4, 5] [4, 3, 2]\n",
      "[2, 3, 4, 5] [14, 13, 12, 11]\n",
      "[6, 7, 8, 9] [31, 30, 29, 28]\n",
      "[2, 3, 4, 5] [6, 5, 4, 3]\n",
      "[5, 6, 7] [40, 39, 38]\n",
      "[7, 8, 9] [85, 84, 83]\n",
      "[6, 7, 8, 9] [6, 5, 4, 3]\n",
      "[6, 7, 8] [23, 22, 21]\n",
      "[2, 3, 4, 5] [10, 9, 8, 7]\n",
      "[2, 3, 4, 5] [6, 5, 4, 3]\n",
      "[3, 4, 5] [9, 8, 7]\n",
      "[5, 6, 7] [9, 8, 7]\n",
      "[4, 5, 6] [7, 6, 5]\n",
      "[4, 5, 6] [6, 5, 4]\n",
      "[4, 5, 6] [88, 87, 86]\n",
      "[2, 3, 4, 5] [8, 7, 6, 5]\n",
      "[5, 6, 7] [14, 13, 12]\n",
      "[8, 9, 10] [2, 1, 0]\n",
      "[4, 5, 6] [3, 2, 1]\n",
      "[2, 3, 4, 5] [19, 18, 17, 16]\n",
      "[2, 3, 4, 5] [7, 6, 5, 4]\n",
      "[6, 7, 8] [13, 12, 11]\n",
      "[5, 6, 7] [2, 1, 0]\n",
      "[4, 5, 6] [15, 14, 13]\n",
      "[2, 3, 4, 5] [9, 8, 7, 6]\n",
      "[3, 4, 5] [16, 15, 14]\n",
      "[4, 5, 6] [8, 7, 6]\n",
      "[7, 8, 9] [3, 2, 1]\n",
      "[5, 6, 7] [4, 3, 2]\n",
      "[8, 9, 10] [2, 1, 0]\n",
      "[2, 3, 4, 5] [10, 9, 8, 7]\n",
      "[2, 3, 4, 5] [7, 6, 5, 4]\n",
      "[7, 8, 9] [2, 1, 0]\n",
      "[8, 9] [1, 0]\n",
      "[6] [0]\n",
      "[2, 3, 4, 5] [5, 4, 3, 2]\n",
      "[2, 3, 4, 5] [8, 7, 6, 5]\n",
      "[3, 4, 5] [29, 28, 27]\n",
      "[6, 7, 8] [12, 11, 10]\n",
      "[5, 6, 7] [10, 9, 8]\n",
      "[2, 3, 4, 5] [9, 8, 7, 6]\n",
      "[2, 3, 4, 5] [9, 8, 7, 6]\n",
      "[2, 3, 4, 5] [39, 38, 37, 36]\n",
      "[2, 3, 4, 5] [8, 7, 6, 5]\n",
      "[3, 4, 5] [18, 17, 16]\n",
      "[5, 6, 7] [3, 2, 1]\n",
      "[4, 5, 6] [4, 3, 2]\n",
      "[5, 6, 7] [10, 9, 8]\n",
      "[3, 4, 5] [38, 37, 36]\n",
      "[3, 4, 5] [8, 7, 6]\n",
      "[3, 4, 5] [16, 15, 14]\n",
      "[6, 7, 8] [5, 4, 3]\n",
      "[2, 3, 4, 5] [6, 5, 4, 3]\n",
      "[2, 3, 4, 5] [17, 16, 15, 14]\n",
      "[4, 5, 6] [8, 7, 6]\n",
      "[2, 3, 4, 5] [6, 5, 4, 3]\n",
      "[3, 4, 5] [42, 41, 40]\n",
      "[5, 6, 7] [4, 3, 2]\n",
      "[2, 3, 4, 5] [17, 16, 15, 14]\n",
      "[6, 7, 8, 9] [23, 22, 21, 20]\n",
      "[5, 6, 7] [9, 8, 7]\n",
      "[2, 3, 4, 5] [3, 2, 1, 0]\n",
      "[2, 3, 4, 5] [23, 22, 21, 20]\n",
      "[3, 4, 5] [8, 7, 6]\n",
      "[6, 7, 8] [39, 38, 37]\n",
      "[2, 3, 4, 5] [3, 2, 1, 0]\n",
      "[2, 3, 4, 5] [6, 5, 4, 3]\n",
      "[4, 5, 6] [8, 7, 6]\n",
      "[2, 3, 4, 5] [6, 5, 4, 3]\n",
      "[3, 4, 5] [10, 9, 8]\n",
      "[6, 7, 8, 9] [35, 34, 33, 32]\n",
      "[3, 4, 5] [5, 4, 3]\n",
      "[7] [0]\n",
      "[3, 4, 5] [2, 1, 0]\n",
      "[7, 8, 9] [12, 11, 10]\n",
      "[2, 3, 4, 5] [11, 10, 9, 8]\n",
      "[2, 3, 4, 5] [27, 26, 25, 24]\n",
      "[2, 3, 4, 5] [23, 22, 21, 20]\n",
      "[2, 3, 4, 5] [3, 2, 1, 0]\n",
      "[4, 5, 6] [33, 32, 31]\n",
      "[6, 7, 8, 9] [13, 12, 11, 10]\n",
      "[5, 6, 7] [40, 39, 38]\n",
      "[5, 6, 7] [20, 19, 18]\n",
      "[8, 9] [1, 0]\n",
      "[6, 7, 8, 9] [10, 9, 8, 7]\n",
      "[] []\n",
      "[4, 5, 6] [9, 8, 7]\n",
      "[3, 4, 5] [8, 7, 6]\n",
      "[4, 5, 6] [41, 40, 39]\n",
      "[2, 3, 4, 5] [9, 8, 7, 6]\n",
      "[6, 7, 8, 9] [5, 4, 3, 2]\n",
      "[3, 4, 5] [7, 6, 5]\n",
      "[3, 4, 5] [26, 25, 24]\n",
      "[3, 4, 5] [16, 15, 14]\n",
      "[5, 6, 7] [40, 39, 38]\n",
      "[2, 3, 4, 5] [9, 8, 7, 6]\n",
      "[7, 8, 9] [25, 24, 23]\n",
      "[2, 3, 4, 5] [9, 8, 7, 6]\n",
      "[2, 3, 4, 5] [8, 7, 6, 5]\n",
      "[2, 3, 4, 5] [10, 9, 8, 7]\n",
      "[2, 3, 4, 5] [13, 12, 11, 10]\n",
      "[4, 5, 6] [3, 2, 1]\n",
      "[4, 5, 6] [14, 13, 12]\n",
      "[2, 3, 4, 5] [14, 13, 12, 11]\n",
      "[4, 5, 6] [8, 7, 6]\n",
      "[2, 3, 4, 5] [8, 7, 6, 5]\n",
      "[7, 8, 9] [85, 84, 83]\n",
      "[2, 3, 4, 5] [6, 5, 4, 3]\n",
      "[6, 7, 8, 9] [23, 22, 21, 20]\n",
      "[7, 8, 9] [22, 21, 20]\n",
      "[3, 4, 5] [16, 15, 14]\n",
      "[8, 9, 10] [2, 1, 0]\n",
      "[5, 6, 7] [3, 2, 1]\n",
      "[5, 6, 7] [6, 5, 4]\n",
      "[2, 3, 4, 5] [4, 3, 2, 1]\n",
      "[3, 4, 5] [10, 9, 8]\n",
      "[4, 5, 6] [41, 40, 39]\n",
      "[3, 4, 5] [18, 17, 16]\n",
      "[6, 7, 8] [4, 3, 2]\n",
      "[5, 6, 7] [4, 3, 2]\n",
      "[3, 4, 5] [5, 4, 3]\n",
      "[2, 3, 4, 5] [9, 8, 7, 6]\n",
      "[6, 7, 8] [26, 25, 24]\n",
      "[4, 5, 6] [15, 14, 13]\n",
      "[3, 4, 5] [26, 25, 24]\n",
      "[2, 3, 4, 5] [3, 2, 1, 0]\n"
     ]
    }
   ],
   "source": [
    "reg = re.compile(r'F\\d+')\n",
    "mentions = [[reg.findall(n)for n in l['narrative_questions']][2] for l in simple_train if l['narrative_questions'][2][:33] == \"Summarise these moderate features\"]\n",
    "all_fts = [l['feature_nums'] for l in simple_train if l['narrative_questions'][2][:33] == \"Summarise these moderate features\"]\n",
    "indexes = [[narr.index(val) for val in mention] for narr, mention in zip(all_fts, mentions)]\n",
    "\n",
    "rev_indexes = [[narr[::-1].index(val) for val in mention] for narr, mention in zip(all_fts, mentions)]\n",
    "\n",
    "for i, r_i in zip(indexes, rev_indexes):\n",
    "    print(i, r_i)"
   ]
  },
  {
   "cell_type": "code",
   "execution_count": 50,
   "metadata": {},
   "outputs": [
    {
     "data": {
      "text/plain": [
       "[(5, 255),\n",
       " (4, 200),\n",
       " (3, 163),\n",
       " (6, 153),\n",
       " (7, 129),\n",
       " (2, 109),\n",
       " (8, 89),\n",
       " (9, 57),\n",
       " (10, 11),\n",
       " (13, 1),\n",
       " (1, 1),\n",
       " (24, 1)]"
      ]
     },
     "execution_count": 50,
     "metadata": {},
     "output_type": "execute_result"
    }
   ],
   "source": [
    "Counter([item for sublist in indexes for item in sublist]).most_common()"
   ]
  },
  {
   "attachments": {},
   "cell_type": "markdown",
   "metadata": {},
   "source": [
    "### Negligible features"
   ]
  },
  {
   "cell_type": "code",
   "execution_count": 51,
   "metadata": {},
   "outputs": [
    {
     "name": "stdout",
     "output_type": "stream",
     "text": [
      "[6, 7, 8, 9] [3, 2, 1, 0]\n",
      "[6] [0]\n",
      "[6, 7, 8, 9] [13, 12, 11, 10]\n",
      "[7, 8, 9] [3, 2, 1]\n",
      "[8] [0]\n",
      "[7, 8] [1, 0]\n",
      "[6, 7, 8] [2, 1, 0]\n",
      "[8, 9, 10] [5, 4, 3]\n",
      "[8, 9, 10] [24, 23, 22]\n",
      "[7, 8, 9] [3, 2, 1]\n",
      "[7, 8, 9] [3, 2, 1]\n",
      "[6, 7, 8, 9] [35, 34, 33, 32]\n",
      "[6, 7, 8, 9] [35, 34, 33, 32]\n",
      "[6, 7, 8, 9] [8, 7, 6, 5]\n",
      "[8, 9, 10] [37, 36, 35]\n",
      "[6, 7, 8] [23, 22, 21]\n",
      "[6, 7, 8, 9] [23, 22, 21, 20]\n",
      "[8, 9, 10] [5, 4, 3]\n",
      "[7, 8, 9] [3, 2, 1]\n",
      "[6] [0]\n",
      "[6, 7, 8] [35, 34, 33]\n",
      "[6, 7, 8] [2, 1, 0]\n",
      "[6, 7, 8, 9] [5, 4, 3, 2]\n",
      "[8, 9, 10] [3, 2, 1]\n",
      "[6, 7, 8, 9] [8, 7, 6, 5]\n",
      "[6, 7, 8, 9] [35, 34, 33, 32]\n",
      "[6, 7, 8, 9] [13, 12, 11, 10]\n",
      "[6, 7, 8, 9] [3, 2, 1, 0]\n",
      "[6, 7] [1, 0]\n",
      "[7, 8] [1, 0]\n",
      "[6, 7] [1, 0]\n",
      "[6, 7, 8, 9] [35, 34, 33, 32]\n",
      "[6, 7, 8, 9] [8, 7, 6, 5]\n",
      "[7, 8, 9] [85, 84, 83]\n",
      "[6] [0]\n",
      "[] []\n",
      "[6] [0]\n",
      "[6, 7, 8, 9] [10, 9, 8, 7]\n",
      "[8, 9, 10] [5, 4, 3]\n",
      "[7, 8, 9] [3, 2, 1]\n",
      "[7, 8, 9] [3, 2, 1]\n",
      "[6, 7, 8, 9] [12, 11, 10, 9]\n",
      "[6, 7, 8, 9] [13, 12, 11, 10]\n",
      "[7, 8, 9] [7, 6, 5]\n",
      "[7, 8, 9] [8, 7, 6]\n",
      "[6, 7, 8] [35, 34, 33]\n",
      "[7, 8, 9] [4, 3, 2]\n",
      "[8] [0]\n",
      "[8, 9, 10] [37, 36, 35]\n",
      "[6, 7, 8] [6, 5, 4]\n",
      "[8, 9, 10] [6, 5, 4]\n",
      "[7, 8, 9] [4, 3, 2]\n",
      "[7, 8, 9] [3, 2, 1]\n",
      "[8, 9, 10] [11, 10, 9]\n",
      "[7] [0]\n",
      "[6, 7, 8, 9] [3, 2, 1, 0]\n",
      "[6, 7, 8] [5, 4, 3]\n",
      "[6, 7, 8] [6, 5, 4]\n",
      "[6, 7, 8] [5, 4, 3]\n",
      "[6, 7, 8, 9] [5, 4, 3, 2]\n",
      "[6, 7, 8] [35, 34, 33]\n",
      "[8] [0]\n",
      "[6, 7, 8, 9] [35, 34, 33, 32]\n",
      "[6, 7, 8, 9] [5, 4, 3, 2]\n",
      "[6, 7, 8, 9] [39, 38, 37, 36]\n",
      "[8, 9, 10] [6, 5, 4]\n",
      "[] []\n",
      "[] []\n",
      "[7, 8, 9] [5, 4, 3]\n",
      "[6, 7, 8] [2, 1, 0]\n",
      "[] []\n",
      "[6, 7, 8] [7, 6, 5]\n",
      "[6, 7, 8, 9] [13, 12, 11, 10]\n",
      "[6, 7, 8, 9] [5, 4, 3, 2]\n",
      "[6, 7, 8] [4, 3, 2]\n",
      "[6, 7, 8] [6, 5, 4]\n",
      "[6, 7, 8, 9] [9, 8, 7, 6]\n",
      "[7] [0]\n",
      "[7, 8, 9] [5, 4, 3]\n",
      "[6, 7, 8] [4, 3, 2]\n",
      "[6, 7, 8] [2, 1, 0]\n",
      "[6, 7, 8, 9] [13, 12, 11, 10]\n",
      "[8] [0]\n",
      "[8, 9, 10] [3, 2, 1]\n",
      "[6] [0]\n",
      "[6, 7, 8] [2, 1, 0]\n"
     ]
    }
   ],
   "source": [
    "reg = re.compile(r'F\\d+')\n",
    "mentions = [[reg.findall(n)for n in l['narrative_questions']][-1] for l in simple_train if l['narrative_questions'][3][:35] == \"Summarise these negligible features\"]\n",
    "all_fts = [l['feature_nums'] for l in simple_train if l['narrative_questions'][3][:35] == \"Summarise these negligible features\"]\n",
    "indexes = [[narr.index(val) for val in mention] for narr, mention in zip(all_fts, mentions)]\n",
    "\n",
    "rev_indexes = [[narr[::-1].index(val) for val in mention] for narr, mention in zip(all_fts, mentions)]\n",
    "\n",
    "for i, r_i in zip(indexes, rev_indexes):\n",
    "    print(i, r_i)"
   ]
  },
  {
   "cell_type": "code",
   "execution_count": 52,
   "metadata": {},
   "outputs": [
    {
     "data": {
      "text/plain": [
       "[(8, 73), (7, 62), (9, 50), (6, 49), (10, 11)]"
      ]
     },
     "execution_count": 52,
     "metadata": {},
     "output_type": "execute_result"
    }
   ],
   "source": [
    "Counter([item for sublist in indexes for item in sublist]).most_common()"
   ]
  },
  {
   "cell_type": "code",
   "execution_count": 84,
   "metadata": {},
   "outputs": [
    {
     "data": {
      "text/plain": [
       "[10,\n",
       " 17,\n",
       " 25,\n",
       " 66,\n",
       " 73,\n",
       " 95,\n",
       " 99,\n",
       " 100,\n",
       " 145,\n",
       " 174,\n",
       " 180,\n",
       " 226,\n",
       " 244,\n",
       " 245,\n",
       " 254,\n",
       " 299,\n",
       " 309,\n",
       " 328,\n",
       " 336,\n",
       " 342,\n",
       " 354,\n",
       " 365]"
      ]
     },
     "execution_count": 84,
     "metadata": {},
     "output_type": "execute_result"
    }
   ],
   "source": [
    "[i for i, fts in enumerate(train['feature_nums']) if len(fts) >45 ]"
   ]
  },
  {
   "attachments": {},
   "cell_type": "markdown",
   "metadata": {},
   "source": [
    "## Inputs getting cut off"
   ]
  },
  {
   "cell_type": "code",
   "execution_count": 122,
   "metadata": {},
   "outputs": [
    {
     "name": "stdout",
     "output_type": "stream",
     "text": [
      "essel 30 t5-base 400\n"
     ]
    },
    {
     "name": "stderr",
     "output_type": "stream",
     "text": [
      "/home/james/CodingProjects/Local_level_model_explanations/env/lib/python3.10/site-packages/transformers/models/t5/tokenization_t5_fast.py:155: FutureWarning: This tokenizer was incorrectly instantiated with a model max length of 512 which will be corrected in Transformers v5.\n",
      "For now, this behavior is kept to avoid breaking backwards compatibility when padding/encoding with `truncation is True`.\n",
      "- Be aware that you SHOULD NOT rely on t5-base automatically truncating your input to 512 when padding/encoding.\n",
      "- If you want to encode/pad to sequences longer than 512 you can either instantiate this tokenizer with `model_max_length` or pass `max_length` when encoding/padding.\n",
      "- To avoid this warning, please instantiate this tokenizer with `model_max_length` set to your preferred value.\n",
      "  warnings.warn(\n",
      "Using custom data configuration james-burton--textual-explanations-19ff8605823ae74a\n",
      "Found cached dataset parquet (/home/james/.cache/huggingface/datasets/james-burton___parquet/james-burton--textual-explanations-19ff8605823ae74a/0.0.0/2a3b91fbd88a2c90d1dbbb32b460cf621d31bd5b05b934492fdef7d8d6f236ec)\n",
      "100%|██████████| 3/3 [00:00<00:00, 730.25it/s]\n",
      "100%|██████████| 375/375 [00:00<00:00, 7707.10ex/s]\n",
      "100%|██████████| 47/47 [00:00<00:00, 6548.38ex/s]\n",
      "100%|██████████| 47/47 [00:00<00:00, 6039.78ex/s]\n",
      "100%|██████████| 375/375 [00:00<00:00, 2264.43ex/s]\n",
      "100%|██████████| 47/47 [00:00<00:00, 2310.72ex/s]\n",
      "100%|██████████| 47/47 [00:00<00:00, 2304.10ex/s]\n",
      "100%|██████████| 1/1 [00:00<00:00,  9.68ba/s]\n",
      "100%|██████████| 1/1 [00:00<00:00, 61.00ba/s]\n",
      "100%|██████████| 1/1 [00:00<00:00, 60.86ba/s]\n"
     ]
    },
    {
     "name": "stdout",
     "output_type": "stream",
     "text": [
      "43\n",
      "essel 30 facebook/bart-base 400\n"
     ]
    },
    {
     "name": "stderr",
     "output_type": "stream",
     "text": [
      "Using custom data configuration james-burton--textual-explanations-19ff8605823ae74a\n",
      "Found cached dataset parquet (/home/james/.cache/huggingface/datasets/james-burton___parquet/james-burton--textual-explanations-19ff8605823ae74a/0.0.0/2a3b91fbd88a2c90d1dbbb32b460cf621d31bd5b05b934492fdef7d8d6f236ec)\n",
      "100%|██████████| 3/3 [00:00<00:00, 418.72it/s]\n",
      "100%|██████████| 375/375 [00:00<00:00, 7192.96ex/s]\n",
      "100%|██████████| 47/47 [00:00<00:00, 6632.98ex/s]\n",
      "100%|██████████| 47/47 [00:00<00:00, 6852.72ex/s]\n",
      "100%|██████████| 375/375 [00:00<00:00, 2315.60ex/s]\n",
      "100%|██████████| 47/47 [00:00<00:00, 2326.73ex/s]\n",
      "100%|██████████| 47/47 [00:00<00:00, 2275.75ex/s]\n",
      "100%|██████████| 1/1 [00:00<00:00,  9.79ba/s]\n",
      "100%|██████████| 1/1 [00:00<00:00, 59.68ba/s]\n",
      "100%|██████████| 1/1 [00:00<00:00, 54.75ba/s]\n"
     ]
    },
    {
     "name": "stdout",
     "output_type": "stream",
     "text": [
      "0\n",
      "essel 30 t5-base 500\n"
     ]
    },
    {
     "name": "stderr",
     "output_type": "stream",
     "text": [
      "Using custom data configuration james-burton--textual-explanations-19ff8605823ae74a\n",
      "Found cached dataset parquet (/home/james/.cache/huggingface/datasets/james-burton___parquet/james-burton--textual-explanations-19ff8605823ae74a/0.0.0/2a3b91fbd88a2c90d1dbbb32b460cf621d31bd5b05b934492fdef7d8d6f236ec)\n",
      "100%|██████████| 3/3 [00:00<00:00, 494.59it/s]\n",
      "100%|██████████| 375/375 [00:00<00:00, 7406.63ex/s]\n",
      "100%|██████████| 47/47 [00:00<00:00, 6617.84ex/s]\n",
      "100%|██████████| 47/47 [00:00<00:00, 6421.46ex/s]\n",
      "100%|██████████| 375/375 [00:00<00:00, 2310.90ex/s]\n",
      "100%|██████████| 47/47 [00:00<00:00, 2258.46ex/s]\n",
      "100%|██████████| 47/47 [00:00<00:00, 2314.57ex/s]\n",
      "100%|██████████| 1/1 [00:00<00:00,  3.81ba/s]\n",
      "100%|██████████| 1/1 [00:00<00:00, 55.05ba/s]\n",
      "100%|██████████| 1/1 [00:00<00:00, 48.24ba/s]\n"
     ]
    },
    {
     "name": "stdout",
     "output_type": "stream",
     "text": [
      "0\n",
      "essel 30 facebook/bart-base 500\n"
     ]
    },
    {
     "name": "stderr",
     "output_type": "stream",
     "text": [
      "Using custom data configuration james-burton--textual-explanations-19ff8605823ae74a\n",
      "Found cached dataset parquet (/home/james/.cache/huggingface/datasets/james-burton___parquet/james-burton--textual-explanations-19ff8605823ae74a/0.0.0/2a3b91fbd88a2c90d1dbbb32b460cf621d31bd5b05b934492fdef7d8d6f236ec)\n",
      "100%|██████████| 3/3 [00:00<00:00, 1113.04it/s]\n",
      "100%|██████████| 375/375 [00:00<00:00, 7552.44ex/s]\n",
      "100%|██████████| 47/47 [00:00<00:00, 5210.87ex/s]\n",
      "100%|██████████| 47/47 [00:00<00:00, 5719.78ex/s]\n",
      "100%|██████████| 375/375 [00:00<00:00, 2253.18ex/s]\n",
      "100%|██████████| 47/47 [00:00<00:00, 2225.52ex/s]\n",
      "100%|██████████| 47/47 [00:00<00:00, 2067.74ex/s]\n",
      "100%|██████████| 1/1 [00:00<00:00,  7.18ba/s]\n",
      "100%|██████████| 1/1 [00:00<00:00, 56.99ba/s]\n",
      "100%|██████████| 1/1 [00:00<00:00, 44.33ba/s]\n"
     ]
    },
    {
     "name": "stdout",
     "output_type": "stream",
     "text": [
      "0\n",
      "essel 40 t5-base 400\n"
     ]
    },
    {
     "name": "stderr",
     "output_type": "stream",
     "text": [
      "Using custom data configuration james-burton--textual-explanations-19ff8605823ae74a\n",
      "Found cached dataset parquet (/home/james/.cache/huggingface/datasets/james-burton___parquet/james-burton--textual-explanations-19ff8605823ae74a/0.0.0/2a3b91fbd88a2c90d1dbbb32b460cf621d31bd5b05b934492fdef7d8d6f236ec)\n",
      "100%|██████████| 3/3 [00:00<00:00, 1089.71it/s]\n",
      "100%|██████████| 375/375 [00:00<00:00, 7351.82ex/s]\n",
      "100%|██████████| 47/47 [00:00<00:00, 5495.74ex/s]\n",
      "100%|██████████| 47/47 [00:00<00:00, 7012.89ex/s]\n",
      "100%|██████████| 375/375 [00:00<00:00, 1930.80ex/s]\n",
      "100%|██████████| 47/47 [00:00<00:00, 2134.81ex/s]\n",
      "100%|██████████| 47/47 [00:00<00:00, 2187.51ex/s]\n",
      "100%|██████████| 1/1 [00:00<00:00, 10.16ba/s]\n",
      "100%|██████████| 1/1 [00:00<00:00, 58.93ba/s]\n",
      "100%|██████████| 1/1 [00:00<00:00, 48.38ba/s]\n"
     ]
    },
    {
     "name": "stdout",
     "output_type": "stream",
     "text": [
      "65\n",
      "essel 40 facebook/bart-base 400\n"
     ]
    },
    {
     "name": "stderr",
     "output_type": "stream",
     "text": [
      "Using custom data configuration james-burton--textual-explanations-19ff8605823ae74a\n",
      "Found cached dataset parquet (/home/james/.cache/huggingface/datasets/james-burton___parquet/james-burton--textual-explanations-19ff8605823ae74a/0.0.0/2a3b91fbd88a2c90d1dbbb32b460cf621d31bd5b05b934492fdef7d8d6f236ec)\n",
      "100%|██████████| 3/3 [00:00<00:00, 1027.26it/s]\n",
      "100%|██████████| 375/375 [00:00<00:00, 6570.08ex/s]\n",
      "100%|██████████| 47/47 [00:00<00:00, 6772.44ex/s]\n",
      "100%|██████████| 47/47 [00:00<00:00, 6758.51ex/s]\n",
      "100%|██████████| 375/375 [00:00<00:00, 2252.31ex/s]\n",
      "100%|██████████| 47/47 [00:00<00:00, 2349.22ex/s]\n",
      "100%|██████████| 47/47 [00:00<00:00, 2254.31ex/s]\n",
      "100%|██████████| 1/1 [00:00<00:00, 10.00ba/s]\n",
      "100%|██████████| 1/1 [00:00<00:00, 54.08ba/s]\n",
      "100%|██████████| 1/1 [00:00<00:00, 54.93ba/s]\n"
     ]
    },
    {
     "name": "stdout",
     "output_type": "stream",
     "text": [
      "0\n",
      "essel 40 t5-base 500\n"
     ]
    },
    {
     "name": "stderr",
     "output_type": "stream",
     "text": [
      "Using custom data configuration james-burton--textual-explanations-19ff8605823ae74a\n",
      "Found cached dataset parquet (/home/james/.cache/huggingface/datasets/james-burton___parquet/james-burton--textual-explanations-19ff8605823ae74a/0.0.0/2a3b91fbd88a2c90d1dbbb32b460cf621d31bd5b05b934492fdef7d8d6f236ec)\n",
      "100%|██████████| 3/3 [00:00<00:00, 786.92it/s]\n",
      "100%|██████████| 375/375 [00:00<00:00, 7301.96ex/s]\n",
      "100%|██████████| 47/47 [00:00<00:00, 7054.80ex/s]\n",
      "100%|██████████| 47/47 [00:00<00:00, 6552.73ex/s]\n",
      "100%|██████████| 375/375 [00:00<00:00, 2218.50ex/s]\n",
      "100%|██████████| 47/47 [00:00<00:00, 2241.52ex/s]\n",
      "100%|██████████| 47/47 [00:00<00:00, 2290.11ex/s]\n",
      "100%|██████████| 1/1 [00:00<00:00,  9.23ba/s]\n",
      "100%|██████████| 1/1 [00:00<00:00, 56.64ba/s]\n",
      "100%|██████████| 1/1 [00:00<00:00, 59.48ba/s]\n"
     ]
    },
    {
     "name": "stdout",
     "output_type": "stream",
     "text": [
      "26\n",
      "essel 40 facebook/bart-base 500\n"
     ]
    },
    {
     "name": "stderr",
     "output_type": "stream",
     "text": [
      "Using custom data configuration james-burton--textual-explanations-19ff8605823ae74a\n",
      "Found cached dataset parquet (/home/james/.cache/huggingface/datasets/james-burton___parquet/james-burton--textual-explanations-19ff8605823ae74a/0.0.0/2a3b91fbd88a2c90d1dbbb32b460cf621d31bd5b05b934492fdef7d8d6f236ec)\n",
      "100%|██████████| 3/3 [00:00<00:00, 982.89it/s]\n",
      "100%|██████████| 375/375 [00:00<00:00, 7749.40ex/s]\n",
      "100%|██████████| 47/47 [00:00<00:00, 6960.89ex/s]\n",
      "100%|██████████| 47/47 [00:00<00:00, 6641.48ex/s]\n",
      "100%|██████████| 375/375 [00:00<00:00, 2263.13ex/s]\n",
      "100%|██████████| 47/47 [00:00<00:00, 2042.63ex/s]\n",
      "100%|██████████| 47/47 [00:00<00:00, 2304.37ex/s]\n",
      "100%|██████████| 1/1 [00:00<00:00,  8.90ba/s]\n",
      "100%|██████████| 1/1 [00:00<00:00, 54.73ba/s]\n",
      "100%|██████████| 1/1 [00:00<00:00, 55.98ba/s]\n"
     ]
    },
    {
     "name": "stdout",
     "output_type": "stream",
     "text": [
      "0\n",
      "essel 50 t5-base 400\n"
     ]
    },
    {
     "name": "stderr",
     "output_type": "stream",
     "text": [
      "Using custom data configuration james-burton--textual-explanations-19ff8605823ae74a\n",
      "Found cached dataset parquet (/home/james/.cache/huggingface/datasets/james-burton___parquet/james-burton--textual-explanations-19ff8605823ae74a/0.0.0/2a3b91fbd88a2c90d1dbbb32b460cf621d31bd5b05b934492fdef7d8d6f236ec)\n",
      "100%|██████████| 3/3 [00:00<00:00, 728.22it/s]\n",
      "100%|██████████| 375/375 [00:00<00:00, 7077.32ex/s]\n",
      "100%|██████████| 47/47 [00:00<00:00, 7372.74ex/s]\n",
      "100%|██████████| 47/47 [00:00<00:00, 6894.91ex/s]\n",
      "100%|██████████| 375/375 [00:00<00:00, 2260.02ex/s]\n",
      "100%|██████████| 47/47 [00:00<00:00, 2310.26ex/s]\n",
      "100%|██████████| 47/47 [00:00<00:00, 2318.82ex/s]\n",
      "100%|██████████| 1/1 [00:00<00:00, 10.08ba/s]\n",
      "100%|██████████| 1/1 [00:00<00:00, 51.37ba/s]\n",
      "100%|██████████| 1/1 [00:00<00:00, 51.39ba/s]\n"
     ]
    },
    {
     "name": "stdout",
     "output_type": "stream",
     "text": [
      "65\n",
      "essel 50 facebook/bart-base 400\n"
     ]
    },
    {
     "name": "stderr",
     "output_type": "stream",
     "text": [
      "Using custom data configuration james-burton--textual-explanations-19ff8605823ae74a\n",
      "Found cached dataset parquet (/home/james/.cache/huggingface/datasets/james-burton___parquet/james-burton--textual-explanations-19ff8605823ae74a/0.0.0/2a3b91fbd88a2c90d1dbbb32b460cf621d31bd5b05b934492fdef7d8d6f236ec)\n",
      "100%|██████████| 3/3 [00:00<00:00, 983.12it/s]\n",
      "100%|██████████| 375/375 [00:00<00:00, 5615.45ex/s]\n",
      "100%|██████████| 47/47 [00:00<00:00, 6614.07ex/s]\n",
      "100%|██████████| 47/47 [00:00<00:00, 6890.81ex/s]\n",
      "100%|██████████| 375/375 [00:00<00:00, 2239.44ex/s]\n",
      "100%|██████████| 47/47 [00:00<00:00, 2181.73ex/s]\n",
      "100%|██████████| 47/47 [00:00<00:00, 2300.72ex/s]\n",
      "100%|██████████| 1/1 [00:00<00:00, 10.13ba/s]\n",
      "100%|██████████| 1/1 [00:00<00:00, 53.14ba/s]\n",
      "100%|██████████| 1/1 [00:00<00:00, 43.51ba/s]\n"
     ]
    },
    {
     "name": "stdout",
     "output_type": "stream",
     "text": [
      "30\n",
      "essel 50 t5-base 500\n"
     ]
    },
    {
     "name": "stderr",
     "output_type": "stream",
     "text": [
      "Using custom data configuration james-burton--textual-explanations-19ff8605823ae74a\n",
      "Found cached dataset parquet (/home/james/.cache/huggingface/datasets/james-burton___parquet/james-burton--textual-explanations-19ff8605823ae74a/0.0.0/2a3b91fbd88a2c90d1dbbb32b460cf621d31bd5b05b934492fdef7d8d6f236ec)\n",
      "100%|██████████| 3/3 [00:00<00:00, 239.05it/s]\n",
      "100%|██████████| 375/375 [00:00<00:00, 7072.68ex/s]\n",
      "100%|██████████| 47/47 [00:00<00:00, 7258.45ex/s]\n",
      "100%|██████████| 47/47 [00:00<00:00, 7573.27ex/s]\n",
      "100%|██████████| 375/375 [00:00<00:00, 2104.26ex/s]\n",
      "100%|██████████| 47/47 [00:00<00:00, 2109.27ex/s]\n",
      "100%|██████████| 47/47 [00:00<00:00, 2296.54ex/s]\n",
      "100%|██████████| 1/1 [00:00<00:00,  9.18ba/s]\n",
      "100%|██████████| 1/1 [00:00<00:00, 56.48ba/s]\n",
      "100%|██████████| 1/1 [00:00<00:00, 59.48ba/s]\n"
     ]
    },
    {
     "name": "stdout",
     "output_type": "stream",
     "text": [
      "35\n",
      "essel 50 facebook/bart-base 500\n"
     ]
    },
    {
     "name": "stderr",
     "output_type": "stream",
     "text": [
      "Using custom data configuration james-burton--textual-explanations-19ff8605823ae74a\n",
      "Found cached dataset parquet (/home/james/.cache/huggingface/datasets/james-burton___parquet/james-burton--textual-explanations-19ff8605823ae74a/0.0.0/2a3b91fbd88a2c90d1dbbb32b460cf621d31bd5b05b934492fdef7d8d6f236ec)\n",
      "100%|██████████| 3/3 [00:00<00:00, 261.02it/s]\n",
      "100%|██████████| 375/375 [00:00<00:00, 7131.07ex/s]\n",
      "100%|██████████| 47/47 [00:00<00:00, 6948.86ex/s]\n",
      "100%|██████████| 47/47 [00:00<00:00, 7082.94ex/s]\n",
      "100%|██████████| 375/375 [00:00<00:00, 2173.41ex/s]\n",
      "100%|██████████| 47/47 [00:00<00:00, 2207.70ex/s]\n",
      "100%|██████████| 47/47 [00:00<00:00, 2256.01ex/s]\n",
      "100%|██████████| 1/1 [00:00<00:00,  8.63ba/s]\n",
      "100%|██████████| 1/1 [00:00<00:00, 56.89ba/s]\n",
      "100%|██████████| 1/1 [00:00<00:00, 51.60ba/s]\n"
     ]
    },
    {
     "name": "stdout",
     "output_type": "stream",
     "text": [
      "0\n",
      "ord_first 30 t5-base 400\n"
     ]
    },
    {
     "name": "stderr",
     "output_type": "stream",
     "text": [
      "Using custom data configuration james-burton--textual-explanations-19ff8605823ae74a\n",
      "Found cached dataset parquet (/home/james/.cache/huggingface/datasets/james-burton___parquet/james-burton--textual-explanations-19ff8605823ae74a/0.0.0/2a3b91fbd88a2c90d1dbbb32b460cf621d31bd5b05b934492fdef7d8d6f236ec)\n",
      "100%|██████████| 3/3 [00:00<00:00, 1051.03it/s]\n",
      "100%|██████████| 375/375 [00:00<00:00, 7291.50ex/s]\n",
      "100%|██████████| 47/47 [00:00<00:00, 6637.45ex/s]\n",
      "100%|██████████| 47/47 [00:00<00:00, 6833.48ex/s]\n",
      "100%|██████████| 375/375 [00:00<00:00, 2305.31ex/s]\n",
      "100%|██████████| 47/47 [00:00<00:00, 2243.40ex/s]\n",
      "100%|██████████| 47/47 [00:00<00:00, 2247.60ex/s]\n",
      "100%|██████████| 1/1 [00:00<00:00,  9.36ba/s]\n",
      "100%|██████████| 1/1 [00:00<00:00, 51.49ba/s]\n",
      "100%|██████████| 1/1 [00:00<00:00, 57.05ba/s]\n"
     ]
    },
    {
     "name": "stdout",
     "output_type": "stream",
     "text": [
      "52\n",
      "ord_first 30 facebook/bart-base 400\n"
     ]
    },
    {
     "name": "stderr",
     "output_type": "stream",
     "text": [
      "Using custom data configuration james-burton--textual-explanations-19ff8605823ae74a\n",
      "Found cached dataset parquet (/home/james/.cache/huggingface/datasets/james-burton___parquet/james-burton--textual-explanations-19ff8605823ae74a/0.0.0/2a3b91fbd88a2c90d1dbbb32b460cf621d31bd5b05b934492fdef7d8d6f236ec)\n",
      "100%|██████████| 3/3 [00:00<00:00, 918.66it/s]\n",
      "100%|██████████| 375/375 [00:00<00:00, 6872.00ex/s]\n",
      "100%|██████████| 47/47 [00:00<00:00, 6539.69ex/s]\n",
      "100%|██████████| 47/47 [00:00<00:00, 6738.18ex/s]\n",
      "100%|██████████| 375/375 [00:00<00:00, 2168.21ex/s]\n",
      "100%|██████████| 47/47 [00:00<00:00, 2294.16ex/s]\n",
      "100%|██████████| 47/47 [00:00<00:00, 2310.80ex/s]\n",
      "100%|██████████| 1/1 [00:00<00:00,  9.52ba/s]\n",
      "100%|██████████| 1/1 [00:00<00:00, 49.70ba/s]\n",
      "100%|██████████| 1/1 [00:00<00:00, 46.48ba/s]\n"
     ]
    },
    {
     "name": "stdout",
     "output_type": "stream",
     "text": [
      "70\n",
      "ord_first 30 t5-base 500\n"
     ]
    },
    {
     "name": "stderr",
     "output_type": "stream",
     "text": [
      "Using custom data configuration james-burton--textual-explanations-19ff8605823ae74a\n",
      "Found cached dataset parquet (/home/james/.cache/huggingface/datasets/james-burton___parquet/james-burton--textual-explanations-19ff8605823ae74a/0.0.0/2a3b91fbd88a2c90d1dbbb32b460cf621d31bd5b05b934492fdef7d8d6f236ec)\n",
      "100%|██████████| 3/3 [00:00<00:00, 1029.87it/s]\n",
      "100%|██████████| 375/375 [00:00<00:00, 6638.57ex/s]\n",
      "100%|██████████| 47/47 [00:00<00:00, 6951.80ex/s]\n",
      "100%|██████████| 47/47 [00:00<00:00, 6815.53ex/s]\n",
      "100%|██████████| 375/375 [00:00<00:00, 2257.41ex/s]\n",
      "100%|██████████| 47/47 [00:00<00:00, 2074.25ex/s]\n",
      "100%|██████████| 47/47 [00:00<00:00, 2382.21ex/s]\n",
      "100%|██████████| 1/1 [00:00<00:00,  9.39ba/s]\n",
      "100%|██████████| 1/1 [00:00<00:00, 52.20ba/s]\n",
      "100%|██████████| 1/1 [00:00<00:00, 58.24ba/s]\n"
     ]
    },
    {
     "name": "stdout",
     "output_type": "stream",
     "text": [
      "0\n",
      "ord_first 30 facebook/bart-base 500\n"
     ]
    },
    {
     "name": "stderr",
     "output_type": "stream",
     "text": [
      "Using custom data configuration james-burton--textual-explanations-19ff8605823ae74a\n",
      "Found cached dataset parquet (/home/james/.cache/huggingface/datasets/james-burton___parquet/james-burton--textual-explanations-19ff8605823ae74a/0.0.0/2a3b91fbd88a2c90d1dbbb32b460cf621d31bd5b05b934492fdef7d8d6f236ec)\n",
      "100%|██████████| 3/3 [00:00<00:00, 903.10it/s]\n",
      "100%|██████████| 375/375 [00:00<00:00, 5716.28ex/s]\n",
      "100%|██████████| 47/47 [00:00<00:00, 5584.33ex/s]\n",
      "100%|██████████| 47/47 [00:00<00:00, 6662.13ex/s]\n",
      "100%|██████████| 375/375 [00:00<00:00, 2281.21ex/s]\n",
      "100%|██████████| 47/47 [00:00<00:00, 2289.76ex/s]\n",
      "100%|██████████| 47/47 [00:00<00:00, 2156.60ex/s]\n",
      "100%|██████████| 1/1 [00:00<00:00,  8.69ba/s]\n",
      "100%|██████████| 1/1 [00:00<00:00, 47.89ba/s]\n",
      "100%|██████████| 1/1 [00:00<00:00, 46.41ba/s]\n"
     ]
    },
    {
     "name": "stdout",
     "output_type": "stream",
     "text": [
      "0\n",
      "ord_first 40 t5-base 400\n"
     ]
    },
    {
     "name": "stderr",
     "output_type": "stream",
     "text": [
      "Using custom data configuration james-burton--textual-explanations-19ff8605823ae74a\n",
      "Found cached dataset parquet (/home/james/.cache/huggingface/datasets/james-burton___parquet/james-burton--textual-explanations-19ff8605823ae74a/0.0.0/2a3b91fbd88a2c90d1dbbb32b460cf621d31bd5b05b934492fdef7d8d6f236ec)\n",
      "100%|██████████| 3/3 [00:00<00:00, 269.71it/s]\n",
      "100%|██████████| 375/375 [00:00<00:00, 6882.59ex/s]\n",
      "100%|██████████| 47/47 [00:00<00:00, 7149.21ex/s]\n",
      "100%|██████████| 47/47 [00:00<00:00, 7559.04ex/s]\n",
      "100%|██████████| 375/375 [00:00<00:00, 2197.21ex/s]\n",
      "100%|██████████| 47/47 [00:00<00:00, 2109.02ex/s]\n",
      "100%|██████████| 47/47 [00:00<00:00, 2218.51ex/s]\n",
      "100%|██████████| 1/1 [00:00<00:00,  9.75ba/s]\n",
      "100%|██████████| 1/1 [00:00<00:00, 48.77ba/s]\n",
      "100%|██████████| 1/1 [00:00<00:00, 59.08ba/s]\n"
     ]
    },
    {
     "name": "stdout",
     "output_type": "stream",
     "text": [
      "63\n",
      "ord_first 40 facebook/bart-base 400\n"
     ]
    },
    {
     "name": "stderr",
     "output_type": "stream",
     "text": [
      "Using custom data configuration james-burton--textual-explanations-19ff8605823ae74a\n",
      "Found cached dataset parquet (/home/james/.cache/huggingface/datasets/james-burton___parquet/james-burton--textual-explanations-19ff8605823ae74a/0.0.0/2a3b91fbd88a2c90d1dbbb32b460cf621d31bd5b05b934492fdef7d8d6f236ec)\n",
      "100%|██████████| 3/3 [00:00<00:00, 872.54it/s]\n",
      "100%|██████████| 375/375 [00:00<00:00, 7655.52ex/s]\n",
      "100%|██████████| 47/47 [00:00<00:00, 7155.96ex/s]\n",
      "100%|██████████| 47/47 [00:00<00:00, 6153.65ex/s]\n",
      "100%|██████████| 375/375 [00:00<00:00, 2226.08ex/s]\n",
      "100%|██████████| 47/47 [00:00<00:00, 2286.04ex/s]\n",
      "100%|██████████| 47/47 [00:00<00:00, 2342.94ex/s]\n",
      "100%|██████████| 1/1 [00:00<00:00,  9.48ba/s]\n",
      "100%|██████████| 1/1 [00:00<00:00, 52.18ba/s]\n",
      "100%|██████████| 1/1 [00:00<00:00, 58.61ba/s]\n"
     ]
    },
    {
     "name": "stdout",
     "output_type": "stream",
     "text": [
      "70\n",
      "ord_first 40 t5-base 500\n"
     ]
    },
    {
     "name": "stderr",
     "output_type": "stream",
     "text": [
      "Using custom data configuration james-burton--textual-explanations-19ff8605823ae74a\n",
      "Found cached dataset parquet (/home/james/.cache/huggingface/datasets/james-burton___parquet/james-burton--textual-explanations-19ff8605823ae74a/0.0.0/2a3b91fbd88a2c90d1dbbb32b460cf621d31bd5b05b934492fdef7d8d6f236ec)\n",
      "100%|██████████| 3/3 [00:00<00:00, 1001.82it/s]\n",
      "100%|██████████| 375/375 [00:00<00:00, 6886.41ex/s]\n",
      "100%|██████████| 47/47 [00:00<00:00, 4943.76ex/s]\n",
      "100%|██████████| 47/47 [00:00<00:00, 7250.98ex/s]\n",
      "100%|██████████| 375/375 [00:00<00:00, 2299.11ex/s]\n",
      "100%|██████████| 47/47 [00:00<00:00, 2098.36ex/s]\n",
      "100%|██████████| 47/47 [00:00<00:00, 1823.85ex/s]\n",
      "100%|██████████| 1/1 [00:00<00:00,  9.00ba/s]\n",
      "100%|██████████| 1/1 [00:00<00:00, 49.42ba/s]\n",
      "100%|██████████| 1/1 [00:00<00:00, 55.75ba/s]\n"
     ]
    },
    {
     "name": "stdout",
     "output_type": "stream",
     "text": [
      "33\n",
      "ord_first 40 facebook/bart-base 500\n"
     ]
    },
    {
     "name": "stderr",
     "output_type": "stream",
     "text": [
      "Using custom data configuration james-burton--textual-explanations-19ff8605823ae74a\n",
      "Found cached dataset parquet (/home/james/.cache/huggingface/datasets/james-burton___parquet/james-burton--textual-explanations-19ff8605823ae74a/0.0.0/2a3b91fbd88a2c90d1dbbb32b460cf621d31bd5b05b934492fdef7d8d6f236ec)\n",
      "100%|██████████| 3/3 [00:00<00:00, 894.18it/s]\n",
      "100%|██████████| 375/375 [00:00<00:00, 5788.25ex/s]\n",
      "100%|██████████| 47/47 [00:00<00:00, 7561.36ex/s]\n",
      "100%|██████████| 47/47 [00:00<00:00, 6924.21ex/s]\n",
      "100%|██████████| 375/375 [00:00<00:00, 2269.01ex/s]\n",
      "100%|██████████| 47/47 [00:00<00:00, 2221.18ex/s]\n",
      "100%|██████████| 47/47 [00:00<00:00, 2385.61ex/s]\n",
      "100%|██████████| 1/1 [00:00<00:00,  8.80ba/s]\n",
      "100%|██████████| 1/1 [00:00<00:00, 52.09ba/s]\n",
      "100%|██████████| 1/1 [00:00<00:00, 53.13ba/s]\n"
     ]
    },
    {
     "name": "stdout",
     "output_type": "stream",
     "text": [
      "36\n",
      "ord_first 50 t5-base 400\n"
     ]
    },
    {
     "name": "stderr",
     "output_type": "stream",
     "text": [
      "Using custom data configuration james-burton--textual-explanations-19ff8605823ae74a\n",
      "Found cached dataset parquet (/home/james/.cache/huggingface/datasets/james-burton___parquet/james-burton--textual-explanations-19ff8605823ae74a/0.0.0/2a3b91fbd88a2c90d1dbbb32b460cf621d31bd5b05b934492fdef7d8d6f236ec)\n",
      "100%|██████████| 3/3 [00:00<00:00, 1049.80it/s]\n",
      "100%|██████████| 375/375 [00:00<00:00, 7440.79ex/s]\n",
      "100%|██████████| 47/47 [00:00<00:00, 7336.25ex/s]\n",
      "100%|██████████| 47/47 [00:00<00:00, 6475.67ex/s]\n",
      "100%|██████████| 375/375 [00:00<00:00, 2205.38ex/s]\n",
      "100%|██████████| 47/47 [00:00<00:00, 2273.89ex/s]\n",
      "100%|██████████| 47/47 [00:00<00:00, 2257.64ex/s]\n",
      "100%|██████████| 1/1 [00:00<00:00,  9.38ba/s]\n",
      "100%|██████████| 1/1 [00:00<00:00, 57.21ba/s]\n",
      "100%|██████████| 1/1 [00:00<00:00, 58.09ba/s]\n"
     ]
    },
    {
     "name": "stdout",
     "output_type": "stream",
     "text": [
      "63\n",
      "ord_first 50 facebook/bart-base 400\n"
     ]
    },
    {
     "name": "stderr",
     "output_type": "stream",
     "text": [
      "Using custom data configuration james-burton--textual-explanations-19ff8605823ae74a\n",
      "Found cached dataset parquet (/home/james/.cache/huggingface/datasets/james-burton___parquet/james-burton--textual-explanations-19ff8605823ae74a/0.0.0/2a3b91fbd88a2c90d1dbbb32b460cf621d31bd5b05b934492fdef7d8d6f236ec)\n",
      "100%|██████████| 3/3 [00:00<00:00, 855.22it/s]\n",
      "100%|██████████| 375/375 [00:00<00:00, 7101.19ex/s]\n",
      "100%|██████████| 47/47 [00:00<00:00, 7131.62ex/s]\n",
      "100%|██████████| 47/47 [00:00<00:00, 7114.38ex/s]\n",
      "100%|██████████| 375/375 [00:00<00:00, 2153.39ex/s]\n",
      "100%|██████████| 47/47 [00:00<00:00, 2268.60ex/s]\n",
      "100%|██████████| 47/47 [00:00<00:00, 2201.00ex/s]\n",
      "100%|██████████| 1/1 [00:00<00:00,  9.23ba/s]\n",
      "100%|██████████| 1/1 [00:00<00:00, 53.39ba/s]\n",
      "100%|██████████| 1/1 [00:00<00:00, 56.07ba/s]\n"
     ]
    },
    {
     "name": "stdout",
     "output_type": "stream",
     "text": [
      "70\n",
      "ord_first 50 t5-base 500\n"
     ]
    },
    {
     "name": "stderr",
     "output_type": "stream",
     "text": [
      "Using custom data configuration james-burton--textual-explanations-19ff8605823ae74a\n",
      "Found cached dataset parquet (/home/james/.cache/huggingface/datasets/james-burton___parquet/james-burton--textual-explanations-19ff8605823ae74a/0.0.0/2a3b91fbd88a2c90d1dbbb32b460cf621d31bd5b05b934492fdef7d8d6f236ec)\n",
      "100%|██████████| 3/3 [00:00<00:00, 442.50it/s]\n",
      "100%|██████████| 375/375 [00:00<00:00, 5311.59ex/s]\n",
      "100%|██████████| 47/47 [00:00<00:00, 4937.57ex/s]\n",
      "100%|██████████| 47/47 [00:00<00:00, 5520.52ex/s]\n",
      "100%|██████████| 375/375 [00:00<00:00, 2191.02ex/s]\n",
      "100%|██████████| 47/47 [00:00<00:00, 2280.36ex/s]\n",
      "100%|██████████| 47/47 [00:00<00:00, 2309.50ex/s]\n",
      "100%|██████████| 1/1 [00:00<00:00,  8.86ba/s]\n",
      "100%|██████████| 1/1 [00:00<00:00, 55.05ba/s]\n",
      "100%|██████████| 1/1 [00:00<00:00, 55.08ba/s]\n"
     ]
    },
    {
     "name": "stdout",
     "output_type": "stream",
     "text": [
      "34\n",
      "ord_first 50 facebook/bart-base 500\n"
     ]
    },
    {
     "name": "stderr",
     "output_type": "stream",
     "text": [
      "Using custom data configuration james-burton--textual-explanations-19ff8605823ae74a\n",
      "Found cached dataset parquet (/home/james/.cache/huggingface/datasets/james-burton___parquet/james-burton--textual-explanations-19ff8605823ae74a/0.0.0/2a3b91fbd88a2c90d1dbbb32b460cf621d31bd5b05b934492fdef7d8d6f236ec)\n",
      "100%|██████████| 3/3 [00:00<00:00, 438.67it/s]\n",
      "100%|██████████| 375/375 [00:00<00:00, 6429.43ex/s]\n",
      "100%|██████████| 47/47 [00:00<00:00, 6882.87ex/s]\n",
      "100%|██████████| 47/47 [00:00<00:00, 6638.57ex/s]\n",
      "100%|██████████| 375/375 [00:00<00:00, 2182.55ex/s]\n",
      "100%|██████████| 47/47 [00:00<00:00, 2209.19ex/s]\n",
      "100%|██████████| 47/47 [00:00<00:00, 2187.73ex/s]\n",
      "100%|██████████| 1/1 [00:00<00:00,  9.15ba/s]\n",
      "100%|██████████| 1/1 [00:00<00:00, 55.34ba/s]\n",
      "100%|██████████| 1/1 [00:00<00:00, 52.97ba/s]\n"
     ]
    },
    {
     "name": "stdout",
     "output_type": "stream",
     "text": [
      "36\n",
      "ft_first 30 t5-base 400\n"
     ]
    },
    {
     "name": "stderr",
     "output_type": "stream",
     "text": [
      "Using custom data configuration james-burton--textual-explanations-19ff8605823ae74a\n",
      "Found cached dataset parquet (/home/james/.cache/huggingface/datasets/james-burton___parquet/james-burton--textual-explanations-19ff8605823ae74a/0.0.0/2a3b91fbd88a2c90d1dbbb32b460cf621d31bd5b05b934492fdef7d8d6f236ec)\n",
      "100%|██████████| 3/3 [00:00<00:00, 558.32it/s]\n",
      "100%|██████████| 375/375 [00:00<00:00, 7680.71ex/s]\n",
      "100%|██████████| 47/47 [00:00<00:00, 7119.77ex/s]\n",
      "100%|██████████| 47/47 [00:00<00:00, 7317.46ex/s]\n",
      "100%|██████████| 375/375 [00:00<00:00, 2323.38ex/s]\n",
      "100%|██████████| 47/47 [00:00<00:00, 2337.80ex/s]\n",
      "100%|██████████| 47/47 [00:00<00:00, 2386.97ex/s]\n",
      "100%|██████████| 1/1 [00:00<00:00,  9.10ba/s]\n",
      "100%|██████████| 1/1 [00:00<00:00, 49.44ba/s]\n",
      "100%|██████████| 1/1 [00:00<00:00, 59.69ba/s]\n"
     ]
    },
    {
     "name": "stdout",
     "output_type": "stream",
     "text": [
      "21\n",
      "ft_first 30 facebook/bart-base 400\n"
     ]
    },
    {
     "name": "stderr",
     "output_type": "stream",
     "text": [
      "Using custom data configuration james-burton--textual-explanations-19ff8605823ae74a\n",
      "Found cached dataset parquet (/home/james/.cache/huggingface/datasets/james-burton___parquet/james-burton--textual-explanations-19ff8605823ae74a/0.0.0/2a3b91fbd88a2c90d1dbbb32b460cf621d31bd5b05b934492fdef7d8d6f236ec)\n",
      "100%|██████████| 3/3 [00:00<00:00, 752.57it/s]\n",
      "100%|██████████| 375/375 [00:00<00:00, 7011.60ex/s]\n",
      "100%|██████████| 47/47 [00:00<00:00, 6675.66ex/s]\n",
      "100%|██████████| 47/47 [00:00<00:00, 6399.98ex/s]\n",
      "100%|██████████| 375/375 [00:00<00:00, 2141.35ex/s]\n",
      "100%|██████████| 47/47 [00:00<00:00, 1977.91ex/s]\n",
      "100%|██████████| 47/47 [00:00<00:00, 1908.51ex/s]\n",
      "100%|██████████| 1/1 [00:00<00:00,  9.32ba/s]\n",
      "100%|██████████| 1/1 [00:00<00:00, 59.33ba/s]\n",
      "100%|██████████| 1/1 [00:00<00:00, 57.94ba/s]\n"
     ]
    },
    {
     "name": "stdout",
     "output_type": "stream",
     "text": [
      "33\n",
      "ft_first 30 t5-base 500\n"
     ]
    },
    {
     "name": "stderr",
     "output_type": "stream",
     "text": [
      "Using custom data configuration james-burton--textual-explanations-19ff8605823ae74a\n",
      "Found cached dataset parquet (/home/james/.cache/huggingface/datasets/james-burton___parquet/james-burton--textual-explanations-19ff8605823ae74a/0.0.0/2a3b91fbd88a2c90d1dbbb32b460cf621d31bd5b05b934492fdef7d8d6f236ec)\n",
      "100%|██████████| 3/3 [00:00<00:00, 192.16it/s]\n",
      "100%|██████████| 375/375 [00:00<00:00, 6858.40ex/s]\n",
      "100%|██████████| 47/47 [00:00<00:00, 6835.85ex/s]\n",
      "100%|██████████| 47/47 [00:00<00:00, 7040.94ex/s]\n",
      "100%|██████████| 375/375 [00:00<00:00, 2307.50ex/s]\n",
      "100%|██████████| 47/47 [00:00<00:00, 2295.81ex/s]\n",
      "100%|██████████| 47/47 [00:00<00:00, 2275.96ex/s]\n",
      "100%|██████████| 1/1 [00:00<00:00,  7.86ba/s]\n",
      "100%|██████████| 1/1 [00:00<00:00, 51.52ba/s]\n",
      "100%|██████████| 1/1 [00:00<00:00, 45.06ba/s]\n"
     ]
    },
    {
     "name": "stdout",
     "output_type": "stream",
     "text": [
      "0\n",
      "ft_first 30 facebook/bart-base 500\n"
     ]
    },
    {
     "name": "stderr",
     "output_type": "stream",
     "text": [
      "Using custom data configuration james-burton--textual-explanations-19ff8605823ae74a\n",
      "Found cached dataset parquet (/home/james/.cache/huggingface/datasets/james-burton___parquet/james-burton--textual-explanations-19ff8605823ae74a/0.0.0/2a3b91fbd88a2c90d1dbbb32b460cf621d31bd5b05b934492fdef7d8d6f236ec)\n",
      "100%|██████████| 3/3 [00:00<00:00, 1016.55it/s]\n",
      "100%|██████████| 375/375 [00:00<00:00, 7628.34ex/s]\n",
      "100%|██████████| 47/47 [00:00<00:00, 6166.74ex/s]\n",
      "100%|██████████| 47/47 [00:00<00:00, 6382.16ex/s]\n",
      "100%|██████████| 375/375 [00:00<00:00, 2345.93ex/s]\n",
      "100%|██████████| 47/47 [00:00<00:00, 2340.82ex/s]\n",
      "100%|██████████| 47/47 [00:00<00:00, 2374.92ex/s]\n",
      "100%|██████████| 1/1 [00:00<00:00,  9.26ba/s]\n",
      "100%|██████████| 1/1 [00:00<00:00, 48.70ba/s]\n",
      "100%|██████████| 1/1 [00:00<00:00, 36.38ba/s]\n"
     ]
    },
    {
     "name": "stdout",
     "output_type": "stream",
     "text": [
      "0\n",
      "ft_first 40 t5-base 400\n"
     ]
    },
    {
     "name": "stderr",
     "output_type": "stream",
     "text": [
      "Using custom data configuration james-burton--textual-explanations-19ff8605823ae74a\n",
      "Found cached dataset parquet (/home/james/.cache/huggingface/datasets/james-burton___parquet/james-burton--textual-explanations-19ff8605823ae74a/0.0.0/2a3b91fbd88a2c90d1dbbb32b460cf621d31bd5b05b934492fdef7d8d6f236ec)\n",
      "100%|██████████| 3/3 [00:00<00:00, 1037.42it/s]\n",
      "100%|██████████| 375/375 [00:00<00:00, 7210.97ex/s]\n",
      "100%|██████████| 47/47 [00:00<00:00, 6412.89ex/s]\n",
      "100%|██████████| 47/47 [00:00<00:00, 6580.07ex/s]\n",
      "100%|██████████| 375/375 [00:00<00:00, 2241.87ex/s]\n",
      "100%|██████████| 47/47 [00:00<00:00, 2293.68ex/s]\n",
      "100%|██████████| 47/47 [00:00<00:00, 2252.61ex/s]\n",
      "100%|██████████| 1/1 [00:00<00:00, 10.14ba/s]\n",
      "100%|██████████| 1/1 [00:00<00:00, 48.93ba/s]\n",
      "100%|██████████| 1/1 [00:00<00:00, 57.44ba/s]\n"
     ]
    },
    {
     "name": "stdout",
     "output_type": "stream",
     "text": [
      "55\n",
      "ft_first 40 facebook/bart-base 400\n"
     ]
    },
    {
     "name": "stderr",
     "output_type": "stream",
     "text": [
      "Using custom data configuration james-burton--textual-explanations-19ff8605823ae74a\n",
      "Found cached dataset parquet (/home/james/.cache/huggingface/datasets/james-burton___parquet/james-burton--textual-explanations-19ff8605823ae74a/0.0.0/2a3b91fbd88a2c90d1dbbb32b460cf621d31bd5b05b934492fdef7d8d6f236ec)\n",
      "100%|██████████| 3/3 [00:00<00:00, 976.93it/s]\n",
      "100%|██████████| 375/375 [00:00<00:00, 7446.04ex/s]\n",
      "100%|██████████| 47/47 [00:00<00:00, 6838.93ex/s]\n",
      "100%|██████████| 47/47 [00:00<00:00, 6290.92ex/s]\n",
      "100%|██████████| 375/375 [00:00<00:00, 2173.11ex/s]\n",
      "100%|██████████| 47/47 [00:00<00:00, 2248.49ex/s]\n",
      "100%|██████████| 47/47 [00:00<00:00, 2271.08ex/s]\n",
      "100%|██████████| 1/1 [00:00<00:00,  8.90ba/s]\n",
      "100%|██████████| 1/1 [00:00<00:00, 47.65ba/s]\n",
      "100%|██████████| 1/1 [00:00<00:00, 43.45ba/s]\n"
     ]
    },
    {
     "name": "stdout",
     "output_type": "stream",
     "text": [
      "60\n",
      "ft_first 40 t5-base 500\n"
     ]
    },
    {
     "name": "stderr",
     "output_type": "stream",
     "text": [
      "Using custom data configuration james-burton--textual-explanations-19ff8605823ae74a\n",
      "Found cached dataset parquet (/home/james/.cache/huggingface/datasets/james-burton___parquet/james-burton--textual-explanations-19ff8605823ae74a/0.0.0/2a3b91fbd88a2c90d1dbbb32b460cf621d31bd5b05b934492fdef7d8d6f236ec)\n",
      "100%|██████████| 3/3 [00:00<00:00, 807.06it/s]\n",
      "100%|██████████| 375/375 [00:00<00:00, 7299.69ex/s]\n",
      "100%|██████████| 47/47 [00:00<00:00, 6713.17ex/s]\n",
      "100%|██████████| 47/47 [00:00<00:00, 6146.94ex/s]\n",
      "100%|██████████| 375/375 [00:00<00:00, 2242.26ex/s]\n",
      "100%|██████████| 47/47 [00:00<00:00, 2197.49ex/s]\n",
      "100%|██████████| 47/47 [00:00<00:00, 1946.66ex/s]\n",
      "100%|██████████| 1/1 [00:00<00:00,  9.15ba/s]\n",
      "100%|██████████| 1/1 [00:00<00:00, 55.18ba/s]\n",
      "100%|██████████| 1/1 [00:00<00:00, 55.59ba/s]\n"
     ]
    },
    {
     "name": "stdout",
     "output_type": "stream",
     "text": [
      "21\n",
      "ft_first 40 facebook/bart-base 500\n"
     ]
    },
    {
     "name": "stderr",
     "output_type": "stream",
     "text": [
      "Using custom data configuration james-burton--textual-explanations-19ff8605823ae74a\n",
      "Found cached dataset parquet (/home/james/.cache/huggingface/datasets/james-burton___parquet/james-burton--textual-explanations-19ff8605823ae74a/0.0.0/2a3b91fbd88a2c90d1dbbb32b460cf621d31bd5b05b934492fdef7d8d6f236ec)\n",
      "100%|██████████| 3/3 [00:00<00:00, 1023.92it/s]\n",
      "100%|██████████| 375/375 [00:00<00:00, 6525.97ex/s]\n",
      "100%|██████████| 47/47 [00:00<00:00, 5110.36ex/s]\n",
      "100%|██████████| 47/47 [00:00<00:00, 6059.08ex/s]\n",
      "100%|██████████| 375/375 [00:00<00:00, 2275.48ex/s]\n",
      "100%|██████████| 47/47 [00:00<00:00, 2300.80ex/s]\n",
      "100%|██████████| 47/47 [00:00<00:00, 2256.53ex/s]\n",
      "100%|██████████| 1/1 [00:00<00:00,  9.08ba/s]\n",
      "100%|██████████| 1/1 [00:00<00:00, 56.37ba/s]\n",
      "100%|██████████| 1/1 [00:00<00:00, 55.71ba/s]\n"
     ]
    },
    {
     "name": "stdout",
     "output_type": "stream",
     "text": [
      "18\n",
      "ft_first 50 t5-base 400\n"
     ]
    },
    {
     "name": "stderr",
     "output_type": "stream",
     "text": [
      "Using custom data configuration james-burton--textual-explanations-19ff8605823ae74a\n",
      "Found cached dataset parquet (/home/james/.cache/huggingface/datasets/james-burton___parquet/james-burton--textual-explanations-19ff8605823ae74a/0.0.0/2a3b91fbd88a2c90d1dbbb32b460cf621d31bd5b05b934492fdef7d8d6f236ec)\n",
      "100%|██████████| 3/3 [00:00<00:00, 249.34it/s]\n",
      "100%|██████████| 375/375 [00:00<00:00, 7092.96ex/s]\n",
      "100%|██████████| 47/47 [00:00<00:00, 7048.75ex/s]\n",
      "100%|██████████| 47/47 [00:00<00:00, 6523.46ex/s]\n",
      "100%|██████████| 375/375 [00:00<00:00, 2169.39ex/s]\n",
      "100%|██████████| 47/47 [00:00<00:00, 2158.13ex/s]\n",
      "100%|██████████| 47/47 [00:00<00:00, 1979.68ex/s]\n",
      "100%|██████████| 1/1 [00:00<00:00,  9.83ba/s]\n",
      "100%|██████████| 1/1 [00:00<00:00, 56.60ba/s]\n",
      "100%|██████████| 1/1 [00:00<00:00, 59.21ba/s]\n"
     ]
    },
    {
     "name": "stdout",
     "output_type": "stream",
     "text": [
      "55\n",
      "ft_first 50 facebook/bart-base 400\n"
     ]
    },
    {
     "name": "stderr",
     "output_type": "stream",
     "text": [
      "Using custom data configuration james-burton--textual-explanations-19ff8605823ae74a\n",
      "Found cached dataset parquet (/home/james/.cache/huggingface/datasets/james-burton___parquet/james-burton--textual-explanations-19ff8605823ae74a/0.0.0/2a3b91fbd88a2c90d1dbbb32b460cf621d31bd5b05b934492fdef7d8d6f236ec)\n",
      "100%|██████████| 3/3 [00:00<00:00, 781.45it/s]\n",
      "100%|██████████| 375/375 [00:00<00:00, 7695.48ex/s]\n",
      "100%|██████████| 47/47 [00:00<00:00, 6784.10ex/s]\n",
      "100%|██████████| 47/47 [00:00<00:00, 6326.05ex/s]\n",
      "100%|██████████| 375/375 [00:00<00:00, 2156.12ex/s]\n",
      "100%|██████████| 47/47 [00:00<00:00, 2111.21ex/s]\n",
      "100%|██████████| 47/47 [00:00<00:00, 2282.44ex/s]\n",
      "100%|██████████| 1/1 [00:00<00:00,  9.16ba/s]\n",
      "100%|██████████| 1/1 [00:00<00:00, 51.30ba/s]\n",
      "100%|██████████| 1/1 [00:00<00:00, 53.83ba/s]\n"
     ]
    },
    {
     "name": "stdout",
     "output_type": "stream",
     "text": [
      "60\n",
      "ft_first 50 t5-base 500\n"
     ]
    },
    {
     "name": "stderr",
     "output_type": "stream",
     "text": [
      "Using custom data configuration james-burton--textual-explanations-19ff8605823ae74a\n",
      "Found cached dataset parquet (/home/james/.cache/huggingface/datasets/james-burton___parquet/james-burton--textual-explanations-19ff8605823ae74a/0.0.0/2a3b91fbd88a2c90d1dbbb32b460cf621d31bd5b05b934492fdef7d8d6f236ec)\n",
      "100%|██████████| 3/3 [00:00<00:00, 366.58it/s]\n",
      "100%|██████████| 375/375 [00:00<00:00, 7393.08ex/s]\n",
      "100%|██████████| 47/47 [00:00<00:00, 6463.57ex/s]\n",
      "100%|██████████| 47/47 [00:00<00:00, 6506.23ex/s]\n",
      "100%|██████████| 375/375 [00:00<00:00, 2217.54ex/s]\n",
      "100%|██████████| 47/47 [00:00<00:00, 2214.10ex/s]\n",
      "100%|██████████| 47/47 [00:00<00:00, 2202.64ex/s]\n",
      "100%|██████████| 1/1 [00:00<00:00,  8.97ba/s]\n",
      "100%|██████████| 1/1 [00:00<00:00, 57.07ba/s]\n",
      "100%|██████████| 1/1 [00:00<00:00, 57.81ba/s]\n"
     ]
    },
    {
     "name": "stdout",
     "output_type": "stream",
     "text": [
      "30\n",
      "ft_first 50 facebook/bart-base 500\n"
     ]
    },
    {
     "name": "stderr",
     "output_type": "stream",
     "text": [
      "Using custom data configuration james-burton--textual-explanations-19ff8605823ae74a\n",
      "Found cached dataset parquet (/home/james/.cache/huggingface/datasets/james-burton___parquet/james-burton--textual-explanations-19ff8605823ae74a/0.0.0/2a3b91fbd88a2c90d1dbbb32b460cf621d31bd5b05b934492fdef7d8d6f236ec)\n",
      "100%|██████████| 3/3 [00:00<00:00, 426.08it/s]\n",
      "100%|██████████| 375/375 [00:00<00:00, 7468.14ex/s]\n",
      "100%|██████████| 47/47 [00:00<00:00, 6705.18ex/s]\n",
      "100%|██████████| 47/47 [00:00<00:00, 7108.22ex/s]\n",
      "100%|██████████| 375/375 [00:00<00:00, 2261.14ex/s]\n",
      "100%|██████████| 47/47 [00:00<00:00, 2128.10ex/s]\n",
      "100%|██████████| 47/47 [00:00<00:00, 2349.61ex/s]\n",
      "100%|██████████| 1/1 [00:00<00:00,  9.08ba/s]\n",
      "100%|██████████| 1/1 [00:00<00:00, 51.54ba/s]\n",
      "100%|██████████| 1/1 [00:00<00:00, 54.43ba/s]\n"
     ]
    },
    {
     "name": "stdout",
     "output_type": "stream",
     "text": [
      "31\n"
     ]
    }
   ],
   "source": [
    "lin = 'essel'\n",
    "max_fts = 30\n",
    "model = 't5-base'\n",
    "max_input_len = 500\n",
    "\n",
    "output_dict = {}\n",
    "\n",
    "for lin in ['essel', 'ord_first', 'ft_first']:\n",
    "    for max_fts in [30, 40, 50]:\n",
    "        for max_input_len in [400, 500]:\n",
    "            for model in ['t5-base', 'facebook/bart-base']:\n",
    "                print(lin, max_fts, model, max_input_len)\n",
    "\n",
    "                tokenizer = AutoTokenizer.from_pretrained(model)\n",
    "\n",
    "                dataset = load_dataset(\"james-burton/textual-explanations\")\n",
    "\n",
    "                dataset = dataset.map(lambda x: simplify_narr_question(label_qs(x)),\n",
    "                                        load_from_cache_file=False)\n",
    "\n",
    "                # Form the linearised or stepwise (and linearised) input\n",
    "                dataset = dataset.map(\n",
    "                    lambda x: linearise_input(x, lin, max_fts),\n",
    "                    load_from_cache_file=False\n",
    "                    ) \n",
    "\n",
    "                # Convert to tokens\n",
    "                dataset = dataset.map(\n",
    "                    lambda x: convert_to_features(x, tokenizer, max_input_len), \n",
    "                    batched=True, load_from_cache_file=False\n",
    "                    )\n",
    "                decoded_train = tokenizer.batch_decode(dataset['train']['input_ids'], skip_special_tokens=False)\n",
    "\n",
    "                [len(d) for d in decoded_train]\n",
    "                # Count number of times the string '<pad>' appears in the string \n",
    "                # (i.e. the number of padding tokens)\n",
    "                max_outs = sum([len(re.findall('<pad>', d))==0 for d in decoded_train])\n",
    "                output_dict[(lin, max_fts, model, max_input_len)] = max_outs\n",
    "                print(max_outs)"
   ]
  },
  {
   "cell_type": "code",
   "execution_count": 123,
   "metadata": {},
   "outputs": [
    {
     "data": {
      "text/plain": [
       "{('essel', 30, 't5-base', 400): 43,\n",
       " ('essel', 30, 'facebook/bart-base', 400): 0,\n",
       " ('essel', 30, 't5-base', 500): 0,\n",
       " ('essel', 30, 'facebook/bart-base', 500): 0,\n",
       " ('essel', 40, 't5-base', 400): 65,\n",
       " ('essel', 40, 'facebook/bart-base', 400): 0,\n",
       " ('essel', 40, 't5-base', 500): 26,\n",
       " ('essel', 40, 'facebook/bart-base', 500): 0,\n",
       " ('essel', 50, 't5-base', 400): 65,\n",
       " ('essel', 50, 'facebook/bart-base', 400): 30,\n",
       " ('essel', 50, 't5-base', 500): 35,\n",
       " ('essel', 50, 'facebook/bart-base', 500): 0,\n",
       " ('ord_first', 30, 't5-base', 400): 52,\n",
       " ('ord_first', 30, 'facebook/bart-base', 400): 70,\n",
       " ('ord_first', 30, 't5-base', 500): 0,\n",
       " ('ord_first', 30, 'facebook/bart-base', 500): 0,\n",
       " ('ord_first', 40, 't5-base', 400): 63,\n",
       " ('ord_first', 40, 'facebook/bart-base', 400): 70,\n",
       " ('ord_first', 40, 't5-base', 500): 33,\n",
       " ('ord_first', 40, 'facebook/bart-base', 500): 36,\n",
       " ('ord_first', 50, 't5-base', 400): 63,\n",
       " ('ord_first', 50, 'facebook/bart-base', 400): 70,\n",
       " ('ord_first', 50, 't5-base', 500): 34,\n",
       " ('ord_first', 50, 'facebook/bart-base', 500): 36,\n",
       " ('ft_first', 30, 't5-base', 400): 21,\n",
       " ('ft_first', 30, 'facebook/bart-base', 400): 33,\n",
       " ('ft_first', 30, 't5-base', 500): 0,\n",
       " ('ft_first', 30, 'facebook/bart-base', 500): 0,\n",
       " ('ft_first', 40, 't5-base', 400): 55,\n",
       " ('ft_first', 40, 'facebook/bart-base', 400): 60,\n",
       " ('ft_first', 40, 't5-base', 500): 21,\n",
       " ('ft_first', 40, 'facebook/bart-base', 500): 18,\n",
       " ('ft_first', 50, 't5-base', 400): 55,\n",
       " ('ft_first', 50, 'facebook/bart-base', 400): 60,\n",
       " ('ft_first', 50, 't5-base', 500): 30,\n",
       " ('ft_first', 50, 'facebook/bart-base', 500): 31}"
      ]
     },
     "execution_count": 123,
     "metadata": {},
     "output_type": "execute_result"
    }
   ],
   "source": [
    "output_dict"
   ]
  },
  {
   "cell_type": "code",
   "execution_count": 99,
   "metadata": {},
   "outputs": [
    {
     "data": {
      "text/plain": [
       "'| predicted class | C1 64.66% | other classes | C2 35.34% | features | F5 && F8 && F1 && F11 && F7 && F6 && F16 && F15 && F13 && F3 && F14 && F9 && F10 && F2 && F12 && F4 | postive features | F5 && F8 && F1 && F7 && F16 && F15 && F3 && F14 && F9 && F10 | negative features | F11 && F6 && F13 && F2 && F12 && F4 | negligible features | None | <unk>br> <unk>br> Using the above information, answer the following in detail: <unk>br> <unk>br> 1. Summarise the prediction. 2. Summarise the top features. 3. Summarise these moderate features (F6, F16, and F15). 4.</s><pad><pad><pad><pad><pad><pad><pad><pad><pad><pad><pad><pad><pad><pad><pad><pad><pad><pad><pad><pad><pad><pad><pad><pad><pad><pad><pad><pad><pad><pad><pad><pad><pad><pad><pad><pad><pad><pad><pad><pad><pad><pad><pad><pad><pad><pad><pad><pad><pad><pad><pad><pad><pad><pad><pad><pad><pad><pad><pad><pad><pad><pad><pad><pad><pad><pad><pad><pad><pad><pad><pad><pad><pad><pad><pad><pad><pad><pad><pad><pad><pad><pad><pad><pad><pad><pad><pad><pad><pad><pad><pad><pad><pad><pad><pad><pad><pad><pad><pad><pad><pad><pad><pad><pad><pad><pad><pad><pad><pad><pad><pad><pad><pad><pad><pad><pad><pad><pad><pad><pad><pad><pad><pad><pad><pad><pad><pad><pad><pad><pad><pad><pad><pad><pad><pad><pad><pad><pad><pad><pad><pad><pad>'"
      ]
     },
     "execution_count": 99,
     "metadata": {},
     "output_type": "execute_result"
    }
   ],
   "source": [
    "decoded_train[0]"
   ]
  },
  {
   "cell_type": "code",
   "execution_count": 152,
   "metadata": {},
   "outputs": [
    {
     "name": "stdout",
     "output_type": "stream",
     "text": [
      "essel 35 t5-base 500\n"
     ]
    },
    {
     "name": "stderr",
     "output_type": "stream",
     "text": [
      "Using custom data configuration james-burton--textual-explanations-19ff8605823ae74a\n",
      "Found cached dataset parquet (/home/james/.cache/huggingface/datasets/james-burton___parquet/james-burton--textual-explanations-19ff8605823ae74a/0.0.0/2a3b91fbd88a2c90d1dbbb32b460cf621d31bd5b05b934492fdef7d8d6f236ec)\n",
      "100%|██████████| 3/3 [00:00<00:00, 951.16it/s]\n",
      "100%|██████████| 375/375 [00:00<00:00, 7463.35ex/s]\n",
      "100%|██████████| 47/47 [00:00<00:00, 6772.44ex/s]\n",
      "100%|██████████| 47/47 [00:00<00:00, 6620.51ex/s]\n",
      "100%|██████████| 375/375 [00:00<00:00, 2256.38ex/s]\n",
      "100%|██████████| 47/47 [00:00<00:00, 2238.26ex/s]\n",
      "100%|██████████| 47/47 [00:00<00:00, 2336.94ex/s]\n",
      "100%|██████████| 1/1 [00:00<00:00,  8.90ba/s]\n",
      "100%|██████████| 1/1 [00:00<00:00, 49.37ba/s]\n",
      "100%|██████████| 1/1 [00:00<00:00, 55.14ba/s]\n"
     ]
    },
    {
     "name": "stdout",
     "output_type": "stream",
     "text": [
      "0\n",
      "essel 40 t5-base 500\n"
     ]
    },
    {
     "name": "stderr",
     "output_type": "stream",
     "text": [
      "Using custom data configuration james-burton--textual-explanations-19ff8605823ae74a\n",
      "Found cached dataset parquet (/home/james/.cache/huggingface/datasets/james-burton___parquet/james-burton--textual-explanations-19ff8605823ae74a/0.0.0/2a3b91fbd88a2c90d1dbbb32b460cf621d31bd5b05b934492fdef7d8d6f236ec)\n",
      "100%|██████████| 3/3 [00:00<00:00, 1050.50it/s]\n",
      "100%|██████████| 375/375 [00:00<00:00, 6917.15ex/s]\n",
      "100%|██████████| 47/47 [00:00<00:00, 6917.41ex/s]\n",
      "100%|██████████| 47/47 [00:00<00:00, 6729.67ex/s]\n",
      "100%|██████████| 375/375 [00:00<00:00, 2188.75ex/s]\n",
      "100%|██████████| 47/47 [00:00<00:00, 2219.68ex/s]\n",
      "100%|██████████| 47/47 [00:00<00:00, 2256.65ex/s]\n",
      "100%|██████████| 1/1 [00:00<00:00,  8.97ba/s]\n",
      "100%|██████████| 1/1 [00:00<00:00, 53.35ba/s]\n",
      "100%|██████████| 1/1 [00:00<00:00, 57.52ba/s]\n"
     ]
    },
    {
     "name": "stdout",
     "output_type": "stream",
     "text": [
      "0\n",
      "ord_first 35 t5-base 500\n"
     ]
    },
    {
     "name": "stderr",
     "output_type": "stream",
     "text": [
      "Using custom data configuration james-burton--textual-explanations-19ff8605823ae74a\n",
      "Found cached dataset parquet (/home/james/.cache/huggingface/datasets/james-burton___parquet/james-burton--textual-explanations-19ff8605823ae74a/0.0.0/2a3b91fbd88a2c90d1dbbb32b460cf621d31bd5b05b934492fdef7d8d6f236ec)\n",
      "100%|██████████| 3/3 [00:00<00:00, 586.18it/s]\n",
      "100%|██████████| 375/375 [00:00<00:00, 6703.99ex/s]\n",
      "100%|██████████| 47/47 [00:00<00:00, 6029.25ex/s]\n",
      "100%|██████████| 47/47 [00:00<00:00, 6800.71ex/s]\n",
      "100%|██████████| 375/375 [00:00<00:00, 2241.07ex/s]\n",
      "100%|██████████| 47/47 [00:00<00:00, 1682.72ex/s]\n",
      "100%|██████████| 47/47 [00:00<00:00, 2292.42ex/s]\n",
      "100%|██████████| 1/1 [00:00<00:00,  9.06ba/s]\n",
      "100%|██████████| 1/1 [00:00<00:00, 55.71ba/s]\n",
      "100%|██████████| 1/1 [00:00<00:00, 51.93ba/s]\n"
     ]
    },
    {
     "name": "stdout",
     "output_type": "stream",
     "text": [
      "0\n",
      "ord_first 40 t5-base 500\n"
     ]
    },
    {
     "name": "stderr",
     "output_type": "stream",
     "text": [
      "Using custom data configuration james-burton--textual-explanations-19ff8605823ae74a\n",
      "Found cached dataset parquet (/home/james/.cache/huggingface/datasets/james-burton___parquet/james-burton--textual-explanations-19ff8605823ae74a/0.0.0/2a3b91fbd88a2c90d1dbbb32b460cf621d31bd5b05b934492fdef7d8d6f236ec)\n",
      "100%|██████████| 3/3 [00:00<00:00, 746.45it/s]\n",
      "100%|██████████| 375/375 [00:00<00:00, 7654.66ex/s]\n",
      "100%|██████████| 47/47 [00:00<00:00, 6124.97ex/s]\n",
      "100%|██████████| 47/47 [00:00<00:00, 6951.56ex/s]\n",
      "100%|██████████| 375/375 [00:00<00:00, 2231.36ex/s]\n",
      "100%|██████████| 47/47 [00:00<00:00, 2176.31ex/s]\n",
      "100%|██████████| 47/47 [00:00<00:00, 2321.17ex/s]\n",
      "100%|██████████| 1/1 [00:00<00:00,  8.60ba/s]\n",
      "100%|██████████| 1/1 [00:00<00:00, 41.56ba/s]\n",
      "100%|██████████| 1/1 [00:00<00:00, 52.32ba/s]\n"
     ]
    },
    {
     "name": "stdout",
     "output_type": "stream",
     "text": [
      "12\n",
      "ft_first 35 t5-base 500\n"
     ]
    },
    {
     "name": "stderr",
     "output_type": "stream",
     "text": [
      "Using custom data configuration james-burton--textual-explanations-19ff8605823ae74a\n",
      "Found cached dataset parquet (/home/james/.cache/huggingface/datasets/james-burton___parquet/james-burton--textual-explanations-19ff8605823ae74a/0.0.0/2a3b91fbd88a2c90d1dbbb32b460cf621d31bd5b05b934492fdef7d8d6f236ec)\n",
      "100%|██████████| 3/3 [00:00<00:00, 840.77it/s]\n",
      "100%|██████████| 375/375 [00:00<00:00, 7755.28ex/s]\n",
      "100%|██████████| 47/47 [00:00<00:00, 7150.25ex/s]\n",
      "100%|██████████| 47/47 [00:00<00:00, 6820.48ex/s]\n",
      "100%|██████████| 375/375 [00:00<00:00, 2237.26ex/s]\n",
      "100%|██████████| 47/47 [00:00<00:00, 2276.22ex/s]\n",
      "100%|██████████| 47/47 [00:00<00:00, 2292.21ex/s]\n",
      "100%|██████████| 1/1 [00:00<00:00,  8.70ba/s]\n",
      "100%|██████████| 1/1 [00:00<00:00, 54.85ba/s]\n",
      "100%|██████████| 1/1 [00:00<00:00, 44.66ba/s]\n"
     ]
    },
    {
     "name": "stdout",
     "output_type": "stream",
     "text": [
      "0\n",
      "ft_first 40 t5-base 500\n"
     ]
    },
    {
     "name": "stderr",
     "output_type": "stream",
     "text": [
      "Using custom data configuration james-burton--textual-explanations-19ff8605823ae74a\n",
      "Found cached dataset parquet (/home/james/.cache/huggingface/datasets/james-burton___parquet/james-burton--textual-explanations-19ff8605823ae74a/0.0.0/2a3b91fbd88a2c90d1dbbb32b460cf621d31bd5b05b934492fdef7d8d6f236ec)\n",
      "100%|██████████| 3/3 [00:00<00:00, 805.67it/s]\n",
      "100%|██████████| 375/375 [00:00<00:00, 7357.88ex/s]\n",
      "100%|██████████| 47/47 [00:00<00:00, 7037.67ex/s]\n",
      "100%|██████████| 47/47 [00:00<00:00, 6927.13ex/s]\n",
      "100%|██████████| 375/375 [00:00<00:00, 2213.35ex/s]\n",
      "100%|██████████| 47/47 [00:00<00:00, 2247.01ex/s]\n",
      "100%|██████████| 47/47 [00:00<00:00, 2215.59ex/s]\n",
      "100%|██████████| 1/1 [00:00<00:00,  8.37ba/s]\n",
      "100%|██████████| 1/1 [00:00<00:00, 51.00ba/s]\n",
      "100%|██████████| 1/1 [00:00<00:00, 52.40ba/s]\n"
     ]
    },
    {
     "name": "stdout",
     "output_type": "stream",
     "text": [
      "12\n"
     ]
    }
   ],
   "source": [
    "import inflect\n",
    "\n",
    "def linearise_input2(data_row, method, max_fts=15, data_only=False):\n",
    "    \"\"\"Linearise data row to be in chosen form.\"\"\"\n",
    "    sign_dict = {'positive': 'pos', 'negative': 'neg', 'negligible': 'null'}\n",
    "    \n",
    "    \n",
    "    # Linearising the data\n",
    "    chosen_class = data_row[\"predicted_class\"]\n",
    "    classes_dict = eval(data_row[\"classes_dict\"])\n",
    "    other_classes = \"& \".join([f\"{k} {v}\" for k,v in classes_dict.items() if k != chosen_class])\n",
    "    \n",
    "    feature_nums = data_row['feature_nums'][:max_fts]\n",
    "    sign = [sign_dict[s] for s in data_row['sign']][:max_fts]\n",
    "    values = data_row['values'][:max_fts]\n",
    "\n",
    "    fts_and_signs = \"& \".join([f'{a} {b} ' for a, b in zip(feature_nums, sign)])\n",
    "    fts_and_pos = \"& \".join([f'{a} {b} ' for a, b in zip(feature_nums, sign) if b == 'pos'])\n",
    "    fts_and_nega = \"& \".join([f'{a} {b} ' for a, b in zip(feature_nums, sign) if b == 'neg'])\n",
    "    fts_and_negl = \"& \".join([f'{a} {b} ' for a, b in zip(feature_nums, sign) if b == 'null'])\n",
    "    fts_and_negl = 'None' if fts_and_negl == '' else fts_and_negl\n",
    "    \n",
    "    fts = \"& \".join([f'{a} ' for a in feature_nums])\n",
    "    pos_fts = \"& \".join([f'{a} ' for a, b in zip(feature_nums, sign) if b == 'pos'])\n",
    "    nega_fts = \"& \".join([f'{a} ' for a, b in zip(feature_nums, sign) if b == 'neg'])\n",
    "    negl_fts = \"& \".join([f'{a} ' for a, b in zip(data_row['feature_nums'], sign) if b == 'null'])\n",
    "    negl_fts = 'None' if negl_fts == '' else negl_fts\n",
    "\n",
    "    essel_input = f'| predicted class | {chosen_class} {classes_dict[chosen_class]} | other classes | {other_classes} | features | {fts}| postive features | {pos_fts} | negative features | {nega_fts} | negligible features | {negl_fts} |'\n",
    "\n",
    "    p = inflect.engine()\n",
    "\n",
    "    ordinals = [p.ordinal(i+1) for i in range(len(feature_nums))]\n",
    "\n",
    "    ord_first_fts = ' '.join([f'| {o} | {f} {s} {v}' for o, f, s, v in \n",
    "                              zip(ordinals, feature_nums, sign, values)])\n",
    "    ft_first_fts = ' '.join([f'| {f} | {o} {s} {v}' for o, f, s, v in\n",
    "                             zip(ordinals, feature_nums, sign, values)])\n",
    "        \n",
    "    ord_first_input = f'| predicted class | {chosen_class} {classes_dict[chosen_class]} | other classes | {other_classes} {ord_first_fts} |'\n",
    "\n",
    "    ft_first_input = f'| predicted class | {chosen_class} {classes_dict[chosen_class]} | other classes | {other_classes} {ft_first_fts} |'\n",
    "\n",
    "    if data_only:\n",
    "        preamble = ''\n",
    "        questions = ''\n",
    "    else:\n",
    "        # Preamble\n",
    "        preamble = \" | Questions | \"\n",
    "        questions = ' '.join([f'{idx+1}. {q}' for idx, q in \n",
    "                            enumerate(data_row['narrative_questions'])])\n",
    "\n",
    "    if method == 'essel':\n",
    "        data_row['input'] = essel_input + preamble + questions\n",
    "    elif method == 'ord_first':\n",
    "        data_row['input'] = ord_first_input + preamble + questions\n",
    "    elif method == 'ft_first':\n",
    "        data_row['input'] = ft_first_input + preamble + questions\n",
    "    else:\n",
    "        raise ValueError('method must be one of essel, ord_first or ft_first')\n",
    "\n",
    "    return data_row\n",
    "\n",
    "for lin in ['essel', 'ord_first', 'ft_first']:\n",
    "    for max_fts in [35, 40]:\n",
    "        for max_input_len in [500]:\n",
    "            for model in ['t5-base']:\n",
    "                print(lin, max_fts, model, max_input_len)\n",
    "\n",
    "                tokenizer = AutoTokenizer.from_pretrained(model)\n",
    "\n",
    "                dataset = load_dataset(\"james-burton/textual-explanations\")\n",
    "\n",
    "                dataset = dataset.map(lambda x: simplify_narr_question(label_qs(x)),\n",
    "                                        load_from_cache_file=False)\n",
    "\n",
    "                # Form the linearised or stepwise (and linearised) input\n",
    "                dataset = dataset.map(\n",
    "                    lambda x: linearise_input2(x, lin, max_fts),\n",
    "                    load_from_cache_file=False\n",
    "                    ) \n",
    "\n",
    "                # Convert to tokens\n",
    "                dataset = dataset.map(\n",
    "                    lambda x: convert_to_features(x, tokenizer, max_input_len), \n",
    "                    batched=True, load_from_cache_file=False\n",
    "                    )\n",
    "                decoded_train = tokenizer.batch_decode(dataset['train']['input_ids'], skip_special_tokens=False)\n",
    "\n",
    "                [len(d) for d in decoded_train]\n",
    "                # Count number of times the string '<pad>' appears in the string \n",
    "                # (i.e. the number of padding tokens)\n",
    "                max_outs = sum([len(re.findall('<pad>', d))==0 for d in decoded_train])\n",
    "                output_dict[(lin, max_fts, model, max_input_len, 2)] = max_outs\n",
    "                print(max_outs)"
   ]
  },
  {
   "cell_type": "code",
   "execution_count": 146,
   "metadata": {},
   "outputs": [
    {
     "data": {
      "text/plain": [
       "{('essel', 30, 't5-base', 400): 43,\n",
       " ('essel', 30, 'facebook/bart-base', 400): 0,\n",
       " ('essel', 30, 't5-base', 500): 0,\n",
       " ('essel', 30, 'facebook/bart-base', 500): 0,\n",
       " ('essel', 40, 't5-base', 400): 65,\n",
       " ('essel', 40, 'facebook/bart-base', 400): 0,\n",
       " ('essel', 40, 't5-base', 500): 26,\n",
       " ('essel', 40, 'facebook/bart-base', 500): 0,\n",
       " ('essel', 50, 't5-base', 400): 65,\n",
       " ('essel', 50, 'facebook/bart-base', 400): 30,\n",
       " ('essel', 50, 't5-base', 500): 35,\n",
       " ('essel', 50, 'facebook/bart-base', 500): 0,\n",
       " ('ord_first', 30, 't5-base', 400): 52,\n",
       " ('ord_first', 30, 'facebook/bart-base', 400): 70,\n",
       " ('ord_first', 30, 't5-base', 500): 0,\n",
       " ('ord_first', 30, 'facebook/bart-base', 500): 0,\n",
       " ('ord_first', 40, 't5-base', 400): 63,\n",
       " ('ord_first', 40, 'facebook/bart-base', 400): 70,\n",
       " ('ord_first', 40, 't5-base', 500): 33,\n",
       " ('ord_first', 40, 'facebook/bart-base', 500): 36,\n",
       " ('ord_first', 50, 't5-base', 400): 63,\n",
       " ('ord_first', 50, 'facebook/bart-base', 400): 70,\n",
       " ('ord_first', 50, 't5-base', 500): 34,\n",
       " ('ord_first', 50, 'facebook/bart-base', 500): 36,\n",
       " ('ft_first', 30, 't5-base', 400): 21,\n",
       " ('ft_first', 30, 'facebook/bart-base', 400): 33,\n",
       " ('ft_first', 30, 't5-base', 500): 0,\n",
       " ('ft_first', 30, 'facebook/bart-base', 500): 0,\n",
       " ('ft_first', 40, 't5-base', 400): 55,\n",
       " ('ft_first', 40, 'facebook/bart-base', 400): 60,\n",
       " ('ft_first', 40, 't5-base', 500): 21,\n",
       " ('ft_first', 40, 'facebook/bart-base', 500): 18,\n",
       " ('ft_first', 50, 't5-base', 400): 55,\n",
       " ('ft_first', 50, 'facebook/bart-base', 400): 60,\n",
       " ('ft_first', 50, 't5-base', 500): 30,\n",
       " ('ft_first', 50, 'facebook/bart-base', 500): 31,\n",
       " ('essel', 30, 't5-base', 400, 2): 0,\n",
       " ('essel', 30, 't5-base', 500, 2): 0,\n",
       " ('essel', 40, 't5-base', 400, 2): 0,\n",
       " ('essel', 40, 't5-base', 500, 2): 0,\n",
       " ('essel', 50, 't5-base', 400, 2): 0,\n",
       " ('essel', 50, 't5-base', 500, 2): 0,\n",
       " ('ord_first', 30, 't5-base', 400, 2): 13,\n",
       " ('ord_first', 30, 't5-base', 500, 2): 0,\n",
       " ('ord_first', 40, 't5-base', 400, 2): 53,\n",
       " ('ord_first', 40, 't5-base', 500, 2): 12,\n",
       " ('ord_first', 50, 't5-base', 400, 2): 53,\n",
       " ('ord_first', 50, 't5-base', 500, 2): 31,\n",
       " ('ft_first', 30, 't5-base', 400, 2): 13,\n",
       " ('ft_first', 30, 't5-base', 500, 2): 0,\n",
       " ('ft_first', 40, 't5-base', 400, 2): 53,\n",
       " ('ft_first', 40, 't5-base', 500, 2): 12,\n",
       " ('ft_first', 50, 't5-base', 400, 2): 53,\n",
       " ('ft_first', 50, 't5-base', 500, 2): 31,\n",
       " ('essel', 35, 't5-base', 500, 2): 0,\n",
       " ('ord_first', 35, 't5-base', 500, 2): 0,\n",
       " ('ft_first', 35, 't5-base', 500, 2): 0}"
      ]
     },
     "execution_count": 146,
     "metadata": {},
     "output_type": "execute_result"
    }
   ],
   "source": [
    "output_dict"
   ]
  },
  {
   "cell_type": "code",
   "execution_count": 151,
   "metadata": {},
   "outputs": [
    {
     "name": "stdout",
     "output_type": "stream",
     "text": [
      "ord_first 40 t5-base 500\n"
     ]
    },
    {
     "name": "stderr",
     "output_type": "stream",
     "text": [
      "Using custom data configuration james-burton--textual-explanations-19ff8605823ae74a\n",
      "Found cached dataset parquet (/home/james/.cache/huggingface/datasets/james-burton___parquet/james-burton--textual-explanations-19ff8605823ae74a/0.0.0/2a3b91fbd88a2c90d1dbbb32b460cf621d31bd5b05b934492fdef7d8d6f236ec)\n",
      "100%|██████████| 3/3 [00:00<00:00, 665.13it/s]\n",
      "100%|██████████| 375/375 [00:00<00:00, 6853.26ex/s]\n",
      "100%|██████████| 47/47 [00:00<00:00, 7145.32ex/s]\n",
      "100%|██████████| 47/47 [00:00<00:00, 7029.64ex/s]\n",
      "100%|██████████| 375/375 [00:00<00:00, 2150.57ex/s]\n",
      "100%|██████████| 47/47 [00:00<00:00, 2152.59ex/s]\n",
      "100%|██████████| 47/47 [00:00<00:00, 1904.86ex/s]\n",
      "100%|██████████| 1/1 [00:00<00:00,  9.24ba/s]\n",
      "100%|██████████| 1/1 [00:00<00:00, 57.44ba/s]\n",
      "100%|██████████| 1/1 [00:00<00:00, 56.92ba/s]\n"
     ]
    },
    {
     "name": "stdout",
     "output_type": "stream",
     "text": [
      "| predicted class | C1 64.66% | other classes | C2 35.34% | 1st | F5 pos 0.05 | 2nd | F8 pos 0.03 | 3rd | F1 pos 0.03 | 4th | F11 neg -0.03 | 5th | F7 pos 0.02 | 6th | F6 neg -0.02 | 7th | F16 pos 0.02 | 8th | F15 pos 0.02 | 9th | F13 neg -0.02 | 10th | F3 pos 0.02 | 11th | F14 pos 0.01 | 12th | F9 pos 0.01 | 13th | F10 pos 0.00 | 14th | F2 neg -0.00 | 15th | F12 neg -0.00 | 16th | F4 neg -0.00 | | Questions | 1. Summarise the prediction. 2. Summarise the top features. 3. Summarise these moderate features (F6, F16, and F15). 4.</s><pad><pad><pad><pad><pad><pad><pad><pad><pad><pad><pad><pad><pad><pad><pad><pad><pad><pad><pad><pad><pad><pad><pad><pad><pad><pad><pad><pad><pad><pad><pad><pad><pad><pad><pad><pad><pad><pad><pad><pad><pad><pad><pad><pad><pad><pad><pad><pad><pad><pad><pad><pad><pad><pad><pad><pad><pad><pad><pad><pad><pad><pad><pad><pad><pad><pad><pad><pad><pad><pad><pad><pad><pad><pad><pad><pad><pad><pad><pad><pad><pad><pad><pad><pad><pad><pad><pad><pad><pad><pad><pad><pad><pad><pad><pad><pad><pad><pad><pad><pad><pad><pad><pad><pad><pad><pad><pad><pad><pad><pad><pad><pad><pad><pad><pad><pad><pad><pad><pad><pad><pad><pad><pad><pad><pad><pad><pad><pad><pad><pad><pad><pad><pad><pad><pad><pad><pad><pad><pad><pad><pad><pad><pad><pad><pad><pad><pad><pad><pad><pad><pad><pad><pad><pad><pad><pad><pad><pad><pad><pad><pad><pad><pad><pad><pad><pad><pad><pad><pad><pad><pad><pad><pad><pad><pad><pad><pad><pad><pad><pad><pad><pad><pad><pad><pad><pad><pad><pad><pad><pad><pad><pad><pad><pad><pad><pad><pad><pad><pad><pad><pad><pad><pad><pad><pad><pad><pad><pad><pad><pad><pad><pad><pad><pad><pad><pad><pad><pad><pad><pad><pad><pad><pad><pad><pad><pad><pad><pad><pad><pad><pad><pad><pad><pad><pad><pad><pad><pad><pad><pad><pad><pad><pad><pad><pad><pad><pad><pad><pad><pad><pad><pad><pad><pad><pad><pad><pad><pad><pad><pad><pad><pad><pad><pad><pad><pad><pad><pad><pad><pad><pad><pad><pad><pad><pad><pad>\n",
      "ft_first 40 t5-base 500\n"
     ]
    },
    {
     "name": "stderr",
     "output_type": "stream",
     "text": [
      "Using custom data configuration james-burton--textual-explanations-19ff8605823ae74a\n",
      "Found cached dataset parquet (/home/james/.cache/huggingface/datasets/james-burton___parquet/james-burton--textual-explanations-19ff8605823ae74a/0.0.0/2a3b91fbd88a2c90d1dbbb32b460cf621d31bd5b05b934492fdef7d8d6f236ec)\n",
      "100%|██████████| 3/3 [00:00<00:00, 817.98it/s]\n",
      "100%|██████████| 375/375 [00:00<00:00, 7363.11ex/s]\n",
      "100%|██████████| 47/47 [00:00<00:00, 7035.92ex/s]\n",
      "100%|██████████| 47/47 [00:00<00:00, 7250.71ex/s]\n",
      "100%|██████████| 375/375 [00:00<00:00, 2031.77ex/s]\n",
      "100%|██████████| 47/47 [00:00<00:00, 2168.96ex/s]\n",
      "100%|██████████| 47/47 [00:00<00:00, 2107.19ex/s]\n",
      "100%|██████████| 1/1 [00:00<00:00,  9.13ba/s]\n",
      "100%|██████████| 1/1 [00:00<00:00, 49.97ba/s]\n",
      "100%|██████████| 1/1 [00:00<00:00, 56.90ba/s]\n"
     ]
    },
    {
     "name": "stdout",
     "output_type": "stream",
     "text": [
      "| predicted class | C1 64.66% | other classes | C2 35.34% | F5 | 1st pos 0.05 | F8 | 2nd pos 0.03 | F1 | 3rd pos 0.03 | F11 | 4th neg -0.03 | F7 | 5th pos 0.02 | F6 | 6th neg -0.02 | F16 | 7th pos 0.02 | F15 | 8th pos 0.02 | F13 | 9th neg -0.02 | F3 | 10th pos 0.02 | F14 | 11th pos 0.01 | F9 | 12th pos 0.01 | F10 | 13th pos 0.00 | F2 | 14th neg -0.00 | F12 | 15th neg -0.00 | F4 | 16th neg -0.00 | | Questions | 1. Summarise the prediction. 2. Summarise the top features. 3. Summarise these moderate features (F6, F16, and F15). 4.</s><pad><pad><pad><pad><pad><pad><pad><pad><pad><pad><pad><pad><pad><pad><pad><pad><pad><pad><pad><pad><pad><pad><pad><pad><pad><pad><pad><pad><pad><pad><pad><pad><pad><pad><pad><pad><pad><pad><pad><pad><pad><pad><pad><pad><pad><pad><pad><pad><pad><pad><pad><pad><pad><pad><pad><pad><pad><pad><pad><pad><pad><pad><pad><pad><pad><pad><pad><pad><pad><pad><pad><pad><pad><pad><pad><pad><pad><pad><pad><pad><pad><pad><pad><pad><pad><pad><pad><pad><pad><pad><pad><pad><pad><pad><pad><pad><pad><pad><pad><pad><pad><pad><pad><pad><pad><pad><pad><pad><pad><pad><pad><pad><pad><pad><pad><pad><pad><pad><pad><pad><pad><pad><pad><pad><pad><pad><pad><pad><pad><pad><pad><pad><pad><pad><pad><pad><pad><pad><pad><pad><pad><pad><pad><pad><pad><pad><pad><pad><pad><pad><pad><pad><pad><pad><pad><pad><pad><pad><pad><pad><pad><pad><pad><pad><pad><pad><pad><pad><pad><pad><pad><pad><pad><pad><pad><pad><pad><pad><pad><pad><pad><pad><pad><pad><pad><pad><pad><pad><pad><pad><pad><pad><pad><pad><pad><pad><pad><pad><pad><pad><pad><pad><pad><pad><pad><pad><pad><pad><pad><pad><pad><pad><pad><pad><pad><pad><pad><pad><pad><pad><pad><pad><pad><pad><pad><pad><pad><pad><pad><pad><pad><pad><pad><pad><pad><pad><pad><pad><pad><pad><pad><pad><pad><pad><pad><pad><pad><pad><pad><pad><pad><pad><pad><pad><pad><pad><pad><pad><pad><pad><pad><pad><pad><pad><pad><pad><pad><pad><pad><pad><pad><pad><pad><pad><pad><pad>\n",
      "essel 40 t5-base 500\n"
     ]
    },
    {
     "name": "stderr",
     "output_type": "stream",
     "text": [
      "Using custom data configuration james-burton--textual-explanations-19ff8605823ae74a\n",
      "Found cached dataset parquet (/home/james/.cache/huggingface/datasets/james-burton___parquet/james-burton--textual-explanations-19ff8605823ae74a/0.0.0/2a3b91fbd88a2c90d1dbbb32b460cf621d31bd5b05b934492fdef7d8d6f236ec)\n",
      "100%|██████████| 3/3 [00:00<00:00, 765.94it/s]\n",
      "100%|██████████| 375/375 [00:00<00:00, 7576.67ex/s]\n",
      "100%|██████████| 47/47 [00:00<00:00, 6908.20ex/s]\n",
      "100%|██████████| 47/47 [00:00<00:00, 6398.11ex/s]\n",
      "100%|██████████| 375/375 [00:00<00:00, 2277.57ex/s]\n",
      "100%|██████████| 47/47 [00:00<00:00, 2359.71ex/s]\n",
      "100%|██████████| 47/47 [00:00<00:00, 2355.28ex/s]\n",
      "100%|██████████| 1/1 [00:00<00:00,  9.89ba/s]\n",
      "100%|██████████| 1/1 [00:00<00:00, 50.82ba/s]\n",
      "100%|██████████| 1/1 [00:00<00:00, 60.04ba/s]\n"
     ]
    },
    {
     "name": "stdout",
     "output_type": "stream",
     "text": [
      "| predicted class | C1 64.66% | other classes | C2 35.34% | features | F5 & F8 & F1 & F11 & F7 & F6 & F16 & F15 & F13 & F3 & F14 & F9 & F10 & F2 & F12 & F4 | postive features | F5 & F8 & F1 & F7 & F16 & F15 & F3 & F14 & F9 & F10 | negative features | F11 & F6 & F13 & F2 & F12 & F4 | negligible features | None | | Questions | 1. Summarise the prediction. 2. Summarise the top features. 3. Summarise these moderate features (F6, F16, and F15). 4.</s><pad><pad><pad><pad><pad><pad><pad><pad><pad><pad><pad><pad><pad><pad><pad><pad><pad><pad><pad><pad><pad><pad><pad><pad><pad><pad><pad><pad><pad><pad><pad><pad><pad><pad><pad><pad><pad><pad><pad><pad><pad><pad><pad><pad><pad><pad><pad><pad><pad><pad><pad><pad><pad><pad><pad><pad><pad><pad><pad><pad><pad><pad><pad><pad><pad><pad><pad><pad><pad><pad><pad><pad><pad><pad><pad><pad><pad><pad><pad><pad><pad><pad><pad><pad><pad><pad><pad><pad><pad><pad><pad><pad><pad><pad><pad><pad><pad><pad><pad><pad><pad><pad><pad><pad><pad><pad><pad><pad><pad><pad><pad><pad><pad><pad><pad><pad><pad><pad><pad><pad><pad><pad><pad><pad><pad><pad><pad><pad><pad><pad><pad><pad><pad><pad><pad><pad><pad><pad><pad><pad><pad><pad><pad><pad><pad><pad><pad><pad><pad><pad><pad><pad><pad><pad><pad><pad><pad><pad><pad><pad><pad><pad><pad><pad><pad><pad><pad><pad><pad><pad><pad><pad><pad><pad><pad><pad><pad><pad><pad><pad><pad><pad><pad><pad><pad><pad><pad><pad><pad><pad><pad><pad><pad><pad><pad><pad><pad><pad><pad><pad><pad><pad><pad><pad><pad><pad><pad><pad><pad><pad><pad><pad><pad><pad><pad><pad><pad><pad><pad><pad><pad><pad><pad><pad><pad><pad><pad><pad><pad><pad><pad><pad><pad><pad><pad><pad><pad><pad><pad><pad><pad><pad><pad><pad><pad><pad><pad><pad><pad><pad><pad><pad><pad><pad><pad><pad><pad><pad><pad><pad><pad><pad><pad><pad><pad><pad><pad><pad><pad><pad><pad><pad><pad><pad><pad><pad><pad><pad><pad><pad><pad><pad><pad><pad><pad><pad><pad><pad><pad><pad><pad><pad><pad><pad><pad><pad><pad><pad><pad><pad>\n"
     ]
    }
   ],
   "source": [
    "for lin in ['ord_first', 'ft_first', 'essel']:\n",
    "    for max_fts in [40]:\n",
    "        for max_input_len in [500]:\n",
    "            for model in ['t5-base']:\n",
    "                print(lin, max_fts, model, max_input_len)\n",
    "\n",
    "                tokenizer = AutoTokenizer.from_pretrained(model)\n",
    "\n",
    "                dataset = load_dataset(\"james-burton/textual-explanations\")\n",
    "\n",
    "                dataset = dataset.map(lambda x: simplify_narr_question(label_qs(x)),\n",
    "                                        load_from_cache_file=False)\n",
    "\n",
    "                # Form the linearised or stepwise (and linearised) input\n",
    "                dataset = dataset.map(\n",
    "                    lambda x: linearise_input2(x, lin, max_fts),\n",
    "                    load_from_cache_file=False\n",
    "                    ) \n",
    "\n",
    "                # Convert to tokens\n",
    "                dataset = dataset.map(\n",
    "                    lambda x: convert_to_features(x, tokenizer, max_input_len), \n",
    "                    batched=True, load_from_cache_file=False\n",
    "                    )\n",
    "                decoded_train = tokenizer.batch_decode(dataset['train']['input_ids'], skip_special_tokens=False)\n",
    "                \n",
    "                print(decoded_train[0])"
   ]
  },
  {
   "cell_type": "code",
   "execution_count": 139,
   "metadata": {},
   "outputs": [
    {
     "data": {
      "text/plain": [
       "'| F5 | 1st pos 0.05 | F8 | 2nd pos 0.03 | F1 | 3rd pos 0.03 | F11 | 4th neg -0.03 | F7 | 5th pos 0.02 | F6 | 6th neg -0.02 | F16 | 7th pos 0.02 | F15 | 8th pos 0.02 | F13 | 9th neg -0.02 | F3 | 10th pos 0.02 | F14 | 11th pos 0.01 | F9 | 12th pos 0.01 | F10 | 13th pos 0.00 | F2 | 14th neg -0.00 | F12 | 15th neg -0.00 | F4 | 16th neg -0.00 | Questions | 1. Summarise the prediction. 2. Summarise the top features. 3. Summarise these moderate features (F6, F16, and F15). 4.</s><pad><pad><pad><pad><pad><pad><pad><pad><pad><pad><pad><pad><pad><pad><pad><pad><pad><pad><pad><pad><pad><pad><pad><pad><pad><pad><pad><pad><pad><pad><pad><pad><pad><pad><pad><pad><pad><pad><pad><pad><pad><pad><pad><pad><pad><pad><pad><pad><pad><pad><pad><pad><pad><pad><pad><pad><pad><pad><pad><pad><pad><pad><pad><pad><pad><pad><pad><pad><pad><pad><pad><pad><pad><pad><pad><pad><pad><pad><pad><pad><pad><pad><pad><pad><pad><pad><pad><pad><pad><pad><pad><pad><pad><pad><pad><pad><pad><pad><pad><pad><pad><pad><pad><pad><pad><pad><pad><pad><pad><pad><pad><pad><pad><pad><pad><pad><pad><pad><pad><pad><pad><pad><pad><pad><pad><pad><pad><pad><pad><pad><pad><pad><pad><pad><pad><pad><pad><pad><pad><pad><pad><pad><pad><pad><pad><pad><pad><pad><pad><pad><pad><pad><pad><pad><pad><pad><pad><pad><pad><pad><pad><pad><pad><pad><pad><pad><pad><pad><pad><pad><pad><pad><pad><pad><pad><pad><pad><pad><pad><pad><pad><pad><pad><pad><pad><pad><pad><pad><pad><pad><pad><pad><pad><pad><pad><pad><pad><pad><pad><pad><pad><pad><pad><pad><pad><pad><pad><pad><pad><pad><pad><pad><pad><pad><pad><pad><pad><pad><pad><pad><pad><pad><pad><pad><pad><pad><pad><pad><pad><pad><pad><pad><pad><pad><pad><pad><pad><pad><pad><pad><pad><pad><pad><pad><pad><pad><pad><pad><pad><pad><pad><pad><pad><pad><pad><pad><pad><pad><pad><pad><pad><pad><pad><pad><pad><pad><pad><pad><pad><pad><pad><pad><pad><pad><pad><pad><pad><pad><pad><pad><pad><pad><pad><pad><pad><pad><pad><pad><pad><pad><pad><pad><pad><pad><pad>'"
      ]
     },
     "execution_count": 139,
     "metadata": {},
     "output_type": "execute_result"
    }
   ],
   "source": []
  }
 ],
 "metadata": {
  "kernelspec": {
   "display_name": "Python 3.10.6 ('env': venv)",
   "language": "python",
   "name": "python3"
  },
  "language_info": {
   "codemirror_mode": {
    "name": "ipython",
    "version": 3
   },
   "file_extension": ".py",
   "mimetype": "text/x-python",
   "name": "python",
   "nbconvert_exporter": "python",
   "pygments_lexer": "ipython3",
   "version": "3.10.6 (main, Nov 14 2022, 16:10:14) [GCC 11.3.0]"
  },
  "orig_nbformat": 4,
  "vscode": {
   "interpreter": {
    "hash": "3f53d471a03fb5b9741311ec5f82522ec5f217d64ed47634b801d3f5199a0064"
   }
  }
 },
 "nbformat": 4,
 "nbformat_minor": 2
}
