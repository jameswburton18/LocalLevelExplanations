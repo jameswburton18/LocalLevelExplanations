{
 "cells": [
  {
   "cell_type": "code",
   "execution_count": 133,
   "metadata": {},
   "outputs": [],
   "source": [
    "import json\n",
    "import numpy as np\n",
    "from collections import Counter\n",
    "import re\n",
    "from nltk import sent_tokenize"
   ]
  },
  {
   "cell_type": "code",
   "execution_count": 17,
   "metadata": {},
   "outputs": [
    {
     "data": {
      "text/plain": [
       "['Hotel Satisfaction',\n",
       " 'Music Concert Attendance',\n",
       " 'Company Bankruptcy Prediction',\n",
       " 'Customer Churn Modelling',\n",
       " 'Concrete Strength Classification',\n",
       " 'Car Acceptability Valuation',\n",
       " 'Student Job Placement',\n",
       " 'Used Cars Price-Range Prediction',\n",
       " 'Student Job Placement',\n",
       " 'Concrete Strength Classification',\n",
       " 'Student Job Placement',\n",
       " 'Tic-Tac-Toe Strategy',\n",
       " 'House Price Classification',\n",
       " 'Advertisement Prediction',\n",
       " 'Music Concert Attendance',\n",
       " 'Mobile Price-Range Classification',\n",
       " 'Cab Surge Pricing System',\n",
       " 'Advertisement Prediction',\n",
       " 'Flight Price-Range Classification',\n",
       " 'Water Quality Classification',\n",
       " 'Employee Attrition',\n",
       " 'Company Bankruptcy Prediction',\n",
       " 'House Price Classification',\n",
       " 'E-Commerce Shipping',\n",
       " 'Printer Sales',\n",
       " 'Hotel Satisfaction',\n",
       " 'Vehicle Insurance Claims',\n",
       " 'Real Estate Investment',\n",
       " 'Vehicle Insurance Claims',\n",
       " 'Insurance Churn',\n",
       " 'Student Job Placement',\n",
       " 'Vehicle Insurance Claims',\n",
       " 'Insurance Churn',\n",
       " 'Credit Card Fraud Classification',\n",
       " 'Tic-Tac-Toe Strategy',\n",
       " 'Student Job Placement',\n",
       " 'Basketball Players Career Length Prediction',\n",
       " 'Flight Price-Range Classification',\n",
       " 'Used Cars Price-Range Prediction',\n",
       " 'Food Ordering Customer Churn Prediction',\n",
       " 'Water Quality Classification',\n",
       " 'Credit Card Fraud Classification',\n",
       " 'Student Job Placement',\n",
       " 'Student Job Placement',\n",
       " 'Employee Attrition',\n",
       " 'Vehicle Insurance Claims',\n",
       " 'Employee Promotion Prediction',\n",
       " 'Wine Quality Prediction',\n",
       " 'Printer Sales',\n",
       " 'Credit Risk Classification',\n",
       " 'Car Acceptability Valuation',\n",
       " 'Flight Price-Range Classification',\n",
       " 'Credit Risk Classification',\n",
       " 'Australian Credit Approval',\n",
       " 'Broadband Sevice Signup',\n",
       " 'Printer Sales',\n",
       " 'Concrete Strength Classification',\n",
       " 'Cab Surge Pricing System',\n",
       " 'House Price Classification',\n",
       " 'Suspicious Bidding Identification',\n",
       " 'Wine Quality Prediction',\n",
       " 'Mobile Price-Range Classification',\n",
       " 'Credit Risk Classification',\n",
       " 'Bike Sharing Demand',\n",
       " 'Cab Surge Pricing System',\n",
       " 'Flight Price-Range Classification',\n",
       " 'Personal Loan Modelling',\n",
       " 'German Credit Evaluation',\n",
       " 'Company Bankruptcy Prediction',\n",
       " 'Suspicious Bidding Identification',\n",
       " 'Airline Passenger Satisfaction',\n",
       " 'Bike Sharing Demand',\n",
       " 'German Credit Evaluation',\n",
       " 'House Price Classification',\n",
       " 'Customer Churn Modelling',\n",
       " 'Insurance Churn',\n",
       " 'Health Care Services Satisfaction Prediction',\n",
       " 'Real Estate Investment',\n",
       " 'Australian Credit Approval',\n",
       " 'Basketball Players Career Length Prediction',\n",
       " 'Annual Income Earnings',\n",
       " 'Airline Passenger Satisfaction',\n",
       " 'Paris House Classification',\n",
       " 'Health Care Services Satisfaction Prediction',\n",
       " 'Employee Promotion Prediction',\n",
       " 'Annual Income Earnings',\n",
       " 'Real Estate Investment',\n",
       " 'Personal Loan Modelling',\n",
       " 'Airline Passenger Satisfaction',\n",
       " 'E-Commerce Shipping',\n",
       " 'Annual Income Earnings',\n",
       " 'Basketball Players Career Length Prediction',\n",
       " 'Ethereum Fraud Detection',\n",
       " 'German Credit Evaluation',\n",
       " 'Paris House Classification',\n",
       " 'Broadband Sevice Signup',\n",
       " 'Customer Churn Modelling',\n",
       " 'Food Ordering Customer Churn Prediction',\n",
       " 'Air Quality Prediction',\n",
       " 'Wine Quality Prediction',\n",
       " 'Wine Quality Prediction',\n",
       " 'Real Estate Investment',\n",
       " 'Concrete Strength Classification',\n",
       " 'Employee Attrition',\n",
       " 'Cab Surge Pricing System',\n",
       " 'Credit Risk Classification',\n",
       " 'Used Cars Price-Range Prediction',\n",
       " 'Real Estate Investment',\n",
       " 'Flight Price-Range Classification',\n",
       " 'Airline Passenger Satisfaction',\n",
       " 'Hotel Satisfaction',\n",
       " 'Advertisement Prediction',\n",
       " 'Advertisement Prediction',\n",
       " 'House Price Classification',\n",
       " 'Suspicious Bidding Identification',\n",
       " 'Food Ordering Customer Churn Prediction',\n",
       " 'Annual Income Earnings',\n",
       " 'Tic-Tac-Toe Strategy',\n",
       " 'E-Commerce Shipping',\n",
       " 'Australian Credit Approval',\n",
       " 'Car Acceptability Valuation',\n",
       " 'Employee Attrition',\n",
       " 'Company Bankruptcy Prediction',\n",
       " 'Customer Churn Modelling',\n",
       " 'Broadband Sevice Signup',\n",
       " 'Tic-Tac-Toe Strategy',\n",
       " 'Basketball Players Career Length Prediction',\n",
       " 'Australian Credit Approval',\n",
       " 'Used Cars Price-Range Prediction',\n",
       " 'House Price Classification',\n",
       " 'Bike Sharing Demand',\n",
       " 'Job Change of Data Scientists',\n",
       " 'Personal Loan Modelling',\n",
       " 'Bike Sharing Demand',\n",
       " 'Mobile Price-Range Classification',\n",
       " 'Employee Attrition',\n",
       " 'German Credit Evaluation',\n",
       " 'German Credit Evaluation',\n",
       " 'Tic-Tac-Toe Strategy',\n",
       " 'Ethereum Fraud Detection',\n",
       " 'Wine Quality Prediction',\n",
       " 'Broadband Sevice Signup',\n",
       " 'Employee Promotion Prediction',\n",
       " 'Water Quality Classification',\n",
       " 'Personal Loan Modelling',\n",
       " 'Credit Card Fraud Classification',\n",
       " 'Printer Sales',\n",
       " 'Credit Card Fraud Classification',\n",
       " 'Printer Sales',\n",
       " 'Ethereum Fraud Detection',\n",
       " 'Australian Credit Approval',\n",
       " 'Personal Loan Modelling',\n",
       " 'Employee Promotion Prediction',\n",
       " 'Insurance Churn',\n",
       " 'Advertisement Prediction',\n",
       " 'House Price Classification',\n",
       " 'Concrete Strength Classification',\n",
       " 'Mobile Price-Range Classification',\n",
       " 'Job Change of Data Scientists',\n",
       " 'Employee Attrition',\n",
       " 'Flight Price-Range Classification',\n",
       " 'Mobile Price-Range Classification',\n",
       " 'Health Care Services Satisfaction Prediction',\n",
       " 'Advertisement Prediction',\n",
       " 'Employee Attrition',\n",
       " 'Paris House Classification',\n",
       " 'Basketball Players Career Length Prediction',\n",
       " 'Company Bankruptcy Prediction',\n",
       " 'Food Ordering Customer Churn Prediction',\n",
       " 'Used Cars Price-Range Prediction',\n",
       " 'Bike Sharing Demand',\n",
       " 'Ethereum Fraud Detection',\n",
       " 'Broadband Sevice Signup',\n",
       " 'Employee Promotion Prediction',\n",
       " 'Annual Income Earnings',\n",
       " 'Flight Price-Range Classification',\n",
       " 'Ethereum Fraud Detection',\n",
       " 'Concrete Strength Classification',\n",
       " 'Food Ordering Customer Churn Prediction',\n",
       " 'Employee Promotion Prediction',\n",
       " 'House Price Classification',\n",
       " 'Car Acceptability Valuation',\n",
       " 'Hotel Satisfaction',\n",
       " 'Airline Passenger Satisfaction',\n",
       " 'Flight Price-Range Classification',\n",
       " 'German Credit Evaluation',\n",
       " 'Wine Quality Prediction',\n",
       " 'Cab Surge Pricing System',\n",
       " 'Customer Churn Modelling',\n",
       " 'Australian Credit Approval',\n",
       " 'Bike Sharing Demand',\n",
       " 'Water Quality Classification',\n",
       " 'Used Cars Price-Range Prediction',\n",
       " 'German Credit Evaluation',\n",
       " 'Wine Quality Prediction',\n",
       " 'Student Job Placement',\n",
       " 'Flight Price-Range Classification',\n",
       " 'Australian Credit Approval',\n",
       " 'Concrete Strength Classification',\n",
       " 'Used Cars Price-Range Prediction',\n",
       " 'Ethereum Fraud Detection',\n",
       " 'Company Bankruptcy Prediction',\n",
       " 'Employee Attrition',\n",
       " 'Flight Price-Range Classification',\n",
       " 'Student Job Placement',\n",
       " 'Paris House Classification',\n",
       " 'Vehicle Insurance Claims',\n",
       " 'Concrete Strength Classification',\n",
       " 'Hotel Satisfaction',\n",
       " 'Printer Sales',\n",
       " 'Car Acceptability Valuation',\n",
       " 'Concrete Strength Classification',\n",
       " 'Hotel Satisfaction',\n",
       " 'Concrete Strength Classification',\n",
       " 'Tic-Tac-Toe Strategy',\n",
       " 'Food Ordering Customer Churn Prediction',\n",
       " 'Employee Attrition',\n",
       " 'Real Estate Investment',\n",
       " 'Wine Quality Prediction',\n",
       " 'Food Ordering Customer Churn Prediction',\n",
       " 'German Credit Evaluation',\n",
       " 'Annual Income Earnings',\n",
       " 'E-Commerce Shipping',\n",
       " 'Employee Promotion Prediction',\n",
       " 'Paris House Classification',\n",
       " 'Paris House Classification',\n",
       " 'House Price Classification',\n",
       " 'House Price Classification',\n",
       " 'Airline Passenger Satisfaction',\n",
       " 'Flight Price-Range Classification',\n",
       " 'Flight Price-Range Classification',\n",
       " 'Cab Surge Pricing System',\n",
       " 'Cab Surge Pricing System',\n",
       " 'Cab Surge Pricing System',\n",
       " 'Cab Surge Pricing System',\n",
       " 'Broadband Sevice Signup',\n",
       " 'Broadband Sevice Signup',\n",
       " 'Flight Price-Range Classification',\n",
       " 'Flight Price-Range Classification',\n",
       " 'Printer Sales',\n",
       " 'Printer Sales',\n",
       " 'Employee Promotion Prediction',\n",
       " 'Food Ordering Customer Churn Prediction',\n",
       " 'Used Cars Price-Range Prediction',\n",
       " 'Flight Price-Range Classification',\n",
       " 'Flight Price-Range Classification',\n",
       " 'Tic-Tac-Toe Strategy',\n",
       " 'Vehicle Insurance Claims',\n",
       " 'Vehicle Insurance Claims',\n",
       " 'Printer Sales',\n",
       " 'Basketball Players Career Length Prediction',\n",
       " 'E-Commerce Shipping',\n",
       " 'Tic-Tac-Toe Strategy',\n",
       " 'Tic-Tac-Toe Strategy',\n",
       " 'Company Bankruptcy Prediction',\n",
       " 'Company Bankruptcy Prediction',\n",
       " 'Customer Churn Modelling',\n",
       " 'E-Commerce Shipping',\n",
       " 'Company Bankruptcy Prediction',\n",
       " 'Flight Price-Range Classification',\n",
       " 'Flight Price-Range Classification',\n",
       " 'Advertisement Prediction',\n",
       " 'Mobile Price-Range Classification',\n",
       " 'Mobile Price-Range Classification',\n",
       " 'Annual Income Earnings',\n",
       " 'Real Estate Investment',\n",
       " 'Advertisement Prediction',\n",
       " 'Customer Churn Modelling',\n",
       " 'Basketball Players Career Length Prediction',\n",
       " 'Student Job Placement',\n",
       " 'Credit Card Fraud Classification',\n",
       " 'Customer Churn Modelling',\n",
       " 'Tic-Tac-Toe Strategy',\n",
       " 'Broadband Sevice Signup',\n",
       " 'Basketball Players Career Length Prediction',\n",
       " 'Annual Income Earnings',\n",
       " 'Annual Income Earnings',\n",
       " 'Credit Risk Classification',\n",
       " 'Credit Risk Classification',\n",
       " 'Used Cars Price-Range Prediction',\n",
       " 'Used Cars Price-Range Prediction',\n",
       " 'Cab Surge Pricing System',\n",
       " 'Cab Surge Pricing System',\n",
       " 'Cab Surge Pricing System',\n",
       " 'Insurance Churn',\n",
       " 'Insurance Churn',\n",
       " 'Credit Risk Classification',\n",
       " 'Credit Risk Classification',\n",
       " 'Airline Passenger Satisfaction',\n",
       " 'Airline Passenger Satisfaction',\n",
       " 'Credit Risk Classification',\n",
       " 'Credit Risk Classification',\n",
       " 'Air Quality Prediction',\n",
       " 'Air Quality Prediction',\n",
       " 'Music Concert Attendance',\n",
       " 'Music Concert Attendance',\n",
       " 'Personal Loan Modelling',\n",
       " 'Personal Loan Modelling',\n",
       " 'Suspicious Bidding Identification',\n",
       " 'Suspicious Bidding Identification',\n",
       " 'German Credit Evaluation',\n",
       " 'German Credit Evaluation',\n",
       " 'Hotel Satisfaction',\n",
       " 'Australian Credit Approval',\n",
       " 'Australian Credit Approval',\n",
       " 'Mobile Price-Range Classification',\n",
       " 'German Credit Evaluation',\n",
       " 'Tic-Tac-Toe Strategy',\n",
       " 'Customer Churn Modelling',\n",
       " 'Car Acceptability Valuation',\n",
       " 'Student Job Placement',\n",
       " 'Student Job Placement',\n",
       " 'Personal Loan Modelling',\n",
       " 'Personal Loan Modelling',\n",
       " 'Australian Credit Approval',\n",
       " 'Australian Credit Approval',\n",
       " 'Ethereum Fraud Detection',\n",
       " 'Ethereum Fraud Detection',\n",
       " 'Printer Sales',\n",
       " 'Printer Sales',\n",
       " 'Credit Card Fraud Classification',\n",
       " 'Credit Card Fraud Classification',\n",
       " 'Printer Sales',\n",
       " 'Printer Sales',\n",
       " 'Credit Card Fraud Classification',\n",
       " 'Personal Loan Modelling',\n",
       " 'Water Quality Classification',\n",
       " 'Employee Promotion Prediction',\n",
       " 'Broadband Sevice Signup',\n",
       " 'Wine Quality Prediction',\n",
       " 'Ethereum Fraud Detection',\n",
       " 'Mobile Price-Range Classification',\n",
       " 'Ethereum Fraud Detection',\n",
       " 'Bike Sharing Demand',\n",
       " 'Used Cars Price-Range Prediction',\n",
       " 'Food Ordering Customer Churn Prediction',\n",
       " 'Company Bankruptcy Prediction',\n",
       " 'Basketball Players Career Length Prediction',\n",
       " 'Paris House Classification',\n",
       " 'Paris House Classification',\n",
       " 'Advertisement Prediction',\n",
       " 'Health Care Services Satisfaction Prediction',\n",
       " 'Mobile Price-Range Classification',\n",
       " 'Flight Price-Range Classification',\n",
       " 'Job Change of Data Scientists',\n",
       " 'Employee Promotion Prediction',\n",
       " 'Advertisement Prediction',\n",
       " 'House Price Classification',\n",
       " 'Concrete Strength Classification',\n",
       " 'Mobile Price-Range Classification',\n",
       " 'Employee Attrition',\n",
       " 'Insurance Churn',\n",
       " 'Company Bankruptcy Prediction',\n",
       " 'Employee Attrition',\n",
       " 'Ethereum Fraud Detection',\n",
       " 'Used Cars Price-Range Prediction',\n",
       " 'Concrete Strength Classification',\n",
       " 'Used Cars Price-Range Prediction',\n",
       " 'Real Estate Investment',\n",
       " 'Air Quality Prediction',\n",
       " 'Air Quality Prediction',\n",
       " 'Food Ordering Customer Churn Prediction',\n",
       " 'Food Ordering Customer Churn Prediction',\n",
       " 'Credit Risk Classification',\n",
       " 'Mobile Price-Range Classification',\n",
       " 'Mobile Price-Range Classification',\n",
       " 'Basketball Players Career Length Prediction',\n",
       " 'Basketball Players Career Length Prediction',\n",
       " 'Food Ordering Customer Churn Prediction',\n",
       " 'Food Ordering Customer Churn Prediction',\n",
       " 'Basketball Players Career Length Prediction',\n",
       " 'Basketball Players Career Length Prediction',\n",
       " 'Hotel Satisfaction',\n",
       " 'Hotel Satisfaction',\n",
       " 'Job Change of Data Scientists',\n",
       " 'Job Change of Data Scientists',\n",
       " 'E-Commerce Shipping',\n",
       " 'E-Commerce Shipping',\n",
       " 'Employee Promotion Prediction',\n",
       " 'Employee Promotion Prediction',\n",
       " 'Employee Attrition',\n",
       " 'Employee Attrition',\n",
       " 'Employee Attrition',\n",
       " 'Vehicle Insurance Claims',\n",
       " 'Vehicle Insurance Claims',\n",
       " 'Advertisement Prediction',\n",
       " 'Advertisement Prediction',\n",
       " 'Printer Sales',\n",
       " 'Printer Sales',\n",
       " 'Health Care Services Satisfaction Prediction',\n",
       " 'Health Care Services Satisfaction Prediction',\n",
       " 'Health Care Services Satisfaction Prediction',\n",
       " 'Annual Income Earnings',\n",
       " 'Annual Income Earnings',\n",
       " 'Annual Income Earnings',\n",
       " 'Annual Income Earnings',\n",
       " 'Airline Passenger Satisfaction',\n",
       " 'Airline Passenger Satisfaction',\n",
       " 'Advertisement Prediction',\n",
       " 'Advertisement Prediction',\n",
       " 'Vehicle Insurance Claims',\n",
       " 'Vehicle Insurance Claims',\n",
       " 'Cab Surge Pricing System',\n",
       " 'House Price Classification',\n",
       " 'Broadband Sevice Signup',\n",
       " 'Mobile Price-Range Classification',\n",
       " 'Health Care Services Satisfaction Prediction',\n",
       " 'Credit Risk Classification',\n",
       " 'Flight Price-Range Classification',\n",
       " 'E-Commerce Shipping',\n",
       " 'German Credit Evaluation',\n",
       " 'Personal Loan Modelling',\n",
       " 'Used Cars Price-Range Prediction',\n",
       " 'Air Quality Prediction',\n",
       " 'Air Quality Prediction',\n",
       " 'Cab Surge Pricing System',\n",
       " 'Cab Surge Pricing System',\n",
       " 'Water Quality Classification',\n",
       " 'Flight Price-Range Classification',\n",
       " 'Flight Price-Range Classification',\n",
       " 'Used Cars Price-Range Prediction',\n",
       " None,\n",
       " None,\n",
       " None,\n",
       " None,\n",
       " None,\n",
       " None,\n",
       " None,\n",
       " None,\n",
       " None,\n",
       " None,\n",
       " None,\n",
       " None,\n",
       " None,\n",
       " None,\n",
       " None,\n",
       " None,\n",
       " None,\n",
       " None,\n",
       " None,\n",
       " None,\n",
       " None,\n",
       " None,\n",
       " None,\n",
       " None,\n",
       " None,\n",
       " None,\n",
       " None,\n",
       " None,\n",
       " None,\n",
       " None,\n",
       " None,\n",
       " None,\n",
       " None,\n",
       " None,\n",
       " None,\n",
       " None,\n",
       " None,\n",
       " None,\n",
       " None,\n",
       " None,\n",
       " None,\n",
       " None,\n",
       " None,\n",
       " None,\n",
       " None,\n",
       " None,\n",
       " None,\n",
       " None,\n",
       " None,\n",
       " None,\n",
       " None,\n",
       " None,\n",
       " None,\n",
       " None,\n",
       " None,\n",
       " None,\n",
       " None,\n",
       " None,\n",
       " None,\n",
       " None,\n",
       " None,\n",
       " None,\n",
       " None,\n",
       " None,\n",
       " None,\n",
       " None,\n",
       " None,\n",
       " None,\n",
       " None,\n",
       " None,\n",
       " None,\n",
       " None,\n",
       " None,\n",
       " None,\n",
       " None,\n",
       " None,\n",
       " None,\n",
       " None,\n",
       " None,\n",
       " None,\n",
       " None,\n",
       " None,\n",
       " None,\n",
       " None,\n",
       " None,\n",
       " None,\n",
       " None,\n",
       " None,\n",
       " None,\n",
       " None,\n",
       " None,\n",
       " None,\n",
       " None,\n",
       " None,\n",
       " None,\n",
       " None,\n",
       " None,\n",
       " None,\n",
       " None,\n",
       " None,\n",
       " None,\n",
       " None,\n",
       " None,\n",
       " None,\n",
       " None,\n",
       " None,\n",
       " None,\n",
       " None,\n",
       " None]"
      ]
     },
     "execution_count": 17,
     "metadata": {},
     "output_type": "execute_result"
    }
   ],
   "source": [
    "data = json.load(open('raw_data/all_train.json',encoding='utf-8'))\n"
   ]
  },
  {
   "cell_type": "code",
   "execution_count": 76,
   "metadata": {},
   "outputs": [
    {
     "data": {
      "text/plain": [
       "dict_keys(['model_name', 'deleted', 'mturk_id', 'predicted_class', 'narrative_status', 'predicted_class_label', 'date_submitted', 'id', 'feature_division', 'date_approved', 'test_instance', 'features_placeholder', 'is_paid', 'task_name', 'prediction_confidence', 'redeem_code', 'narrator', 'narration', 'user_ip', 'narrative_question', 'prediction_confidence_level'])"
      ]
     },
     "execution_count": 76,
     "metadata": {},
     "output_type": "execute_result"
    }
   ],
   "source": [
    "data[0].keys()"
   ]
  },
  {
   "cell_type": "code",
   "execution_count": 19,
   "metadata": {},
   "outputs": [
    {
     "data": {
      "text/plain": [
       "530"
      ]
     },
     "execution_count": 19,
     "metadata": {},
     "output_type": "execute_result"
    }
   ],
   "source": [
    "[i.get('task_name', None) for i in data]"
   ]
  },
  {
   "cell_type": "code",
   "execution_count": 99,
   "metadata": {},
   "outputs": [
    {
     "data": {
      "text/plain": [
       "dict_values([9, 4, 11, 9, 12, 6, 12, 15, 11, 12, 14, 14, 15, 22, 6, 14, 9, 15, 11, 8, 7, 8, 13, 13, 12, 9, 12, 11, 10, 5, 7, 11, 12, 10, 8, 13, 8, 11, 7, 5, 109])"
      ]
     },
     "execution_count": 99,
     "metadata": {},
     "output_type": "execute_result"
    }
   ],
   "source": [
    "from collections import Counter\n",
    "count = Counter([i.get('task_name', None) for i in data])\n",
    "(count.values())"
   ]
  },
  {
   "cell_type": "code",
   "execution_count": 95,
   "metadata": {},
   "outputs": [
    {
     "data": {
      "text/plain": [
       "dict_values([85, 72, 4, 10, 21, 34, 4, 37, 6, 50, 20, 3, 13, 33, 6, 11, 1, 5, 4, 2, 109])"
      ]
     },
     "execution_count": 95,
     "metadata": {},
     "output_type": "execute_result"
    }
   ],
   "source": [
    "count = Counter([i.get('model_name', None) for i in data])\n",
    "(count.most_common())\n",
    "count.values()"
   ]
  },
  {
   "cell_type": "code",
   "execution_count": 101,
   "metadata": {},
   "outputs": [],
   "source": [
    "no_task = [x for x in data if x.get('narrative_question', None) == None]"
   ]
  },
  {
   "cell_type": "code",
   "execution_count": 105,
   "metadata": {},
   "outputs": [
    {
     "data": {
      "text/plain": [
       "109"
      ]
     },
     "execution_count": 105,
     "metadata": {},
     "output_type": "execute_result"
    }
   ],
   "source": [
    "len(no_task)"
   ]
  },
  {
   "cell_type": "code",
   "execution_count": 31,
   "metadata": {},
   "outputs": [],
   "source": [
    "json.dump(no_task, open('no_task.json', 'w', encoding='utf-8'), ensure_ascii=False)"
   ]
  },
  {
   "cell_type": "code",
   "execution_count": 59,
   "metadata": {},
   "outputs": [
    {
     "data": {
      "text/plain": [
       "{'date_approved, date_submitted, deleted, feature_division, features_placeholder, id, is_paid, model_name, mturk_id, narration, narrative_question, narrative_status, narrator, predicted_class, predicted_class_label, prediction_confidence, prediction_confidence_level, redeem_code, task_name, test_instance, user_ip',\n",
       " 'date_approved, date_submitted, deleted, feature_division, features_placeholder, id, is_paid, model_name, mturk_id, narration, narrative_question, narrative_status, narrator, predicted_class, predicted_class_label, prediction_confidence_level, redeem_code, task_name, test_instance, user_ip',\n",
       " 'feature_division, narration, narration3, predicted_class, prediction_confidence_level',\n",
       " 'feature_division, narration, predicted_class, prediction_confidence_level'}"
      ]
     },
     "execution_count": 59,
     "metadata": {},
     "output_type": "execute_result"
    }
   ],
   "source": [
    "set([', '.join(sorted(list(task.keys()))) for task in data])"
   ]
  },
  {
   "cell_type": "markdown",
   "metadata": {},
   "source": [
    "There is only one instance of narration3. I think this must have been an instance where there was 2 narrations for one thing"
   ]
  },
  {
   "cell_type": "code",
   "execution_count": 106,
   "metadata": {},
   "outputs": [
    {
     "data": {
      "text/plain": [
       "[('feature_division, narration, predicted_class, prediction_confidence_level',\n",
       "  108),\n",
       " ('feature_division, narration, narration3, predicted_class, prediction_confidence_level',\n",
       "  1)]"
      ]
     },
     "execution_count": 106,
     "metadata": {},
     "output_type": "execute_result"
    }
   ],
   "source": [
    "Counter([', '.join(sorted(list(task.keys()))) for task in no_task]).most_common()"
   ]
  },
  {
   "cell_type": "code",
   "execution_count": 43,
   "metadata": {},
   "outputs": [
    {
     "data": {
      "text/plain": [
       "3"
      ]
     },
     "execution_count": 43,
     "metadata": {},
     "output_type": "execute_result"
    }
   ],
   "source": [
    "min([(len(d['prediction_confidence_level'].split(','))) for d in no_task])"
   ]
  },
  {
   "cell_type": "code",
   "execution_count": 44,
   "metadata": {},
   "outputs": [],
   "source": [
    "task = [x for x in data if x.get('task_name', None) != None]"
   ]
  },
  {
   "cell_type": "code",
   "execution_count": 46,
   "metadata": {},
   "outputs": [
    {
     "data": {
      "text/plain": [
       "4"
      ]
     },
     "execution_count": 46,
     "metadata": {},
     "output_type": "execute_result"
    }
   ],
   "source": [
    "max([(len(d['prediction_confidence_level'].split(','))) for d in task])"
   ]
  },
  {
   "cell_type": "code",
   "execution_count": 107,
   "metadata": {},
   "outputs": [
    {
     "data": {
      "text/plain": [
       "{'predicted_class': 'C3',\n",
       " 'prediction_confidence_level': 'C1:40.36%, C2:10.15%, C3:49.49%',\n",
       " 'feature_division': {'ranks': [['F14', 0],\n",
       "   ['F8', 1],\n",
       "   ['F15', 2],\n",
       "   ['F28', 3],\n",
       "   ['F2', 4],\n",
       "   ['F36', 5],\n",
       "   ['F30', 6],\n",
       "   ['F9', 7],\n",
       "   ['F26', 8],\n",
       "   ['F3', 9],\n",
       "   ['F18', 10],\n",
       "   ['F13', 11],\n",
       "   ['F35', 12],\n",
       "   ['F33', 13],\n",
       "   ['F32', 14],\n",
       "   ['F34', 15],\n",
       "   ['F38', 16],\n",
       "   ['F42', 17],\n",
       "   ['F23', 18],\n",
       "   ['F43', 19],\n",
       "   ['F12', 20],\n",
       "   ['F31', 21],\n",
       "   ['F4', 22],\n",
       "   ['F24', 23],\n",
       "   ['F5', 24],\n",
       "   ['F39', 25],\n",
       "   ['F21', 26],\n",
       "   ['F22', 27],\n",
       "   ['F37', 28],\n",
       "   ['F20', 29],\n",
       "   ['F16', 30],\n",
       "   ['F25', 31],\n",
       "   ['F40', 32],\n",
       "   ['F11', 33],\n",
       "   ['F10', 34],\n",
       "   ['F41', 35],\n",
       "   ['F17', 36],\n",
       "   ['F29', 37],\n",
       "   ['F6', 38],\n",
       "   ['F1', 39],\n",
       "   ['F7', 40],\n",
       "   ['F19', 41],\n",
       "   ['F27', 42]],\n",
       "  'contradict': ['F8',\n",
       "   'F28',\n",
       "   'F2',\n",
       "   'F36',\n",
       "   'F30',\n",
       "   'F3',\n",
       "   'F18',\n",
       "   'F13',\n",
       "   'F32',\n",
       "   'F34',\n",
       "   'F38',\n",
       "   'F43',\n",
       "   'F12',\n",
       "   'F31',\n",
       "   'F4',\n",
       "   'F24',\n",
       "   'F22',\n",
       "   'F16',\n",
       "   'F25'],\n",
       "  'support': ['F14',\n",
       "   'F15',\n",
       "   'F9',\n",
       "   'F26',\n",
       "   'F35',\n",
       "   'F33',\n",
       "   'F42',\n",
       "   'F23',\n",
       "   'F5',\n",
       "   'F39',\n",
       "   'F21',\n",
       "   'F37',\n",
       "   'F20',\n",
       "   'F40'],\n",
       "  'ignore': ['F11',\n",
       "   'F10',\n",
       "   'F41',\n",
       "   'F17',\n",
       "   'F29',\n",
       "   'F6',\n",
       "   'F1',\n",
       "   'F7',\n",
       "   'F19',\n",
       "   'F27']},\n",
       " 'narration': 'According to the classifier, C3 is the most probable label, followed by C1 and C2. To be specific, the predicted likelihoods across the classes C1, C3, and C2, respectively are 40.36%, 49.49%, and  10.15%. The moderately high classification confidence could largely be due to the impact of certain input features supplied to the classifier. In fact the attribution analysis indicates that F14, F8, F15, and F28 are the most relevant features resulting in the predicted probabilities across the labels. Other features with moderate contributions include F2, F36, F30, F26, F3, F18, and F9.  Among these top influential features, F8, F28, F2, F36, F30, F3, and F18 have negative contributions that shift the decision in a different direction towards the other possible label. On the contrary, the top positive features encouraging the classifier to label the case as C3 are F14, F15, F9, F26, F35, and F33. Considering the attributions across the positive and negative features, it is not surprising that there is such predicted probabilities for the different classes.'}"
      ]
     },
     "execution_count": 107,
     "metadata": {},
     "output_type": "execute_result"
    }
   ],
   "source": [
    "no_task[0]"
   ]
  },
  {
   "cell_type": "code",
   "execution_count": 121,
   "metadata": {},
   "outputs": [
    {
     "data": {
      "text/plain": [
       "48"
      ]
     },
     "execution_count": 121,
     "metadata": {},
     "output_type": "execute_result"
    }
   ],
   "source": [
    "test = json.load(open('raw_data/test_set_new.json',encoding='utf-8'))\n",
    "len(test)"
   ]
  },
  {
   "cell_type": "code",
   "execution_count": 67,
   "metadata": {},
   "outputs": [
    {
     "data": {
      "text/plain": [
       "[('date_approved, date_submitted, deleted, feature_division, features_placeholder, id, is_paid, model_name, mturk_id, narration, narrative_question, narrative_status, narrator, predicted_class, predicted_class_label, prediction_confidence, prediction_confidence_level, redeem_code, task_name, test_instance, user_ip',\n",
       "  24),\n",
       " ('date_approved, date_submitted, deleted, feature_division, features_placeholder, id, is_paid, model_name, mturk_id, narration, narrative_question, narrative_status, narrator, predicted_class, predicted_class_label, prediction_confidence_level, redeem_code, task_name, test_instance, user_ip',\n",
       "  24)]"
      ]
     },
     "execution_count": 67,
     "metadata": {},
     "output_type": "execute_result"
    }
   ],
   "source": [
    "Counter([', '.join(sorted(list(task.keys()))) for task in test]).most_common()"
   ]
  },
  {
   "cell_type": "code",
   "execution_count": 73,
   "metadata": {},
   "outputs": [
    {
     "data": {
      "text/plain": [
       "31"
      ]
     },
     "execution_count": 73,
     "metadata": {},
     "output_type": "execute_result"
    }
   ],
   "source": [
    "count = Counter([i.get('task_name', None) for i in test])\n",
    "len(count.most_common())"
   ]
  },
  {
   "cell_type": "code",
   "execution_count": 108,
   "metadata": {},
   "outputs": [],
   "source": [
    "all = json.load(open('raw_data/all.json',encoding='utf-8'))"
   ]
  },
  {
   "cell_type": "code",
   "execution_count": 123,
   "metadata": {},
   "outputs": [],
   "source": [
    "test = [x['model_name']+x['task_name'] for x in all if x.get('test_instance', None) != None]\n",
    "train = [x['model_name']+x['task_name'] for x in all if x.get('test_instance', None) == None]"
   ]
  },
  {
   "cell_type": "code",
   "execution_count": 118,
   "metadata": {},
   "outputs": [
    {
     "data": {
      "text/plain": [
       "[('LogisticRegressionUsed Cars Price-Range Prediction', 9),\n",
       " ('LogisticRegressionFlight Price-Range Classification', 9),\n",
       " ('BernoulliNBPersonal Loan Modelling', 8),\n",
       " ('SGDClassifierHouse Price Classification', 8),\n",
       " ('RandomForestClassifierFlight Price-Range Classification', 7),\n",
       " ('RandomForestClassifierCompany Bankruptcy Prediction', 6),\n",
       " ('RandomForestClassifierStudent Job Placement', 6),\n",
       " ('SVM_polyMobile Price-Range Classification', 6),\n",
       " ('DecisionTreeClassifierInsurance Churn', 6),\n",
       " ('GradientBoostingClassifierBasketball Players Career Length Prediction', 6),\n",
       " ('SVMClassifier_polyEmployee Attrition', 6),\n",
       " ('SVM_linearEmployee Promotion Prediction', 6),\n",
       " ('KNeighborsClassifierCredit Risk Classification', 6),\n",
       " ('RandomForestClassifierMobile Price-Range Classification', 6),\n",
       " ('LogisticRegressionAirline Passenger Satisfaction', 6),\n",
       " ('GradientBoostingClassifierParis House Classification', 6),\n",
       " ('KNeighborsClassifierCab Surge Pricing System', 6),\n",
       " ('RandomForestClassifierPrinter Sales', 6),\n",
       " ('LogisticRegressionConcrete Strength Classification', 5),\n",
       " ('SVCAdvertisement Prediction', 5),\n",
       " ('LogisticRegressionCab Surge Pricing System', 5),\n",
       " ('KNeighborsClassifierAdvertisement Prediction', 5),\n",
       " ('SGDClassifierFlight Price-Range Classification', 5),\n",
       " ('RandomForestClassifierCab Surge Pricing System', 5),\n",
       " ('DecisionTreeClassifierCredit Risk Classification', 5),\n",
       " ('SVCGerman Credit Evaluation', 5),\n",
       " ('RandomForestClassifierAnnual Income Earnings', 5),\n",
       " ('MLPClassifierAnnual Income Earnings', 5),\n",
       " ('MLPClassifierEthereum Fraud Detection', 5),\n",
       " ('BernoulliNBCustomer Churn Modelling', 5),\n",
       " ('RandomForestClassifierUsed Cars Price-Range Prediction', 5),\n",
       " ('LogisticRegressionFood Ordering Customer Churn Prediction', 5),\n",
       " ('RandomForestClassifierEmployee Attrition', 5),\n",
       " ('GradientBoostingClassifierFood Ordering Customer Churn Prediction', 5),\n",
       " ('SVMCustomer Churn Modelling', 4),\n",
       " ('DNNConcrete Strength Classification', 4),\n",
       " ('DecisionTreeClassifierCar Acceptability Valuation', 4),\n",
       " ('BernoulliNBStudent Job Placement', 4),\n",
       " ('GaussianNBTic-Tac-Toe Strategy', 4),\n",
       " ('LogisticRegressionMusic Concert Attendance', 4),\n",
       " ('BernoulliNBHotel Satisfaction', 4),\n",
       " ('LogisticRegressionReal Estate Investment', 4),\n",
       " ('SVCVehicle Insurance Claims', 4),\n",
       " ('BernoulliNBCredit Card Fraud Classification', 4),\n",
       " ('KNeighborsClassifierWine Quality Prediction', 4),\n",
       " ('GradientBoostingClassifierPrinter Sales', 4),\n",
       " ('DecisionTreeClassifierConcrete Strength Classification', 4),\n",
       " ('KNeighborsClassifierSuspicious Bidding Identification', 4),\n",
       " ('SGDClassifierAirline Passenger Satisfaction', 4),\n",
       " ('GradientBoostingClassifierHealth Care Services Satisfaction Prediction', 4),\n",
       " ('RandomForestClassifierHealth Care Services Satisfaction Prediction', 4),\n",
       " ('RandomForestClassifierE-Commerce Shipping', 4),\n",
       " ('SVM_linearWine Quality Prediction', 4),\n",
       " ('SVCAustralian Credit Approval', 4),\n",
       " ('GradientBoostingClassifierGerman Credit Evaluation', 4),\n",
       " ('DNNCredit Card Fraud Classification', 4),\n",
       " ('LogisticRegressionHotel Satisfaction', 3),\n",
       " ('LogisticRegressionHouse Price Classification', 3),\n",
       " ('KNeighborsClassifierWater Quality Classification', 3),\n",
       " ('SVMClassifier_linerEmployee Attrition', 3),\n",
       " ('LogisticRegressionE-Commerce Shipping', 3),\n",
       " ('KNeighborsClassifierPrinter Sales', 3),\n",
       " ('DecisionTreeClassifierVehicle Insurance Claims', 3),\n",
       " ('MLPClassifierVehicle Insurance Claims', 3),\n",
       " ('KNeighborsClassifierFood Ordering Customer Churn Prediction', 3),\n",
       " ('LogisticRegressionAustralian Credit Approval', 3),\n",
       " ('GradientBoostingClassifierBroadband Sevice Signup', 3),\n",
       " ('SGDClassifierCompany Bankruptcy Prediction', 3),\n",
       " ('SVCReal Estate Investment', 3),\n",
       " ('BernoulliNBEmployee Promotion Prediction', 3),\n",
       " ('LogisticRegressionBasketball Players Career Length Prediction', 3),\n",
       " ('KNeighborsClassifierGerman Credit Evaluation', 3),\n",
       " ('AdaBoostClassifierAir Quality Prediction', 3),\n",
       " ('RandomForestClassifierCredit Risk Classification', 3),\n",
       " ('KNNClassifierAustralian Credit Approval', 3),\n",
       " ('SVCBroadband Sevice Signup', 3),\n",
       " ('KNeighborsClassifierTic-Tac-Toe Strategy', 3),\n",
       " ('BernoulliNBJob Change of Data Scientists', 3),\n",
       " ('LogisticRegressionEmployee Promotion Prediction', 3),\n",
       " ('SVCWater Quality Classification', 3),\n",
       " ('KNNClassifierCar Acceptability Valuation', 3),\n",
       " ('DNNEthereum Fraud Detection', 3),\n",
       " ('LogisticRegressionAir Quality Prediction', 3),\n",
       " ('SVCJob Change of Data Scientists', 3),\n",
       " ('LogisticRegressionPrinter Sales', 3),\n",
       " ('RandomForestClassifierMusic Concert Attendance', 2),\n",
       " ('LogisticRegressionStudent Job Placement', 2),\n",
       " ('BernoulliNBUsed Cars Price-Range Prediction', 2),\n",
       " ('RandomForestClassifierCredit Card Fraud Classification', 2),\n",
       " ('RandomForestClassifierHouse Price Classification', 2),\n",
       " ('KNeighborsClassifierBike Sharing Demand', 2),\n",
       " ('SVCParis House Classification', 2),\n",
       " ('RandomForestClassifierBroadband Sevice Signup', 2),\n",
       " ('SVCFood Ordering Customer Churn Prediction', 2),\n",
       " ('KNeighborsClassifierReal Estate Investment', 2),\n",
       " ('DecisionTreeClassifierHotel Satisfaction', 2),\n",
       " ('SVCTic-Tac-Toe Strategy', 2),\n",
       " ('KNeighborsClassifierE-Commerce Shipping', 2),\n",
       " ('LogisticRegressionBike Sharing Demand', 2),\n",
       " ('SVM_linearMobile Price-Range Classification', 2),\n",
       " ('LogisticRegressionTic-Tac-Toe Strategy', 2),\n",
       " ('RandomForestClassifierEthereum Fraud Detection', 2),\n",
       " ('LGBMClassifierEmployee Promotion Prediction', 2),\n",
       " ('LogisticRegressionAdvertisement Prediction', 2),\n",
       " ('AdaBoostClassifierBasketball Players Career Length Prediction', 2),\n",
       " ('SVCBike Sharing Demand', 2),\n",
       " ('KNeighborsClassifierEthereum Fraud Detection', 2),\n",
       " ('LogisticRegressionBroadband Sevice Signup', 2),\n",
       " ('SVCFlight Price-Range Classification', 2),\n",
       " ('BernoulliNBGerman Credit Evaluation', 2),\n",
       " ('RandomForestClassifierWine Quality Prediction', 2),\n",
       " ('KNeighborsClassifierCompany Bankruptcy Prediction', 2),\n",
       " ('RandomForestClassifierParis House Classification', 2),\n",
       " ('LogisticRegressionVehicle Insurance Claims', 2),\n",
       " ('LogisticRegressionMobile Price-Range Classification', 2),\n",
       " ('KNeighborsClassifierBasketball Players Career Length Prediction', 2),\n",
       " ('RandomForestClassifierAdvertisement Prediction', 2),\n",
       " ('LogisticRegressionAnnual Income Earnings', 2),\n",
       " ('SVCHealth Care Services Satisfaction Prediction', 2),\n",
       " ('RandomForestClassifierPersonal Loan Modelling', 2),\n",
       " ('SGDClassifierJob Change of Data Scientists', 2),\n",
       " ('MLPClassifierHotel Satisfaction', 2),\n",
       " ('BernoulliNBSuspicious Bidding Identification', 1),\n",
       " ('DNNInsurance Churn', 1),\n",
       " ('GradientBoostingClassifierAustralian Credit Approval', 1),\n",
       " ('SVC_linearPersonal Loan Modelling', 1),\n",
       " ('LogisticRegressionSuspicious Bidding Identification', 1),\n",
       " ('SGDClassifierCar Acceptability Valuation', 1),\n",
       " ('RandomForestClassifierBike Sharing Demand', 1),\n",
       " ('LogisticRegressionPersonal Loan Modelling', 1),\n",
       " ('RandomForestClassifierGerman Credit Evaluation', 1),\n",
       " ('GradientBoostingClassifierAnnual Income Earnings', 1),\n",
       " ('LogisticRegressionCustomer Churn Modelling', 1),\n",
       " ('SVCStudent Job Placement', 1),\n",
       " ('GradientBoostingClassifierAir Quality Prediction', 1),\n",
       " ('BernoulliNBWater Quality Classification', 1),\n",
       " ('SVCE-Commerce Shipping', 1),\n",
       " ('KNeighborsClassifierAir Quality Prediction', 1),\n",
       " ('BernoulliNBCab Surge Pricing System', 1),\n",
       " ('DNNBroadband Sevice Signup', 1),\n",
       " ('GradientBoostingClassifierWater Quality Classification', 1),\n",
       " ('BernoulliNBCredit Risk Classification', 1),\n",
       " ('DecisionTreeClassifierAirline Passenger Satisfaction', 1)]"
      ]
     },
     "execution_count": 118,
     "metadata": {},
     "output_type": "execute_result"
    }
   ],
   "source": [
    "Counter(test).most_common()"
   ]
  },
  {
   "cell_type": "code",
   "execution_count": 120,
   "metadata": {},
   "outputs": [
    {
     "data": {
      "text/plain": [
       "469"
      ]
     },
     "execution_count": 120,
     "metadata": {},
     "output_type": "execute_result"
    }
   ],
   "source": [
    "len(test)"
   ]
  },
  {
   "attachments": {},
   "cell_type": "markdown",
   "metadata": {},
   "source": [
    "## Number of Features"
   ]
  },
  {
   "cell_type": "code",
   "execution_count": 8,
   "metadata": {},
   "outputs": [],
   "source": [
    "from datasets import load_dataset\n",
    "import matplotlib.pyplot as plt"
   ]
  },
  {
   "cell_type": "code",
   "execution_count": 268,
   "metadata": {},
   "outputs": [
    {
     "name": "stderr",
     "output_type": "stream",
     "text": [
      "Using custom data configuration james-burton--textual-explanations-19ff8605823ae74a\n",
      "Found cached dataset parquet (/home/james/.cache/huggingface/datasets/james-burton___parquet/james-burton--textual-explanations-19ff8605823ae74a/0.0.0/2a3b91fbd88a2c90d1dbbb32b460cf621d31bd5b05b934492fdef7d8d6f236ec)\n",
      "Using custom data configuration james-burton--textual-explanations-19ff8605823ae74a\n",
      "Found cached dataset parquet (/home/james/.cache/huggingface/datasets/james-burton___parquet/james-burton--textual-explanations-19ff8605823ae74a/0.0.0/2a3b91fbd88a2c90d1dbbb32b460cf621d31bd5b05b934492fdef7d8d6f236ec)\n",
      "Using custom data configuration james-burton--textual-explanations-19ff8605823ae74a\n",
      "Found cached dataset parquet (/home/james/.cache/huggingface/datasets/james-burton___parquet/james-burton--textual-explanations-19ff8605823ae74a/0.0.0/2a3b91fbd88a2c90d1dbbb32b460cf621d31bd5b05b934492fdef7d8d6f236ec)\n"
     ]
    }
   ],
   "source": [
    "train = load_dataset(\"james-burton/textual-explanations\", split='train')\n",
    "test = load_dataset(\"james-burton/textual-explanations\", split='test')\n",
    "val = load_dataset(\"james-burton/textual-explanations\", split='validation')"
   ]
  },
  {
   "cell_type": "code",
   "execution_count": 11,
   "metadata": {},
   "outputs": [
    {
     "data": {
      "text/plain": [
       "[]"
      ]
     },
     "execution_count": 11,
     "metadata": {},
     "output_type": "execute_result"
    },
    {
     "data": {
      "image/png": "[encoded data removed]",
      "text/plain": [
       "<Figure size 640x480 with 1 Axes>"
      ]
     },
     "metadata": {},
     "output_type": "display_data"
    }
   ],
   "source": [
    "plt.hist([len(fs) for fs in  train['feature_nums']], bins=50)\n",
    "plt.plot()"
   ]
  },
  {
   "attachments": {},
   "cell_type": "markdown",
   "metadata": {},
   "source": [
    "## Saving test narrations"
   ]
  },
  {
   "cell_type": "code",
   "execution_count": 18,
   "metadata": {},
   "outputs": [],
   "source": [
    "with open('../jb_data/narrations_only_test.txt', 'w') as f:\n",
    "    for item in test['narration']:\n",
    "        f.writelines(item + '\\n')\n",
    "                \n"
   ]
  },
  {
   "attachments": {},
   "cell_type": "markdown",
   "metadata": {},
   "source": [
    "## Dataset information"
   ]
  },
  {
   "attachments": {},
   "cell_type": "markdown",
   "metadata": {},
   "source": [
    "Statistics for the train set (length 375)\n",
    "\n",
    "The first question is either:\n",
    "* Summarise the prediction (336 times)\n",
    "* Summarise the ranking of the features (39 times)\n",
    "\n",
    "The second question is either:\n",
    "* Give an overview of the top features (250 times)\n",
    "* Give direction of influence of the following features (86 times)\n",
    "* Summarise the ranking of the features (39 times) ACCOUNTED FOR\n",
    "\n",
    "The third question is either:\n",
    "* Compare and contrast the following features (355 times)\n",
    "* 'For these top features, what are the respective directions of influence on the prediction?'(20 times)\n",
    "\n",
    "198 have 4 or more questions\n",
    "* Describe the direction of the following features (121 times)\n",
    "* Summarise the unimportant features (73 times)\n",
    "* 'Describe the degree of impact of the following features: [blank]?' (4 times)\n",
    "\n",
    "39 have 5 or more questions\n",
    "* 'Provide a statement on the features with the least impact on the prediction made for this test case.' (39 times) ACCOUNTED FOR\n",
    "\n"
   ]
  },
  {
   "attachments": {},
   "cell_type": "markdown",
   "metadata": {},
   "source": [
    "```python\n",
    "reg = re.compile(r'F\\d+')\n",
    "Counter([l['narrative_questions'][1] for l in train if l['narrative_questions'][0] == 'Provide a statement summarizing the prediction made for the test case.']).most_common()\n",
    "[[' '.join(reg.findall(n)) for n in l['narrative_questions']] for l in train if l['narrative_questions'][0] == 'Provide a statement summarizing the prediction made for the test case.']\n",
    "[' '.join(l['feature_nums']) for l in train if l['narrative_questions'][0] == 'Provide a statement summarizing the prediction made for the test case.']\n",
    "```\n",
    "A. For 99 cases the format is:\n",
    "* 'In a single sentence, state the prediction output of the model for the selected test case along with the confidence level of the prediction (if applicable).'\n",
    "* \"In no less three sentences, provide a brief overview of the features with a higher impact on the model's output prediction.\"\n",
    "* 'Describe the degree of impact of the following features: [0-4 fts (after first 7-9)]?' (3 times there are 0)\n",
    "\n",
    "B. For 78 cases the format is:\n",
    "* \"For this test instance, provide information on the predicted label along with the confidence level of the model's decision.\" -->\n",
    "* \"Summarize the top features influencing the model's decision along with the respective directions of influence on the prediction?\"\n",
    "* 'Summarize the direction of influence of the features [the next 3-4 features (after first 2-4)] with moderate impact on the prediction made for this test case.'\n",
    "\n",
    "C. For 53 cases the format is:\n",
    "* 'Summarize the prediction for the given test example?'\n",
    "* \"In two sentences, provide a brief overview of the features with a higher impact on the model's output prediction.\"\n",
    "* 'Compare and contrast the impact of the following attributes  [3-4 seemingly random features] on the model’s prediction of [C1/C2].'\n",
    "* 'Summarize the set of features has little to no impact on the prediction?'\n",
    "\n",
    "D. For 20 cases the format is:\n",
    "* 'Summarize the prediction for the given test example?'\n",
    "* 'For this test case, summarize the top features influencing the model's decision.'\n",
    "* 'For these top features, what are the respective directions of influence on the prediction?'\n",
    "* 'Provide a statement on the set of features has limited impact on the prediction of [C1/C2] by the model for the given test example?'\n",
    "\n",
    "E. For 39 cases the format is:\n",
    "* 'Summarize the prediction made for the test under consideration along with the likelihood of the different possible class labels.'\n",
    "* 'Provide a statement summarizing the ranking of the features as shown in the feature impact plot.'\n",
    "* 'Compare the direction of impact of the features: [2-5 top features].'\n",
    "* 'Summarize the direction of influence of the features [the next 3-4 features] with moderate impact on the prediction made for this test case.'\n",
    "* 'Provide a statement on the features with the least impact on the prediction made for this test case.'\n",
    "\n",
    "F. For 44 cases the format is:\n",
    "* 'Provide a statement summarizing the prediction made for the test case.'\n",
    "* 'For the current test instance, describe the direction of influence of the following features: [2-5 top features]'\n",
    "* 'Compare and contrast the impact of the following features [the next 3-4 features] on the model’s prediction of [C1/C2].'\n",
    "* 'Describe the degree of impact of the following features: [the next 0-4 features]?' (usually 4 unless there are not enough features)\n",
    "\n",
    "G. For 39 cases the format is:\n",
    "* 'Provide a statement summarizing the ranking of the features as shown in the feature impact plot.'\n",
    "* 'Summarize the direction of influence of the features [2-5 top features] on the prediction made for this test case.'\n",
    "* 'Compare the direction of impact of the features: [the next 3-4 features].'\n",
    "* 'Describe the degree of impact of the following features:[the next 0-4 features]'\n",
    "\n",
    "H. For 3 cases the format is:\n",
    "* 'Summarize the prediction made for the test under consideration along with the likelihood of the different possible class labels.'\n",
    "* 'Summarize the direction of influence of the variables [2-3 top features] on the prediction made for this test case.' -->\n",
    "* 'Compare the direction of impact of the variables: [the next 3-4 features].'\n",
    "* 'Describe the degree of impact of the following variables: [the next 3-4 features]?'\n",
    "\n",
    "| Q | A | New Q |\n",
    "| ---- | ---- | ---- |\n",
    "| Summarise the prediction | Note: In E (39) this question is asked across 2 sentences | Summarise the prediction |\n",
    "| Summarise the top features | A-D (250): Top features aren't named, just says 'top features' | a) Summarise the top features |\n",
    "|   | E-H  (125) specifies 2-5 top features | b) Summarise these top features ([fts]) |\n",
    "|   | Note: In D (20) this question is asked across 2 sentences |   |\n",
    "| Summarise moderate fts | A (99): 3-4 named fts (after first 7-9) | Summarise these moderate features ([fts]) |\n",
    "|   | B, C (131): 3-4 named fts (after first 2-4) |   |\n",
    "|   | E-H (125) named fts (the next 3-4) |   |\n",
    "|   | Note: D (20) does not have this Q\n",
    "| Summarise more/lower fts | C-E (112) describe fts with little to no impact (fts not named) | a) Summarise the negligible features |\n",
    "|   | F-H (86) 0-4 named fts | b) Summarise these negligible features ([fts]) |\n",
    "|   | Note: A,B (177) do not have a 4th Q |   |\n"
   ]
  },
  {
   "cell_type": "code",
   "execution_count": 245,
   "metadata": {},
   "outputs": [
    {
     "data": {
      "text/plain": [
       "[('In a single sentence, state the prediction output of the model for the selected test case along with the confidence level of the prediction (if applicable).',\n",
       "  99),\n",
       " (\"For this test instance, provide information on the predicted label along with the confidence level of the model's decision.\",\n",
       "  78),\n",
       " ('Summarize the prediction for the given test example?', 73),\n",
       " ('Provide a statement summarizing the prediction made for the test case.',\n",
       "  44),\n",
       " ('Summarize the prediction made for the test under consideration along with the likelihood of the different possible class labels.',\n",
       "  42),\n",
       " ('Provide a statement summarizing the ranking of the features as shown in the feature impact plot.',\n",
       "  39)]"
      ]
     },
     "execution_count": 245,
     "metadata": {},
     "output_type": "execute_result"
    }
   ],
   "source": [
    "Counter([l['narrative_questions'][0] for l in train ]).most_common()"
   ]
  },
  {
   "cell_type": "code",
   "execution_count": 263,
   "metadata": {},
   "outputs": [
    {
     "data": {
      "text/plain": [
       "[['', '', 'F5 F18 F1', ''],\n",
       " ['', '', 'F10 F12 F2 F21', ''],\n",
       " ['', '', 'F3 F10 F2 F6', ''],\n",
       " ['', '', 'F11 F2 F10 F15', ''],\n",
       " ['', '', 'F31 F15 F7', ''],\n",
       " ['', '', 'F4 F13 F16 F14', ''],\n",
       " ['', '', 'F3 F14 F11 F8', ''],\n",
       " ['', '', 'F2 F4 F5', ''],\n",
       " ['', '', 'F3 F13 F15', ''],\n",
       " ['', '', 'F12 F11 F19', ''],\n",
       " ['', '', 'F9 F59 F63', ''],\n",
       " ['', '', 'F13 F7 F18 F21', ''],\n",
       " ['', '', 'F24 F14 F30 F18', ''],\n",
       " ['', '', 'F4 F7 F5 F2', ''],\n",
       " ['', '', 'F4 F1 F14', ''],\n",
       " ['', '', 'F17 F26 F15', ''],\n",
       " ['', '', 'F8 F7 F1 F4', ''],\n",
       " ['', '', 'F11 F9 F4', ''],\n",
       " ['', '', 'F7 F2 F8', ''],\n",
       " ['', '', 'F15 F5 F4', ''],\n",
       " ['', '', 'F2 F10 F1 F4', ''],\n",
       " ['', '', 'F18 F12 F30 F10', ''],\n",
       " ['', '', 'F8 F7 F9 F1', ''],\n",
       " ['', '', 'F4 F10 F5 F9', ''],\n",
       " ['', '', 'F7 F6 F8', ''],\n",
       " ['', '', 'F4 F9 F7', ''],\n",
       " ['', '', 'F19 F22 F4', ''],\n",
       " ['', '', 'F8 F6 F4 F3', ''],\n",
       " ['', '', 'F9 F3 F2 F10', ''],\n",
       " ['', '', 'F2 F4 F6', ''],\n",
       " ['', '', 'F5 F6 F7', ''],\n",
       " ['', '', 'F8 F5 F7 F1', ''],\n",
       " ['', '', 'F9 F8 F16 F15', ''],\n",
       " ['', '', 'F3 F9 F12', ''],\n",
       " ['', '', 'F10 F3 F1', ''],\n",
       " ['', '', 'F2 F8 F4 F1', ''],\n",
       " ['', '', 'F9 F15 F1', ''],\n",
       " ['', '', 'F7 F4 F3 F2', ''],\n",
       " ['', '', 'F9 F7 F8', ''],\n",
       " ['', '', 'F1 F5 F7 F8', ''],\n",
       " ['', '', 'F16 F1 F5 F9', ''],\n",
       " ['', '', 'F1 F8 F7 F6', ''],\n",
       " ['', '', 'F29 F4 F45', ''],\n",
       " ['', '', 'F21 F20 F1', ''],\n",
       " ['', '', 'F10 F1 F7 F9', ''],\n",
       " ['', '', 'F12 F22 F20', ''],\n",
       " ['', '', 'F31 F42 F43', ''],\n",
       " ['', '', 'F3 F5 F7 F6', ''],\n",
       " ['', '', 'F10 F4 F6 F3', ''],\n",
       " ['', '', 'F3 F7 F1', ''],\n",
       " ['', '', 'F11 F8 F10 F7', ''],\n",
       " ['', '', 'F20 F30 F12', ''],\n",
       " ['', '', 'F6 F3 F2 F4', '']]"
      ]
     },
     "execution_count": 263,
     "metadata": {},
     "output_type": "execute_result"
    }
   ],
   "source": [
    "reg = re.compile(r'F\\d+')\n",
    "[[' '.join(reg.findall(n)) for n in l['narrative_questions']] for l in train if all((l['narrative_questions'][1] == \"In two sentences, provide a brief overview of the features with a higher impact on the model's output prediction.\", 1==1))]\n"
   ]
  },
  {
   "cell_type": "code",
   "execution_count": 262,
   "metadata": {},
   "outputs": [
    {
     "data": {
      "text/plain": [
       "['F3 F20 F10 F5 F18 F1 F17 F4 F15 F14 F19 F9 F16 F12 F6 F2 F7 F11 F8 F13',\n",
       " 'F22 F12 F23 F9 F5 F26 F21 F3 F1 F13 F15 F25 F8 F10 F17 F20 F14 F24 F6 F7 F11 F18 F16 F19 F2 F4',\n",
       " 'F11 F7 F3 F10 F2 F6 F9 F1 F8 F12 F4 F5',\n",
       " 'F8 F14 F11 F2 F10 F15 F6 F16 F3 F12 F7 F4 F1 F13 F9 F5 F17',\n",
       " 'F11 F46 F8 F36 F31 F15 F7 F29 F10 F35 F16 F38 F39 F6 F24 F30 F1 F26 F44 F14 F17 F9 F13 F19 F45 F18 F12 F42 F5 F34 F2 F37 F28 F23 F20 F4 F25 F32 F40 F22 F21 F27 F43 F33 F3 F41',\n",
       " 'F8 F2 F4 F13 F16 F14 F7 F3 F11 F12 F10 F5 F17 F1 F9 F6 F15',\n",
       " 'F2 F4 F3 F14 F11 F8 F17 F7 F10 F6 F16 F19 F18 F1 F15 F5 F9 F13 F12',\n",
       " 'F7 F9 F1 F2 F4 F5 F8 F3 F6',\n",
       " 'F12 F6 F8 F3 F13 F15 F5 F1 F10 F2 F9 F14 F7 F11 F4',\n",
       " 'F26 F6 F16 F18 F4 F12 F11 F19 F22 F25 F23 F24 F2 F3 F13 F21 F17 F7 F20 F1 F5 F8 F9 F10 F14 F15',\n",
       " 'F51 F26 F4 F55 F9 F59 F63 F6 F32 F28 F89 F50 F10 F43 F57 F65 F54 F19 F8 F42 F67 F45 F11 F71 F39 F87 F56 F73 F17 F22 F16 F23 F80 F60 F62 F88 F38 F91 F36 F52 F47 F5 F46 F49 F81 F68 F90 F2 F40 F1 F77 F93 F76 F75 F24 F21 F74 F35 F53 F85 F58 F83 F78 F14 F79 F33 F82 F20 F3 F64 F31 F27 F70 F18 F72 F7 F66 F13 F41 F84 F69 F29 F34 F92 F15 F48 F12 F44 F86 F30 F25 F61 F37',\n",
       " 'F1 F24 F13 F7 F18 F21 F17 F14 F2 F16 F19 F20 F6 F5 F10 F11 F12 F22 F3 F23 F25 F26 F9 F4 F15 F8',\n",
       " 'F27 F12 F24 F14 F30 F18 F26 F2 F20 F22 F13 F21 F17 F23 F10 F28 F25 F5 F6 F8 F15 F7 F9 F29 F11 F1 F16 F19 F3 F4',\n",
       " 'F12 F11 F4 F7 F5 F2 F6 F9 F1 F3 F10 F8',\n",
       " 'F5 F12 F11 F4 F1 F14 F3 F6 F2 F8 F13 F9 F7 F10',\n",
       " 'F1 F7 F2 F8 F3 F17 F26 F15 F4 F19 F6 F24 F25 F13 F10 F23 F21 F12 F11 F16 F14 F18 F9 F20 F5 F22',\n",
       " 'F6 F5 F8 F7 F1 F4 F2 F3 F10 F9',\n",
       " 'F16 F15 F5 F3 F12 F11 F9 F4 F6 F1 F13 F2 F14 F10 F8 F7',\n",
       " 'F9 F6 F10 F5 F4 F7 F2 F8 F1 F3',\n",
       " 'F11 F10 F3 F15 F5 F4 F9 F2 F7 F6 F14 F12 F8 F13 F1',\n",
       " 'F12 F8 F2 F10 F1 F4 F6 F7 F3 F9 F11 F5',\n",
       " 'F23 F1 F18 F12 F30 F10 F11 F16 F29 F24 F8 F15 F7 F28 F9 F17 F14 F6 F25 F26 F5 F2 F4 F27 F21 F13 F20 F22 F3 F19',\n",
       " 'F5 F2 F8 F7 F9 F1 F10 F6 F3 F4',\n",
       " 'F7 F3 F4 F10 F5 F9 F12 F1 F6 F2 F8 F11',\n",
       " 'F4 F11 F9 F7 F6 F8 F5 F2 F12 F10 F1 F14 F3 F13',\n",
       " 'F5 F3 F8 F4 F9 F7 F1 F2 F6',\n",
       " 'F15 F2 F6 F9 F18 F19 F22 F4 F8 F10 F11 F7 F23 F25 F3 F12 F24 F14 F21 F20 F13 F16 F1 F26 F17 F5',\n",
       " 'F10 F9 F8 F6 F4 F3 F11 F2 F5 F7 F1',\n",
       " 'F1 F7 F9 F3 F2 F10 F4 F8 F5 F6',\n",
       " 'F13 F1 F9 F14 F16 F2 F4 F6 F8 F5 F7 F15 F10 F3 F11 F12',\n",
       " 'F1 F3 F9 F5 F6 F7 F11 F10 F8 F2 F4',\n",
       " 'F11 F6 F8 F5 F7 F1 F4 F9 F2 F3 F10',\n",
       " 'F12 F3 F9 F8 F16 F15 F5 F7 F17 F13 F10 F4 F1 F14 F6 F2 F11',\n",
       " 'F8 F10 F16 F3 F9 F12 F4 F1 F20 F14 F15 F18 F13 F11 F6 F2 F7 F17 F19 F5',\n",
       " 'F4 F5 F13 F6 F10 F3 F1 F9 F8 F2 F12 F11 F7',\n",
       " 'F7 F10 F2 F8 F4 F1 F9 F3 F6 F5',\n",
       " 'F14 F11 F6 F8 F10 F9 F15 F1 F5 F3 F12 F7 F2 F4 F16 F13',\n",
       " 'F6 F1 F7 F4 F3 F2 F9 F5 F8',\n",
       " 'F1 F5 F10 F12 F9 F7 F8 F3 F2 F11 F4 F6 F13',\n",
       " 'F4 F2 F1 F5 F7 F8 F9 F3 F6',\n",
       " 'F2 F7 F16 F1 F5 F9 F14 F18 F17 F19 F8 F15 F4 F10 F3 F20 F12 F13 F6 F11',\n",
       " 'F5 F2 F1 F8 F7 F6 F3 F9 F4',\n",
       " 'F40 F8 F5 F22 F6 F29 F4 F45 F27 F36 F7 F35 F42 F2 F23 F21 F13 F9 F33 F1 F30 F32 F28 F39 F14 F37 F46 F19 F43 F17 F12 F16 F3 F10 F26 F18 F20 F15 F44 F11 F38 F31 F24 F34 F25 F41',\n",
       " 'F6 F5 F11 F26 F25 F21 F20 F1 F15 F7 F24 F3 F14 F4 F18 F13 F16 F2 F19 F23 F10 F8 F9 F22 F17 F12',\n",
       " 'F2 F11 F10 F1 F7 F9 F3 F5 F12 F8 F4 F6',\n",
       " 'F27 F1 F29 F12 F22 F20 F8 F15 F10 F3 F2 F5 F7 F28 F23 F11 F14 F21 F30 F19 F6 F25 F9 F16 F4 F26 F13 F18 F17 F24',\n",
       " 'F38 F19 F46 F40 F17 F31 F42 F43 F5 F37 F39 F28 F7 F1 F10 F16 F3 F25 F6 F27 F9 F44 F22 F34 F33 F30 F14 F32 F4 F8 F26 F20 F45 F21 F29 F13 F36 F41 F35 F18 F23 F15 F12 F2 F24 F11',\n",
       " 'F11 F9 F3 F5 F7 F6 F1 F12 F8 F4 F10 F2',\n",
       " 'F9 F5 F10 F4 F6 F3 F15 F13 F7 F16 F8 F1 F2 F11 F14 F17 F12',\n",
       " 'F9 F8 F4 F5 F10 F3 F7 F1 F6 F2',\n",
       " 'F5 F1 F11 F8 F10 F7 F3 F4 F12 F9 F2 F6',\n",
       " 'F28 F13 F1 F20 F30 F12 F10 F6 F14 F16 F15 F21 F3 F22 F18 F8 F11 F9 F24 F29 F25 F5 F27 F23 F7 F19 F2 F17 F4 F26',\n",
       " 'F5 F1 F6 F3 F2 F4']"
      ]
     },
     "execution_count": 262,
     "metadata": {},
     "output_type": "execute_result"
    }
   ],
   "source": [
    "[' '.join(l['feature_nums']) for l in train if all((l['narrative_questions'][1] == , 1==1))]"
   ]
  },
  {
   "cell_type": "code",
   "execution_count": 293,
   "metadata": {},
   "outputs": [
    {
     "data": {
      "text/plain": [
       "[('Provide a statement on the features with the least impact on the prediction made for this test case.',\n",
       "  39)]"
      ]
     },
     "execution_count": 293,
     "metadata": {},
     "output_type": "execute_result"
    }
   ],
   "source": [
    "Counter([l['narrative_questions'][4] for l in train if all((l['narrative_questions'][0] == 'Summarize the prediction made for the test under consideration along with the likelihood of the different possible class labels.', l['narrative_questions'][1]=='Provide a statement summarizing the ranking of the features as shown in the feature impact plot.'))]).most_common()\n",
    "# Counter([len(l['narrative_questions']) for l in train if l['narrative_questions'][0] == 'In a single sentence, state the prediction output of the model for the selected test case along with the confidence level of the prediction (if applicable).']).most_common()"
   ]
  },
  {
   "attachments": {},
   "cell_type": "markdown",
   "metadata": {},
   "source": [
    "## Investigating answers to the questions"
   ]
  },
  {
   "attachments": {},
   "cell_type": "markdown",
   "metadata": {},
   "source": [
    "### Q1: Summarise the ranking of the features\n",
    "What does this mean?\n"
   ]
  },
  {
   "cell_type": "code",
   "execution_count": 98,
   "metadata": {},
   "outputs": [
    {
     "data": {
      "text/plain": [
       "['The classifier is 69.02% certain that the given case is under the class label C1, implying that the likelihood of C2 is only 30.98%',\n",
       " \"According to the machine learning model, it is more likely that the case's label is C2, with a certainty of 100.0%, and this prediction decision is mainly based on the effects of the following features: F8, F10, F6, F9, and F1 on the model\",\n",
       " 'The given case is likely C2 with a confidence level of 87.50% judged based on the values of the input features supplied to the classifier and according to the attributions analysis, F9 and F2 have a high degree of impact',\n",
       " 'The model has classified the instance as C2 due to the effects of the following features: F5, F8, F6, and F2',\n",
       " 'The likelihood of C2 being the correct label for the selected case or instance is 67.54% according to the classifier',\n",
       " 'The confidence level score with respect to each class label suggests that this case should be labelled as C2',\n",
       " 'The prediction probability of C1 is 17.93% and that of C2 is 82.07%',\n",
       " 'All features are shown to have a positive impact on the classification to class C1 or to have no impact at all',\n",
       " \"Deciding the most probable label for the given case on the basis of the values of the input variables, the classification algorithm's output decision is that:  the probability of C2 being the correct label is 79.78%, the probability of C1 is 20.22%\",\n",
       " 'According to the model employed, the label for the case is more likely to be C1',\n",
       " 'With a certainty of 100.0%, the model labels this case as C2 and from the predicted likelihoods across the classes, it can be inferred that the model verdict is that there is a zero chance that the case is under C1',\n",
       " 'According to the classification model employed here, there is a marginal chance that the true label for this test example is C1',\n",
       " 'The classification output observations that follow are based on the information supplied about this specific case',\n",
       " 'For the given case or instance, the model assigns the label C2, with the prediction confidence equal to 56.56%',\n",
       " 'The prediction made for this case by the model is that C1 is most likely the true label, with a confidence level of 72.03% higher than the 27.97% of the C2 label',\n",
       " 'Tasked with labelling cases, the classification model labels the case under consideration as C1 since the probability of C2 is only 20.22%',\n",
       " 'The classifier says that C1 has a 67.54 percent chance of being the correct label for the given example or case; consequently the label C2 has a 33.46 percent chance of being the chosen class',\n",
       " 'The classifier assigns the label C2 since the probability associated with C2 is greater than that of C1',\n",
       " \"It is important to note that the classifier's labelling decision is based solely on the information supplied\",\n",
       " 'According to the classification algorithm, there is 77.69% chance that the given case is part of the C1 population',\n",
       " 'The case given is labelled as C2 with close to an 82.07% confidence level, implying that the likelihood of C1 being the correct label is only 17.93%',\n",
       " \"The classifier's anticipated label for this case is C2 which is a decision that it is highly confident about since the predicted likelihood is 100.0%\",\n",
       " \"According to the model, there is a higher chance that the case's label is C1\",\n",
       " \"The model's prediction for this test case is C2 with an almost 100% confidence level which implies that the likelihood of it being a different class label is closer to 0%\",\n",
       " 'With a moderate likelihood of 50.0%, the label for this case is judged to be C3',\n",
       " 'C2 is the label predicted by the classification model employed and looking at the prediction probabilities, it valid to concluded that the model is very certain about the selected label',\n",
       " 'C3, out of the three potential classes, is the the label assigned with a high probability of 50.0%',\n",
       " 'The label assigned in this case by the classifier is C3, with a moderately high prediction confidence of 66.11%',\n",
       " 'The classification output decision is based solely on the information supplied to the model and it predicts class C4 with a higher confidence level, equal to 94.10%, indicating the model is very confident that the correct label for the given case is not either class C3 or class C1 or class C2',\n",
       " 'Based on the values of the input variables resulting in the predicted likelihoods across the classes, the classification algorithm is confident that the right label for the provided data is C1',\n",
       " 'The predicted label is C1 at a confidence level of 92.11%, insinuating that there is a 7.89% chance that the label could be C2',\n",
       " 'The case is labelled as C2 by the classifier, with the likelihood of this being correct equal to 94.37%, suggesting that there is a slight chance of about 5.63% that this decision could be wrong',\n",
       " 'C2 is the predicted label from the model for this case, and the model is very confident about it since the associated predicted likelihood of C2 is 100.0%',\n",
       " 'There is a high level of uncertainty when it comes to classifying the case here and this is mainly because the label with the highest possibility of 58.75% is C2, while there is a 41.25% chance that it could be C1',\n",
       " 'The prediction by the model for the given observation or case is C2, with the likelihood of being correct equal to 64.11%',\n",
       " 'This case labelled as C2 with 100.0% certainty by the algorithm or model employed here for this classification task hence there is little chance that C1 is the right label choice',\n",
       " 'The label assigned to this test case by the classification model has a 98.21% chance of being C2 and this means that C1 is only about 1.79% likely to be the appropriate class',\n",
       " 'Since the likelihood of C1 is only 9.70%, the classifier generates the label C2 with a confidence level of roughly 91.30% for the provided data or instance',\n",
       " 'The case is labelled as C1 by the model, mainly based on the influence of the following features: F9, F1, F5, and F8']"
      ]
     },
     "execution_count": 98,
     "metadata": {},
     "output_type": "execute_result"
    }
   ],
   "source": [
    "[l['narration'].split(\". \")[0] for l in train if l['narrative_questions'][0] == 'Provide a statement summarizing the ranking of the features as shown in the feature impact plot.']"
   ]
  },
  {
   "cell_type": "markdown",
   "metadata": {},
   "source": [
    "\n",
    "Answers to this question are almost always still the same as what we would have got for the other question: A statement on the prediction of the model."
   ]
  },
  {
   "attachments": {},
   "cell_type": "markdown",
   "metadata": {},
   "source": [
    "### Q2: Summarise the ranking of the features\n",
    "\n",
    "Is this the same as when asked in Q1?"
   ]
  },
  {
   "cell_type": "code",
   "execution_count": 100,
   "metadata": {},
   "outputs": [
    {
     "data": {
      "text/plain": [
       "[\" Regarding the classifier's decision, there is close to an even split on the probability of either of the possible labels is the correct label but the classifier chooses the label as C2\",\n",
       " 'F6 and F10 are deemed the most important features whereas on the other hand all the other features have moderate to minimal amounts of influence',\n",
       " 'The most relevant features that led to the C1 classification verdict are F5, F30, F26, F17, and F15',\n",
       " \"According to the attribution analysis conducted, the different input variables have varying degrees of influence on the model's decision here\",\n",
       " 'F12 and F1 are the most important variables with respect to this classification verdict while all other variables are shown to have a medium or low impact',\n",
       " 'F24 had the largest impact, followed by F23, F9, F18, F14, F10, F11, F2, F8, F21, F20, F27, F4, F12, F15, F19, F13, F16, F30, and finally, F29, which had the smallest non-zero impact',\n",
       " 'F11 is by far the most influential feature whereas F4, F6, and F17 have been recognised as having the biggest effect on prediction output here after F11',\n",
       " 'The prediction probability distribution across the classes C2 and C1 is 2.40% and 97.60%, respectively',\n",
       " 'Not all of the features are found to contribute to the label given here',\n",
       " 'Analysis shows that only 20 of the 46 input variables contribute to the prediction assertion above',\n",
       " 'The above classification decision is largely due to the values of F4, F8, F3, and F14',\n",
       " 'To explain the above prediction conclusion, the analysis revealed that the majority of the features have negative influences or attributions, pushing the prediction away from C2 in favour of C1',\n",
       " 'The decision above is based on the prediction probabilities for the two possible labels, C1 and C2, which are 94.25% and 5.75%, respectively',\n",
       " 'Not all the features are shown to contribute either positively or negatively towards the label assigned here',\n",
       " \"Based on the aforementioned, C1 is the most likely class label for the presented data instance, and according to the attribution analysis, the various input variables had varying degrees of impact on the model's classification judgement\",\n",
       " 'The order of importance of the features for the above classification verdict is F1, F4, F2, F6, F5, F7, F3, and F8',\n",
       " 'F12, F38, and F75 are the key variables that contributed to the classification choice',\n",
       " 'Ranking the contributions of the features to the prediction above, from the most relevant to the least relevant, is as follows: F2, F5, F1, F3, F4, F6, and F7',\n",
       " \"The top two variables with the greatest control over the model in terms of this case's label assignment are F11 and F4 but on the contrary, the rest of the variables have moderate-to-lower influence\",\n",
       " 'C1 has a 90.48% chance of being correct, implying that any of the other labels is highly unlikely',\n",
       " 'However, according to the model, there is a 45.34% chance that C2 could be the label, presenting some level of uncertainty in the classification verdict made here',\n",
       " 'The features are ranked in order of their respective impacts, from most important to least relevant: F10, F11, F9, F7, F12, F3, F6, F4, F8, F2, F1, and F5',\n",
       " 'By analysing the attributions of the input features, they can be ranked according to the level of impact, from the most important feature to the least relevant, as follows: F11, F1, F5, F2, F8, F12, F7, F10, F6, F9, F3, and F4',\n",
       " 'The in-depth analysis found that the bulk of the attributes had negative impacts, driving the prediction away from C1 and toward C2',\n",
       " ' Judging based on the predicted probabilities associated with the other remaining labels, the classifier is 75.0% confident that C3 is the correct label',\n",
       " 'By far, feature F12 had the most impact and following F12 are F5, F15, and F6 have been identified as having the comparable influence on classification',\n",
       " 'According to the model, there is an almost equal distribution in terms of the probability that any one of C1 and C2 is an appropriate label',\n",
       " \"Among the features employed for this classification, F4, F8, F10, F11, F12, and F9 are the top features influencing the model's prediction decision\",\n",
       " 'Just few features out of the entire input features are shown to have control over the prediction made here',\n",
       " 'This is because the probability of the other label, C1, is only 1.03%',\n",
       " 'The most relevant attribute is F5, followed by F7, F1, F6, F8, F9, F3, F4 and finally F2, which is the least relevant',\n",
       " 'The most influential features were F3, F5, and F14',\n",
       " 'First of all, the classification is performed with negligible contributions from the variables F23, F30, F15, F8, and F12 since their attributions are very close to zero',\n",
       " 'For this classification scenario, the input features that have the greatest influence on the end outcome are F22, F20, F37, and F10',\n",
       " 'Based on this, the model assigned the given case the label C2',\n",
       " 'It is fairly confident of its C3 classification and is very certain that the given case is not class C2',\n",
       " 'With the contribution of different variables, the most important variables in this classification decision are F27, F15, F2, F7, and F21',\n",
       " 'The top features contributing either positively or negatively to the labelling decision above include F11, F6, F1, and F3 with the strongest contribution to the prediction of C1 from F11, followed by F3, F6, and F1',\n",
       " 'In terms of the contributions from the different features, the most important features for this classification decision include F44, F8, F3, and F27']"
      ]
     },
     "execution_count": 100,
     "metadata": {},
     "output_type": "execute_result"
    }
   ],
   "source": [
    "[l['narration'].split(\". \")[1] for l in train if l['narrative_questions'][1] == 'Provide a statement summarizing the ranking of the features as shown in the feature impact plot.']"
   ]
  },
  {
   "attachments": {},
   "cell_type": "markdown",
   "metadata": {},
   "source": [
    "Seems to just be a 2 sentence question asking the same thing as the single sentence"
   ]
  },
  {
   "attachments": {},
   "cell_type": "markdown",
   "metadata": {},
   "source": [
    "### Q3: 'For these top features, what are the respective directions of influence on the prediction?' Are these top features named?"
   ]
  },
  {
   "attachments": {},
   "cell_type": "markdown",
   "metadata": {},
   "source": [
    "For these 20 instances,\n",
    "* 'Summarize the prediction for the given test example?'\n",
    "* 'For this test case, summarize the top features influencing the model's decision.'\n",
    "* 'For these top features, what are the respective directions of influence on the prediction?'\n",
    "* 'Provide a statement on the set of features has limited impact on the prediction of [C1/C2] by the model for the given test example?'\n"
   ]
  },
  {
   "cell_type": "code",
   "execution_count": 145,
   "metadata": {},
   "outputs": [
    {
     "data": {
      "text/plain": [
       "[(4, 20)]"
      ]
     },
     "execution_count": 145,
     "metadata": {},
     "output_type": "execute_result"
    }
   ],
   "source": [
    "reg = re.compile(r'F\\d+')\n",
    "[[reg.findall(n) for n in l['narrative_questions']] for l in train if l['narrative_questions'][2] == 'For these top features, what are the respective directions of influence on the prediction?']\n",
    "Counter([len(l['narrative_questions']) for l in train if l['narrative_questions'][2] == 'For these top features, what are the respective directions of influence on the prediction?']).most_common()"
   ]
  },
  {
   "attachments": {},
   "cell_type": "markdown",
   "metadata": {},
   "source": [
    "### Q4: Negligible features: which negligible features are mentioned in the questions"
   ]
  },
  {
   "cell_type": "markdown",
   "metadata": {},
   "source": []
  }
 ],
 "metadata": {
  "kernelspec": {
   "display_name": "Python 3.10.6 ('env': venv)",
   "language": "python",
   "name": "python3"
  },
  "language_info": {
   "codemirror_mode": {
    "name": "ipython",
    "version": 3
   },
   "file_extension": ".py",
   "mimetype": "text/x-python",
   "name": "python",
   "nbconvert_exporter": "python",
   "pygments_lexer": "ipython3",
   "version": "3.10.6 (main, Nov 14 2022, 16:10:14) [GCC 11.3.0]"
  },
  "orig_nbformat": 4,
  "vscode": {
   "interpreter": {
    "hash": "3f53d471a03fb5b9741311ec5f82522ec5f217d64ed47634b801d3f5199a0064"
   }
  }
 },
 "nbformat": 4,
 "nbformat_minor": 2
}
