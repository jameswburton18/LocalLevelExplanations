{
 "cells": [
  {
   "cell_type": "code",
   "execution_count": 5,
   "metadata": {},
   "outputs": [],
   "source": [
    "import json\n",
    "import numpy as np\n",
    "from collections import Counter\n",
    "import re\n",
    "from nltk import sent_tokenize\n",
    "from src.utils import (\n",
    "    linearise_input, convert_to_features, form_stepwise_input, \n",
    "    simplify_feat_names,\n",
    "    label_qs,\n",
    "    simplify_narr_question, label_qs\n",
    ")\n",
    "from transformers import AutoModelForSeq2SeqLM, AutoTokenizer\n",
    "from datasets import load_dataset\n",
    "import matplotlib.pyplot as plt"
   ]
  },
  {
   "attachments": {},
   "cell_type": "markdown",
   "metadata": {},
   "source": [
    "# How many data points have no task?"
   ]
  },
  {
   "cell_type": "code",
   "execution_count": 7,
   "metadata": {},
   "outputs": [
    {
     "data": {
      "text/plain": [
       "[(None, 109),\n",
       " ('Flight Price-Range Classification', 22),\n",
       " ('Used Cars Price-Range Prediction', 15),\n",
       " ('Cab Surge Pricing System', 15),\n",
       " ('Printer Sales', 15),\n",
       " ('Advertisement Prediction', 14),\n",
       " ('Mobile Price-Range Classification', 14),\n",
       " ('Employee Attrition', 14),\n",
       " ('Basketball Players Career Length Prediction', 13),\n",
       " ('Food Ordering Customer Churn Prediction', 13),\n",
       " ('Annual Income Earnings', 13),\n",
       " ('Concrete Strength Classification', 12),\n",
       " ('Student Job Placement', 12),\n",
       " ('House Price Classification', 12),\n",
       " ('Employee Promotion Prediction', 12),\n",
       " ('Credit Risk Classification', 12),\n",
       " ('German Credit Evaluation', 12),\n",
       " ('Company Bankruptcy Prediction', 11),\n",
       " ('Tic-Tac-Toe Strategy', 11),\n",
       " ('Vehicle Insurance Claims', 11),\n",
       " ('Australian Credit Approval', 11),\n",
       " ('Personal Loan Modelling', 11),\n",
       " ('Ethereum Fraud Detection', 11),\n",
       " ('Broadband Sevice Signup', 10),\n",
       " ('Airline Passenger Satisfaction', 10),\n",
       " ('Hotel Satisfaction', 9),\n",
       " ('Customer Churn Modelling', 9),\n",
       " ('E-Commerce Shipping', 9),\n",
       " ('Wine Quality Prediction', 9),\n",
       " ('Real Estate Investment', 8),\n",
       " ('Credit Card Fraud Classification', 8),\n",
       " ('Health Care Services Satisfaction Prediction', 8),\n",
       " ('Paris House Classification', 8),\n",
       " ('Insurance Churn', 7),\n",
       " ('Bike Sharing Demand', 7),\n",
       " ('Air Quality Prediction', 7),\n",
       " ('Car Acceptability Valuation', 6),\n",
       " ('Water Quality Classification', 6),\n",
       " ('Suspicious Bidding Identification', 5),\n",
       " ('Job Change of Data Scientists', 5),\n",
       " ('Music Concert Attendance', 4)]"
      ]
     },
     "execution_count": 7,
     "metadata": {},
     "output_type": "execute_result"
    }
   ],
   "source": [
    "data = json.load(open('../raw_data/all_train.json',encoding='utf-8'))\n",
    "Counter([i.get('task_name', None) for i in data]).most_common()"
   ]
  },
  {
   "cell_type": "code",
   "execution_count": 14,
   "metadata": {},
   "outputs": [],
   "source": [
    "no_task = [x for x in data if x.get('narrative_question', None) == None]\n",
    "task = [x for x in data if x.get('task_name', None) != None]\n",
    "json.dump(no_task, open('no_task.json', 'w', encoding='utf-8'), indent=4)"
   ]
  },
  {
   "cell_type": "markdown",
   "metadata": {},
   "source": [
    "There is only one instance of narration3. I think this must have been an instance where there was 2 narrations for one thing"
   ]
  },
  {
   "cell_type": "code",
   "execution_count": 12,
   "metadata": {},
   "outputs": [
    {
     "data": {
      "text/plain": [
       "[('feature_division, narration, predicted_class, prediction_confidence_level',\n",
       "  108),\n",
       " ('feature_division, narration, narration3, predicted_class, prediction_confidence_level',\n",
       "  1)]"
      ]
     },
     "execution_count": 12,
     "metadata": {},
     "output_type": "execute_result"
    }
   ],
   "source": [
    "Counter([', '.join(sorted(list(task.keys()))) for task in no_task]).most_common()"
   ]
  },
  {
   "cell_type": "code",
   "execution_count": 13,
   "metadata": {},
   "outputs": [
    {
     "data": {
      "text/plain": [
       "[('date_approved, date_submitted, deleted, feature_division, features_placeholder, id, is_paid, model_name, mturk_id, narration, narrative_question, narrative_status, narrator, predicted_class, predicted_class_label, prediction_confidence, prediction_confidence_level, redeem_code, task_name, test_instance, user_ip',\n",
       "  279),\n",
       " ('date_approved, date_submitted, deleted, feature_division, features_placeholder, id, is_paid, model_name, mturk_id, narration, narrative_question, narrative_status, narrator, predicted_class, predicted_class_label, prediction_confidence_level, redeem_code, task_name, test_instance, user_ip',\n",
       "  142)]"
      ]
     },
     "execution_count": 13,
     "metadata": {},
     "output_type": "execute_result"
    }
   ],
   "source": [
    "Counter([', '.join(sorted(list(task.keys()))) for task in task]).most_common()"
   ]
  },
  {
   "cell_type": "code",
   "execution_count": 16,
   "metadata": {},
   "outputs": [
    {
     "data": {
      "text/plain": [
       "48"
      ]
     },
     "execution_count": 16,
     "metadata": {},
     "output_type": "execute_result"
    }
   ],
   "source": [
    "test = json.load(open('../raw_data/test_set_new.json',encoding='utf-8'))\n",
    "len(test)"
   ]
  },
  {
   "cell_type": "code",
   "execution_count": 17,
   "metadata": {},
   "outputs": [
    {
     "data": {
      "text/plain": [
       "[('date_approved, date_submitted, deleted, feature_division, features_placeholder, id, is_paid, model_name, mturk_id, narration, narrative_question, narrative_status, narrator, predicted_class, predicted_class_label, prediction_confidence, prediction_confidence_level, redeem_code, task_name, test_instance, user_ip',\n",
       "  24),\n",
       " ('date_approved, date_submitted, deleted, feature_division, features_placeholder, id, is_paid, model_name, mturk_id, narration, narrative_question, narrative_status, narrator, predicted_class, predicted_class_label, prediction_confidence_level, redeem_code, task_name, test_instance, user_ip',\n",
       "  24)]"
      ]
     },
     "execution_count": 17,
     "metadata": {},
     "output_type": "execute_result"
    }
   ],
   "source": [
    "Counter([', '.join(sorted(list(task.keys()))) for task in test]).most_common()"
   ]
  },
  {
   "cell_type": "code",
   "execution_count": 19,
   "metadata": {},
   "outputs": [
    {
     "data": {
      "text/plain": [
       "[('Job Change of Data Scientists', 3),\n",
       " ('Credit Risk Classification', 3),\n",
       " ('German Credit Evaluation', 3),\n",
       " ('Music Concert Attendance', 2),\n",
       " ('Mobile Price-Range Classification', 2),\n",
       " ('Cab Surge Pricing System', 2),\n",
       " ('Food Ordering Customer Churn Prediction', 2),\n",
       " ('Credit Card Fraud Classification', 2),\n",
       " ('Car Acceptability Valuation', 2),\n",
       " ('Paris House Classification', 2),\n",
       " ('Hotel Satisfaction', 2),\n",
       " ('Water Quality Classification', 2),\n",
       " ('Health Care Services Satisfaction Prediction', 2),\n",
       " ('Employee Promotion Prediction', 2),\n",
       " ('E-Commerce Shipping', 1),\n",
       " ('Ethereum Fraud Detection', 1),\n",
       " ('Air Quality Prediction', 1),\n",
       " ('Wine Quality Prediction', 1),\n",
       " ('House Price Classification', 1),\n",
       " ('Broadband Sevice Signup', 1),\n",
       " ('Vehicle Insurance Claims', 1),\n",
       " ('Concrete Strength Classification', 1),\n",
       " ('Suspicious Bidding Identification', 1),\n",
       " ('Personal Loan Modelling', 1),\n",
       " ('Used Cars Price-Range Prediction', 1),\n",
       " ('Customer Churn Modelling', 1),\n",
       " ('Printer Sales', 1),\n",
       " ('Real Estate Investment', 1),\n",
       " ('Student Job Placement', 1),\n",
       " ('Flight Price-Range Classification', 1),\n",
       " ('Airline Passenger Satisfaction', 1)]"
      ]
     },
     "execution_count": 19,
     "metadata": {},
     "output_type": "execute_result"
    }
   ],
   "source": [
    "Counter([i.get('task_name', None) for i in test]).most_common()"
   ]
  },
  {
   "attachments": {},
   "cell_type": "markdown",
   "metadata": {},
   "source": [
    "## Number of Features"
   ]
  },
  {
   "cell_type": "code",
   "execution_count": 22,
   "metadata": {},
   "outputs": [
    {
     "name": "stderr",
     "output_type": "stream",
     "text": [
      "Using custom data configuration james-burton--textual-explanations-9b8437d58b46f6bb\n",
      "Found cached dataset parquet (/home/james/.cache/huggingface/datasets/james-burton___parquet/james-burton--textual-explanations-9b8437d58b46f6bb/0.0.0/2a3b91fbd88a2c90d1dbbb32b460cf621d31bd5b05b934492fdef7d8d6f236ec)\n",
      "100%|██████████| 3/3 [00:00<00:00, 253.96it/s]\n",
      "Using custom data configuration james-burton--textual-explanations-9b8437d58b46f6bb\n",
      "Found cached dataset parquet (/home/james/.cache/huggingface/datasets/james-burton___parquet/james-burton--textual-explanations-9b8437d58b46f6bb/0.0.0/2a3b91fbd88a2c90d1dbbb32b460cf621d31bd5b05b934492fdef7d8d6f236ec)\n",
      "Using custom data configuration james-burton--textual-explanations-9b8437d58b46f6bb\n",
      "Found cached dataset parquet (/home/james/.cache/huggingface/datasets/james-burton___parquet/james-burton--textual-explanations-9b8437d58b46f6bb/0.0.0/2a3b91fbd88a2c90d1dbbb32b460cf621d31bd5b05b934492fdef7d8d6f236ec)\n",
      "Using custom data configuration james-burton--textual-explanations-9b8437d58b46f6bb\n",
      "Found cached dataset parquet (/home/james/.cache/huggingface/datasets/james-burton___parquet/james-burton--textual-explanations-9b8437d58b46f6bb/0.0.0/2a3b91fbd88a2c90d1dbbb32b460cf621d31bd5b05b934492fdef7d8d6f236ec)\n",
      "100%|██████████| 375/375 [00:00<00:00, 7319.05ex/s]\n"
     ]
    }
   ],
   "source": [
    "dataset = load_dataset(\"james-burton/textual-explanations\")\n",
    "train = load_dataset(\"james-burton/textual-explanations\", split='train')\n",
    "test = load_dataset(\"james-burton/textual-explanations\", split='test')\n",
    "val = load_dataset(\"james-burton/textual-explanations\", split='validation')\n",
    "\n",
    "simple_train = train.map(lambda x: simplify_narr_question(label_qs(x)),\n",
    "                              load_from_cache_file=False)"
   ]
  },
  {
   "cell_type": "code",
   "execution_count": 32,
   "metadata": {},
   "outputs": [],
   "source": [
    "import numpy as np"
   ]
  },
  {
   "cell_type": "code",
   "execution_count": 39,
   "metadata": {},
   "outputs": [
    {
     "name": "stdout",
     "output_type": "stream",
     "text": [
      "93\n",
      "6\n",
      "18.67590618336887\n",
      "10.0\n",
      "12.0\n",
      "20.0\n",
      "15.25593580448332\n"
     ]
    }
   ],
   "source": [
    "lens = [len(n) for n in train['feature_nums']]\n",
    "lens.extend([len(n) for n in test['feature_nums']])\n",
    "lens.extend([len(n) for n in val['feature_nums']])\n",
    "print(max(lens))\n",
    "print(min(lens))\n",
    "print(np.mean(lens))\n",
    "print(np.quantile(lens, 0.25))\n",
    "print(np.median(lens))\n",
    "print(np.quantile(lens, 0.75))\n",
    "print(np.std(lens))"
   ]
  },
  {
   "cell_type": "code",
   "execution_count": 40,
   "metadata": {},
   "outputs": [
    {
     "data": {
      "text/plain": [
       "[]"
      ]
     },
     "execution_count": 40,
     "metadata": {},
     "output_type": "execute_result"
    },
    {
     "data": {
      "image/png": "[encoded data removed]",
      "text/plain": [
       "<Figure size 640x480 with 1 Axes>"
      ]
     },
     "metadata": {},
     "output_type": "display_data"
    }
   ],
   "source": [
    "plt.hist([lens], bins=50)\n",
    "plt.plot()"
   ]
  },
  {
   "attachments": {},
   "cell_type": "markdown",
   "metadata": {},
   "source": [
    "## Dataset information"
   ]
  },
  {
   "attachments": {},
   "cell_type": "markdown",
   "metadata": {},
   "source": [
    "Statistics for the train set (length 375)\n",
    "\n",
    "The first question is either:\n",
    "* Summarise the prediction (336 times)\n",
    "* Summarise the ranking of the features (39 times)\n",
    "\n",
    "The second question is either:\n",
    "* Give an overview of the top features (250 times)\n",
    "* Give direction of influence of the following features (86 times)\n",
    "* Summarise the ranking of the features (39 times) ACCOUNTED FOR\n",
    "\n",
    "The third question is either:\n",
    "* Compare and contrast the following features (355 times)\n",
    "* 'For these top features, what are the respective directions of influence on the prediction?'(20 times)\n",
    "\n",
    "198 have 4 or more questions\n",
    "* Describe the direction of the following features (121 times)\n",
    "* Summarise the unimportant features (73 times)\n",
    "* 'Describe the degree of impact of the following features: [blank]?' (4 times)\n",
    "\n",
    "39 have 5 or more questions\n",
    "* 'Provide a statement on the features with the least impact on the prediction made for this test case.' (39 times) ACCOUNTED FOR\n",
    "\n"
   ]
  },
  {
   "attachments": {},
   "cell_type": "markdown",
   "metadata": {},
   "source": [
    "```python\n",
    "reg = re.compile(r'F\\d+')\n",
    "Counter([l['narrative_questions'][1] for l in train if l['narrative_questions'][0] == 'Provide a statement summarizing the prediction made for the test case.']).most_common()\n",
    "[[' '.join(reg.findall(n)) for n in l['narrative_questions']] for l in train if l['narrative_questions'][0] == 'Provide a statement summarizing the prediction made for the test case.']\n",
    "[' '.join(l['feature_nums']) for l in train if l['narrative_questions'][0] == 'Provide a statement summarizing the prediction made for the test case.']\n",
    "```\n",
    "A. For 99 cases the format is:\n",
    "* 'In a single sentence, state the prediction output of the model for the selected test case along with the confidence level of the prediction (if applicable).'\n",
    "* \"In no less three sentences, provide a brief overview of the features with a higher impact on the model's output prediction.\"\n",
    "* 'Describe the degree of impact of the following features: [0-4 fts (after first 7-9)]?' (3 times there are 0)\n",
    "\n",
    "B. For 78 cases the format is:\n",
    "* \"For this test instance, provide information on the predicted label along with the confidence level of the model's decision.\" -->\n",
    "* \"Summarize the top features influencing the model's decision along with the respective directions of influence on the prediction?\"\n",
    "* 'Summarize the direction of influence of the features [the next 3-4 features (after first 2-4)] with moderate impact on the prediction made for this test case.'\n",
    "\n",
    "C. For 53 cases the format is:\n",
    "* 'Summarize the prediction for the given test example?'\n",
    "* \"In two sentences, provide a brief overview of the features with a higher impact on the model's output prediction.\"\n",
    "* 'Compare and contrast the impact of the following attributes  [3-4 seemingly random features] on the model’s prediction of [C1/C2].'\n",
    "* 'Summarize the set of features has little to no impact on the prediction?'\n",
    "\n",
    "D. For 20 cases the format is:\n",
    "* 'Summarize the prediction for the given test example?'\n",
    "* 'For this test case, summarize the top features influencing the model's decision.'\n",
    "* 'For these top features, what are the respective directions of influence on the prediction?'\n",
    "* 'Provide a statement on the set of features has limited impact on the prediction of [C1/C2] by the model for the given test example?'\n",
    "\n",
    "E. For 39 cases the format is:\n",
    "* 'Summarize the prediction made for the test under consideration along with the likelihood of the different possible class labels.'\n",
    "* 'Provide a statement summarizing the ranking of the features as shown in the feature impact plot.'\n",
    "* 'Compare the direction of impact of the features: [2-5 top features].'\n",
    "* 'Summarize the direction of influence of the features [the next 3-4 features] with moderate impact on the prediction made for this test case.'\n",
    "* 'Provide a statement on the features with the least impact on the prediction made for this test case.'\n",
    "\n",
    "F. For 44 cases the format is:\n",
    "* 'Provide a statement summarizing the prediction made for the test case.'\n",
    "* 'For the current test instance, describe the direction of influence of the following features: [2-5 top features]'\n",
    "* 'Compare and contrast the impact of the following features [the next 3-4 features] on the model’s prediction of [C1/C2].'\n",
    "* 'Describe the degree of impact of the following features: [the next 0-4 features]?' (usually 4 unless there are not enough features)\n",
    "\n",
    "G. For 39 cases the format is:\n",
    "* 'Provide a statement summarizing the ranking of the features as shown in the feature impact plot.'\n",
    "* 'Summarize the direction of influence of the features [2-5 top features] on the prediction made for this test case.'\n",
    "* 'Compare the direction of impact of the features: [the next 3-4 features].'\n",
    "* 'Describe the degree of impact of the following features:[the next 0-4 features]'\n",
    "\n",
    "H. For 3 cases the format is:\n",
    "* 'Summarize the prediction made for the test under consideration along with the likelihood of the different possible class labels.'\n",
    "* 'Summarize the direction of influence of the variables [2-3 top features] on the prediction made for this test case.' -->\n",
    "* 'Compare the direction of impact of the variables: [the next 3-4 features].'\n",
    "* 'Describe the degree of impact of the following variables: [the next 3-4 features]?'\n",
    "\n",
    "| Q | A | New Q |\n",
    "| ---- | ---- | ---- |\n",
    "| Summarise the prediction | Note: In E (39) this question is asked across 2 sentences | Summarise the prediction |\n",
    "| Summarise the top features | A-D (250): Top features aren't named, just says 'top features' | a) Summarise the top features |\n",
    "|   | E-H  (125) specifies 2-5 top features | b) Summarise these top features ([fts]) |\n",
    "|   | Note: In D (20) this question is asked across 2 sentences |   |\n",
    "| Summarise moderate fts | A (99): 3-4 named fts (after first 7-9) | Summarise these moderate features ([fts]) |\n",
    "|   | B, C (131): 3-4 named fts (after first 2-4) |   |\n",
    "|   | E-H (125) named fts (the next 3-4) |   |\n",
    "|   | Note: D (20) does not have this Q\n",
    "| Summarise more/lower fts | C-E (112) describe fts with little to no impact (fts not named) | a) Summarise the negligible features |\n",
    "|   | F-H (86) 0-4 named fts | b) Summarise these negligible features ([fts]) |\n",
    "|   | Note: A,B (177) do not have a 4th Q |   |\n"
   ]
  },
  {
   "cell_type": "code",
   "execution_count": 26,
   "metadata": {},
   "outputs": [
    {
     "name": "stderr",
     "output_type": "stream",
     "text": [
      "Using custom data configuration james-burton--textual-explanations-19ff8605823ae74a\n",
      "Found cached dataset parquet (/home/james/.cache/huggingface/datasets/james-burton___parquet/james-burton--textual-explanations-19ff8605823ae74a/0.0.0/2a3b91fbd88a2c90d1dbbb32b460cf621d31bd5b05b934492fdef7d8d6f236ec)\n"
     ]
    }
   ],
   "source": [
    "train = load_dataset(\"james-burton/textual-explanations\", split='train')"
   ]
  },
  {
   "cell_type": "code",
   "execution_count": 27,
   "metadata": {},
   "outputs": [
    {
     "data": {
      "text/plain": [
       "[('In a single sentence, state the prediction output of the model for the selected test case along with the confidence level of the prediction (if applicable).',\n",
       "  99),\n",
       " (\"For this test instance, provide information on the predicted label along with the confidence level of the model's decision.\",\n",
       "  78),\n",
       " ('Summarize the prediction for the given test example?', 73),\n",
       " ('Provide a statement summarizing the prediction made for the test case.',\n",
       "  44),\n",
       " ('Summarize the prediction made for the test under consideration along with the likelihood of the different possible class labels.',\n",
       "  42),\n",
       " ('Provide a statement summarizing the ranking of the features as shown in the feature impact plot.',\n",
       "  39)]"
      ]
     },
     "execution_count": 27,
     "metadata": {},
     "output_type": "execute_result"
    }
   ],
   "source": [
    "Counter([l['narrative_questions'][0] for l in train ]).most_common()"
   ]
  },
  {
   "cell_type": "code",
   "execution_count": 28,
   "metadata": {},
   "outputs": [
    {
     "data": {
      "text/plain": [
       "[['', '', 'F5 F18 F1', ''],\n",
       " ['', '', 'F10 F12 F2 F21', ''],\n",
       " ['', '', 'F3 F10 F2 F6', ''],\n",
       " ['', '', 'F11 F2 F10 F15', ''],\n",
       " ['', '', 'F31 F15 F7', ''],\n",
       " ['', '', 'F4 F13 F16 F14', ''],\n",
       " ['', '', 'F3 F14 F11 F8', ''],\n",
       " ['', '', 'F2 F4 F5', ''],\n",
       " ['', '', 'F3 F13 F15', ''],\n",
       " ['', '', 'F12 F11 F19', ''],\n",
       " ['', '', 'F9 F59 F63', ''],\n",
       " ['', '', 'F13 F7 F18 F21', ''],\n",
       " ['', '', 'F24 F14 F30 F18', ''],\n",
       " ['', '', 'F4 F7 F5 F2', ''],\n",
       " ['', '', 'F4 F1 F14', ''],\n",
       " ['', '', 'F17 F26 F15', ''],\n",
       " ['', '', 'F8 F7 F1 F4', ''],\n",
       " ['', '', 'F11 F9 F4', ''],\n",
       " ['', '', 'F7 F2 F8', ''],\n",
       " ['', '', 'F15 F5 F4', ''],\n",
       " ['', '', 'F2 F10 F1 F4', ''],\n",
       " ['', '', 'F18 F12 F30 F10', ''],\n",
       " ['', '', 'F8 F7 F9 F1', ''],\n",
       " ['', '', 'F4 F10 F5 F9', ''],\n",
       " ['', '', 'F7 F6 F8', ''],\n",
       " ['', '', 'F4 F9 F7', ''],\n",
       " ['', '', 'F19 F22 F4', ''],\n",
       " ['', '', 'F8 F6 F4 F3', ''],\n",
       " ['', '', 'F9 F3 F2 F10', ''],\n",
       " ['', '', 'F2 F4 F6', ''],\n",
       " ['', '', 'F5 F6 F7', ''],\n",
       " ['', '', 'F8 F5 F7 F1', ''],\n",
       " ['', '', 'F9 F8 F16 F15', ''],\n",
       " ['', '', 'F3 F9 F12', ''],\n",
       " ['', '', 'F10 F3 F1', ''],\n",
       " ['', '', 'F2 F8 F4 F1', ''],\n",
       " ['', '', 'F9 F15 F1', ''],\n",
       " ['', '', 'F7 F4 F3 F2', ''],\n",
       " ['', '', 'F9 F7 F8', ''],\n",
       " ['', '', 'F1 F5 F7 F8', ''],\n",
       " ['', '', 'F16 F1 F5 F9', ''],\n",
       " ['', '', 'F1 F8 F7 F6', ''],\n",
       " ['', '', 'F29 F4 F45', ''],\n",
       " ['', '', 'F21 F20 F1', ''],\n",
       " ['', '', 'F10 F1 F7 F9', ''],\n",
       " ['', '', 'F12 F22 F20', ''],\n",
       " ['', '', 'F31 F42 F43', ''],\n",
       " ['', '', 'F3 F5 F7 F6', ''],\n",
       " ['', '', 'F10 F4 F6 F3', ''],\n",
       " ['', '', 'F3 F7 F1', ''],\n",
       " ['', '', 'F11 F8 F10 F7', ''],\n",
       " ['', '', 'F20 F30 F12', ''],\n",
       " ['', '', 'F6 F3 F2 F4', '']]"
      ]
     },
     "execution_count": 28,
     "metadata": {},
     "output_type": "execute_result"
    }
   ],
   "source": [
    "reg = re.compile(r'F\\d+')\n",
    "[[' '.join(reg.findall(n)) for n in l['narrative_questions']] for l in train if all((l['narrative_questions'][1] == \"In two sentences, provide a brief overview of the features with a higher impact on the model's output prediction.\", 1==1))]\n"
   ]
  },
  {
   "cell_type": "code",
   "execution_count": 29,
   "metadata": {},
   "outputs": [
    {
     "data": {
      "text/plain": [
       "[('Provide a statement on the features with the least impact on the prediction made for this test case.',\n",
       "  39)]"
      ]
     },
     "execution_count": 29,
     "metadata": {},
     "output_type": "execute_result"
    }
   ],
   "source": [
    "Counter([l['narrative_questions'][4] for l in train if all((l['narrative_questions'][0] == 'Summarize the prediction made for the test under consideration along with the likelihood of the different possible class labels.', l['narrative_questions'][1]=='Provide a statement summarizing the ranking of the features as shown in the feature impact plot.'))]).most_common()\n",
    "# Counter([len(l['narrative_questions']) for l in train if l['narrative_questions'][0] == 'In a single sentence, state the prediction output of the model for the selected test case along with the confidence level of the prediction (if applicable).']).most_common()"
   ]
  },
  {
   "attachments": {},
   "cell_type": "markdown",
   "metadata": {},
   "source": [
    "## Investigating answers to the questions"
   ]
  },
  {
   "attachments": {},
   "cell_type": "markdown",
   "metadata": {},
   "source": [
    "### Q1: Summarise the ranking of the features\n",
    "What does this mean?\n"
   ]
  },
  {
   "cell_type": "code",
   "execution_count": 30,
   "metadata": {},
   "outputs": [
    {
     "data": {
      "text/plain": [
       "['The classifier is 69.02% certain that the given case is under the class label C1, implying that the likelihood of C2 is only 30.98%',\n",
       " \"According to the machine learning model, it is more likely that the case's label is C2, with a certainty of 100.0%, and this prediction decision is mainly based on the effects of the following features: F8, F10, F6, F9, and F1 on the model\",\n",
       " 'The given case is likely C2 with a confidence level of 87.50% judged based on the values of the input features supplied to the classifier and according to the attributions analysis, F9 and F2 have a high degree of impact',\n",
       " 'The model has classified the instance as C2 due to the effects of the following features: F5, F8, F6, and F2',\n",
       " 'The likelihood of C2 being the correct label for the selected case or instance is 67.54% according to the classifier',\n",
       " 'The confidence level score with respect to each class label suggests that this case should be labelled as C2',\n",
       " 'The prediction probability of C1 is 17.93% and that of C2 is 82.07%',\n",
       " 'All features are shown to have a positive impact on the classification to class C1 or to have no impact at all',\n",
       " \"Deciding the most probable label for the given case on the basis of the values of the input variables, the classification algorithm's output decision is that:  the probability of C2 being the correct label is 79.78%, the probability of C1 is 20.22%\",\n",
       " 'According to the model employed, the label for the case is more likely to be C1',\n",
       " 'With a certainty of 100.0%, the model labels this case as C2 and from the predicted likelihoods across the classes, it can be inferred that the model verdict is that there is a zero chance that the case is under C1',\n",
       " 'According to the classification model employed here, there is a marginal chance that the true label for this test example is C1',\n",
       " 'The classification output observations that follow are based on the information supplied about this specific case',\n",
       " 'For the given case or instance, the model assigns the label C2, with the prediction confidence equal to 56.56%',\n",
       " 'The prediction made for this case by the model is that C1 is most likely the true label, with a confidence level of 72.03% higher than the 27.97% of the C2 label',\n",
       " 'Tasked with labelling cases, the classification model labels the case under consideration as C1 since the probability of C2 is only 20.22%',\n",
       " 'The classifier says that C1 has a 67.54 percent chance of being the correct label for the given example or case; consequently the label C2 has a 33.46 percent chance of being the chosen class',\n",
       " 'The classifier assigns the label C2 since the probability associated with C2 is greater than that of C1',\n",
       " \"It is important to note that the classifier's labelling decision is based solely on the information supplied\",\n",
       " 'According to the classification algorithm, there is 77.69% chance that the given case is part of the C1 population',\n",
       " 'The case given is labelled as C2 with close to an 82.07% confidence level, implying that the likelihood of C1 being the correct label is only 17.93%',\n",
       " \"The classifier's anticipated label for this case is C2 which is a decision that it is highly confident about since the predicted likelihood is 100.0%\",\n",
       " \"According to the model, there is a higher chance that the case's label is C1\",\n",
       " \"The model's prediction for this test case is C2 with an almost 100% confidence level which implies that the likelihood of it being a different class label is closer to 0%\",\n",
       " 'With a moderate likelihood of 50.0%, the label for this case is judged to be C3',\n",
       " 'C2 is the label predicted by the classification model employed and looking at the prediction probabilities, it valid to concluded that the model is very certain about the selected label',\n",
       " 'C3, out of the three potential classes, is the the label assigned with a high probability of 50.0%',\n",
       " 'The label assigned in this case by the classifier is C3, with a moderately high prediction confidence of 66.11%',\n",
       " 'The classification output decision is based solely on the information supplied to the model and it predicts class C4 with a higher confidence level, equal to 94.10%, indicating the model is very confident that the correct label for the given case is not either class C3 or class C1 or class C2',\n",
       " 'Based on the values of the input variables resulting in the predicted likelihoods across the classes, the classification algorithm is confident that the right label for the provided data is C1',\n",
       " 'The predicted label is C1 at a confidence level of 92.11%, insinuating that there is a 7.89% chance that the label could be C2',\n",
       " 'The case is labelled as C2 by the classifier, with the likelihood of this being correct equal to 94.37%, suggesting that there is a slight chance of about 5.63% that this decision could be wrong',\n",
       " 'C2 is the predicted label from the model for this case, and the model is very confident about it since the associated predicted likelihood of C2 is 100.0%',\n",
       " 'There is a high level of uncertainty when it comes to classifying the case here and this is mainly because the label with the highest possibility of 58.75% is C2, while there is a 41.25% chance that it could be C1',\n",
       " 'The prediction by the model for the given observation or case is C2, with the likelihood of being correct equal to 64.11%',\n",
       " 'This case labelled as C2 with 100.0% certainty by the algorithm or model employed here for this classification task hence there is little chance that C1 is the right label choice',\n",
       " 'The label assigned to this test case by the classification model has a 98.21% chance of being C2 and this means that C1 is only about 1.79% likely to be the appropriate class',\n",
       " 'Since the likelihood of C1 is only 9.70%, the classifier generates the label C2 with a confidence level of roughly 91.30% for the provided data or instance',\n",
       " 'The case is labelled as C1 by the model, mainly based on the influence of the following features: F9, F1, F5, and F8']"
      ]
     },
     "execution_count": 30,
     "metadata": {},
     "output_type": "execute_result"
    }
   ],
   "source": [
    "[l['narration'].split(\". \")[0] for l in train if l['narrative_questions'][0] == 'Provide a statement summarizing the ranking of the features as shown in the feature impact plot.']"
   ]
  },
  {
   "cell_type": "markdown",
   "metadata": {},
   "source": [
    "\n",
    "Answers to this question are almost always still the same as what we would have got for the other question: A statement on the prediction of the model."
   ]
  },
  {
   "attachments": {},
   "cell_type": "markdown",
   "metadata": {},
   "source": [
    "### Q2: Summarise the ranking of the features\n",
    "\n",
    "Is this the same as when asked in Q1?"
   ]
  },
  {
   "cell_type": "code",
   "execution_count": 31,
   "metadata": {},
   "outputs": [
    {
     "data": {
      "text/plain": [
       "[\" Regarding the classifier's decision, there is close to an even split on the probability of either of the possible labels is the correct label but the classifier chooses the label as C2\",\n",
       " 'F6 and F10 are deemed the most important features whereas on the other hand all the other features have moderate to minimal amounts of influence',\n",
       " 'The most relevant features that led to the C1 classification verdict are F5, F30, F26, F17, and F15',\n",
       " \"According to the attribution analysis conducted, the different input variables have varying degrees of influence on the model's decision here\",\n",
       " 'F12 and F1 are the most important variables with respect to this classification verdict while all other variables are shown to have a medium or low impact',\n",
       " 'F24 had the largest impact, followed by F23, F9, F18, F14, F10, F11, F2, F8, F21, F20, F27, F4, F12, F15, F19, F13, F16, F30, and finally, F29, which had the smallest non-zero impact',\n",
       " 'F11 is by far the most influential feature whereas F4, F6, and F17 have been recognised as having the biggest effect on prediction output here after F11',\n",
       " 'The prediction probability distribution across the classes C2 and C1 is 2.40% and 97.60%, respectively',\n",
       " 'Not all of the features are found to contribute to the label given here',\n",
       " 'Analysis shows that only 20 of the 46 input variables contribute to the prediction assertion above',\n",
       " 'The above classification decision is largely due to the values of F4, F8, F3, and F14',\n",
       " 'To explain the above prediction conclusion, the analysis revealed that the majority of the features have negative influences or attributions, pushing the prediction away from C2 in favour of C1',\n",
       " 'The decision above is based on the prediction probabilities for the two possible labels, C1 and C2, which are 94.25% and 5.75%, respectively',\n",
       " 'Not all the features are shown to contribute either positively or negatively towards the label assigned here',\n",
       " \"Based on the aforementioned, C1 is the most likely class label for the presented data instance, and according to the attribution analysis, the various input variables had varying degrees of impact on the model's classification judgement\",\n",
       " 'The order of importance of the features for the above classification verdict is F1, F4, F2, F6, F5, F7, F3, and F8',\n",
       " 'F12, F38, and F75 are the key variables that contributed to the classification choice',\n",
       " 'Ranking the contributions of the features to the prediction above, from the most relevant to the least relevant, is as follows: F2, F5, F1, F3, F4, F6, and F7',\n",
       " \"The top two variables with the greatest control over the model in terms of this case's label assignment are F11 and F4 but on the contrary, the rest of the variables have moderate-to-lower influence\",\n",
       " 'C1 has a 90.48% chance of being correct, implying that any of the other labels is highly unlikely',\n",
       " 'However, according to the model, there is a 45.34% chance that C2 could be the label, presenting some level of uncertainty in the classification verdict made here',\n",
       " 'The features are ranked in order of their respective impacts, from most important to least relevant: F10, F11, F9, F7, F12, F3, F6, F4, F8, F2, F1, and F5',\n",
       " 'By analysing the attributions of the input features, they can be ranked according to the level of impact, from the most important feature to the least relevant, as follows: F11, F1, F5, F2, F8, F12, F7, F10, F6, F9, F3, and F4',\n",
       " 'The in-depth analysis found that the bulk of the attributes had negative impacts, driving the prediction away from C1 and toward C2',\n",
       " ' Judging based on the predicted probabilities associated with the other remaining labels, the classifier is 75.0% confident that C3 is the correct label',\n",
       " 'By far, feature F12 had the most impact and following F12 are F5, F15, and F6 have been identified as having the comparable influence on classification',\n",
       " 'According to the model, there is an almost equal distribution in terms of the probability that any one of C1 and C2 is an appropriate label',\n",
       " \"Among the features employed for this classification, F4, F8, F10, F11, F12, and F9 are the top features influencing the model's prediction decision\",\n",
       " 'Just few features out of the entire input features are shown to have control over the prediction made here',\n",
       " 'This is because the probability of the other label, C1, is only 1.03%',\n",
       " 'The most relevant attribute is F5, followed by F7, F1, F6, F8, F9, F3, F4 and finally F2, which is the least relevant',\n",
       " 'The most influential features were F3, F5, and F14',\n",
       " 'First of all, the classification is performed with negligible contributions from the variables F23, F30, F15, F8, and F12 since their attributions are very close to zero',\n",
       " 'For this classification scenario, the input features that have the greatest influence on the end outcome are F22, F20, F37, and F10',\n",
       " 'Based on this, the model assigned the given case the label C2',\n",
       " 'It is fairly confident of its C3 classification and is very certain that the given case is not class C2',\n",
       " 'With the contribution of different variables, the most important variables in this classification decision are F27, F15, F2, F7, and F21',\n",
       " 'The top features contributing either positively or negatively to the labelling decision above include F11, F6, F1, and F3 with the strongest contribution to the prediction of C1 from F11, followed by F3, F6, and F1',\n",
       " 'In terms of the contributions from the different features, the most important features for this classification decision include F44, F8, F3, and F27']"
      ]
     },
     "execution_count": 31,
     "metadata": {},
     "output_type": "execute_result"
    }
   ],
   "source": [
    "[l['narration'].split(\". \")[1] for l in train if l['narrative_questions'][1] == 'Provide a statement summarizing the ranking of the features as shown in the feature impact plot.']"
   ]
  },
  {
   "attachments": {},
   "cell_type": "markdown",
   "metadata": {},
   "source": [
    "Seems to just be a 2 sentence question asking the same thing as the single sentence"
   ]
  },
  {
   "attachments": {},
   "cell_type": "markdown",
   "metadata": {},
   "source": [
    "### Q3: 'For these top features, what are the respective directions of influence on the prediction?' Are these top features named?"
   ]
  },
  {
   "attachments": {},
   "cell_type": "markdown",
   "metadata": {},
   "source": [
    "For these 20 instances,\n",
    "* 'Summarize the prediction for the given test example?'\n",
    "* 'For this test case, summarize the top features influencing the model's decision.'\n",
    "* 'For these top features, what are the respective directions of influence on the prediction?'\n",
    "* 'Provide a statement on the set of features has limited impact on the prediction of [C1/C2] by the model for the given test example?'\n"
   ]
  },
  {
   "cell_type": "code",
   "execution_count": 32,
   "metadata": {},
   "outputs": [
    {
     "data": {
      "text/plain": [
       "[(4, 20)]"
      ]
     },
     "execution_count": 32,
     "metadata": {},
     "output_type": "execute_result"
    }
   ],
   "source": [
    "reg = re.compile(r'F\\d+')\n",
    "[[reg.findall(n) for n in l['narrative_questions']] for l in train if l['narrative_questions'][2] == 'For these top features, what are the respective directions of influence on the prediction?']\n",
    "Counter([len(l['narrative_questions']) for l in train if l['narrative_questions'][2] == 'For these top features, what are the respective directions of influence on the prediction?']).most_common()"
   ]
  },
  {
   "attachments": {},
   "cell_type": "markdown",
   "metadata": {},
   "source": [
    "## Analysis on simplified questions"
   ]
  },
  {
   "attachments": {},
   "cell_type": "markdown",
   "metadata": {},
   "source": [
    "### Top features"
   ]
  },
  {
   "cell_type": "code",
   "execution_count": 33,
   "metadata": {},
   "outputs": [
    {
     "name": "stdout",
     "output_type": "stream",
     "text": [
      "[0, 1] [19, 18]\n",
      "[0, 1] [11, 10]\n",
      "[0, 1] [9, 8]\n",
      "[0, 1] [6, 5]\n",
      "[0, 1, 2] [19, 18, 17]\n",
      "[0, 1] [29, 28]\n",
      "[0, 1, 2, 3, 4] [37, 36, 35, 34, 33]\n",
      "[0, 1, 2, 3] [10, 9, 8, 7]\n",
      "[0, 1] [11, 10]\n",
      "[0, 1, 2, 3, 4] [29, 28, 27, 26, 25]\n",
      "[0, 1, 2, 3, 4] [8, 7, 6, 5, 4]\n",
      "[0, 1, 2, 3] [8, 7, 6, 5]\n",
      "[0, 1, 2] [8, 7, 6]\n",
      "[0, 1, 2, 3, 4] [18, 17, 16, 15, 14]\n",
      "[0, 1, 2, 3, 4] [13, 12, 11, 10, 9]\n",
      "[0, 1, 2] [19, 18, 17]\n",
      "[0, 1, 2, 3, 4] [32, 31, 30, 29, 28]\n",
      "[0, 1, 2, 3, 4] [37, 36, 35, 34, 33]\n",
      "[0, 1] [45, 44]\n",
      "[0, 1] [13, 12]\n",
      "[0, 1, 2, 3] [10, 9, 8, 7]\n",
      "[0, 1, 2, 3] [10, 9, 8, 7]\n",
      "[0, 1] [41, 40]\n",
      "[0, 1, 2] [18, 17, 16]\n",
      "[0, 1, 2, 3, 4] [9, 8, 7, 6, 5]\n",
      "[0, 1] [41, 40]\n",
      "[0, 1] [14, 13]\n",
      "[0, 1, 2, 3, 4] [37, 36, 35, 34, 33]\n",
      "[0, 1, 2, 3, 4] [37, 36, 35, 34, 33]\n",
      "[0, 1, 2] [7, 6, 5]\n",
      "[0, 1] [92, 91]\n",
      "[0, 1, 2, 3, 4] [45, 44, 43, 42, 41]\n",
      "[0, 1] [29, 28]\n",
      "[0, 1] [29, 28]\n",
      "[0, 1, 2, 3, 4] [13, 12, 11, 10, 9]\n",
      "[0, 1, 2, 3, 4] [6, 5, 4, 3, 2]\n",
      "[0, 1, 2, 3] [11, 10, 9, 8]\n",
      "[0, 1, 2, 3] [10, 9, 8, 7]\n",
      "[0, 1] [6, 5]\n",
      "[0, 1] [41, 40]\n",
      "[0, 1] [8, 7]\n",
      "[0, 1] [11, 10]\n",
      "[0, 1, 2, 3, 4] [11, 10, 9, 8, 7]\n",
      "[0, 1] [14, 13]\n",
      "[0, 1, 2] [41, 40, 39]\n",
      "[0, 1] [11, 10]\n",
      "[0, 1, 2] [19, 18, 17]\n",
      "[0, 1] [9, 8]\n",
      "[0, 1] [7, 6]\n",
      "[0, 1, 2, 3] [8, 7, 6, 5]\n",
      "[0, 1] [32, 31]\n",
      "[0, 1] [7, 6]\n",
      "[0, 1] [41, 40]\n",
      "[0, 1] [14, 13]\n",
      "[0, 1, 2, 3] [92, 91, 90, 89]\n",
      "[0, 1] [6, 5]\n",
      "[0, 1, 2] [5, 4, 3]\n",
      "[0, 1, 2] [6, 5, 4]\n",
      "[0, 1, 2] [16, 15, 14]\n",
      "[0, 1, 2, 3, 4] [13, 12, 11, 10, 9]\n",
      "[0, 1, 2, 3] [10, 9, 8, 7]\n",
      "[0, 1, 2, 3] [10, 9, 8, 7]\n",
      "[0, 1] [11, 10]\n",
      "[0, 1] [11, 10]\n",
      "[0, 1, 2] [18, 17, 16]\n",
      "[0, 1, 2] [19, 18, 17]\n",
      "[0, 1, 2] [18, 17, 16]\n",
      "[0, 1] [11, 10]\n",
      "[0, 1, 2, 3, 4] [18, 17, 16, 15, 14]\n",
      "[0, 1] [19, 18]\n",
      "[0, 1, 2, 3] [14, 13, 12, 11]\n",
      "[0, 1] [15, 14]\n",
      "[0, 1] [45, 44]\n",
      "[0, 1, 2, 3] [15, 14, 13, 12]\n",
      "[0, 1] [41, 40]\n",
      "[0, 1, 2, 3] [11, 10, 9, 8]\n",
      "[0, 1, 2, 3, 4] [8, 7, 6, 5, 4]\n",
      "[0, 1, 2] [7, 6, 5]\n",
      "[0, 1, 2, 3, 4] [45, 44, 43, 42, 41]\n",
      "[0, 1] [12, 11]\n",
      "[0, 1] [8, 7]\n",
      "[0, 1, 2, 3, 4] [14, 13, 12, 11, 10]\n",
      "[0, 1, 2, 3] [11, 10, 9, 8]\n",
      "[0, 1, 2, 3] [10, 9, 8, 7]\n",
      "[0, 1, 2, 3, 4] [19, 18, 17, 16, 15]\n",
      "[0, 1, 2, 3] [7, 6, 5, 4]\n",
      "[0, 1] [9, 8]\n",
      "[0, 1] [11, 10]\n",
      "[0, 1] [12, 11]\n",
      "[0, 1, 2] [32, 31, 30]\n",
      "[0, 1] [11, 10]\n",
      "[0, 1] [11, 10]\n",
      "[0, 1] [41, 40]\n",
      "[0, 1, 2, 3, 4] [8, 7, 6, 5, 4]\n",
      "[0, 1, 2] [41, 40, 39]\n",
      "[0, 1, 2] [11, 10, 9]\n",
      "[0, 1, 2] [45, 44, 43]\n",
      "[0, 1, 2, 3, 4] [14, 13, 12, 11, 10]\n",
      "[0, 1] [5, 4]\n",
      "[0, 1] [5, 4]\n",
      "[0, 1, 2, 3] [12, 11, 10, 9]\n",
      "[0, 1] [8, 7]\n",
      "[0, 1, 2] [5, 4, 3]\n",
      "[0, 1] [13, 12]\n",
      "[0, 1] [29, 28]\n",
      "[0, 1, 2, 3] [37, 36, 35, 34]\n",
      "[0, 1, 2, 3] [13, 12, 11, 10]\n",
      "[0, 1, 2] [11, 10, 9]\n",
      "[0, 1, 2, 3] [45, 44, 43, 42]\n",
      "[0, 1, 2] [10, 9, 8]\n",
      "[0, 1, 2] [19, 18, 17]\n",
      "[0, 1] [11, 10]\n",
      "[0, 1] [10, 9]\n",
      "[0, 1] [12, 11]\n",
      "[0, 1] [15, 14]\n",
      "[0, 1, 2, 3] [7, 6, 5, 4]\n",
      "[0, 1, 2, 3] [12, 11, 10, 9]\n",
      "[0, 1] [10, 9]\n",
      "[0, 1] [8, 7]\n",
      "[0, 1, 2] [19, 18, 17]\n",
      "[0, 1, 2, 3, 4] [8, 7, 6, 5, 4]\n",
      "[0, 1, 2, 3, 4] [11, 10, 9, 8, 7]\n",
      "[0, 1] [6, 5]\n",
      "[0, 1, 2, 3] [45, 44, 43, 42]\n",
      "[0, 1, 2] [8, 7, 6]\n"
     ]
    }
   ],
   "source": [
    "reg = re.compile(r'F\\d+')\n",
    "mentions = [[reg.findall(n)for n in l['narrative_questions']][1] for l in simple_train if l['narrative_questions'][1][:28] == \"Summarise these top features\"]\n",
    "all_fts = [l['feature_nums'] for l in simple_train if l['narrative_questions'][1][:28] == \"Summarise these top features\"]\n",
    "indexes = [[narr.index(val) for val in mention] for narr, mention in zip(all_fts, mentions)]\n",
    "\n",
    "rev_indexes = [[narr[::-1].index(val) for val in mention] for narr, mention in zip(all_fts, mentions)]\n",
    "\n",
    "for i, r_i in zip(indexes, rev_indexes):\n",
    "    print(i, r_i)"
   ]
  },
  {
   "cell_type": "code",
   "execution_count": 34,
   "metadata": {},
   "outputs": [
    {
     "data": {
      "text/plain": [
       "[(0, 125), (1, 125), (2, 71), (3, 47), (4, 24)]"
      ]
     },
     "execution_count": 34,
     "metadata": {},
     "output_type": "execute_result"
    }
   ],
   "source": [
    "Counter([item for sublist in indexes for item in sublist]).most_common()"
   ]
  },
  {
   "attachments": {},
   "cell_type": "markdown",
   "metadata": {},
   "source": [
    "### Moderate features"
   ]
  },
  {
   "cell_type": "code",
   "execution_count": 35,
   "metadata": {},
   "outputs": [
    {
     "name": "stdout",
     "output_type": "stream",
     "text": [
      "[5, 6, 7] [10, 9, 8]\n",
      "[2, 3, 4, 5] [17, 16, 15, 14]\n",
      "[] []\n",
      "[2, 3, 4, 5] [9, 8, 7, 6]\n",
      "[5, 6, 7] [4, 3, 2]\n",
      "[6, 7, 8] [12, 11, 10]\n",
      "[6, 7, 8] [19, 18, 17]\n",
      "[3, 4, 5] [16, 15, 14]\n",
      "[2, 3, 4, 5] [9, 8, 7, 6]\n",
      "[13, 1, 24, 6] [12, 24, 1, 19]\n",
      "[4, 5, 6] [88, 87, 86]\n",
      "[2, 3, 4, 5] [9, 8, 7, 6]\n",
      "[3, 4, 5] [8, 7, 6]\n",
      "[2, 3, 4, 5] [8, 7, 6, 5]\n",
      "[2, 3, 4, 5] [7, 6, 5, 4]\n",
      "[2, 3, 4, 5] [4, 3, 2, 1]\n",
      "[2, 3, 4, 5] [43, 42, 41, 40]\n",
      "[7, 8, 9] [12, 11, 10]\n",
      "[2, 3, 4, 5] [14, 13, 12, 11]\n",
      "[8, 9] [1, 0]\n",
      "[6, 7, 8] [2, 1, 0]\n",
      "[6] [0]\n",
      "[3, 4, 5] [16, 15, 14]\n",
      "[4, 5, 6] [41, 40, 39]\n",
      "[6, 7, 8] [2, 1, 0]\n",
      "[2, 3, 4, 5] [6, 5, 4, 3]\n",
      "[8, 9, 10] [3, 2, 1]\n",
      "[2, 3, 4, 5] [27, 26, 25, 24]\n",
      "[2, 3, 4, 5] [23, 22, 21, 20]\n",
      "[7, 8, 9] [4, 3, 2]\n",
      "[3, 4, 5] [16, 15, 14]\n",
      "[5, 6, 7] [32, 31, 30]\n",
      "[4, 5, 6] [6, 5, 4]\n",
      "[6, 7, 8, 9] [23, 22, 21, 20]\n",
      "[2, 3, 4, 5] [9, 8, 7, 6]\n",
      "[6, 7, 8] [2, 1, 0]\n",
      "[6, 7, 8, 9] [31, 30, 29, 28]\n",
      "[5, 6, 7] [3, 2, 1]\n",
      "[5, 6, 7] [24, 23, 22]\n",
      "[5, 6, 7] [3, 2, 1]\n",
      "[8, 9, 10] [24, 23, 22]\n",
      "[2, 3, 4, 5] [14, 13, 12, 11]\n",
      "[6, 7, 8, 9] [5, 4, 3, 2]\n",
      "[7, 8, 9] [9, 8, 7]\n",
      "[2, 3, 4, 5] [16, 15, 14, 13]\n",
      "[5, 6, 7] [14, 13, 12]\n",
      "[4, 5, 6] [4, 3, 2]\n",
      "[6, 7, 8, 9] [13, 12, 11, 10]\n",
      "[3, 4, 5] [5, 4, 3]\n",
      "[5, 6, 7] [10, 9, 8]\n",
      "[5, 6, 7] [13, 12, 11]\n",
      "[6, 7, 8] [3, 2, 1]\n",
      "[3, 4, 5] [5, 4, 3]\n",
      "[5, 6, 7] [6, 5, 4]\n",
      "[3, 4, 5] [15, 14, 13]\n",
      "[6, 7, 8] [19, 18, 17]\n",
      "[8, 9, 10] [2, 1, 0]\n",
      "[5, 6, 7] [8, 7, 6]\n",
      "[2, 3, 4, 5] [3, 2, 1, 0]\n",
      "[3, 4, 5] [16, 15, 14]\n",
      "[5, 6, 7] [27, 26, 25]\n",
      "[5, 6, 7] [32, 31, 30]\n",
      "[3, 4, 5] [11, 10, 9]\n",
      "[5, 6, 7] [4, 3, 2]\n",
      "[2, 3, 4, 5] [43, 42, 41, 40]\n",
      "[2, 3, 4, 5] [11, 10, 9, 8]\n",
      "[4, 5, 6] [6, 5, 4]\n",
      "[4, 5, 6] [6, 5, 4]\n",
      "[6, 7, 8, 9] [5, 4, 3, 2]\n",
      "[5, 6, 7] [20, 19, 18]\n",
      "[6, 7, 8, 9] [5, 4, 3, 2]\n",
      "[4, 5, 6] [88, 87, 86]\n",
      "[2, 3, 4, 5] [39, 38, 37, 36]\n",
      "[8, 9] [1, 0]\n",
      "[3, 4, 5] [15, 14, 13]\n",
      "[5, 6, 7] [4, 3, 2]\n",
      "[6, 7, 8] [2, 1, 0]\n",
      "[4, 5, 6] [28, 27, 26]\n",
      "[2, 3, 4, 5] [39, 38, 37, 36]\n",
      "[6, 7, 8, 9] [31, 30, 29, 28]\n",
      "[6, 7, 8] [19, 18, 17]\n",
      "[8, 9, 10] [3, 2, 1]\n",
      "[2, 3, 4, 5] [23, 22, 21, 20]\n",
      "[2, 3, 4, 5] [12, 11, 10, 9]\n",
      "[6, 7, 8] [26, 25, 24]\n",
      "[5, 6, 7] [5, 4, 3]\n",
      "[6, 7, 8] [5, 4, 3]\n",
      "[5, 6, 7] [32, 31, 30]\n",
      "[6, 7, 8, 9] [5, 4, 3, 2]\n",
      "[2, 3, 4, 5] [9, 8, 7, 6]\n",
      "[2, 3, 4, 5] [19, 18, 17, 16]\n",
      "[6, 7, 8] [2, 1, 0]\n",
      "[5, 6, 7] [32, 31, 30]\n",
      "[7, 8, 9] [85, 84, 83]\n",
      "[3, 4, 5] [4, 3, 2]\n",
      "[6, 7, 8, 9] [23, 22, 21, 20]\n",
      "[2, 3, 4, 5] [90, 89, 88, 87]\n",
      "[5, 6, 7] [40, 39, 38]\n",
      "[2, 3, 4, 5] [27, 26, 25, 24]\n",
      "[2, 3, 4, 5] [27, 26, 25, 24]\n",
      "[2, 3, 4, 5] [9, 8, 7, 6]\n",
      "[3, 4, 5] [10, 9, 8]\n",
      "[7, 8, 9] [22, 21, 20]\n",
      "[2, 3, 4, 5] [27, 26, 25, 24]\n",
      "[6, 7, 8, 9] [3, 2, 1, 0]\n",
      "[6, 7, 8, 9] [10, 9, 8, 7]\n",
      "[6, 7, 8] [5, 4, 3]\n",
      "[5, 6, 7] [20, 19, 18]\n",
      "[5, 6, 7] [8, 7, 6]\n",
      "[2, 3, 4, 5] [7, 6, 5, 4]\n",
      "[7, 8, 9] [25, 24, 23]\n",
      "[5, 6, 7] [20, 19, 18]\n",
      "[5, 6] [1, 0]\n",
      "[5, 6, 7] [10, 9, 8]\n",
      "[4, 5, 6] [7, 6, 5]\n",
      "[3, 4, 5] [10, 9, 8]\n",
      "[4, 5, 6] [6, 5, 4]\n",
      "[8] [0]\n",
      "[2, 3, 4, 5] [9, 8, 7, 6]\n",
      "[6, 7, 8] [8, 7, 6]\n",
      "[6, 7, 8, 9] [15, 14, 13, 12]\n",
      "[5, 6, 7] [4, 3, 2]\n",
      "[2, 3, 4, 5] [4, 3, 2, 1]\n",
      "[3, 4, 5] [11, 10, 9]\n",
      "[2, 3, 4, 5] [9, 8, 7, 6]\n",
      "[2, 3, 4, 5] [9, 8, 7, 6]\n",
      "[2, 3, 4, 5] [27, 26, 25, 24]\n",
      "[2, 3, 4, 5] [39, 38, 37, 36]\n",
      "[2, 3, 4, 5] [7, 6, 5, 4]\n",
      "[6, 7, 8] [2, 1, 0]\n",
      "[6, 7, 8, 9] [4, 3, 2, 1]\n",
      "[2, 3, 4, 5] [6, 5, 4, 3]\n",
      "[2, 3, 4, 5] [9, 8, 7, 6]\n",
      "[6] [0]\n",
      "[6, 7, 8] [2, 1, 0]\n",
      "[5, 6, 7] [6, 5, 4]\n",
      "[6, 7] [1, 0]\n",
      "[2, 3, 4, 5] [12, 11, 10, 9]\n",
      "[2, 3, 4, 5] [9, 8, 7, 6]\n",
      "[6, 7, 8] [39, 38, 37]\n",
      "[6, 7, 8] [5, 4, 3]\n",
      "[6, 7, 8, 9] [10, 9, 8, 7]\n",
      "[5, 6, 7] [3, 2, 1]\n",
      "[3, 4, 5] [5, 4, 3]\n",
      "[3, 4, 5] [10, 9, 8]\n",
      "[3, 4, 5] [38, 37, 36]\n",
      "[2, 3, 4, 5] [11, 10, 9, 8]\n",
      "[3, 4, 5] [5, 4, 3]\n",
      "[6, 7, 8] [3, 2, 1]\n",
      "[2, 3, 4, 5] [9, 8, 7, 6]\n",
      "[3, 4, 5] [5, 4, 3]\n",
      "[5, 6, 7] [3, 2, 1]\n",
      "[5, 6, 7] [3, 2, 1]\n",
      "[3, 4, 5] [16, 15, 14]\n",
      "[5, 6, 7] [10, 9, 8]\n",
      "[2, 3, 4, 5] [7, 6, 5, 4]\n",
      "[8, 9, 10] [17, 16, 15]\n",
      "[6, 7, 8] [19, 18, 17]\n",
      "[7, 8, 9] [4, 3, 2]\n",
      "[7, 8, 9] [4, 3, 2]\n",
      "[2, 3, 4, 5] [5, 4, 3, 2]\n",
      "[4, 5, 6] [4, 3, 2]\n",
      "[6, 7, 8, 9] [9, 8, 7, 6]\n",
      "[6, 7, 8] [5, 4, 3]\n",
      "[5, 6, 7] [4, 3, 2]\n",
      "[2, 3, 4, 5] [30, 29, 28, 27]\n",
      "[2, 3, 4, 5] [43, 42, 41, 40]\n",
      "[2, 3, 4, 5] [5, 4, 3, 2]\n",
      "[2, 3, 4, 5] [39, 38, 37, 36]\n",
      "[2, 3, 4, 5] [12, 11, 10, 9]\n",
      "[4, 5, 6] [88, 87, 86]\n",
      "[7, 8, 9] [3, 2, 1]\n",
      "[4, 5, 6] [28, 27, 26]\n",
      "[2, 3, 4, 5] [10, 9, 8, 7]\n",
      "[4, 5, 6] [7, 6, 5]\n",
      "[2, 3, 4, 5] [4, 3, 2, 1]\n",
      "[6, 7, 8, 9] [23, 22, 21, 20]\n",
      "[5, 6, 7] [20, 19, 18]\n",
      "[3, 4, 5] [2, 1, 0]\n",
      "[5, 6, 7] [10, 9, 8]\n",
      "[2, 3, 4, 5] [9, 8, 7, 6]\n",
      "[3, 4, 5] [3, 2, 1]\n",
      "[3, 4, 5] [13, 12, 11]\n",
      "[5, 6, 7] [8, 7, 6]\n",
      "[3, 4, 5] [16, 15, 14]\n",
      "[2, 3, 4, 5] [8, 7, 6, 5]\n",
      "[8, 9, 10] [2, 1, 0]\n",
      "[4, 5, 6] [6, 5, 4]\n",
      "[3, 4, 5] [10, 9, 8]\n",
      "[2, 3, 4, 5] [7, 6, 5, 4]\n",
      "[4, 5, 6] [6, 5, 4]\n",
      "[2, 3, 4, 5] [9, 8, 7, 6]\n",
      "[8] [0]\n",
      "[8, 9, 10] [6, 5, 4]\n",
      "[2, 3, 4, 5] [9, 8, 7, 6]\n",
      "[3, 4, 5] [15, 14, 13]\n",
      "[7] [0]\n",
      "[2, 3, 4, 5] [17, 16, 15, 14]\n",
      "[3, 4, 5] [16, 15, 14]\n",
      "[5, 6, 7] [11, 10, 9]\n",
      "[3, 4, 5] [15, 14, 13]\n",
      "[2, 3, 4, 5] [9, 8, 7, 6]\n",
      "[2, 3, 4, 5] [10, 9, 8, 7]\n",
      "[5, 6, 7] [10, 9, 8]\n",
      "[6, 7, 8, 9] [9, 8, 7, 6]\n",
      "[2, 3, 4, 5] [9, 8, 7, 6]\n",
      "[6, 7, 8] [9, 8, 7]\n",
      "[2, 3, 4, 5] [8, 7, 6, 5]\n",
      "[5, 6, 7] [13, 12, 11]\n",
      "[8] [0]\n",
      "[2, 3, 4, 5] [17, 16, 15, 14]\n",
      "[2, 3, 4, 5] [6, 5, 4, 3]\n",
      "[4, 5, 6] [10, 9, 8]\n",
      "[2, 3, 4, 5] [13, 12, 11, 10]\n",
      "[8, 9, 10] [24, 23, 22]\n",
      "[3, 4, 5] [7, 6, 5]\n",
      "[2, 3, 4, 5] [43, 42, 41, 40]\n",
      "[4, 5, 6] [11, 10, 9]\n",
      "[6, 7] [1, 0]\n",
      "[2, 3, 4, 5] [39, 38, 37, 36]\n",
      "[4, 5, 6] [7, 6, 5]\n",
      "[6, 7, 8, 9] [3, 2, 1, 0]\n",
      "[2, 3, 4, 5] [8, 7, 6, 5]\n",
      "[4, 5, 6] [2, 1, 0]\n",
      "[5, 6, 7] [3, 2, 1]\n",
      "[] []\n",
      "[3, 4, 5] [5, 4, 3]\n",
      "[3, 4, 5] [5, 4, 3]\n",
      "[3, 4, 5] [10, 9, 8]\n",
      "[3, 4, 5] [4, 3, 2]\n",
      "[2, 3, 4, 5] [14, 13, 12, 11]\n",
      "[6, 7, 8, 9] [31, 30, 29, 28]\n",
      "[2, 3, 4, 5] [6, 5, 4, 3]\n",
      "[5, 6, 7] [40, 39, 38]\n",
      "[7, 8, 9] [85, 84, 83]\n",
      "[6, 7, 8, 9] [6, 5, 4, 3]\n",
      "[6, 7, 8] [23, 22, 21]\n",
      "[2, 3, 4, 5] [10, 9, 8, 7]\n",
      "[2, 3, 4, 5] [6, 5, 4, 3]\n",
      "[3, 4, 5] [9, 8, 7]\n",
      "[5, 6, 7] [9, 8, 7]\n",
      "[4, 5, 6] [7, 6, 5]\n",
      "[4, 5, 6] [6, 5, 4]\n",
      "[4, 5, 6] [88, 87, 86]\n",
      "[2, 3, 4, 5] [8, 7, 6, 5]\n",
      "[5, 6, 7] [14, 13, 12]\n",
      "[8, 9, 10] [2, 1, 0]\n",
      "[4, 5, 6] [3, 2, 1]\n",
      "[2, 3, 4, 5] [19, 18, 17, 16]\n",
      "[2, 3, 4, 5] [7, 6, 5, 4]\n",
      "[6, 7, 8] [13, 12, 11]\n",
      "[5, 6, 7] [2, 1, 0]\n",
      "[4, 5, 6] [15, 14, 13]\n",
      "[2, 3, 4, 5] [9, 8, 7, 6]\n",
      "[3, 4, 5] [16, 15, 14]\n",
      "[4, 5, 6] [8, 7, 6]\n",
      "[7, 8, 9] [3, 2, 1]\n",
      "[5, 6, 7] [4, 3, 2]\n",
      "[8, 9, 10] [2, 1, 0]\n",
      "[2, 3, 4, 5] [10, 9, 8, 7]\n",
      "[2, 3, 4, 5] [7, 6, 5, 4]\n",
      "[7, 8, 9] [2, 1, 0]\n",
      "[8, 9] [1, 0]\n",
      "[6] [0]\n",
      "[2, 3, 4, 5] [5, 4, 3, 2]\n",
      "[2, 3, 4, 5] [8, 7, 6, 5]\n",
      "[3, 4, 5] [29, 28, 27]\n",
      "[6, 7, 8] [12, 11, 10]\n",
      "[5, 6, 7] [10, 9, 8]\n",
      "[2, 3, 4, 5] [9, 8, 7, 6]\n",
      "[2, 3, 4, 5] [9, 8, 7, 6]\n",
      "[2, 3, 4, 5] [39, 38, 37, 36]\n",
      "[2, 3, 4, 5] [8, 7, 6, 5]\n",
      "[3, 4, 5] [18, 17, 16]\n",
      "[5, 6, 7] [3, 2, 1]\n",
      "[4, 5, 6] [4, 3, 2]\n",
      "[5, 6, 7] [10, 9, 8]\n",
      "[3, 4, 5] [38, 37, 36]\n",
      "[3, 4, 5] [8, 7, 6]\n",
      "[3, 4, 5] [16, 15, 14]\n",
      "[6, 7, 8] [5, 4, 3]\n",
      "[2, 3, 4, 5] [6, 5, 4, 3]\n",
      "[2, 3, 4, 5] [17, 16, 15, 14]\n",
      "[4, 5, 6] [8, 7, 6]\n",
      "[2, 3, 4, 5] [6, 5, 4, 3]\n",
      "[3, 4, 5] [42, 41, 40]\n",
      "[5, 6, 7] [4, 3, 2]\n",
      "[2, 3, 4, 5] [17, 16, 15, 14]\n",
      "[6, 7, 8, 9] [23, 22, 21, 20]\n",
      "[5, 6, 7] [9, 8, 7]\n",
      "[2, 3, 4, 5] [3, 2, 1, 0]\n",
      "[2, 3, 4, 5] [23, 22, 21, 20]\n",
      "[3, 4, 5] [8, 7, 6]\n",
      "[6, 7, 8] [39, 38, 37]\n",
      "[2, 3, 4, 5] [3, 2, 1, 0]\n",
      "[2, 3, 4, 5] [6, 5, 4, 3]\n",
      "[4, 5, 6] [8, 7, 6]\n",
      "[2, 3, 4, 5] [6, 5, 4, 3]\n",
      "[3, 4, 5] [10, 9, 8]\n",
      "[6, 7, 8, 9] [35, 34, 33, 32]\n",
      "[3, 4, 5] [5, 4, 3]\n",
      "[7] [0]\n",
      "[3, 4, 5] [2, 1, 0]\n",
      "[7, 8, 9] [12, 11, 10]\n",
      "[2, 3, 4, 5] [11, 10, 9, 8]\n",
      "[2, 3, 4, 5] [27, 26, 25, 24]\n",
      "[2, 3, 4, 5] [23, 22, 21, 20]\n",
      "[2, 3, 4, 5] [3, 2, 1, 0]\n",
      "[4, 5, 6] [33, 32, 31]\n",
      "[6, 7, 8, 9] [13, 12, 11, 10]\n",
      "[5, 6, 7] [40, 39, 38]\n",
      "[5, 6, 7] [20, 19, 18]\n",
      "[8, 9] [1, 0]\n",
      "[6, 7, 8, 9] [10, 9, 8, 7]\n",
      "[] []\n",
      "[4, 5, 6] [9, 8, 7]\n",
      "[3, 4, 5] [8, 7, 6]\n",
      "[4, 5, 6] [41, 40, 39]\n",
      "[2, 3, 4, 5] [9, 8, 7, 6]\n",
      "[6, 7, 8, 9] [5, 4, 3, 2]\n",
      "[3, 4, 5] [7, 6, 5]\n",
      "[3, 4, 5] [26, 25, 24]\n",
      "[3, 4, 5] [16, 15, 14]\n",
      "[5, 6, 7] [40, 39, 38]\n",
      "[2, 3, 4, 5] [9, 8, 7, 6]\n",
      "[7, 8, 9] [25, 24, 23]\n",
      "[2, 3, 4, 5] [9, 8, 7, 6]\n",
      "[2, 3, 4, 5] [8, 7, 6, 5]\n",
      "[2, 3, 4, 5] [10, 9, 8, 7]\n",
      "[2, 3, 4, 5] [13, 12, 11, 10]\n",
      "[4, 5, 6] [3, 2, 1]\n",
      "[4, 5, 6] [14, 13, 12]\n",
      "[2, 3, 4, 5] [14, 13, 12, 11]\n",
      "[4, 5, 6] [8, 7, 6]\n",
      "[2, 3, 4, 5] [8, 7, 6, 5]\n",
      "[7, 8, 9] [85, 84, 83]\n",
      "[2, 3, 4, 5] [6, 5, 4, 3]\n",
      "[6, 7, 8, 9] [23, 22, 21, 20]\n",
      "[7, 8, 9] [22, 21, 20]\n",
      "[3, 4, 5] [16, 15, 14]\n",
      "[8, 9, 10] [2, 1, 0]\n",
      "[5, 6, 7] [3, 2, 1]\n",
      "[5, 6, 7] [6, 5, 4]\n",
      "[2, 3, 4, 5] [4, 3, 2, 1]\n",
      "[3, 4, 5] [10, 9, 8]\n",
      "[4, 5, 6] [41, 40, 39]\n",
      "[3, 4, 5] [18, 17, 16]\n",
      "[6, 7, 8] [4, 3, 2]\n",
      "[5, 6, 7] [4, 3, 2]\n",
      "[3, 4, 5] [5, 4, 3]\n",
      "[2, 3, 4, 5] [9, 8, 7, 6]\n",
      "[6, 7, 8] [26, 25, 24]\n",
      "[4, 5, 6] [15, 14, 13]\n",
      "[3, 4, 5] [26, 25, 24]\n",
      "[2, 3, 4, 5] [3, 2, 1, 0]\n"
     ]
    }
   ],
   "source": [
    "reg = re.compile(r'F\\d+')\n",
    "mentions = [[reg.findall(n)for n in l['narrative_questions']][2] for l in simple_train if l['narrative_questions'][2][:33] == \"Summarise these moderate features\"]\n",
    "all_fts = [l['feature_nums'] for l in simple_train if l['narrative_questions'][2][:33] == \"Summarise these moderate features\"]\n",
    "indexes = [[narr.index(val) for val in mention] for narr, mention in zip(all_fts, mentions)]\n",
    "\n",
    "rev_indexes = [[narr[::-1].index(val) for val in mention] for narr, mention in zip(all_fts, mentions)]\n",
    "\n",
    "for i, r_i in zip(indexes, rev_indexes):\n",
    "    print(i, r_i)"
   ]
  },
  {
   "cell_type": "code",
   "execution_count": 36,
   "metadata": {},
   "outputs": [
    {
     "data": {
      "text/plain": [
       "[(5, 255),\n",
       " (4, 200),\n",
       " (3, 163),\n",
       " (6, 153),\n",
       " (7, 129),\n",
       " (2, 109),\n",
       " (8, 89),\n",
       " (9, 57),\n",
       " (10, 11),\n",
       " (13, 1),\n",
       " (1, 1),\n",
       " (24, 1)]"
      ]
     },
     "execution_count": 36,
     "metadata": {},
     "output_type": "execute_result"
    }
   ],
   "source": [
    "Counter([item for sublist in indexes for item in sublist]).most_common()"
   ]
  },
  {
   "attachments": {},
   "cell_type": "markdown",
   "metadata": {},
   "source": [
    "### Negligible features"
   ]
  },
  {
   "cell_type": "code",
   "execution_count": 37,
   "metadata": {},
   "outputs": [
    {
     "name": "stdout",
     "output_type": "stream",
     "text": [
      "[6, 7, 8, 9] [3, 2, 1, 0]\n",
      "[6] [0]\n",
      "[6, 7, 8, 9] [13, 12, 11, 10]\n",
      "[7, 8, 9] [3, 2, 1]\n",
      "[8] [0]\n",
      "[7, 8] [1, 0]\n",
      "[6, 7, 8] [2, 1, 0]\n",
      "[8, 9, 10] [5, 4, 3]\n",
      "[8, 9, 10] [24, 23, 22]\n",
      "[7, 8, 9] [3, 2, 1]\n",
      "[7, 8, 9] [3, 2, 1]\n",
      "[6, 7, 8, 9] [35, 34, 33, 32]\n",
      "[6, 7, 8, 9] [35, 34, 33, 32]\n",
      "[6, 7, 8, 9] [8, 7, 6, 5]\n",
      "[8, 9, 10] [37, 36, 35]\n",
      "[6, 7, 8] [23, 22, 21]\n",
      "[6, 7, 8, 9] [23, 22, 21, 20]\n",
      "[8, 9, 10] [5, 4, 3]\n",
      "[7, 8, 9] [3, 2, 1]\n",
      "[6] [0]\n",
      "[6, 7, 8] [35, 34, 33]\n",
      "[6, 7, 8] [2, 1, 0]\n",
      "[6, 7, 8, 9] [5, 4, 3, 2]\n",
      "[8, 9, 10] [3, 2, 1]\n",
      "[6, 7, 8, 9] [8, 7, 6, 5]\n",
      "[6, 7, 8, 9] [35, 34, 33, 32]\n",
      "[6, 7, 8, 9] [13, 12, 11, 10]\n",
      "[6, 7, 8, 9] [3, 2, 1, 0]\n",
      "[6, 7] [1, 0]\n",
      "[7, 8] [1, 0]\n",
      "[6, 7] [1, 0]\n",
      "[6, 7, 8, 9] [35, 34, 33, 32]\n",
      "[6, 7, 8, 9] [8, 7, 6, 5]\n",
      "[7, 8, 9] [85, 84, 83]\n",
      "[6] [0]\n",
      "[] []\n",
      "[6] [0]\n",
      "[6, 7, 8, 9] [10, 9, 8, 7]\n",
      "[8, 9, 10] [5, 4, 3]\n",
      "[7, 8, 9] [3, 2, 1]\n",
      "[7, 8, 9] [3, 2, 1]\n",
      "[6, 7, 8, 9] [12, 11, 10, 9]\n",
      "[6, 7, 8, 9] [13, 12, 11, 10]\n",
      "[7, 8, 9] [7, 6, 5]\n",
      "[7, 8, 9] [8, 7, 6]\n",
      "[6, 7, 8] [35, 34, 33]\n",
      "[7, 8, 9] [4, 3, 2]\n",
      "[8] [0]\n",
      "[8, 9, 10] [37, 36, 35]\n",
      "[6, 7, 8] [6, 5, 4]\n",
      "[8, 9, 10] [6, 5, 4]\n",
      "[7, 8, 9] [4, 3, 2]\n",
      "[7, 8, 9] [3, 2, 1]\n",
      "[8, 9, 10] [11, 10, 9]\n",
      "[7] [0]\n",
      "[6, 7, 8, 9] [3, 2, 1, 0]\n",
      "[6, 7, 8] [5, 4, 3]\n",
      "[6, 7, 8] [6, 5, 4]\n",
      "[6, 7, 8] [5, 4, 3]\n",
      "[6, 7, 8, 9] [5, 4, 3, 2]\n",
      "[6, 7, 8] [35, 34, 33]\n",
      "[8] [0]\n",
      "[6, 7, 8, 9] [35, 34, 33, 32]\n",
      "[6, 7, 8, 9] [5, 4, 3, 2]\n",
      "[6, 7, 8, 9] [39, 38, 37, 36]\n",
      "[8, 9, 10] [6, 5, 4]\n",
      "[] []\n",
      "[] []\n",
      "[7, 8, 9] [5, 4, 3]\n",
      "[6, 7, 8] [2, 1, 0]\n",
      "[] []\n",
      "[6, 7, 8] [7, 6, 5]\n",
      "[6, 7, 8, 9] [13, 12, 11, 10]\n",
      "[6, 7, 8, 9] [5, 4, 3, 2]\n",
      "[6, 7, 8] [4, 3, 2]\n",
      "[6, 7, 8] [6, 5, 4]\n",
      "[6, 7, 8, 9] [9, 8, 7, 6]\n",
      "[7] [0]\n",
      "[7, 8, 9] [5, 4, 3]\n",
      "[6, 7, 8] [4, 3, 2]\n",
      "[6, 7, 8] [2, 1, 0]\n",
      "[6, 7, 8, 9] [13, 12, 11, 10]\n",
      "[8] [0]\n",
      "[8, 9, 10] [3, 2, 1]\n",
      "[6] [0]\n",
      "[6, 7, 8] [2, 1, 0]\n"
     ]
    }
   ],
   "source": [
    "reg = re.compile(r'F\\d+')\n",
    "mentions = [[reg.findall(n)for n in l['narrative_questions']][-1] for l in simple_train if l['narrative_questions'][3][:35] == \"Summarise these negligible features\"]\n",
    "all_fts = [l['feature_nums'] for l in simple_train if l['narrative_questions'][3][:35] == \"Summarise these negligible features\"]\n",
    "indexes = [[narr.index(val) for val in mention] for narr, mention in zip(all_fts, mentions)]\n",
    "\n",
    "rev_indexes = [[narr[::-1].index(val) for val in mention] for narr, mention in zip(all_fts, mentions)]\n",
    "\n",
    "for i, r_i in zip(indexes, rev_indexes):\n",
    "    print(i, r_i)"
   ]
  },
  {
   "cell_type": "code",
   "execution_count": 38,
   "metadata": {},
   "outputs": [
    {
     "data": {
      "text/plain": [
       "[(8, 73), (7, 62), (9, 50), (6, 49), (10, 11)]"
      ]
     },
     "execution_count": 38,
     "metadata": {},
     "output_type": "execute_result"
    }
   ],
   "source": [
    "Counter([item for sublist in indexes for item in sublist]).most_common()"
   ]
  },
  {
   "attachments": {},
   "cell_type": "markdown",
   "metadata": {},
   "source": [
    "### For when features weren't included in the question, which features were mentioned in the narration?"
   ]
  },
  {
   "attachments": {},
   "cell_type": "markdown",
   "metadata": {},
   "source": [
    "### Top features"
   ]
  },
  {
   "cell_type": "code",
   "execution_count": 39,
   "metadata": {},
   "outputs": [
    {
     "name": "stdout",
     "output_type": "stream",
     "text": [
      "[[], [], [0, 2, 1, 14, 13, 15], [0, 2, 1, 4], [6, 9, 7, 10], [3, 5, 8, 13, 14, 15], []]\n",
      "[[], [0, 1, 2, 3, 4, 5], [0], [1, 2, 3], [0]]\n",
      "[[], [1, 2, 0], [5, 3, 8, 7, 6], [4, 9, 10], [0, 2, 1], [11]]\n",
      "[[], [], [1, 0, 2], [6, 8, 7, 9, 3, 4, 5], [0, 1, 3, 6, 8], [2, 4, 7, 5, 9]]\n",
      "[[], [], [0, 1], [2, 3, 4, 5], [2, 5, 8, 10, 17], [0, 1, 3, 4, 6, 7]]\n",
      "[[], [0, 1, 2], [20, 21, 22, 23, 24, 25], [6, 9, 10, 14, 15, 16], [0, 1, 2, 4, 3, 5]]\n",
      "[[], [1, 3, 2, 0, 0, 1, 3, 2], [5, 4, 2], [17, 19, 16, 18]]\n",
      "[[], [0, 1, 2, 3], [20, 21, 22, 23, 24, 25], [0, 1, 2], [3, 5, 6, 7], [4, 8, 12, 13, 14, 15, 17, 18, 19]]\n",
      "[[], [0, 1, 2, 3, 4, 6, 5], [7, 8, 9, 11, 10, 12, 13, 14, 15, 16, 17, 18, 19], [20, 21, 22, 23], [], [5, 8, 17, 18, 19], [0, 1, 2, 3]]\n",
      "[[], [0, 1, 2, 3], [2, 3, 4], [11, 9, 10], [5, 8, 7, 6], [4, 9, 1, 2, 0]]\n",
      "[[], [0, 1, 3, 2, 9, 10, 11], [0, 1, 2, 3, 6, 8, 10], [4, 5, 11, 9, 7], []]\n",
      "[[], [], [0, 1, 2, 3], [4, 5, 6], [9, 10, 11], [7, 8], [1, 0, 3, 2]]\n",
      "[[], [], [0, 1, 2, 3, 8, 9, 10], [4, 5, 6, 7], [0, 2, 3, 7], [1, 4, 6, 5], []]\n",
      "[[], [], [0, 1, 2, 3], [4, 5, 6], [], [20, 21, 22, 23], [0, 1, 2, 3], [4, 5, 7, 9], []]\n",
      "[[], [], [0, 1, 2], [16, 17, 18, 19], [4, 3]]\n",
      "[[], [0, 2, 1], [], [5, 6, 7], [3, 4, 8, 10, 12], [0, 2, 1], [13, 14, 15, 16]]\n",
      "[[], [], [0, 1, 2, 8, 9], [], [6, 7, 8], []]\n",
      "[[], [], [], [], [0, 4, 5, 6, 8], [1, 2, 3, 7]]\n",
      "[[], [0, 1, 2, 3, 1, 2], [4, 5, 6, 7], [4, 5, 6, 7], [20, 21, 22, 23]]\n",
      "[[], [], [0, 1, 2, 3, 4, 5, 6], [0, 6]]\n",
      "[[], [], [0, 1, 2, 3, 4], [20, 21, 22, 23], [0, 1, 3, 6, 7, 9, 13, 17, 18], [2, 4, 5, 8, 11, 12, 10], [], [0, 1]]\n",
      "[[], [1, 0, 2, 3], [], [], [7, 4, 8], []]\n",
      "[[], [1, 0, 2, 3], [8], [0, 4, 2, 3], [1, 6, 5]]\n",
      "[[], [], [0, 3, 5, 7, 10], [1, 2, 4, 6, 9, 11, 8], [0, 3, 1, 2], [9, 10, 11]]\n",
      "[[], [2, 0, 1, 3], [23, 25, 22, 20, 24, 21], [6, 5, 4, 7], [5, 6, 1, 0, 4, 14, 2, 12, 3, 17]]\n",
      "[[], [0, 2, 1, 3, 9, 10, 11], [0, 1, 3, 10, 9, 7], [2, 4, 5, 6, 8, 11], []]\n",
      "[[], [], [0, 1, 2], [6, 8, 12, 14, 0, 1, 2], [15, 17, 18, 19], [3, 4, 5, 7], []]\n",
      "[[], [], [0, 1, 2, 3, 4], [5, 6, 7, 8], [15, 16, 17, 18, 19], [20, 21, 22, 23, 24, 25, 26, 27, 28, 29], [0, 4, 10], [1, 7, 2]]\n",
      "[[], [0, 1, 2, 3], [0, 1], [4], [2, 3, 5, 6, 7, 8], []]\n",
      "[[], [0, 1, 2, 3, 4, 5, 6, 7, 8, 9, 10, 11, 12, 13, 14, 15, 16, 17, 18, 19], [20, 22, 21], [0, 1], [2, 4, 3], [0, 5, 1]]\n",
      "[[], [0, 1, 2, 7, 8], [3, 4, 5, 6, 0, 1, 2], [], [0, 2, 5, 6], [1, 3, 4, 7]]\n",
      "[[], [], [], [0], [1, 2, 3, 4, 5, 6, 7, 8], [1, 3, 4, 6, 7], [2, 5, 8, 0]]\n",
      "[[], [0, 2, 1], [], [1, 0, 2], [13, 14, 15, 16]]\n",
      "[[], [], [0, 1, 2, 4], [3, 5, 6, 7, 8, 9, 10, 11], []]\n",
      "[[], [0, 1, 2], [3, 4, 5, 6, 7, 13, 14, 15, 16], [4, 6, 11, 16, 14], [3, 5, 8, 7]]\n",
      "[[], [0, 1, 2, 3, 16, 18, 17], [5, 10, 11, 14], [], [0, 1, 2, 3, 7, 6]]\n",
      "[[], [], [0, 1, 2, 3, 17, 18, 19], [0, 1, 2, 3], [6, 10, 11, 12], [4, 5, 8, 7, 9], [0], [16, 18, 19]]\n",
      "[[], [], [0, 2, 1, 4, 3], [0, 1, 2, 3, 4], [0, 2, 5, 6, 1, 3, 4, 7], [], [], []]\n",
      "[[], [0, 1], [2, 3, 4, 5], [2, 3, 6, 7], [12, 13, 14, 15]]\n",
      "[[], [0, 2, 1, 7, 8, 9], [0, 1, 6, 7, 8], [2, 3, 4, 5, 9], [0, 1]]\n",
      "[[], [0, 1, 2, 3, 4, 5, 6, 7, 8], [0, 2], [1, 4, 5, 7, 3, 6, 8], []]\n",
      "[[], [], [0, 1, 2], [9, 10, 11], [0, 1, 2, 9, 10, 8, 11, 3, 4, 5, 6], [3, 6, 9], [0, 1, 2, 4, 7, 5]]\n",
      "[[], [], [], [1, 3, 7, 9, 10, 14, 17], [0, 2, 4, 5, 6]]\n",
      "[[], [0, 1, 2], [], [20, 21, 22, 23, 24, 25], [6, 9, 10, 14, 15, 16], []]\n",
      "[[], [3, 6, 1, 7, 0, 2, 5, 4], [0, 10, 9], [0, 2, 4, 5]]\n",
      "[[], [], [0, 1, 4, 5], [3, 2], [0, 1, 4, 5]]\n",
      "[[], [], [0, 1, 2, 3, 4, 5, 6, 7, 8, 9, 10, 11, 12, 13, 14], [0], [1, 2, 3], [0, 6, 13, 9], []]\n",
      "[[], [1, 0, 2, 6, 8, 7, 9], [3, 4, 5], [0, 1, 3, 6, 8], [2, 4, 7, 5, 9]]\n",
      "[[], [0, 1, 2, 3], [8, 9, 10, 11], [2, 4, 8, 9, 10, 11]]\n",
      "[[], [0, 1, 2], [6, 5, 7, 4], [6, 0, 2, 5, 1, 3, 4, 7], [], [25, 20, 23, 22]]\n",
      "[[], [], [], [0, 1, 2], [3, 4, 5, 6, 7, 8, 9, 10, 11], [1, 2, 5, 6, 7, 0, 3, 4]]\n",
      "[[], [], [], [0, 1, 2, 3, 4], [], [20, 21, 22, 23], [2, 7, 8, 9, 12, 14], [0, 1, 3, 4]]\n",
      "[[], [], [0, 1, 2, 3], [7, 8, 9], [], [0, 3, 4, 6, 1, 5, 7, 2]]\n",
      "[[], [0], [1, 2, 3, 4, 5, 6, 7, 8], [], [0, 2, 3, 6, 5], [1, 4, 7, 8]]\n",
      "[[], [], [0, 1, 3, 2, 6, 4, 5], [20, 21, 22, 24, 23], [6, 4, 5, 0, 1, 3, 7, 2]]\n",
      "[[], [0, 1, 2, 3, 4, 5, 6, 7, 8, 9, 10, 11, 12, 13, 14, 15, 16, 17, 18, 19], [0, 1], [2, 4, 3], [0, 5, 1]]\n",
      "[[], [0, 1, 2], [20, 21, 22, 23, 24, 25], [6, 9, 10, 14, 15, 16], [0, 1, 2, 3, 4, 5, 7]]\n",
      "[[], [], [0, 1, 5, 8, 10], [2, 3, 4, 6, 7, 9], [0, 1, 2, 3], [11]]\n",
      "[[], [2, 1, 0], [0, 1, 2], [0, 1, 2], [3, 4, 5], [6, 2], [20, 21, 23, 22, 24, 25]]\n",
      "[[], [], [0], [1, 2, 3, 4], [5], [6, 7], [20, 21, 22, 23]]\n",
      "[[], [0, 1, 2, 3, 4, 5, 6], [7, 8, 9, 10], [3, 5], [3, 5, 0, 1, 2]]\n",
      "[[], [0, 1, 2], [3, 5, 6, 9], [7, 4, 8], []]\n",
      "[[], [0, 1, 2, 3, 4], [8, 9, 10, 11], [5, 6, 7], [3, 4, 6, 7, 9, 11], [0, 1, 2]]\n",
      "[[], [], [], [0, 1, 2, 3, 4, 5, 6, 7, 8, 9, 10, 11], [1, 4, 7, 9, 11], [0, 2, 3, 6, 5]]\n",
      "[[], [], [0, 2, 4, 3], [1], [5, 6, 7, 8], [9, 10, 11], [0, 2, 4, 3], [16, 17, 18, 19, 20, 21]]\n",
      "[[], [], [], [0, 1, 2], [7, 6, 8], [1, 2, 4, 5], [0, 3, 6, 7, 8], [1, 2, 4, 5, 0]]\n",
      "[[], [0, 4, 1, 2, 5], [3], [6, 7, 13, 14], [7, 8, 9], [20, 21, 22, 23], [0, 4, 1, 2, 5, 3, 13, 14, 15]]\n",
      "[[], [0, 1, 3, 2], [0, 1, 2], [3, 5], [0, 1, 2], [7, 8, 9, 10, 11, 12]]\n",
      "[[], [1, 0, 2, 3, 4, 25, 26, 27, 28, 29], [1, 0, 4, 3], [2, 10, 11], []]\n",
      "[[], [0, 1, 2, 3, 4, 5, 6, 7, 8, 9, 10, 11, 12, 13, 14, 16, 17, 18, 19], [1, 0], [4, 5, 8], [2, 3, 6, 7, 9, 10], [20, 29, 25, 23]]\n",
      "[[], [], [0], [1, 2, 3, 6, 0], [4, 5, 7, 8, 9, 10, 11, 9, 10, 11]]\n",
      "[[], [0, 1, 2, 3], [4, 5, 7, 9], [0, 1, 2, 3], [6, 8, 10, 12]]\n",
      "[[], [0, 1, 2, 3, 4, 5, 6, 7, 8, 9, 10, 11, 12], [13, 14, 15, 16, 17, 18, 19], [20, 21, 22, 23], [0, 1, 2, 4, 7, 10, 18], []]\n",
      "[[], [1, 0, 2, 3], [7, 8, 9], [4, 5], [1, 0, 2, 6, 3]]\n",
      "[[], [0, 1, 2], [3, 4, 5], [13, 14, 15, 16], [], [4, 6, 7]]\n",
      "[[], [0, 1, 2], [3, 5, 6, 9], [4, 7, 8], []]\n",
      "[[], [], [0, 1, 2, 3, 4, 5], [0, 1], [2, 3, 4, 5, 5], [6, 7, 8], [6, 8, 7]]\n",
      "[[], [], [], [0, 1, 3, 2], [6, 5, 7, 4], [6, 0, 2, 8, 9, 5, 1, 3, 4, 7], [25, 24, 23, 22]]\n",
      "[[], [0], [1, 2, 3, 4, 5, 6, 7, 0], [0], [2, 3, 4, 5], [0], [0]]\n",
      "[[], [0, 1, 2, 3, 4, 5, 6], [0, 2, 4, 5, 6], [7, 8, 9, 29, 30]]\n",
      "[[], [0, 1, 3, 2], [0, 1], [2, 1, 0], [4, 5, 7, 8], [6, 9, 10, 11], [20, 21, 22, 23]]\n",
      "[[], [0, 1, 2], [0, 1, 2], [8, 10, 11], [4, 5, 7, 9]]\n",
      "[[], [], [13, 14, 15, 0, 1, 2], [2, 5, 9, 11, 12, 13, 14], [0, 1, 3, 4, 6, 7, 8]]\n",
      "[[], [0, 1, 2, 11, 12, 13], [3, 1, 5, 6, 11], [0, 2, 4, 7]]\n",
      "[[], [], [0], [7, 8], [], [0, 3, 2], [1, 4, 0]]\n",
      "[[], [0, 1, 2, 3, 4, 5, 6, 7, 8, 9, 10, 11], [0, 1, 10, 11], [8, 9, 10], [8, 9, 10, 0, 1, 2, 3, 4]]\n",
      "[[], [], [0, 1, 2, 12, 13, 14], [3, 4, 5], [0, 4, 5, 7, 8, 14], [1, 2, 6, 3], []]\n",
      "[[], [1, 0, 2, 3], [20, 21], [20, 21, 4, 5, 6, 7], [], [1, 0, 2, 4, 5, 6, 8], [3, 7, 9, 10], []]\n",
      "[[], [4, 3, 2, 1, 0], [5, 6, 5], [5, 6], [9, 8], [9, 8, 6], [9, 8, 6]]\n",
      "[[], [0, 1, 2], [12, 13, 14], [0, 13, 9, 6, 1, 2, 3], []]\n",
      "[[], [2, 0, 1], [], [3, 5, 6, 7, 8], [4, 9, 10], [1, 2, 0], [11]]\n",
      "[[], [4, 9], [0, 3, 1, 2], [5, 6, 7, 8, 10, 11], [9, 4, 0, 1, 2]]\n",
      "[[], [0, 1, 2, 3, 4, 5, 6, 7, 8, 9, 10, 11, 12, 13, 14, 15, 16, 17, 19, 18], [], [20, 22, 23, 21], [0, 1, 2, 3], [0, 1], [4, 5, 8, 6, 7, 9, 10]]\n",
      "[[], [0, 1, 2], [0, 2, 3, 9], [0, 2, 3, 9], [1, 5, 4], [8, 7, 6]]\n",
      "[[], [], [], [0, 4, 5, 6, 8], [1, 2, 3, 7]]\n",
      "[[1, 0, 2], [1, 0, 2, 8, 9, 10, 2, 6, 7, 9], [0, 1, 3, 4, 5]]\n",
      "[[], [], [], [0, 1, 2, 3], [5, 6]]\n",
      "[[], [0, 1, 2, 3], [0, 1], [4], [2, 3, 5, 6, 7, 8], []]\n",
      "[[], [0, 1, 2, 3, 9], [0, 1, 2, 3, 4, 9], [5, 6, 7, 8]]\n",
      "[[], [0, 1, 6, 7], [2, 3, 5], [0, 1, 4, 6, 7]]\n",
      "[[], [0, 1, 2, 3, 3], [0, 1, 2, 3, 4, 5], [0, 1, 2, 4, 5], [3, 7, 10, 8, 11]]\n",
      "[[0, 1, 2, 3], [], [0, 3, 4, 5], [1, 2, 6, 8], [21, 20, 22, 23]]\n",
      "[[], [0, 2, 1, 8, 9, 10, 11], [3, 4, 5], [1, 4, 8, 9], [0, 2, 3]]\n",
      "[[], [0, 1, 2], [3, 4, 5], [13, 14, 15, 16], [], [4, 6, 7]]\n",
      "[[], [], [8, 7, 6, 5, 4, 3, 2, 1, 0], [7, 8, 1, 0], [0, 3, 2, 6], [1, 5, 4]]\n",
      "[[], [0, 1, 3, 4, 5, 2, 6, 7, 8], [], [0, 5, 7, 8, 1, 2, 3, 4, 6], [1, 2, 3, 4, 6, 0, 5, 7, 8]]\n",
      "[[], [0, 1, 2, 8, 9, 10], [], [0, 7, 9]]\n",
      "[[], [0, 1, 2, 3], [], [7, 9, 4, 5], [12, 10, 8, 6], [12, 10, 8, 6]]\n",
      "[[], [0, 1, 2, 11, 12, 13], [], [3, 5, 6, 11, 12, 13], [0, 1, 2, 7, 8, 9, 4], []]\n",
      "[[], [], [0, 1, 3, 2], [7, 8, 4, 5, 6], [0, 5, 7, 8], [1, 2, 3, 4, 6], [1, 2, 3]]\n",
      "[[], [0, 1, 2, 3, 4, 5], [6, 7, 8, 9], [2, 4, 5]]\n",
      "[[], [0, 1, 2, 3], [6, 8], [0, 1, 2, 3]]\n",
      "[[], [0, 1, 2, 7, 8], [0, 1, 2, 6], [4, 3, 5, 7, 8]]\n",
      "[[], [], [8, 7, 6, 5, 4, 3, 2, 1, 0], [7, 8, 1, 2, 0], [0, 3, 2, 6], [4, 5, 1]]\n",
      "[[], [0, 1], [2, 3, 4, 5], [5, 10, 12, 6, 8, 9, 7], [13, 14, 12, 15], [13, 15, 12, 14]]\n",
      "[[], [], [20, 21, 22, 1, 0], [2, 6, 7, 5], [1, 4, 5, 7, 9, 10, 18], [0, 2, 3, 6, 11, 8]]\n",
      "[[], [0, 1, 2, 3, 4, 5, 20, 21, 22, 23, 24, 25], [6, 7, 9, 10], [0, 4, 7, 10, 12, 13, 14, 19], [1, 2, 3, 5], [0]]\n",
      "[[], [1, 2, 3, 6], [0, 4, 5, 7], [0, 9, 10, 11]]\n",
      "[[], [0, 1, 2, 3, 4], [0, 1], [2, 3, 4], [8, 7, 10, 5, 6, 9], [20, 21, 22, 23]]\n",
      "[[], [], [0, 1, 2, 3], [11], [0, 2, 1], [6, 9, 10], [3, 4, 5, 7, 8, 11]]\n",
      "[[], [0, 1, 2, 4, 3], [13, 14, 15], [3, 4], [8, 9, 10, 15], [0, 1, 2], []]\n",
      "[[], [], [0, 1, 2], [10, 11], [0, 1, 8, 9, 11], [2, 3, 4, 5]]\n",
      "[[], [0, 1, 2, 3, 2], [5, 8, 6, 7], [9]]\n",
      "[[], [0, 1, 2, 3], [4, 5, 6], [], [20, 21, 22, 23], [0, 1, 2, 3], [4, 5, 7, 9], []]\n",
      "[[], [0, 1, 2, 7, 8, 9], [1, 1, 7, 9], []]\n",
      "[[], [0, 1, 2], [8, 9, 10], [], [0, 7, 9], []]\n",
      "[[], [], [0, 1, 4, 2, 3], [0, 1, 2], [3, 4, 5, 8, 10]]\n",
      "[[], [0, 1, 3, 2, 6, 4, 5, 20, 21, 22, 23], [0, 1, 3, 7, 2], [4, 5, 6, 8]]\n",
      "[[], [0, 1, 2, 3, 5, 4], [4, 5], [], [6, 7, 9, 10, 11], [8, 7, 5, 4]]\n",
      "[[], [0, 1, 2], [3, 4, 6], []]\n",
      "[[], [1, 0, 2, 3, 4, 25, 26, 27, 28, 29], [1, 0, 4, 3, 2, 10, 11], []]\n",
      "[[], [0, 1, 2], [6, 5, 7], [6, 0, 2, 5, 1, 3, 4, 7], [24, 23, 25, 22]]\n",
      "[[], [0, 1], [2, 3, 4, 5], [6, 7], [12, 13, 14, 15]]\n",
      "[[], [0, 2, 1], [3, 5, 6, 7, 8], [4, 9, 10], [0, 2, 1], [11]]\n",
      "[[], [], [0, 1, 2], [6, 8, 12, 14], [0, 1, 2], [15, 17, 18, 19], [3, 4, 5, 7], []]\n",
      "[[], [0], [2, 5], [3, 4], [6, 7, 8, 9, 10], [1, 3, 4, 6, 7, 9]]\n",
      "[[], [1, 3, 6, 7, 0, 2, 5, 4], [0, 9, 10]]\n",
      "[[], [0, 1, 2], [], [8, 9, 11, 13], []]\n",
      "[[], [0, 1, 2], [0, 2, 3, 9], [0, 2, 3, 9], [1, 5, 4, 8, 7, 6]]\n",
      "[[], [], [0, 1, 2, 7, 8], [0, 3, 2], [1, 4, 0], []]\n",
      "[[], [0, 1, 2], [12, 13, 14], [0, 1, 2], [5, 6, 7, 8], [3, 4, 11, 10, 14], []]\n",
      "[[], [7, 6, 5, 4, 3, 2, 1, 0], []]\n",
      "[[], [1, 0, 2, 18, 16, 17, 15, 19], [3, 4, 5], [3], [0, 1], []]\n",
      "[[], [], [0, 1, 2, 15, 14, 16], [0, 4, 3, 5, 6], [1, 9, 8, 12], []]\n",
      "[[], [1, 0, 2, 3, 10, 11, 12], [4, 5, 6, 7, 8, 9], [2, 5, 9, 1, 0, 4, 3]]\n",
      "[[], [], [13, 14, 15, 0, 1, 2], [2, 5, 9, 11, 12, 13, 14], [0, 1, 3, 4, 6, 7, 8]]\n",
      "[[], [], [], [0, 1, 2, 3, 4], [11, 12, 13, 14, 15], [5, 0, 6, 10, 11, 14, 15], [1, 2, 3, 4]]\n",
      "[[], [], [0, 1, 2, 3, 4], [7, 10, 11], [], [5, 6, 8, 9], []]\n",
      "[[], [0, 1, 3, 4, 2, 12, 13, 14, 15], [0, 2, 4, 8, 11, 13, 14, 15], [1, 3, 5, 6, 7]]\n",
      "[[], [0, 1, 2, 3, 4, 10, 7, 8, 9], [3, 8], [0, 1, 2, 4, 5, 6]]\n",
      "[[], [0, 8, 7], [], [0, 3, 2], [1, 7, 8, 4, 0]]\n",
      "[[], [0, 1, 2, 3], [8], [0, 4, 2, 3], [1, 6, 5]]\n",
      "[[], [], [], [0], [1, 2, 3, 4, 5, 6, 7, 8], [1, 3, 4, 6, 9, 11, 7], [2, 5, 12, 10, 8, 0]]\n",
      "[[], [1, 0, 2], [8, 9, 10], [3, 4, 5], [2, 3], [], []]\n",
      "[[], [], [0, 1, 6, 7], [2, 3, 5], [0, 1, 4, 6, 7]]\n",
      "[[], [0, 1, 2, 3], [8, 9], [], [2, 3, 5, 6]]\n",
      "[[], [0, 1], [2, 5, 10, 8], [3, 4], [6, 7, 8, 9, 10], [1, 3, 4, 6, 7, 9]]\n",
      "[[], [5, 6], [], [0, 1, 3, 2, 4]]\n",
      "[[], [0, 1, 2, 3, 4, 5], [0, 1, 2, 4, 3], [0, 1, 2, 3, 4, 5]]\n",
      "[[], [], [2, 0, 1], [0], [1, 2], [3, 4], [7, 8]]\n",
      "[[], [], [0, 1, 2, 7, 8], [3, 4, 5, 6]]\n",
      "[[], [], [0, 1, 2, 3, 4], [7, 6, 8], [2, 3, 4], [5, 0, 1, 6, 7, 8], []]\n",
      "[[], [0, 1, 2], [3, 4, 5, 6, 8], [11, 8, 13, 9], []]\n",
      "[[], [], [0, 1, 2], [1, 0, 2], [13, 14, 15, 16]]\n",
      "[[], [0, 1, 2, 3, 4, 5, 6, 7, 8, 9, 10, 11, 12, 13, 14, 15, 16, 17, 18, 19], [20, 22, 21], [0, 1], [2, 4, 3], [0, 5, 1]]\n",
      "[[], [0, 2, 4, 7], [1, 3, 5], [1, 0, 7, 8]]\n",
      "[[], [0, 1, 2, 4, 5, 3, 0, 1, 2, 4, 5, 3], [6, 7, 13, 15, 17, 14], [7, 8, 10, 11, 12, 9], [20, 21, 24, 25, 22]]\n",
      "[[], [], [0, 1, 2, 3], [9, 10, 11, 12], [8, 4, 10], [0, 1, 2]]\n",
      "[[], [0, 1, 2, 3, 4, 6, 5], [20, 21, 22, 23, 24, 25, 26, 27, 28, 29], [0, 1, 2], []]\n",
      "[[], [], [0, 1, 2, 3], [], [7, 6, 9, 10, 11], [4, 5, 12], []]\n",
      "[[], [0, 1, 2, 3, 4, 6, 5], [7, 8, 9, 11, 10, 12, 13, 14, 15, 16, 17, 18, 19], [20, 21, 22, 23], [5, 8, 17, 18, 19], [0, 1, 2, 3]]\n",
      "[[0, 1, 2, 3], [3, 8, 10], [0, 1, 4, 5, 6, 2], []]\n",
      "[[], [0, 1, 2, 3, 4], [5, 6, 7, 8, 9, 10, 11, 12, 13, 14, 15, 16, 17, 19, 18], [0, 1], [5, 6, 9], [2, 3, 4, 7], [20, 21, 22, 23]]\n",
      "[[], [0, 1, 2, 7, 8, 9, 10], [0, 1, 4, 9, 10], [2, 3, 5]]\n",
      "[[], [0, 1, 2, 7, 8, 9], [1, 1, 7, 9], [2, 0, 3, 4, 5, 8]]\n",
      "[[], [4, 2, 0, 3], [9, 10, 11, 0, 2, 4, 3], [1, 7, 8, 5, 6], [16, 17, 18, 19, 20, 21], [21, 20]]\n",
      "[[], [0, 1, 2, 3], [0, 1], [3], [2], [0, 1, 2], [6, 7, 8], [6, 7, 8]]\n",
      "[[], [6, 7], [1, 2, 3], [0], [4, 5, 7], []]\n",
      "[[], [], [0, 1, 2], [], [16, 17, 18, 19, 3, 4, 5, 6], [3, 4, 5, 7, 8, 6], [0, 1, 2, 12, 14, 17], [19]]\n",
      "[[], [0, 1, 2, 3], [0, 1, 3, 2], [5, 4, 17, 19, 18, 16]]\n",
      "[[], [0, 1, 2, 3], [5, 6, 4], [7, 8, 9, 10, 11, 12, 8, 10]]\n",
      "[[], [], [0, 1, 2, 3], [0, 1, 2], [], [3, 4, 5, 8, 10]]\n",
      "[[], [0, 1, 2], [0, 1, 2], [5, 8, 6, 7], [9]]\n",
      "[[], [0, 1, 2, 7, 8, 9, 10], [0, 1, 4, 9, 10], [2, 3, 5]]\n",
      "[[], [0], [1, 2, 3, 4, 5, 6, 7, 0], [0], [2, 3, 4, 5], [0], [0]]\n",
      "[[], [0, 7, 8, 9], [1, 2, 3, 4, 5, 6, 7, 8, 9, 0], [0, 2, 1, 3, 4, 6, 9]]\n",
      "[[], [1, 0, 2, 8, 9], [], [6, 7, 8], []]\n",
      "[[], [], [], [1, 0, 3, 2], [6, 5]]\n",
      "[[], [0, 1], [6, 7, 2, 3, 4, 5], [1, 4, 5], [0, 2, 3, 6, 7]]\n",
      "[[0, 1, 2, 3], [], [3, 8, 10], [0, 1, 2], []]\n",
      "[[], [0, 1], [2, 3, 4, 5], [2, 5, 8, 10, 17], [0, 1, 3, 4, 6, 7]]\n",
      "[[], [0, 1, 2, 3, 14, 15], [0, 1, 2], [4, 5, 6, 7, 14, 8], [0, 1]]\n",
      "[[], [], [0, 1, 2, 3, 4, 5, 6, 7, 8, 9, 10], [10], [0, 1, 2, 8], [3, 4, 5, 6, 7, 9], [0, 1, 2]]\n",
      "[[], [0, 1, 2, 3, 4, 5], [0, 1, 2], [4, 5, 6, 8], [3, 7, 9, 11, 12], [0, 1, 2], [20, 21]]\n",
      "[[], [], [0, 1, 2, 3], [3, 4, 5, 6, 7, 1], [0, 2, 7, 8], [1, 3, 4]]\n",
      "[[], [], [0, 2, 1, 14, 15], [3, 4, 5, 6, 7], [2, 5, 9, 11, 12, 13, 14], [0, 1, 3, 4, 6, 7, 8]]\n",
      "[[], [], [], [0, 2, 3, 1, 4, 0], [0, 1, 6, 4], [2, 3, 5]]\n",
      "[[], [0, 2, 3, 1], [9, 10, 7], [], [2, 4, 8, 9, 10, 11], [0, 1, 6, 5, 3]]\n",
      "[[], [6, 7, 10, 12], [0, 1, 2, 3]]\n",
      "[[], [0, 1], [0, 4], [2, 3, 4, 5, 2, 3, 4, 5], [6, 7, 8], [8]]\n",
      "[[], [], [1, 0, 2, 15, 16, 17, 18, 19], [3, 4, 5], [3, 1, 0, 2, 3, 4], [0, 1]]\n",
      "[[], [12, 11, 10, 0, 1, 2, 3, 4], [0, 1], [2, 3, 5, 6], [4], [4, 8, 10], [4, 8, 10]]\n",
      "[[], [0], [4], [2, 3, 4, 5], [2, 3, 4, 5], [6, 7, 8]]\n",
      "[[], [0, 1, 2, 0, 1], [2, 5, 6, 7, 3, 4, 1, 0], [9, 8]]\n",
      "[[], [0, 1, 2], [8, 9, 10], [], [0, 7, 9], []]\n",
      "[[], [], [0, 1, 2, 0, 1, 2], [4, 3, 5], [9, 10, 11, 12, 13, 14, 15]]\n",
      "[[], [0], [0], [0], [2, 1, 3], [22, 20, 21, 23, 24, 25, 26, 27, 28, 29]]\n",
      "[[], [0, 1, 2], [0], [1, 2, 3, 4], [7, 8]]\n",
      "[[], [1, 3, 2, 0], [23, 25, 22, 20, 24, 21], [6, 5, 4, 7], [5, 6, 1, 0, 4, 14, 2, 12, 3, 17]]\n",
      "[[], [0, 1, 3, 2, 9, 10, 11], [0, 8, 3, 6, 2, 1, 10], [4, 5, 11, 9, 7], []]\n",
      "[[0, 2, 1, 3], [0, 5, 4, 3], [], [1, 2, 6, 8], [21, 20, 22, 23]]\n",
      "[[], [0, 1, 2, 3, 4, 7, 8], [2, 3, 4, 5], [0, 1, 6], []]\n",
      "[[], [0, 1, 2], [11, 12, 13], [3, 4, 6, 5, 8, 9, 10], [], [6, 7, 10, 12, 0, 1, 2, 3, 4]]\n",
      "[[], [0, 1, 2], [], [8, 9, 11, 13], []]\n",
      "[[], [], [0, 1, 2, 3, 4, 5], [7, 8, 9, 10, 16], [35, 36, 37, 38, 39], [0, 1, 3, 2]]\n",
      "[[], [0, 1], [6, 7, 8], [2, 3, 4, 5], [6, 7, 8]]\n",
      "[[], [], [7, 6, 5, 4, 3, 2, 1, 0], []]\n",
      "[[], [2, 0, 1], [18, 19, 16, 17], [4, 3]]\n",
      "[[], [], [2, 1, 3, 0], [0, 9], [0, 1, 2, 3, 4, 9], [5, 6, 7, 8]]\n",
      "[[], [0, 1, 2, 3], [20, 21, 22, 23, 24, 25], [4, 5, 6, 7], [1, 0, 5, 6, 2, 3, 4, 12, 14, 17]]\n",
      "[[], [], [0, 1, 2, 3], [4, 5], [4, 5]]\n",
      "[[], [], [0, 2, 1, 4, 3], [0, 1, 2, 3, 4], [0, 2, 5, 6, 1, 3, 4, 7], [], []]\n",
      "[[], [0, 1, 2, 3], [0, 1, 3, 5, 6], [2, 4, 7, 8, 9], [35, 36, 37, 38, 39, 33, 34, 32], [0, 1]]\n",
      "[[], [0, 1, 3, 2], [6, 4, 7, 5], [20, 21, 22], [0, 2, 5], [1, 3, 7, 4]]\n",
      "[[], [], [0, 1, 2, 3], [8, 9], [], [0, 3, 4, 6], [1, 7, 5, 2]]\n",
      "[[], [0, 1, 2], [3, 4, 5], [13, 14, 15, 16], [], [4, 6, 7]]\n",
      "[[], [0, 1, 2], [0, 3], [0], [1, 2, 4, 5, 6, 7], [8, 9]]\n",
      "[[], [], [0, 1, 2, 3, 5, 5], [4], []]\n",
      "[[], [], [0], [1, 2, 3, 6], [0], [4, 5, 7, 8, 9, 10, 11]]\n",
      "[[], [0, 1, 2], [10, 11], [3, 4, 5, 6], [4, 9, 10, 0, 1, 2]]\n",
      "[[], [1, 2, 0], [], [3, 4, 6, 7, 5], [20, 21, 22, 23, 28], []]\n",
      "[[], [0, 1], [2, 3, 4, 5, 6, 7, 8, 9, 10, 11, 12, 13, 14, 15, 16, 17, 18, 19], [2, 4, 7, 10, 8]]\n",
      "[[], [], [0], [1, 2, 3, 6], [0], [4, 5, 7, 8, 9, 10, 11], [9, 10, 11]]\n",
      "[[], [], [0, 1, 2, 3, 4, 5, 6], [2, 4, 5, 11, 6], [7, 8, 10, 12, 9], [23, 24, 29, 30, 31, 32]]\n",
      "[[], [], [2, 1, 0], [14, 15, 16, 17, 18], [], [], [0, 2, 4, 1, 3, 7], []]\n",
      "[[], [0, 2, 1], [1], [0, 2], [13, 14, 15, 16]]\n",
      "[[], [0, 1, 2, 4, 5], [3], [6, 8, 9, 10, 11, 12, 7, 13, 15, 17, 14], [20, 21, 22, 24, 25, 23]]\n",
      "[[], [0, 1, 2, 3, 4], [22, 20, 21, 23, 24], [2, 4, 1, 16, 15, 19], [0, 5, 6, 7, 8, 9, 10, 3]]\n",
      "[[], [0, 1, 2, 3, 4, 5, 6, 7, 8, 9, 10, 11, 12], [13, 14, 15, 16, 17, 18, 19], [], [20, 21, 22, 23], [0, 1, 2, 4, 7, 10, 19], []]\n",
      "[[], [1, 3, 6, 7], [0, 2, 5, 4], [0, 9, 10, 0]]\n",
      "[[], [], [0, 2, 4, 6], [10, 13, 16, 18, 17], [1, 3, 5, 7, 8, 9, 11, 12, 14, 15, 19], [20, 21, 22, 24]]\n",
      "[[], [], [1, 0, 2], [11, 12, 13], [3, 6, 11], [0, 1, 2, 4, 3, 6, 11]]\n",
      "[[], [], [0, 1, 2, 5, 3, 4], [0, 1, 2], [0, 1, 2, 4, 5, 6, 8], [3, 7, 9, 11, 12, 0, 1, 2], [20, 21]]\n",
      "[[], [1, 0, 2, 3, 8, 9, 10], [], [0, 1, 8, 10], [2, 3, 4, 5, 6]]\n",
      "[[], [4, 3, 2, 1, 0], [5, 6, 5], [5, 6], [9, 8], [6, 8, 9], [9, 8, 6]]\n",
      "[[], [], [0, 1, 2, 3, 4, 5, 6, 7, 8, 9, 10, 11], [], [4, 6, 5, 8, 11, 10], [0, 1, 2]]\n",
      "[[], [0], [1, 2, 3, 4], [5, 6, 7], [20, 21, 22, 23]]\n",
      "[[], [], [0], [1, 2, 3, 4], [16, 17, 18, 19], [0]]\n",
      "[[], [], [0, 1, 2], [3, 4, 6, 7, 5], [20, 21, 22], []]\n",
      "[[], [0, 1], [], [2, 3, 4], [0, 1], [5], [5]]\n"
     ]
    }
   ],
   "source": [
    "reg = re.compile(r'F\\d+')\n",
    "mentions = [[reg.findall(n)for n in sent_tokenize(l['narration'])] for l in simple_train if l['narrative_questions'][1][:26] == \"Summarise the top features\"]\n",
    "all_fts = [l['feature_nums'] for l in simple_train if l['narrative_questions'][1][:26] == \"Summarise the top features\"]\n",
    "indexes = [[[narr.index(val) if len(sent)>0 else None for val in sent ] for sent in mention] for narr, mention in zip(all_fts, mentions)]\n",
    "rev_indexes = [[[narr[::-1].index(val) if len(sent)>0 else None for val in sent ] for sent in mention] for narr, mention in zip(all_fts, mentions)]\n",
    "\n",
    "mentions2 = [[reg.findall(n)for n in sent_tokenize(l['narration'])] for l in simple_train if l['narrative_questions'][1][:26] != \"Summarise the top features\"]\n",
    "all_fts2 = [l['feature_nums'] for l in simple_train if l['narrative_questions'][1][:26] != \"Summarise the top features\"]\n",
    "indexes2 = [[[narr.index(val) if len(sent)>0 else None for val in sent ] for sent in mention] for narr, mention in zip(all_fts2, mentions2)]\n",
    "\n",
    "for i, r_i in zip(indexes, rev_indexes):\n",
    "    print(i)#, r_i)\n",
    "    # print(r_i)"
   ]
  },
  {
   "cell_type": "code",
   "execution_count": 40,
   "metadata": {},
   "outputs": [
    {
     "data": {
      "text/plain": [
       "7"
      ]
     },
     "execution_count": 40,
     "metadata": {},
     "output_type": "execute_result"
    }
   ],
   "source": [
    "len(mentions[0])"
   ]
  },
  {
   "cell_type": "code",
   "execution_count": 41,
   "metadata": {},
   "outputs": [
    {
     "data": {
      "image/png": "[encoded data removed]",
      "text/plain": [
       "<Figure size 640x480 with 1 Axes>"
      ]
     },
     "metadata": {},
     "output_type": "display_data"
    }
   ],
   "source": [
    "# join mentions[0] into 1 list\n",
    "num_fts = [len(set([item for sublist in mention for item in sublist])) for mention in mentions]\n",
    "\n",
    "# Plot num_fts\n",
    "plt.hist(num_fts, bins=20)\n",
    "plt.show()"
   ]
  },
  {
   "cell_type": "code",
   "execution_count": 42,
   "metadata": {},
   "outputs": [
    {
     "data": {
      "image/png": "[encoded data removed]",
      "text/plain": [
       "<Figure size 2000x1000 with 2 Axes>"
      ]
     },
     "metadata": {},
     "output_type": "display_data"
    }
   ],
   "source": [
    "tf = Counter([item for group in indexes for sublist in group for item in sublist]).most_common()\n",
    "\n",
    "y = [count for tag, count in tf]\n",
    "x = [tag for tag, count in tf]\n",
    "\n",
    "fig, axs = plt.subplots(1, 2, figsize=(20, 10))\n",
    "axs[0].bar(x, y, color='crimson')\n",
    "axs[0].set_title(\"No ft mentions in Q\")\n",
    "axs[0].set_ylabel(\"Frequency number appears in answer\")\n",
    "# axs[0].yscale('log') # optionally set a log scale for the y-axis\n",
    "\n",
    "axs[0].set_xticks(x, rotation=90)\n",
    "for i, (tag, count) in enumerate(tf):\n",
    "    axs[0].text(i, count, f' {count} ', rotation=90,\n",
    "             ha='center', va='top' if i < 10 else 'bottom', color='white' if i < 10 else 'black')\n",
    "axs[0].set_xlim(-0.6, len(x)-0.4) # optionally set tighter x lims\n",
    "\n",
    "tf2 = Counter([item for group in indexes2 for sublist in group for item in sublist]).most_common()\n",
    "y2 = [count for tag, count in tf2]\n",
    "x2 = [tag for tag, count in tf2]\n",
    "\n",
    "axs[1].bar(x2, y2, color='crimson')\n",
    "\n",
    "axs[1].set_title(\"ft mentions in Q\")\n",
    "axs[1].set_ylabel(\"Frequency number appears in answer\")\n",
    "# axs[1].yscale('log') # optionally set a log scale for the y-axis\n",
    "\n",
    "axs[1].set_xticks(x2, rotation=90)\n",
    "for i, (tag, count) in enumerate(tf2):\n",
    "    axs[1].text(i, count, f' {count} ', rotation=90,\n",
    "             ha='center', va='top' if i < 10 else 'bottom', color='white' if i < 10 else 'black')\n",
    "axs[1].set_xlim(-0.6, len(x2)-0.4) # optionally set tighter x lims\n",
    "\n",
    "plt.show()\n"
   ]
  },
  {
   "attachments": {},
   "cell_type": "markdown",
   "metadata": {},
   "source": [
    "### Moderate features"
   ]
  },
  {
   "cell_type": "code",
   "execution_count": 43,
   "metadata": {},
   "outputs": [
    {
     "name": "stdout",
     "output_type": "stream",
     "text": [
      "[5, 6, 7] [10, 9, 8]\n",
      "[2, 3, 4, 5] [17, 16, 15, 14]\n",
      "[] []\n",
      "[2, 3, 4, 5] [9, 8, 7, 6]\n",
      "[5, 6, 7] [4, 3, 2]\n",
      "[6, 7, 8] [12, 11, 10]\n",
      "[6, 7, 8] [19, 18, 17]\n",
      "[3, 4, 5] [16, 15, 14]\n",
      "[2, 3, 4, 5] [9, 8, 7, 6]\n",
      "[13, 1, 24, 6] [12, 24, 1, 19]\n",
      "[4, 5, 6] [88, 87, 86]\n",
      "[2, 3, 4, 5] [9, 8, 7, 6]\n",
      "[3, 4, 5] [8, 7, 6]\n",
      "[2, 3, 4, 5] [8, 7, 6, 5]\n",
      "[2, 3, 4, 5] [7, 6, 5, 4]\n",
      "[2, 3, 4, 5] [4, 3, 2, 1]\n",
      "[2, 3, 4, 5] [43, 42, 41, 40]\n",
      "[7, 8, 9] [12, 11, 10]\n",
      "[2, 3, 4, 5] [14, 13, 12, 11]\n",
      "[8, 9] [1, 0]\n",
      "[6, 7, 8] [2, 1, 0]\n",
      "[6] [0]\n",
      "[3, 4, 5] [16, 15, 14]\n",
      "[4, 5, 6] [41, 40, 39]\n",
      "[6, 7, 8] [2, 1, 0]\n",
      "[2, 3, 4, 5] [6, 5, 4, 3]\n",
      "[8, 9, 10] [3, 2, 1]\n",
      "[2, 3, 4, 5] [27, 26, 25, 24]\n",
      "[2, 3, 4, 5] [23, 22, 21, 20]\n",
      "[7, 8, 9] [4, 3, 2]\n",
      "[3, 4, 5] [16, 15, 14]\n",
      "[5, 6, 7] [32, 31, 30]\n",
      "[4, 5, 6] [6, 5, 4]\n",
      "[6, 7, 8, 9] [23, 22, 21, 20]\n",
      "[2, 3, 4, 5] [9, 8, 7, 6]\n",
      "[6, 7, 8] [2, 1, 0]\n",
      "[6, 7, 8, 9] [31, 30, 29, 28]\n",
      "[5, 6, 7] [3, 2, 1]\n",
      "[5, 6, 7] [24, 23, 22]\n",
      "[5, 6, 7] [3, 2, 1]\n",
      "[8, 9, 10] [24, 23, 22]\n",
      "[2, 3, 4, 5] [14, 13, 12, 11]\n",
      "[6, 7, 8, 9] [5, 4, 3, 2]\n",
      "[7, 8, 9] [9, 8, 7]\n",
      "[2, 3, 4, 5] [16, 15, 14, 13]\n",
      "[5, 6, 7] [14, 13, 12]\n",
      "[4, 5, 6] [4, 3, 2]\n",
      "[6, 7, 8, 9] [13, 12, 11, 10]\n",
      "[3, 4, 5] [5, 4, 3]\n",
      "[5, 6, 7] [10, 9, 8]\n",
      "[5, 6, 7] [13, 12, 11]\n",
      "[6, 7, 8] [3, 2, 1]\n",
      "[3, 4, 5] [5, 4, 3]\n",
      "[5, 6, 7] [6, 5, 4]\n",
      "[3, 4, 5] [15, 14, 13]\n",
      "[6, 7, 8] [19, 18, 17]\n",
      "[8, 9, 10] [2, 1, 0]\n",
      "[5, 6, 7] [8, 7, 6]\n",
      "[2, 3, 4, 5] [3, 2, 1, 0]\n",
      "[3, 4, 5] [16, 15, 14]\n",
      "[5, 6, 7] [27, 26, 25]\n",
      "[5, 6, 7] [32, 31, 30]\n",
      "[3, 4, 5] [11, 10, 9]\n",
      "[5, 6, 7] [4, 3, 2]\n",
      "[2, 3, 4, 5] [43, 42, 41, 40]\n",
      "[2, 3, 4, 5] [11, 10, 9, 8]\n",
      "[4, 5, 6] [6, 5, 4]\n",
      "[4, 5, 6] [6, 5, 4]\n",
      "[6, 7, 8, 9] [5, 4, 3, 2]\n",
      "[5, 6, 7] [20, 19, 18]\n",
      "[6, 7, 8, 9] [5, 4, 3, 2]\n",
      "[4, 5, 6] [88, 87, 86]\n",
      "[2, 3, 4, 5] [39, 38, 37, 36]\n",
      "[8, 9] [1, 0]\n",
      "[3, 4, 5] [15, 14, 13]\n",
      "[5, 6, 7] [4, 3, 2]\n",
      "[6, 7, 8] [2, 1, 0]\n",
      "[4, 5, 6] [28, 27, 26]\n",
      "[2, 3, 4, 5] [39, 38, 37, 36]\n",
      "[6, 7, 8, 9] [31, 30, 29, 28]\n",
      "[6, 7, 8] [19, 18, 17]\n",
      "[8, 9, 10] [3, 2, 1]\n",
      "[2, 3, 4, 5] [23, 22, 21, 20]\n",
      "[2, 3, 4, 5] [12, 11, 10, 9]\n",
      "[6, 7, 8] [26, 25, 24]\n",
      "[5, 6, 7] [5, 4, 3]\n",
      "[6, 7, 8] [5, 4, 3]\n",
      "[5, 6, 7] [32, 31, 30]\n",
      "[6, 7, 8, 9] [5, 4, 3, 2]\n",
      "[2, 3, 4, 5] [9, 8, 7, 6]\n",
      "[2, 3, 4, 5] [19, 18, 17, 16]\n",
      "[6, 7, 8] [2, 1, 0]\n",
      "[5, 6, 7] [32, 31, 30]\n",
      "[7, 8, 9] [85, 84, 83]\n",
      "[3, 4, 5] [4, 3, 2]\n",
      "[6, 7, 8, 9] [23, 22, 21, 20]\n",
      "[2, 3, 4, 5] [90, 89, 88, 87]\n",
      "[5, 6, 7] [40, 39, 38]\n",
      "[2, 3, 4, 5] [27, 26, 25, 24]\n",
      "[2, 3, 4, 5] [27, 26, 25, 24]\n",
      "[2, 3, 4, 5] [9, 8, 7, 6]\n",
      "[3, 4, 5] [10, 9, 8]\n",
      "[7, 8, 9] [22, 21, 20]\n",
      "[2, 3, 4, 5] [27, 26, 25, 24]\n",
      "[6, 7, 8, 9] [3, 2, 1, 0]\n",
      "[6, 7, 8, 9] [10, 9, 8, 7]\n",
      "[6, 7, 8] [5, 4, 3]\n",
      "[5, 6, 7] [20, 19, 18]\n",
      "[5, 6, 7] [8, 7, 6]\n",
      "[2, 3, 4, 5] [7, 6, 5, 4]\n",
      "[7, 8, 9] [25, 24, 23]\n",
      "[5, 6, 7] [20, 19, 18]\n",
      "[5, 6] [1, 0]\n",
      "[5, 6, 7] [10, 9, 8]\n",
      "[4, 5, 6] [7, 6, 5]\n",
      "[3, 4, 5] [10, 9, 8]\n",
      "[4, 5, 6] [6, 5, 4]\n",
      "[8] [0]\n",
      "[2, 3, 4, 5] [9, 8, 7, 6]\n",
      "[6, 7, 8] [8, 7, 6]\n",
      "[6, 7, 8, 9] [15, 14, 13, 12]\n",
      "[5, 6, 7] [4, 3, 2]\n",
      "[2, 3, 4, 5] [4, 3, 2, 1]\n",
      "[3, 4, 5] [11, 10, 9]\n",
      "[2, 3, 4, 5] [9, 8, 7, 6]\n",
      "[2, 3, 4, 5] [9, 8, 7, 6]\n",
      "[2, 3, 4, 5] [27, 26, 25, 24]\n",
      "[2, 3, 4, 5] [39, 38, 37, 36]\n",
      "[2, 3, 4, 5] [7, 6, 5, 4]\n",
      "[6, 7, 8] [2, 1, 0]\n",
      "[6, 7, 8, 9] [4, 3, 2, 1]\n",
      "[2, 3, 4, 5] [6, 5, 4, 3]\n",
      "[2, 3, 4, 5] [9, 8, 7, 6]\n",
      "[6] [0]\n",
      "[6, 7, 8] [2, 1, 0]\n",
      "[5, 6, 7] [6, 5, 4]\n",
      "[6, 7] [1, 0]\n",
      "[2, 3, 4, 5] [12, 11, 10, 9]\n",
      "[2, 3, 4, 5] [9, 8, 7, 6]\n",
      "[6, 7, 8] [39, 38, 37]\n",
      "[6, 7, 8] [5, 4, 3]\n",
      "[6, 7, 8, 9] [10, 9, 8, 7]\n",
      "[5, 6, 7] [3, 2, 1]\n",
      "[3, 4, 5] [5, 4, 3]\n",
      "[3, 4, 5] [10, 9, 8]\n",
      "[3, 4, 5] [38, 37, 36]\n",
      "[2, 3, 4, 5] [11, 10, 9, 8]\n",
      "[3, 4, 5] [5, 4, 3]\n",
      "[6, 7, 8] [3, 2, 1]\n",
      "[2, 3, 4, 5] [9, 8, 7, 6]\n",
      "[3, 4, 5] [5, 4, 3]\n",
      "[5, 6, 7] [3, 2, 1]\n",
      "[5, 6, 7] [3, 2, 1]\n",
      "[3, 4, 5] [16, 15, 14]\n",
      "[5, 6, 7] [10, 9, 8]\n",
      "[2, 3, 4, 5] [7, 6, 5, 4]\n",
      "[8, 9, 10] [17, 16, 15]\n",
      "[6, 7, 8] [19, 18, 17]\n",
      "[7, 8, 9] [4, 3, 2]\n",
      "[7, 8, 9] [4, 3, 2]\n",
      "[2, 3, 4, 5] [5, 4, 3, 2]\n",
      "[4, 5, 6] [4, 3, 2]\n",
      "[6, 7, 8, 9] [9, 8, 7, 6]\n",
      "[6, 7, 8] [5, 4, 3]\n",
      "[5, 6, 7] [4, 3, 2]\n",
      "[2, 3, 4, 5] [30, 29, 28, 27]\n",
      "[2, 3, 4, 5] [43, 42, 41, 40]\n",
      "[2, 3, 4, 5] [5, 4, 3, 2]\n",
      "[2, 3, 4, 5] [39, 38, 37, 36]\n",
      "[2, 3, 4, 5] [12, 11, 10, 9]\n",
      "[4, 5, 6] [88, 87, 86]\n",
      "[7, 8, 9] [3, 2, 1]\n",
      "[4, 5, 6] [28, 27, 26]\n",
      "[2, 3, 4, 5] [10, 9, 8, 7]\n",
      "[4, 5, 6] [7, 6, 5]\n",
      "[2, 3, 4, 5] [4, 3, 2, 1]\n",
      "[6, 7, 8, 9] [23, 22, 21, 20]\n",
      "[5, 6, 7] [20, 19, 18]\n",
      "[3, 4, 5] [2, 1, 0]\n",
      "[5, 6, 7] [10, 9, 8]\n",
      "[2, 3, 4, 5] [9, 8, 7, 6]\n",
      "[3, 4, 5] [3, 2, 1]\n",
      "[3, 4, 5] [13, 12, 11]\n",
      "[5, 6, 7] [8, 7, 6]\n",
      "[3, 4, 5] [16, 15, 14]\n",
      "[2, 3, 4, 5] [8, 7, 6, 5]\n",
      "[8, 9, 10] [2, 1, 0]\n",
      "[4, 5, 6] [6, 5, 4]\n",
      "[3, 4, 5] [10, 9, 8]\n",
      "[2, 3, 4, 5] [7, 6, 5, 4]\n",
      "[4, 5, 6] [6, 5, 4]\n",
      "[2, 3, 4, 5] [9, 8, 7, 6]\n",
      "[8] [0]\n",
      "[8, 9, 10] [6, 5, 4]\n",
      "[2, 3, 4, 5] [9, 8, 7, 6]\n",
      "[3, 4, 5] [15, 14, 13]\n",
      "[7] [0]\n",
      "[2, 3, 4, 5] [17, 16, 15, 14]\n",
      "[3, 4, 5] [16, 15, 14]\n",
      "[5, 6, 7] [11, 10, 9]\n",
      "[3, 4, 5] [15, 14, 13]\n",
      "[2, 3, 4, 5] [9, 8, 7, 6]\n",
      "[2, 3, 4, 5] [10, 9, 8, 7]\n",
      "[5, 6, 7] [10, 9, 8]\n",
      "[6, 7, 8, 9] [9, 8, 7, 6]\n",
      "[2, 3, 4, 5] [9, 8, 7, 6]\n",
      "[6, 7, 8] [9, 8, 7]\n",
      "[2, 3, 4, 5] [8, 7, 6, 5]\n",
      "[5, 6, 7] [13, 12, 11]\n",
      "[8] [0]\n",
      "[2, 3, 4, 5] [17, 16, 15, 14]\n",
      "[2, 3, 4, 5] [6, 5, 4, 3]\n",
      "[4, 5, 6] [10, 9, 8]\n",
      "[2, 3, 4, 5] [13, 12, 11, 10]\n",
      "[8, 9, 10] [24, 23, 22]\n",
      "[3, 4, 5] [7, 6, 5]\n",
      "[2, 3, 4, 5] [43, 42, 41, 40]\n",
      "[4, 5, 6] [11, 10, 9]\n",
      "[6, 7] [1, 0]\n",
      "[2, 3, 4, 5] [39, 38, 37, 36]\n",
      "[4, 5, 6] [7, 6, 5]\n",
      "[6, 7, 8, 9] [3, 2, 1, 0]\n",
      "[2, 3, 4, 5] [8, 7, 6, 5]\n",
      "[4, 5, 6] [2, 1, 0]\n",
      "[5, 6, 7] [3, 2, 1]\n",
      "[] []\n",
      "[3, 4, 5] [5, 4, 3]\n",
      "[3, 4, 5] [5, 4, 3]\n",
      "[3, 4, 5] [10, 9, 8]\n",
      "[3, 4, 5] [4, 3, 2]\n",
      "[2, 3, 4, 5] [14, 13, 12, 11]\n",
      "[6, 7, 8, 9] [31, 30, 29, 28]\n",
      "[2, 3, 4, 5] [6, 5, 4, 3]\n",
      "[5, 6, 7] [40, 39, 38]\n",
      "[7, 8, 9] [85, 84, 83]\n",
      "[6, 7, 8, 9] [6, 5, 4, 3]\n",
      "[6, 7, 8] [23, 22, 21]\n",
      "[2, 3, 4, 5] [10, 9, 8, 7]\n",
      "[2, 3, 4, 5] [6, 5, 4, 3]\n",
      "[3, 4, 5] [9, 8, 7]\n",
      "[5, 6, 7] [9, 8, 7]\n",
      "[4, 5, 6] [7, 6, 5]\n",
      "[4, 5, 6] [6, 5, 4]\n",
      "[4, 5, 6] [88, 87, 86]\n",
      "[2, 3, 4, 5] [8, 7, 6, 5]\n",
      "[5, 6, 7] [14, 13, 12]\n",
      "[8, 9, 10] [2, 1, 0]\n",
      "[4, 5, 6] [3, 2, 1]\n",
      "[2, 3, 4, 5] [19, 18, 17, 16]\n",
      "[2, 3, 4, 5] [7, 6, 5, 4]\n",
      "[6, 7, 8] [13, 12, 11]\n",
      "[5, 6, 7] [2, 1, 0]\n",
      "[4, 5, 6] [15, 14, 13]\n",
      "[2, 3, 4, 5] [9, 8, 7, 6]\n",
      "[3, 4, 5] [16, 15, 14]\n",
      "[4, 5, 6] [8, 7, 6]\n",
      "[7, 8, 9] [3, 2, 1]\n",
      "[5, 6, 7] [4, 3, 2]\n",
      "[8, 9, 10] [2, 1, 0]\n",
      "[2, 3, 4, 5] [10, 9, 8, 7]\n",
      "[2, 3, 4, 5] [7, 6, 5, 4]\n",
      "[7, 8, 9] [2, 1, 0]\n",
      "[8, 9] [1, 0]\n",
      "[6] [0]\n",
      "[2, 3, 4, 5] [5, 4, 3, 2]\n",
      "[2, 3, 4, 5] [8, 7, 6, 5]\n",
      "[3, 4, 5] [29, 28, 27]\n",
      "[6, 7, 8] [12, 11, 10]\n",
      "[5, 6, 7] [10, 9, 8]\n",
      "[2, 3, 4, 5] [9, 8, 7, 6]\n",
      "[2, 3, 4, 5] [9, 8, 7, 6]\n",
      "[2, 3, 4, 5] [39, 38, 37, 36]\n",
      "[2, 3, 4, 5] [8, 7, 6, 5]\n",
      "[3, 4, 5] [18, 17, 16]\n",
      "[5, 6, 7] [3, 2, 1]\n",
      "[4, 5, 6] [4, 3, 2]\n",
      "[5, 6, 7] [10, 9, 8]\n",
      "[3, 4, 5] [38, 37, 36]\n",
      "[3, 4, 5] [8, 7, 6]\n",
      "[3, 4, 5] [16, 15, 14]\n",
      "[6, 7, 8] [5, 4, 3]\n",
      "[2, 3, 4, 5] [6, 5, 4, 3]\n",
      "[2, 3, 4, 5] [17, 16, 15, 14]\n",
      "[4, 5, 6] [8, 7, 6]\n",
      "[2, 3, 4, 5] [6, 5, 4, 3]\n",
      "[3, 4, 5] [42, 41, 40]\n",
      "[5, 6, 7] [4, 3, 2]\n",
      "[2, 3, 4, 5] [17, 16, 15, 14]\n",
      "[6, 7, 8, 9] [23, 22, 21, 20]\n",
      "[5, 6, 7] [9, 8, 7]\n",
      "[2, 3, 4, 5] [3, 2, 1, 0]\n",
      "[2, 3, 4, 5] [23, 22, 21, 20]\n",
      "[3, 4, 5] [8, 7, 6]\n",
      "[6, 7, 8] [39, 38, 37]\n",
      "[2, 3, 4, 5] [3, 2, 1, 0]\n",
      "[2, 3, 4, 5] [6, 5, 4, 3]\n",
      "[4, 5, 6] [8, 7, 6]\n",
      "[2, 3, 4, 5] [6, 5, 4, 3]\n",
      "[3, 4, 5] [10, 9, 8]\n",
      "[6, 7, 8, 9] [35, 34, 33, 32]\n",
      "[3, 4, 5] [5, 4, 3]\n",
      "[7] [0]\n",
      "[3, 4, 5] [2, 1, 0]\n",
      "[7, 8, 9] [12, 11, 10]\n",
      "[2, 3, 4, 5] [11, 10, 9, 8]\n",
      "[2, 3, 4, 5] [27, 26, 25, 24]\n",
      "[2, 3, 4, 5] [23, 22, 21, 20]\n",
      "[2, 3, 4, 5] [3, 2, 1, 0]\n",
      "[4, 5, 6] [33, 32, 31]\n",
      "[6, 7, 8, 9] [13, 12, 11, 10]\n",
      "[5, 6, 7] [40, 39, 38]\n",
      "[5, 6, 7] [20, 19, 18]\n",
      "[8, 9] [1, 0]\n",
      "[6, 7, 8, 9] [10, 9, 8, 7]\n",
      "[] []\n",
      "[4, 5, 6] [9, 8, 7]\n",
      "[3, 4, 5] [8, 7, 6]\n",
      "[4, 5, 6] [41, 40, 39]\n",
      "[2, 3, 4, 5] [9, 8, 7, 6]\n",
      "[6, 7, 8, 9] [5, 4, 3, 2]\n",
      "[3, 4, 5] [7, 6, 5]\n",
      "[3, 4, 5] [26, 25, 24]\n",
      "[3, 4, 5] [16, 15, 14]\n",
      "[5, 6, 7] [40, 39, 38]\n",
      "[2, 3, 4, 5] [9, 8, 7, 6]\n",
      "[7, 8, 9] [25, 24, 23]\n",
      "[2, 3, 4, 5] [9, 8, 7, 6]\n",
      "[2, 3, 4, 5] [8, 7, 6, 5]\n",
      "[2, 3, 4, 5] [10, 9, 8, 7]\n",
      "[2, 3, 4, 5] [13, 12, 11, 10]\n",
      "[4, 5, 6] [3, 2, 1]\n",
      "[4, 5, 6] [14, 13, 12]\n",
      "[2, 3, 4, 5] [14, 13, 12, 11]\n",
      "[4, 5, 6] [8, 7, 6]\n",
      "[2, 3, 4, 5] [8, 7, 6, 5]\n",
      "[7, 8, 9] [85, 84, 83]\n",
      "[2, 3, 4, 5] [6, 5, 4, 3]\n",
      "[6, 7, 8, 9] [23, 22, 21, 20]\n",
      "[7, 8, 9] [22, 21, 20]\n",
      "[3, 4, 5] [16, 15, 14]\n",
      "[8, 9, 10] [2, 1, 0]\n",
      "[5, 6, 7] [3, 2, 1]\n",
      "[5, 6, 7] [6, 5, 4]\n",
      "[2, 3, 4, 5] [4, 3, 2, 1]\n",
      "[3, 4, 5] [10, 9, 8]\n",
      "[4, 5, 6] [41, 40, 39]\n",
      "[3, 4, 5] [18, 17, 16]\n",
      "[6, 7, 8] [4, 3, 2]\n",
      "[5, 6, 7] [4, 3, 2]\n",
      "[3, 4, 5] [5, 4, 3]\n",
      "[2, 3, 4, 5] [9, 8, 7, 6]\n",
      "[6, 7, 8] [26, 25, 24]\n",
      "[4, 5, 6] [15, 14, 13]\n",
      "[3, 4, 5] [26, 25, 24]\n",
      "[2, 3, 4, 5] [3, 2, 1, 0]\n"
     ]
    }
   ],
   "source": [
    "reg = re.compile(r'F\\d+')\n",
    "mentions = [[reg.findall(n)for n in l['narrative_questions']][2] for l in simple_train if l['narrative_questions'][2][:33] == \"Summarise these moderate features\"]\n",
    "all_fts = [l['feature_nums'] for l in simple_train if l['narrative_questions'][2][:33] == \"Summarise these moderate features\"]\n",
    "indexes = [[narr.index(val) for val in mention] for narr, mention in zip(all_fts, mentions)]\n",
    "\n",
    "rev_indexes = [[narr[::-1].index(val) for val in mention] for narr, mention in zip(all_fts, mentions)]\n",
    "\n",
    "for i, r_i in zip(indexes, rev_indexes):\n",
    "    print(i, r_i)"
   ]
  },
  {
   "cell_type": "code",
   "execution_count": 44,
   "metadata": {},
   "outputs": [
    {
     "data": {
      "text/plain": [
       "[(5, 255),\n",
       " (4, 200),\n",
       " (3, 163),\n",
       " (6, 153),\n",
       " (7, 129),\n",
       " (2, 109),\n",
       " (8, 89),\n",
       " (9, 57),\n",
       " (10, 11),\n",
       " (13, 1),\n",
       " (1, 1),\n",
       " (24, 1)]"
      ]
     },
     "execution_count": 44,
     "metadata": {},
     "output_type": "execute_result"
    }
   ],
   "source": [
    "Counter([item for sublist in indexes for item in sublist]).most_common()"
   ]
  },
  {
   "attachments": {},
   "cell_type": "markdown",
   "metadata": {},
   "source": [
    "### Negligible features"
   ]
  },
  {
   "cell_type": "code",
   "execution_count": 45,
   "metadata": {},
   "outputs": [
    {
     "name": "stdout",
     "output_type": "stream",
     "text": [
      "[6, 7, 8, 9] [3, 2, 1, 0]\n",
      "[6] [0]\n",
      "[6, 7, 8, 9] [13, 12, 11, 10]\n",
      "[7, 8, 9] [3, 2, 1]\n",
      "[8] [0]\n",
      "[7, 8] [1, 0]\n",
      "[6, 7, 8] [2, 1, 0]\n",
      "[8, 9, 10] [5, 4, 3]\n",
      "[8, 9, 10] [24, 23, 22]\n",
      "[7, 8, 9] [3, 2, 1]\n",
      "[7, 8, 9] [3, 2, 1]\n",
      "[6, 7, 8, 9] [35, 34, 33, 32]\n",
      "[6, 7, 8, 9] [35, 34, 33, 32]\n",
      "[6, 7, 8, 9] [8, 7, 6, 5]\n",
      "[8, 9, 10] [37, 36, 35]\n",
      "[6, 7, 8] [23, 22, 21]\n",
      "[6, 7, 8, 9] [23, 22, 21, 20]\n",
      "[8, 9, 10] [5, 4, 3]\n",
      "[7, 8, 9] [3, 2, 1]\n",
      "[6] [0]\n",
      "[6, 7, 8] [35, 34, 33]\n",
      "[6, 7, 8] [2, 1, 0]\n",
      "[6, 7, 8, 9] [5, 4, 3, 2]\n",
      "[8, 9, 10] [3, 2, 1]\n",
      "[6, 7, 8, 9] [8, 7, 6, 5]\n",
      "[6, 7, 8, 9] [35, 34, 33, 32]\n",
      "[6, 7, 8, 9] [13, 12, 11, 10]\n",
      "[6, 7, 8, 9] [3, 2, 1, 0]\n",
      "[6, 7] [1, 0]\n",
      "[7, 8] [1, 0]\n",
      "[6, 7] [1, 0]\n",
      "[6, 7, 8, 9] [35, 34, 33, 32]\n",
      "[6, 7, 8, 9] [8, 7, 6, 5]\n",
      "[7, 8, 9] [85, 84, 83]\n",
      "[6] [0]\n",
      "[] []\n",
      "[6] [0]\n",
      "[6, 7, 8, 9] [10, 9, 8, 7]\n",
      "[8, 9, 10] [5, 4, 3]\n",
      "[7, 8, 9] [3, 2, 1]\n",
      "[7, 8, 9] [3, 2, 1]\n",
      "[6, 7, 8, 9] [12, 11, 10, 9]\n",
      "[6, 7, 8, 9] [13, 12, 11, 10]\n",
      "[7, 8, 9] [7, 6, 5]\n",
      "[7, 8, 9] [8, 7, 6]\n",
      "[6, 7, 8] [35, 34, 33]\n",
      "[7, 8, 9] [4, 3, 2]\n",
      "[8] [0]\n",
      "[8, 9, 10] [37, 36, 35]\n",
      "[6, 7, 8] [6, 5, 4]\n",
      "[8, 9, 10] [6, 5, 4]\n",
      "[7, 8, 9] [4, 3, 2]\n",
      "[7, 8, 9] [3, 2, 1]\n",
      "[8, 9, 10] [11, 10, 9]\n",
      "[7] [0]\n",
      "[6, 7, 8, 9] [3, 2, 1, 0]\n",
      "[6, 7, 8] [5, 4, 3]\n",
      "[6, 7, 8] [6, 5, 4]\n",
      "[6, 7, 8] [5, 4, 3]\n",
      "[6, 7, 8, 9] [5, 4, 3, 2]\n",
      "[6, 7, 8] [35, 34, 33]\n",
      "[8] [0]\n",
      "[6, 7, 8, 9] [35, 34, 33, 32]\n",
      "[6, 7, 8, 9] [5, 4, 3, 2]\n",
      "[6, 7, 8, 9] [39, 38, 37, 36]\n",
      "[8, 9, 10] [6, 5, 4]\n",
      "[] []\n",
      "[] []\n",
      "[7, 8, 9] [5, 4, 3]\n",
      "[6, 7, 8] [2, 1, 0]\n",
      "[] []\n",
      "[6, 7, 8] [7, 6, 5]\n",
      "[6, 7, 8, 9] [13, 12, 11, 10]\n",
      "[6, 7, 8, 9] [5, 4, 3, 2]\n",
      "[6, 7, 8] [4, 3, 2]\n",
      "[6, 7, 8] [6, 5, 4]\n",
      "[6, 7, 8, 9] [9, 8, 7, 6]\n",
      "[7] [0]\n",
      "[7, 8, 9] [5, 4, 3]\n",
      "[6, 7, 8] [4, 3, 2]\n",
      "[6, 7, 8] [2, 1, 0]\n",
      "[6, 7, 8, 9] [13, 12, 11, 10]\n",
      "[8] [0]\n",
      "[8, 9, 10] [3, 2, 1]\n",
      "[6] [0]\n",
      "[6, 7, 8] [2, 1, 0]\n"
     ]
    }
   ],
   "source": [
    "reg = re.compile(r'F\\d+')\n",
    "mentions = [[reg.findall(n)for n in l['narrative_questions']][-1] for l in simple_train if l['narrative_questions'][3][:35] == \"Summarise these negligible features\"]\n",
    "all_fts = [l['feature_nums'] for l in simple_train if l['narrative_questions'][3][:35] == \"Summarise these negligible features\"]\n",
    "indexes = [[narr.index(val) for val in mention] for narr, mention in zip(all_fts, mentions)]\n",
    "\n",
    "rev_indexes = [[narr[::-1].index(val) for val in mention] for narr, mention in zip(all_fts, mentions)]\n",
    "\n",
    "for i, r_i in zip(indexes, rev_indexes):\n",
    "    print(i, r_i)"
   ]
  },
  {
   "cell_type": "code",
   "execution_count": 46,
   "metadata": {},
   "outputs": [
    {
     "data": {
      "text/plain": [
       "[(8, 73), (7, 62), (9, 50), (6, 49), (10, 11)]"
      ]
     },
     "execution_count": 46,
     "metadata": {},
     "output_type": "execute_result"
    }
   ],
   "source": [
    "Counter([item for sublist in indexes for item in sublist]).most_common()"
   ]
  },
  {
   "cell_type": "code",
   "execution_count": 47,
   "metadata": {},
   "outputs": [
    {
     "data": {
      "text/plain": [
       "[10,\n",
       " 17,\n",
       " 25,\n",
       " 66,\n",
       " 73,\n",
       " 95,\n",
       " 99,\n",
       " 100,\n",
       " 145,\n",
       " 174,\n",
       " 180,\n",
       " 226,\n",
       " 244,\n",
       " 245,\n",
       " 254,\n",
       " 299,\n",
       " 309,\n",
       " 328,\n",
       " 336,\n",
       " 342,\n",
       " 354,\n",
       " 365]"
      ]
     },
     "execution_count": 47,
     "metadata": {},
     "output_type": "execute_result"
    }
   ],
   "source": [
    "[i for i, fts in enumerate(train['feature_nums']) if len(fts) >45 ]"
   ]
  },
  {
   "attachments": {},
   "cell_type": "markdown",
   "metadata": {},
   "source": [
    "## Inputs getting cut off"
   ]
  },
  {
   "cell_type": "code",
   "execution_count": 48,
   "metadata": {},
   "outputs": [
    {
     "name": "stdout",
     "output_type": "stream",
     "text": [
      "essel 30 t5-base 400\n"
     ]
    },
    {
     "name": "stderr",
     "output_type": "stream",
     "text": [
      "/home/james/CodingProjects/Local_level_model_explanations/env/lib/python3.10/site-packages/transformers/models/t5/tokenization_t5_fast.py:155: FutureWarning: This tokenizer was incorrectly instantiated with a model max length of 512 which will be corrected in Transformers v5.\n",
      "For now, this behavior is kept to avoid breaking backwards compatibility when padding/encoding with `truncation is True`.\n",
      "- Be aware that you SHOULD NOT rely on t5-base automatically truncating your input to 512 when padding/encoding.\n",
      "- If you want to encode/pad to sequences longer than 512 you can either instantiate this tokenizer with `model_max_length` or pass `max_length` when encoding/padding.\n",
      "- To avoid this warning, please instantiate this tokenizer with `model_max_length` set to your preferred value.\n",
      "  warnings.warn(\n",
      "Using custom data configuration james-burton--textual-explanations-19ff8605823ae74a\n",
      "Found cached dataset parquet (/home/james/.cache/huggingface/datasets/james-burton___parquet/james-burton--textual-explanations-19ff8605823ae74a/0.0.0/2a3b91fbd88a2c90d1dbbb32b460cf621d31bd5b05b934492fdef7d8d6f236ec)\n",
      "100%|██████████| 3/3 [00:00<00:00, 329.79it/s]\n",
      "100%|██████████| 375/375 [00:00<00:00, 7307.83ex/s]\n",
      "100%|██████████| 47/47 [00:00<00:00, 7834.52ex/s]\n",
      "100%|██████████| 47/47 [00:00<00:00, 7659.49ex/s]\n",
      "100%|██████████| 375/375 [00:00<00:00, 2572.77ex/s]\n",
      "100%|██████████| 47/47 [00:00<00:00, 2625.91ex/s]\n",
      "100%|██████████| 47/47 [00:00<00:00, 2628.71ex/s]\n",
      "100%|██████████| 1/1 [00:00<00:00, 11.30ba/s]\n",
      "100%|██████████| 1/1 [00:00<00:00, 61.10ba/s]\n",
      "100%|██████████| 1/1 [00:00<00:00, 62.01ba/s]\n"
     ]
    },
    {
     "name": "stdout",
     "output_type": "stream",
     "text": [
      "0\n",
      "essel 30 facebook/bart-base 400\n"
     ]
    },
    {
     "name": "stderr",
     "output_type": "stream",
     "text": [
      "Using custom data configuration james-burton--textual-explanations-19ff8605823ae74a\n",
      "Found cached dataset parquet (/home/james/.cache/huggingface/datasets/james-burton___parquet/james-burton--textual-explanations-19ff8605823ae74a/0.0.0/2a3b91fbd88a2c90d1dbbb32b460cf621d31bd5b05b934492fdef7d8d6f236ec)\n",
      "100%|██████████| 3/3 [00:00<00:00, 973.01it/s]\n",
      "100%|██████████| 375/375 [00:00<00:00, 8212.96ex/s]\n",
      "100%|██████████| 47/47 [00:00<00:00, 7558.17ex/s]\n",
      "100%|██████████| 47/47 [00:00<00:00, 6885.03ex/s]\n",
      "100%|██████████| 375/375 [00:00<00:00, 2483.82ex/s]\n",
      "100%|██████████| 47/47 [00:00<00:00, 2469.12ex/s]\n",
      "100%|██████████| 47/47 [00:00<00:00, 2602.06ex/s]\n",
      "100%|██████████| 1/1 [00:00<00:00, 11.65ba/s]\n",
      "100%|██████████| 1/1 [00:00<00:00, 59.83ba/s]\n",
      "100%|██████████| 1/1 [00:00<00:00, 60.69ba/s]\n"
     ]
    },
    {
     "name": "stdout",
     "output_type": "stream",
     "text": [
      "0\n",
      "essel 30 t5-base 500\n"
     ]
    },
    {
     "name": "stderr",
     "output_type": "stream",
     "text": [
      "/home/james/CodingProjects/Local_level_model_explanations/env/lib/python3.10/site-packages/transformers/models/t5/tokenization_t5_fast.py:155: FutureWarning: This tokenizer was incorrectly instantiated with a model max length of 512 which will be corrected in Transformers v5.\n",
      "For now, this behavior is kept to avoid breaking backwards compatibility when padding/encoding with `truncation is True`.\n",
      "- Be aware that you SHOULD NOT rely on t5-base automatically truncating your input to 512 when padding/encoding.\n",
      "- If you want to encode/pad to sequences longer than 512 you can either instantiate this tokenizer with `model_max_length` or pass `max_length` when encoding/padding.\n",
      "- To avoid this warning, please instantiate this tokenizer with `model_max_length` set to your preferred value.\n",
      "  warnings.warn(\n",
      "Using custom data configuration james-burton--textual-explanations-19ff8605823ae74a\n",
      "Found cached dataset parquet (/home/james/.cache/huggingface/datasets/james-burton___parquet/james-burton--textual-explanations-19ff8605823ae74a/0.0.0/2a3b91fbd88a2c90d1dbbb32b460cf621d31bd5b05b934492fdef7d8d6f236ec)\n",
      "100%|██████████| 3/3 [00:00<00:00, 606.84it/s]\n",
      "100%|██████████| 375/375 [00:00<00:00, 8523.16ex/s]\n",
      "100%|██████████| 47/47 [00:00<00:00, 8216.93ex/s]\n",
      "100%|██████████| 47/47 [00:00<00:00, 8254.78ex/s]\n",
      "100%|██████████| 375/375 [00:00<00:00, 2259.61ex/s]\n",
      "100%|██████████| 47/47 [00:00<00:00, 2462.86ex/s]\n",
      "100%|██████████| 47/47 [00:00<00:00, 2600.62ex/s]\n",
      "100%|██████████| 1/1 [00:00<00:00, 11.43ba/s]\n",
      "100%|██████████| 1/1 [00:00<00:00, 58.73ba/s]\n",
      "100%|██████████| 1/1 [00:00<00:00, 62.74ba/s]\n"
     ]
    },
    {
     "name": "stdout",
     "output_type": "stream",
     "text": [
      "0\n",
      "essel 30 facebook/bart-base 500\n"
     ]
    },
    {
     "name": "stderr",
     "output_type": "stream",
     "text": [
      "Using custom data configuration james-burton--textual-explanations-19ff8605823ae74a\n",
      "Found cached dataset parquet (/home/james/.cache/huggingface/datasets/james-burton___parquet/james-burton--textual-explanations-19ff8605823ae74a/0.0.0/2a3b91fbd88a2c90d1dbbb32b460cf621d31bd5b05b934492fdef7d8d6f236ec)\n",
      "100%|██████████| 3/3 [00:00<00:00, 319.53it/s]\n",
      "100%|██████████| 375/375 [00:00<00:00, 7985.09ex/s]\n",
      "100%|██████████| 47/47 [00:00<00:00, 7714.04ex/s]\n",
      "100%|██████████| 47/47 [00:00<00:00, 7776.11ex/s]\n",
      "100%|██████████| 375/375 [00:00<00:00, 2583.25ex/s]\n",
      "100%|██████████| 47/47 [00:00<00:00, 2501.90ex/s]\n",
      "100%|██████████| 47/47 [00:00<00:00, 2621.47ex/s]\n",
      "100%|██████████| 1/1 [00:00<00:00, 10.78ba/s]\n",
      "100%|██████████| 1/1 [00:00<00:00, 60.50ba/s]\n",
      "100%|██████████| 1/1 [00:00<00:00, 62.02ba/s]\n"
     ]
    },
    {
     "name": "stdout",
     "output_type": "stream",
     "text": [
      "0\n",
      "essel 40 t5-base 400\n"
     ]
    },
    {
     "name": "stderr",
     "output_type": "stream",
     "text": [
      "Using custom data configuration james-burton--textual-explanations-19ff8605823ae74a\n",
      "Found cached dataset parquet (/home/james/.cache/huggingface/datasets/james-burton___parquet/james-burton--textual-explanations-19ff8605823ae74a/0.0.0/2a3b91fbd88a2c90d1dbbb32b460cf621d31bd5b05b934492fdef7d8d6f236ec)\n",
      "100%|██████████| 3/3 [00:00<00:00, 274.09it/s]\n",
      "100%|██████████| 375/375 [00:00<00:00, 6958.34ex/s]\n",
      "100%|██████████| 47/47 [00:00<00:00, 8148.99ex/s]\n",
      "100%|██████████| 47/47 [00:00<00:00, 7976.22ex/s]\n",
      "100%|██████████| 375/375 [00:00<00:00, 2521.00ex/s]\n",
      "100%|██████████| 47/47 [00:00<00:00, 2575.07ex/s]\n",
      "100%|██████████| 47/47 [00:00<00:00, 2617.85ex/s]\n",
      "100%|██████████| 1/1 [00:00<00:00, 11.85ba/s]\n",
      "100%|██████████| 1/1 [00:00<00:00, 60.40ba/s]\n",
      "100%|██████████| 1/1 [00:00<00:00, 63.01ba/s]\n"
     ]
    },
    {
     "name": "stdout",
     "output_type": "stream",
     "text": [
      "22\n",
      "essel 40 facebook/bart-base 400\n"
     ]
    },
    {
     "name": "stderr",
     "output_type": "stream",
     "text": [
      "Using custom data configuration james-burton--textual-explanations-19ff8605823ae74a\n",
      "Found cached dataset parquet (/home/james/.cache/huggingface/datasets/james-burton___parquet/james-burton--textual-explanations-19ff8605823ae74a/0.0.0/2a3b91fbd88a2c90d1dbbb32b460cf621d31bd5b05b934492fdef7d8d6f236ec)\n",
      "100%|██████████| 3/3 [00:00<00:00, 992.58it/s]\n",
      "100%|██████████| 375/375 [00:00<00:00, 8447.86ex/s]\n",
      "100%|██████████| 47/47 [00:00<00:00, 7467.41ex/s]\n",
      "100%|██████████| 47/47 [00:00<00:00, 7590.19ex/s]\n",
      "100%|██████████| 375/375 [00:00<00:00, 2452.04ex/s]\n",
      "100%|██████████| 47/47 [00:00<00:00, 2483.37ex/s]\n",
      "100%|██████████| 47/47 [00:00<00:00, 2517.69ex/s]\n",
      "100%|██████████| 1/1 [00:00<00:00, 11.57ba/s]\n",
      "100%|██████████| 1/1 [00:00<00:00, 60.76ba/s]\n",
      "100%|██████████| 1/1 [00:00<00:00, 61.14ba/s]\n"
     ]
    },
    {
     "name": "stdout",
     "output_type": "stream",
     "text": [
      "0\n",
      "essel 40 t5-base 500\n"
     ]
    },
    {
     "name": "stderr",
     "output_type": "stream",
     "text": [
      "Using custom data configuration james-burton--textual-explanations-19ff8605823ae74a\n",
      "Found cached dataset parquet (/home/james/.cache/huggingface/datasets/james-burton___parquet/james-burton--textual-explanations-19ff8605823ae74a/0.0.0/2a3b91fbd88a2c90d1dbbb32b460cf621d31bd5b05b934492fdef7d8d6f236ec)\n",
      "100%|██████████| 3/3 [00:00<00:00, 194.66it/s]\n",
      "100%|██████████| 375/375 [00:00<00:00, 7198.96ex/s]\n",
      "100%|██████████| 47/47 [00:00<00:00, 7954.98ex/s]\n",
      "100%|██████████| 47/47 [00:00<00:00, 7892.87ex/s]\n",
      "100%|██████████| 375/375 [00:00<00:00, 2414.36ex/s]\n",
      "100%|██████████| 47/47 [00:00<00:00, 2463.94ex/s]\n",
      "100%|██████████| 47/47 [00:00<00:00, 2515.53ex/s]\n",
      "100%|██████████| 1/1 [00:00<00:00,  4.98ba/s]\n",
      "100%|██████████| 1/1 [00:00<00:00, 58.17ba/s]\n",
      "100%|██████████| 1/1 [00:00<00:00, 60.68ba/s]\n"
     ]
    },
    {
     "name": "stdout",
     "output_type": "stream",
     "text": [
      "0\n",
      "essel 40 facebook/bart-base 500\n"
     ]
    },
    {
     "name": "stderr",
     "output_type": "stream",
     "text": [
      "Using custom data configuration james-burton--textual-explanations-19ff8605823ae74a\n",
      "Found cached dataset parquet (/home/james/.cache/huggingface/datasets/james-burton___parquet/james-burton--textual-explanations-19ff8605823ae74a/0.0.0/2a3b91fbd88a2c90d1dbbb32b460cf621d31bd5b05b934492fdef7d8d6f236ec)\n",
      "100%|██████████| 3/3 [00:00<00:00, 993.68it/s]\n",
      "100%|██████████| 375/375 [00:00<00:00, 8696.34ex/s]\n",
      "100%|██████████| 47/47 [00:00<00:00, 7912.83ex/s]\n",
      "100%|██████████| 47/47 [00:00<00:00, 8291.58ex/s]\n",
      "100%|██████████| 375/375 [00:00<00:00, 2497.52ex/s]\n",
      "100%|██████████| 47/47 [00:00<00:00, 2594.84ex/s]\n",
      "100%|██████████| 47/47 [00:00<00:00, 2587.00ex/s]\n",
      "100%|██████████| 1/1 [00:00<00:00, 10.65ba/s]\n",
      "100%|██████████| 1/1 [00:00<00:00, 59.35ba/s]\n",
      "100%|██████████| 1/1 [00:00<00:00, 60.27ba/s]\n"
     ]
    },
    {
     "name": "stdout",
     "output_type": "stream",
     "text": [
      "0\n",
      "essel 50 t5-base 400\n"
     ]
    },
    {
     "name": "stderr",
     "output_type": "stream",
     "text": [
      "Using custom data configuration james-burton--textual-explanations-19ff8605823ae74a\n",
      "Found cached dataset parquet (/home/james/.cache/huggingface/datasets/james-burton___parquet/james-burton--textual-explanations-19ff8605823ae74a/0.0.0/2a3b91fbd88a2c90d1dbbb32b460cf621d31bd5b05b934492fdef7d8d6f236ec)\n",
      "100%|██████████| 3/3 [00:00<00:00, 954.62it/s]\n",
      "100%|██████████| 375/375 [00:00<00:00, 8568.29ex/s]\n",
      "100%|██████████| 47/47 [00:00<00:00, 7897.61ex/s]\n",
      "100%|██████████| 47/47 [00:00<00:00, 7910.61ex/s]\n",
      "100%|██████████| 375/375 [00:00<00:00, 2391.53ex/s]\n",
      "100%|██████████| 47/47 [00:00<00:00, 2464.65ex/s]\n",
      "100%|██████████| 47/47 [00:00<00:00, 2479.18ex/s]\n",
      "100%|██████████| 1/1 [00:00<00:00, 11.84ba/s]\n",
      "100%|██████████| 1/1 [00:00<00:00, 60.03ba/s]\n",
      "100%|██████████| 1/1 [00:00<00:00, 59.31ba/s]\n"
     ]
    },
    {
     "name": "stdout",
     "output_type": "stream",
     "text": [
      "33\n",
      "essel 50 facebook/bart-base 400\n"
     ]
    },
    {
     "name": "stderr",
     "output_type": "stream",
     "text": [
      "Using custom data configuration james-burton--textual-explanations-19ff8605823ae74a\n",
      "Found cached dataset parquet (/home/james/.cache/huggingface/datasets/james-burton___parquet/james-burton--textual-explanations-19ff8605823ae74a/0.0.0/2a3b91fbd88a2c90d1dbbb32b460cf621d31bd5b05b934492fdef7d8d6f236ec)\n",
      "100%|██████████| 3/3 [00:00<00:00, 306.86it/s]\n",
      "100%|██████████| 375/375 [00:00<00:00, 7966.13ex/s]\n",
      "100%|██████████| 47/47 [00:00<00:00, 7568.04ex/s]\n",
      "100%|██████████| 47/47 [00:00<00:00, 7734.92ex/s]\n",
      "100%|██████████| 375/375 [00:00<00:00, 2319.95ex/s]\n",
      "100%|██████████| 47/47 [00:00<00:00, 2426.93ex/s]\n",
      "100%|██████████| 47/47 [00:00<00:00, 2491.21ex/s]\n",
      "100%|██████████| 1/1 [00:00<00:00, 11.44ba/s]\n",
      "100%|██████████| 1/1 [00:00<00:00, 60.82ba/s]\n",
      "100%|██████████| 1/1 [00:00<00:00, 62.08ba/s]\n"
     ]
    },
    {
     "name": "stdout",
     "output_type": "stream",
     "text": [
      "1\n",
      "essel 50 t5-base 500\n"
     ]
    },
    {
     "name": "stderr",
     "output_type": "stream",
     "text": [
      "Using custom data configuration james-burton--textual-explanations-19ff8605823ae74a\n",
      "Found cached dataset parquet (/home/james/.cache/huggingface/datasets/james-burton___parquet/james-burton--textual-explanations-19ff8605823ae74a/0.0.0/2a3b91fbd88a2c90d1dbbb32b460cf621d31bd5b05b934492fdef7d8d6f236ec)\n",
      "100%|██████████| 3/3 [00:00<00:00, 922.23it/s]\n",
      "100%|██████████| 375/375 [00:00<00:00, 8690.77ex/s]\n",
      "100%|██████████| 47/47 [00:00<00:00, 7933.53ex/s]\n",
      "100%|██████████| 47/47 [00:00<00:00, 8186.56ex/s]\n",
      "100%|██████████| 375/375 [00:00<00:00, 2475.04ex/s]\n",
      "100%|██████████| 47/47 [00:00<00:00, 2522.36ex/s]\n",
      "100%|██████████| 47/47 [00:00<00:00, 2564.29ex/s]\n",
      "100%|██████████| 1/1 [00:00<00:00, 11.41ba/s]\n",
      "100%|██████████| 1/1 [00:00<00:00, 59.35ba/s]\n",
      "100%|██████████| 1/1 [00:00<00:00, 61.99ba/s]\n"
     ]
    },
    {
     "name": "stdout",
     "output_type": "stream",
     "text": [
      "1\n",
      "essel 50 facebook/bart-base 500\n"
     ]
    },
    {
     "name": "stderr",
     "output_type": "stream",
     "text": [
      "Using custom data configuration james-burton--textual-explanations-19ff8605823ae74a\n",
      "Found cached dataset parquet (/home/james/.cache/huggingface/datasets/james-burton___parquet/james-burton--textual-explanations-19ff8605823ae74a/0.0.0/2a3b91fbd88a2c90d1dbbb32b460cf621d31bd5b05b934492fdef7d8d6f236ec)\n",
      "100%|██████████| 3/3 [00:00<00:00, 640.06it/s]\n",
      "100%|██████████| 375/375 [00:00<00:00, 8737.07ex/s]\n",
      "100%|██████████| 47/47 [00:00<00:00, 7980.74ex/s]\n",
      "100%|██████████| 47/47 [00:00<00:00, 8320.63ex/s]\n",
      "100%|██████████| 375/375 [00:00<00:00, 2488.80ex/s]\n",
      "100%|██████████| 47/47 [00:00<00:00, 2527.86ex/s]\n",
      "100%|██████████| 47/47 [00:00<00:00, 2574.30ex/s]\n",
      "100%|██████████| 1/1 [00:00<00:00, 10.56ba/s]\n",
      "100%|██████████| 1/1 [00:00<00:00, 56.18ba/s]\n",
      "100%|██████████| 1/1 [00:00<00:00, 61.78ba/s]\n"
     ]
    },
    {
     "name": "stdout",
     "output_type": "stream",
     "text": [
      "0\n",
      "ord_first 30 t5-base 400\n"
     ]
    },
    {
     "name": "stderr",
     "output_type": "stream",
     "text": [
      "Using custom data configuration james-burton--textual-explanations-19ff8605823ae74a\n",
      "Found cached dataset parquet (/home/james/.cache/huggingface/datasets/james-burton___parquet/james-burton--textual-explanations-19ff8605823ae74a/0.0.0/2a3b91fbd88a2c90d1dbbb32b460cf621d31bd5b05b934492fdef7d8d6f236ec)\n",
      "100%|██████████| 3/3 [00:00<00:00, 873.45it/s]\n",
      "100%|██████████| 375/375 [00:00<00:00, 8300.95ex/s]\n",
      "100%|██████████| 47/47 [00:00<00:00, 8122.13ex/s]\n",
      "100%|██████████| 47/47 [00:00<00:00, 7978.16ex/s]\n",
      "100%|██████████| 375/375 [00:00<00:00, 2462.18ex/s]\n",
      "100%|██████████| 47/47 [00:00<00:00, 2421.92ex/s]\n",
      "100%|██████████| 47/47 [00:00<00:00, 2539.68ex/s]\n",
      "100%|██████████| 1/1 [00:00<00:00, 11.67ba/s]\n",
      "100%|██████████| 1/1 [00:00<00:00, 61.62ba/s]\n",
      "100%|██████████| 1/1 [00:00<00:00, 63.69ba/s]\n"
     ]
    },
    {
     "name": "stdout",
     "output_type": "stream",
     "text": [
      "13\n",
      "ord_first 30 facebook/bart-base 400\n"
     ]
    },
    {
     "name": "stderr",
     "output_type": "stream",
     "text": [
      "Using custom data configuration james-burton--textual-explanations-19ff8605823ae74a\n",
      "Found cached dataset parquet (/home/james/.cache/huggingface/datasets/james-burton___parquet/james-burton--textual-explanations-19ff8605823ae74a/0.0.0/2a3b91fbd88a2c90d1dbbb32b460cf621d31bd5b05b934492fdef7d8d6f236ec)\n",
      "100%|██████████| 3/3 [00:00<00:00, 300.42it/s]\n",
      "100%|██████████| 375/375 [00:00<00:00, 7418.50ex/s]\n",
      "100%|██████████| 47/47 [00:00<00:00, 7974.93ex/s]\n",
      "100%|██████████| 47/47 [00:00<00:00, 8324.84ex/s]\n",
      "100%|██████████| 375/375 [00:00<00:00, 2471.81ex/s]\n",
      "100%|██████████| 47/47 [00:00<00:00, 2467.92ex/s]\n",
      "100%|██████████| 47/47 [00:00<00:00, 2629.06ex/s]\n",
      "100%|██████████| 1/1 [00:00<00:00, 11.17ba/s]\n",
      "100%|██████████| 1/1 [00:00<00:00, 62.16ba/s]\n",
      "100%|██████████| 1/1 [00:00<00:00, 62.89ba/s]\n"
     ]
    },
    {
     "name": "stdout",
     "output_type": "stream",
     "text": [
      "11\n",
      "ord_first 30 t5-base 500\n"
     ]
    },
    {
     "name": "stderr",
     "output_type": "stream",
     "text": [
      "Using custom data configuration james-burton--textual-explanations-19ff8605823ae74a\n",
      "Found cached dataset parquet (/home/james/.cache/huggingface/datasets/james-burton___parquet/james-burton--textual-explanations-19ff8605823ae74a/0.0.0/2a3b91fbd88a2c90d1dbbb32b460cf621d31bd5b05b934492fdef7d8d6f236ec)\n",
      "100%|██████████| 3/3 [00:00<00:00, 787.37it/s]\n",
      "100%|██████████| 375/375 [00:00<00:00, 8573.24ex/s]\n",
      "100%|██████████| 47/47 [00:00<00:00, 7339.52ex/s]\n",
      "100%|██████████| 47/47 [00:00<00:00, 7384.61ex/s]\n",
      "100%|██████████| 375/375 [00:00<00:00, 2598.56ex/s]\n",
      "100%|██████████| 47/47 [00:00<00:00, 2576.05ex/s]\n",
      "100%|██████████| 47/47 [00:00<00:00, 2610.23ex/s]\n",
      "100%|██████████| 1/1 [00:00<00:00, 10.94ba/s]\n",
      "100%|██████████| 1/1 [00:00<00:00, 57.98ba/s]\n",
      "100%|██████████| 1/1 [00:00<00:00, 59.47ba/s]\n"
     ]
    },
    {
     "name": "stdout",
     "output_type": "stream",
     "text": [
      "0\n",
      "ord_first 30 facebook/bart-base 500\n"
     ]
    },
    {
     "name": "stderr",
     "output_type": "stream",
     "text": [
      "Using custom data configuration james-burton--textual-explanations-19ff8605823ae74a\n",
      "Found cached dataset parquet (/home/james/.cache/huggingface/datasets/james-burton___parquet/james-burton--textual-explanations-19ff8605823ae74a/0.0.0/2a3b91fbd88a2c90d1dbbb32b460cf621d31bd5b05b934492fdef7d8d6f236ec)\n",
      "100%|██████████| 3/3 [00:00<00:00, 395.70it/s]\n",
      "100%|██████████| 375/375 [00:00<00:00, 8229.81ex/s]\n",
      "100%|██████████| 47/47 [00:00<00:00, 7874.27ex/s]\n",
      "100%|██████████| 47/47 [00:00<00:00, 8286.35ex/s]\n",
      "100%|██████████| 375/375 [00:00<00:00, 2532.85ex/s]\n",
      "100%|██████████| 47/47 [00:00<00:00, 2532.30ex/s]\n",
      "100%|██████████| 47/47 [00:00<00:00, 2563.49ex/s]\n",
      "100%|██████████| 1/1 [00:00<00:00, 10.63ba/s]\n",
      "100%|██████████| 1/1 [00:00<00:00, 57.49ba/s]\n",
      "100%|██████████| 1/1 [00:00<00:00, 58.98ba/s]\n"
     ]
    },
    {
     "name": "stdout",
     "output_type": "stream",
     "text": [
      "0\n",
      "ord_first 40 t5-base 400\n"
     ]
    },
    {
     "name": "stderr",
     "output_type": "stream",
     "text": [
      "Using custom data configuration james-burton--textual-explanations-19ff8605823ae74a\n",
      "Found cached dataset parquet (/home/james/.cache/huggingface/datasets/james-burton___parquet/james-burton--textual-explanations-19ff8605823ae74a/0.0.0/2a3b91fbd88a2c90d1dbbb32b460cf621d31bd5b05b934492fdef7d8d6f236ec)\n",
      "100%|██████████| 3/3 [00:00<00:00, 240.37it/s]\n",
      "100%|██████████| 375/375 [00:00<00:00, 8394.34ex/s]\n",
      "100%|██████████| 47/47 [00:00<00:00, 8053.78ex/s]\n",
      "100%|██████████| 47/47 [00:00<00:00, 8338.22ex/s]\n",
      "100%|██████████| 375/375 [00:00<00:00, 2479.97ex/s]\n",
      "100%|██████████| 47/47 [00:00<00:00, 2582.53ex/s]\n",
      "100%|██████████| 47/47 [00:00<00:00, 2488.38ex/s]\n",
      "100%|██████████| 1/1 [00:00<00:00, 11.55ba/s]\n",
      "100%|██████████| 1/1 [00:00<00:00, 60.33ba/s]\n",
      "100%|██████████| 1/1 [00:00<00:00, 62.43ba/s]\n"
     ]
    },
    {
     "name": "stdout",
     "output_type": "stream",
     "text": [
      "53\n",
      "ord_first 40 facebook/bart-base 400\n"
     ]
    },
    {
     "name": "stderr",
     "output_type": "stream",
     "text": [
      "Using custom data configuration james-burton--textual-explanations-19ff8605823ae74a\n",
      "Found cached dataset parquet (/home/james/.cache/huggingface/datasets/james-burton___parquet/james-burton--textual-explanations-19ff8605823ae74a/0.0.0/2a3b91fbd88a2c90d1dbbb32b460cf621d31bd5b05b934492fdef7d8d6f236ec)\n",
      "100%|██████████| 3/3 [00:00<00:00, 395.19it/s]\n",
      "100%|██████████| 375/375 [00:00<00:00, 8283.42ex/s]\n",
      "100%|██████████| 47/47 [00:00<00:00, 8023.95ex/s]\n",
      "100%|██████████| 47/47 [00:00<00:00, 8065.64ex/s]\n",
      "100%|██████████| 375/375 [00:00<00:00, 2419.58ex/s]\n",
      "100%|██████████| 47/47 [00:00<00:00, 2495.25ex/s]\n",
      "100%|██████████| 47/47 [00:00<00:00, 2556.28ex/s]\n",
      "100%|██████████| 1/1 [00:00<00:00, 11.20ba/s]\n",
      "100%|██████████| 1/1 [00:00<00:00, 59.29ba/s]\n",
      "100%|██████████| 1/1 [00:00<00:00, 60.89ba/s]\n"
     ]
    },
    {
     "name": "stdout",
     "output_type": "stream",
     "text": [
      "53\n",
      "ord_first 40 t5-base 500\n"
     ]
    },
    {
     "name": "stderr",
     "output_type": "stream",
     "text": [
      "Using custom data configuration james-burton--textual-explanations-19ff8605823ae74a\n",
      "Found cached dataset parquet (/home/james/.cache/huggingface/datasets/james-burton___parquet/james-burton--textual-explanations-19ff8605823ae74a/0.0.0/2a3b91fbd88a2c90d1dbbb32b460cf621d31bd5b05b934492fdef7d8d6f236ec)\n",
      "100%|██████████| 3/3 [00:00<00:00, 225.63it/s]\n",
      "100%|██████████| 375/375 [00:00<00:00, 8502.75ex/s]\n",
      "100%|██████████| 47/47 [00:00<00:00, 8099.77ex/s]\n",
      "100%|██████████| 47/47 [00:00<00:00, 8185.88ex/s]\n",
      "100%|██████████| 375/375 [00:00<00:00, 2432.82ex/s]\n",
      "100%|██████████| 47/47 [00:00<00:00, 2531.30ex/s]\n",
      "100%|██████████| 47/47 [00:00<00:00, 2584.12ex/s]\n",
      "100%|██████████| 1/1 [00:00<00:00, 10.87ba/s]\n",
      "100%|██████████| 1/1 [00:00<00:00, 58.53ba/s]\n",
      "100%|██████████| 1/1 [00:00<00:00, 59.28ba/s]\n"
     ]
    },
    {
     "name": "stdout",
     "output_type": "stream",
     "text": [
      "12\n",
      "ord_first 40 facebook/bart-base 500\n"
     ]
    },
    {
     "name": "stderr",
     "output_type": "stream",
     "text": [
      "Using custom data configuration james-burton--textual-explanations-19ff8605823ae74a\n",
      "Found cached dataset parquet (/home/james/.cache/huggingface/datasets/james-burton___parquet/james-burton--textual-explanations-19ff8605823ae74a/0.0.0/2a3b91fbd88a2c90d1dbbb32b460cf621d31bd5b05b934492fdef7d8d6f236ec)\n",
      "100%|██████████| 3/3 [00:00<00:00, 920.48it/s]\n",
      "100%|██████████| 375/375 [00:00<00:00, 8214.33ex/s]\n",
      "100%|██████████| 47/47 [00:00<00:00, 7328.88ex/s]\n",
      "100%|██████████| 47/47 [00:00<00:00, 7467.41ex/s]\n",
      "100%|██████████| 375/375 [00:00<00:00, 2487.72ex/s]\n",
      "100%|██████████| 47/47 [00:00<00:00, 2411.85ex/s]\n",
      "100%|██████████| 47/47 [00:00<00:00, 2451.77ex/s]\n",
      "100%|██████████| 1/1 [00:00<00:00, 10.51ba/s]\n",
      "100%|██████████| 1/1 [00:00<00:00, 52.69ba/s]\n",
      "100%|██████████| 1/1 [00:00<00:00, 59.99ba/s]\n"
     ]
    },
    {
     "name": "stdout",
     "output_type": "stream",
     "text": [
      "9\n",
      "ord_first 50 t5-base 400\n"
     ]
    },
    {
     "name": "stderr",
     "output_type": "stream",
     "text": [
      "Using custom data configuration james-burton--textual-explanations-19ff8605823ae74a\n",
      "Found cached dataset parquet (/home/james/.cache/huggingface/datasets/james-burton___parquet/james-burton--textual-explanations-19ff8605823ae74a/0.0.0/2a3b91fbd88a2c90d1dbbb32b460cf621d31bd5b05b934492fdef7d8d6f236ec)\n",
      "100%|██████████| 3/3 [00:00<00:00, 943.88it/s]\n",
      "100%|██████████| 375/375 [00:00<00:00, 8504.63ex/s]\n",
      "100%|██████████| 47/47 [00:00<00:00, 8363.69ex/s]\n",
      "100%|██████████| 47/47 [00:00<00:00, 8375.42ex/s]\n",
      "100%|██████████| 375/375 [00:00<00:00, 2450.40ex/s]\n",
      "100%|██████████| 47/47 [00:00<00:00, 2534.97ex/s]\n",
      "100%|██████████| 47/47 [00:00<00:00, 2542.20ex/s]\n",
      "100%|██████████| 1/1 [00:00<00:00, 11.52ba/s]\n",
      "100%|██████████| 1/1 [00:00<00:00, 57.37ba/s]\n",
      "100%|██████████| 1/1 [00:00<00:00, 61.75ba/s]\n"
     ]
    },
    {
     "name": "stdout",
     "output_type": "stream",
     "text": [
      "53\n",
      "ord_first 50 facebook/bart-base 400\n"
     ]
    },
    {
     "name": "stderr",
     "output_type": "stream",
     "text": [
      "Using custom data configuration james-burton--textual-explanations-19ff8605823ae74a\n",
      "Found cached dataset parquet (/home/james/.cache/huggingface/datasets/james-burton___parquet/james-burton--textual-explanations-19ff8605823ae74a/0.0.0/2a3b91fbd88a2c90d1dbbb32b460cf621d31bd5b05b934492fdef7d8d6f236ec)\n",
      "100%|██████████| 3/3 [00:00<00:00, 348.74it/s]\n",
      "100%|██████████| 375/375 [00:00<00:00, 6709.74ex/s]\n",
      "100%|██████████| 47/47 [00:00<00:00, 7866.10ex/s]\n",
      "100%|██████████| 47/47 [00:00<00:00, 7938.96ex/s]\n",
      "100%|██████████| 375/375 [00:00<00:00, 2370.21ex/s]\n",
      "100%|██████████| 47/47 [00:00<00:00, 2452.38ex/s]\n",
      "100%|██████████| 47/47 [00:00<00:00, 2449.03ex/s]\n",
      "100%|██████████| 1/1 [00:00<00:00, 11.10ba/s]\n",
      "100%|██████████| 1/1 [00:00<00:00, 58.01ba/s]\n",
      "100%|██████████| 1/1 [00:00<00:00, 60.71ba/s]\n"
     ]
    },
    {
     "name": "stdout",
     "output_type": "stream",
     "text": [
      "53\n",
      "ord_first 50 t5-base 500\n"
     ]
    },
    {
     "name": "stderr",
     "output_type": "stream",
     "text": [
      "Using custom data configuration james-burton--textual-explanations-19ff8605823ae74a\n",
      "Found cached dataset parquet (/home/james/.cache/huggingface/datasets/james-burton___parquet/james-burton--textual-explanations-19ff8605823ae74a/0.0.0/2a3b91fbd88a2c90d1dbbb32b460cf621d31bd5b05b934492fdef7d8d6f236ec)\n",
      "100%|██████████| 3/3 [00:00<00:00, 388.37it/s]\n",
      "100%|██████████| 375/375 [00:00<00:00, 8297.49ex/s]\n",
      "100%|██████████| 47/47 [00:00<00:00, 8308.35ex/s]\n",
      "100%|██████████| 47/47 [00:00<00:00, 8233.74ex/s]\n",
      "100%|██████████| 375/375 [00:00<00:00, 2404.06ex/s]\n",
      "100%|██████████| 47/47 [00:00<00:00, 2414.65ex/s]\n",
      "100%|██████████| 47/47 [00:00<00:00, 2481.24ex/s]\n",
      "100%|██████████| 1/1 [00:00<00:00, 10.89ba/s]\n",
      "100%|██████████| 1/1 [00:00<00:00, 57.78ba/s]\n",
      "100%|██████████| 1/1 [00:00<00:00, 59.00ba/s]\n"
     ]
    },
    {
     "name": "stdout",
     "output_type": "stream",
     "text": [
      "31\n",
      "ord_first 50 facebook/bart-base 500\n"
     ]
    },
    {
     "name": "stderr",
     "output_type": "stream",
     "text": [
      "Using custom data configuration james-burton--textual-explanations-19ff8605823ae74a\n",
      "Found cached dataset parquet (/home/james/.cache/huggingface/datasets/james-burton___parquet/james-burton--textual-explanations-19ff8605823ae74a/0.0.0/2a3b91fbd88a2c90d1dbbb32b460cf621d31bd5b05b934492fdef7d8d6f236ec)\n",
      "100%|██████████| 3/3 [00:00<00:00, 742.27it/s]\n",
      "100%|██████████| 375/375 [00:00<00:00, 8425.41ex/s]\n",
      "100%|██████████| 47/47 [00:00<00:00, 7078.36ex/s]\n",
      "100%|██████████| 47/47 [00:00<00:00, 7878.67ex/s]\n",
      "100%|██████████| 375/375 [00:00<00:00, 2383.68ex/s]\n",
      "100%|██████████| 47/47 [00:00<00:00, 2390.12ex/s]\n",
      "100%|██████████| 47/47 [00:00<00:00, 2478.03ex/s]\n",
      "100%|██████████| 1/1 [00:00<00:00, 10.29ba/s]\n",
      "100%|██████████| 1/1 [00:00<00:00, 56.30ba/s]\n",
      "100%|██████████| 1/1 [00:00<00:00, 57.95ba/s]\n"
     ]
    },
    {
     "name": "stdout",
     "output_type": "stream",
     "text": [
      "31\n",
      "ft_first 30 t5-base 400\n"
     ]
    },
    {
     "name": "stderr",
     "output_type": "stream",
     "text": [
      "Using custom data configuration james-burton--textual-explanations-19ff8605823ae74a\n",
      "Found cached dataset parquet (/home/james/.cache/huggingface/datasets/james-burton___parquet/james-burton--textual-explanations-19ff8605823ae74a/0.0.0/2a3b91fbd88a2c90d1dbbb32b460cf621d31bd5b05b934492fdef7d8d6f236ec)\n",
      "100%|██████████| 3/3 [00:00<00:00, 684.78it/s]\n",
      "100%|██████████| 375/375 [00:00<00:00, 8726.40ex/s]\n",
      "100%|██████████| 47/47 [00:00<00:00, 8277.30ex/s]\n",
      "100%|██████████| 47/47 [00:00<00:00, 8371.15ex/s]\n",
      "100%|██████████| 375/375 [00:00<00:00, 2577.07ex/s]\n",
      "100%|██████████| 47/47 [00:00<00:00, 2661.90ex/s]\n",
      "100%|██████████| 47/47 [00:00<00:00, 2692.03ex/s]\n",
      "100%|██████████| 1/1 [00:00<00:00, 11.66ba/s]\n",
      "100%|██████████| 1/1 [00:00<00:00, 60.87ba/s]\n",
      "100%|██████████| 1/1 [00:00<00:00, 62.45ba/s]\n"
     ]
    },
    {
     "name": "stdout",
     "output_type": "stream",
     "text": [
      "13\n",
      "ft_first 30 facebook/bart-base 400\n"
     ]
    },
    {
     "name": "stderr",
     "output_type": "stream",
     "text": [
      "Using custom data configuration james-burton--textual-explanations-19ff8605823ae74a\n",
      "Found cached dataset parquet (/home/james/.cache/huggingface/datasets/james-burton___parquet/james-burton--textual-explanations-19ff8605823ae74a/0.0.0/2a3b91fbd88a2c90d1dbbb32b460cf621d31bd5b05b934492fdef7d8d6f236ec)\n",
      "100%|██████████| 3/3 [00:00<00:00, 1008.33it/s]\n",
      "100%|██████████| 375/375 [00:00<00:00, 8585.69ex/s]\n",
      "100%|██████████| 47/47 [00:00<00:00, 8265.50ex/s]\n",
      "100%|██████████| 47/47 [00:00<00:00, 8325.90ex/s]\n",
      "100%|██████████| 375/375 [00:00<00:00, 2634.42ex/s]\n",
      "100%|██████████| 47/47 [00:00<00:00, 2592.96ex/s]\n",
      "100%|██████████| 47/47 [00:00<00:00, 2669.90ex/s]\n",
      "100%|██████████| 1/1 [00:00<00:00, 10.80ba/s]\n",
      "100%|██████████| 1/1 [00:00<00:00, 59.50ba/s]\n",
      "100%|██████████| 1/1 [00:00<00:00, 61.81ba/s]\n"
     ]
    },
    {
     "name": "stdout",
     "output_type": "stream",
     "text": [
      "11\n",
      "ft_first 30 t5-base 500\n"
     ]
    },
    {
     "name": "stderr",
     "output_type": "stream",
     "text": [
      "Using custom data configuration james-burton--textual-explanations-19ff8605823ae74a\n",
      "Found cached dataset parquet (/home/james/.cache/huggingface/datasets/james-burton___parquet/james-burton--textual-explanations-19ff8605823ae74a/0.0.0/2a3b91fbd88a2c90d1dbbb32b460cf621d31bd5b05b934492fdef7d8d6f236ec)\n",
      "100%|██████████| 3/3 [00:00<00:00, 775.67it/s]\n",
      "100%|██████████| 375/375 [00:00<00:00, 8305.86ex/s]\n",
      "100%|██████████| 47/47 [00:00<00:00, 7266.75ex/s]\n",
      "100%|██████████| 47/47 [00:00<00:00, 8001.47ex/s]\n",
      "100%|██████████| 375/375 [00:00<00:00, 2481.48ex/s]\n",
      "100%|██████████| 47/47 [00:00<00:00, 2472.65ex/s]\n",
      "100%|██████████| 47/47 [00:00<00:00, 2581.99ex/s]\n",
      "100%|██████████| 1/1 [00:00<00:00, 10.96ba/s]\n",
      "100%|██████████| 1/1 [00:00<00:00, 59.59ba/s]\n",
      "100%|██████████| 1/1 [00:00<00:00, 59.46ba/s]\n"
     ]
    },
    {
     "name": "stdout",
     "output_type": "stream",
     "text": [
      "0\n",
      "ft_first 30 facebook/bart-base 500\n"
     ]
    },
    {
     "name": "stderr",
     "output_type": "stream",
     "text": [
      "Using custom data configuration james-burton--textual-explanations-19ff8605823ae74a\n",
      "Found cached dataset parquet (/home/james/.cache/huggingface/datasets/james-burton___parquet/james-burton--textual-explanations-19ff8605823ae74a/0.0.0/2a3b91fbd88a2c90d1dbbb32b460cf621d31bd5b05b934492fdef7d8d6f236ec)\n",
      "100%|██████████| 3/3 [00:00<00:00, 640.61it/s]\n",
      "100%|██████████| 375/375 [00:00<00:00, 8153.65ex/s]\n",
      "100%|██████████| 47/47 [00:00<00:00, 6870.64ex/s]\n",
      "100%|██████████| 47/47 [00:00<00:00, 7286.08ex/s]\n",
      "100%|██████████| 375/375 [00:00<00:00, 2461.82ex/s]\n",
      "100%|██████████| 47/47 [00:00<00:00, 2496.96ex/s]\n",
      "100%|██████████| 47/47 [00:00<00:00, 2441.87ex/s]\n",
      "100%|██████████| 1/1 [00:00<00:00, 10.37ba/s]\n",
      "100%|██████████| 1/1 [00:00<00:00, 56.47ba/s]\n",
      "100%|██████████| 1/1 [00:00<00:00, 57.68ba/s]\n"
     ]
    },
    {
     "name": "stdout",
     "output_type": "stream",
     "text": [
      "0\n",
      "ft_first 40 t5-base 400\n"
     ]
    },
    {
     "name": "stderr",
     "output_type": "stream",
     "text": [
      "Using custom data configuration james-burton--textual-explanations-19ff8605823ae74a\n",
      "Found cached dataset parquet (/home/james/.cache/huggingface/datasets/james-burton___parquet/james-burton--textual-explanations-19ff8605823ae74a/0.0.0/2a3b91fbd88a2c90d1dbbb32b460cf621d31bd5b05b934492fdef7d8d6f236ec)\n",
      "100%|██████████| 3/3 [00:00<00:00, 924.47it/s]\n",
      "100%|██████████| 375/375 [00:00<00:00, 5828.90ex/s]\n",
      "100%|██████████| 47/47 [00:00<00:00, 4471.34ex/s]\n",
      "100%|██████████| 47/47 [00:00<00:00, 7541.40ex/s]\n",
      "100%|██████████| 375/375 [00:00<00:00, 2319.40ex/s]\n",
      "100%|██████████| 47/47 [00:00<00:00, 2331.02ex/s]\n",
      "100%|██████████| 47/47 [00:00<00:00, 2257.09ex/s]\n",
      "100%|██████████| 1/1 [00:00<00:00, 10.02ba/s]\n",
      "100%|██████████| 1/1 [00:00<00:00, 59.28ba/s]\n",
      "100%|██████████| 1/1 [00:00<00:00, 59.05ba/s]\n"
     ]
    },
    {
     "name": "stdout",
     "output_type": "stream",
     "text": [
      "53\n",
      "ft_first 40 facebook/bart-base 400\n"
     ]
    },
    {
     "name": "stderr",
     "output_type": "stream",
     "text": [
      "Using custom data configuration james-burton--textual-explanations-19ff8605823ae74a\n",
      "Found cached dataset parquet (/home/james/.cache/huggingface/datasets/james-burton___parquet/james-burton--textual-explanations-19ff8605823ae74a/0.0.0/2a3b91fbd88a2c90d1dbbb32b460cf621d31bd5b05b934492fdef7d8d6f236ec)\n",
      "100%|██████████| 3/3 [00:00<00:00, 300.56it/s]\n",
      "100%|██████████| 375/375 [00:00<00:00, 7770.41ex/s]\n",
      "100%|██████████| 47/47 [00:00<00:00, 7809.07ex/s]\n",
      "100%|██████████| 47/47 [00:00<00:00, 7653.84ex/s]\n",
      "100%|██████████| 375/375 [00:00<00:00, 2377.54ex/s]\n",
      "100%|██████████| 47/47 [00:00<00:00, 2391.42ex/s]\n",
      "100%|██████████| 47/47 [00:00<00:00, 2509.39ex/s]\n",
      "100%|██████████| 1/1 [00:00<00:00, 10.78ba/s]\n",
      "100%|██████████| 1/1 [00:00<00:00, 56.21ba/s]\n",
      "100%|██████████| 1/1 [00:00<00:00, 56.61ba/s]\n"
     ]
    },
    {
     "name": "stdout",
     "output_type": "stream",
     "text": [
      "53\n",
      "ft_first 40 t5-base 500\n"
     ]
    },
    {
     "name": "stderr",
     "output_type": "stream",
     "text": [
      "Using custom data configuration james-burton--textual-explanations-19ff8605823ae74a\n",
      "Found cached dataset parquet (/home/james/.cache/huggingface/datasets/james-burton___parquet/james-burton--textual-explanations-19ff8605823ae74a/0.0.0/2a3b91fbd88a2c90d1dbbb32b460cf621d31bd5b05b934492fdef7d8d6f236ec)\n",
      "100%|██████████| 3/3 [00:00<00:00, 454.40it/s]\n",
      "100%|██████████| 375/375 [00:00<00:00, 7802.79ex/s]\n",
      "100%|██████████| 47/47 [00:00<00:00, 8185.88ex/s]\n",
      "100%|██████████| 47/47 [00:00<00:00, 8114.44ex/s]\n",
      "100%|██████████| 375/375 [00:00<00:00, 2427.79ex/s]\n",
      "100%|██████████| 47/47 [00:00<00:00, 2441.27ex/s]\n",
      "100%|██████████| 47/47 [00:00<00:00, 2528.44ex/s]\n",
      "100%|██████████| 1/1 [00:00<00:00, 10.23ba/s]\n",
      "100%|██████████| 1/1 [00:00<00:00, 54.43ba/s]\n",
      "100%|██████████| 1/1 [00:00<00:00, 58.76ba/s]\n"
     ]
    },
    {
     "name": "stdout",
     "output_type": "stream",
     "text": [
      "12\n",
      "ft_first 40 facebook/bart-base 500\n"
     ]
    },
    {
     "name": "stderr",
     "output_type": "stream",
     "text": [
      "Using custom data configuration james-burton--textual-explanations-19ff8605823ae74a\n",
      "Found cached dataset parquet (/home/james/.cache/huggingface/datasets/james-burton___parquet/james-burton--textual-explanations-19ff8605823ae74a/0.0.0/2a3b91fbd88a2c90d1dbbb32b460cf621d31bd5b05b934492fdef7d8d6f236ec)\n",
      "100%|██████████| 3/3 [00:00<00:00, 340.53it/s]\n",
      "100%|██████████| 375/375 [00:00<00:00, 7780.14ex/s]\n",
      "100%|██████████| 47/47 [00:00<00:00, 7195.92ex/s]\n",
      "100%|██████████| 47/47 [00:00<00:00, 7147.14ex/s]\n",
      "100%|██████████| 375/375 [00:00<00:00, 2491.77ex/s]\n",
      "100%|██████████| 47/47 [00:00<00:00, 2438.64ex/s]\n",
      "100%|██████████| 47/47 [00:00<00:00, 2497.56ex/s]\n",
      "100%|██████████| 1/1 [00:00<00:00, 10.21ba/s]\n",
      "100%|██████████| 1/1 [00:00<00:00, 56.00ba/s]\n",
      "100%|██████████| 1/1 [00:00<00:00, 52.42ba/s]\n"
     ]
    },
    {
     "name": "stdout",
     "output_type": "stream",
     "text": [
      "9\n",
      "ft_first 50 t5-base 400\n"
     ]
    },
    {
     "name": "stderr",
     "output_type": "stream",
     "text": [
      "Using custom data configuration james-burton--textual-explanations-19ff8605823ae74a\n",
      "Found cached dataset parquet (/home/james/.cache/huggingface/datasets/james-burton___parquet/james-burton--textual-explanations-19ff8605823ae74a/0.0.0/2a3b91fbd88a2c90d1dbbb32b460cf621d31bd5b05b934492fdef7d8d6f236ec)\n",
      "100%|██████████| 3/3 [00:00<00:00, 250.90it/s]\n",
      "100%|██████████| 375/375 [00:00<00:00, 7781.95ex/s]\n",
      "100%|██████████| 47/47 [00:00<00:00, 7852.62ex/s]\n",
      "100%|██████████| 47/47 [00:00<00:00, 7891.60ex/s]\n",
      "100%|██████████| 375/375 [00:00<00:00, 2457.19ex/s]\n",
      "100%|██████████| 47/47 [00:00<00:00, 2478.93ex/s]\n",
      "100%|██████████| 47/47 [00:00<00:00, 2480.12ex/s]\n",
      "100%|██████████| 1/1 [00:00<00:00, 11.08ba/s]\n",
      "100%|██████████| 1/1 [00:00<00:00, 58.44ba/s]\n",
      "100%|██████████| 1/1 [00:00<00:00, 56.12ba/s]\n"
     ]
    },
    {
     "name": "stdout",
     "output_type": "stream",
     "text": [
      "53\n",
      "ft_first 50 facebook/bart-base 400\n"
     ]
    },
    {
     "name": "stderr",
     "output_type": "stream",
     "text": [
      "Using custom data configuration james-burton--textual-explanations-19ff8605823ae74a\n",
      "Found cached dataset parquet (/home/james/.cache/huggingface/datasets/james-burton___parquet/james-burton--textual-explanations-19ff8605823ae74a/0.0.0/2a3b91fbd88a2c90d1dbbb32b460cf621d31bd5b05b934492fdef7d8d6f236ec)\n",
      "100%|██████████| 3/3 [00:00<00:00, 858.73it/s]\n",
      "100%|██████████| 375/375 [00:00<00:00, 8395.15ex/s]\n",
      "100%|██████████| 47/47 [00:00<00:00, 7771.82ex/s]\n",
      "100%|██████████| 47/47 [00:00<00:00, 7830.48ex/s]\n",
      "100%|██████████| 375/375 [00:00<00:00, 2387.69ex/s]\n",
      "100%|██████████| 47/47 [00:00<00:00, 2428.99ex/s]\n",
      "100%|██████████| 47/47 [00:00<00:00, 2458.65ex/s]\n",
      "100%|██████████| 1/1 [00:00<00:00, 10.88ba/s]\n",
      "100%|██████████| 1/1 [00:00<00:00, 57.47ba/s]\n",
      "100%|██████████| 1/1 [00:00<00:00, 58.89ba/s]\n"
     ]
    },
    {
     "name": "stdout",
     "output_type": "stream",
     "text": [
      "53\n",
      "ft_first 50 t5-base 500\n"
     ]
    },
    {
     "name": "stderr",
     "output_type": "stream",
     "text": [
      "Using custom data configuration james-burton--textual-explanations-19ff8605823ae74a\n",
      "Found cached dataset parquet (/home/james/.cache/huggingface/datasets/james-burton___parquet/james-burton--textual-explanations-19ff8605823ae74a/0.0.0/2a3b91fbd88a2c90d1dbbb32b460cf621d31bd5b05b934492fdef7d8d6f236ec)\n",
      "100%|██████████| 3/3 [00:00<00:00, 961.92it/s]\n",
      "100%|██████████| 375/375 [00:00<00:00, 8224.13ex/s]\n",
      "100%|██████████| 47/47 [00:00<00:00, 7731.89ex/s]\n",
      "100%|██████████| 47/47 [00:00<00:00, 7408.48ex/s]\n",
      "100%|██████████| 375/375 [00:00<00:00, 2291.08ex/s]\n",
      "100%|██████████| 47/47 [00:00<00:00, 2340.54ex/s]\n",
      "100%|██████████| 47/47 [00:00<00:00, 2358.72ex/s]\n",
      "100%|██████████| 1/1 [00:00<00:00, 10.42ba/s]\n",
      "100%|██████████| 1/1 [00:00<00:00, 59.33ba/s]\n",
      "100%|██████████| 1/1 [00:00<00:00, 54.62ba/s]\n"
     ]
    },
    {
     "name": "stdout",
     "output_type": "stream",
     "text": [
      "31\n",
      "ft_first 50 facebook/bart-base 500\n"
     ]
    },
    {
     "name": "stderr",
     "output_type": "stream",
     "text": [
      "Using custom data configuration james-burton--textual-explanations-19ff8605823ae74a\n",
      "Found cached dataset parquet (/home/james/.cache/huggingface/datasets/james-burton___parquet/james-burton--textual-explanations-19ff8605823ae74a/0.0.0/2a3b91fbd88a2c90d1dbbb32b460cf621d31bd5b05b934492fdef7d8d6f236ec)\n",
      "100%|██████████| 3/3 [00:00<00:00, 371.19it/s]\n",
      "100%|██████████| 375/375 [00:00<00:00, 8094.32ex/s]\n",
      "100%|██████████| 47/47 [00:00<00:00, 7010.15ex/s]\n",
      "100%|██████████| 47/47 [00:00<00:00, 7976.87ex/s]\n",
      "100%|██████████| 375/375 [00:00<00:00, 2370.54ex/s]\n",
      "100%|██████████| 47/47 [00:00<00:00, 2439.54ex/s]\n",
      "100%|██████████| 47/47 [00:00<00:00, 2427.44ex/s]\n",
      "100%|██████████| 1/1 [00:00<00:00, 10.19ba/s]\n",
      "100%|██████████| 1/1 [00:00<00:00, 57.53ba/s]\n",
      "100%|██████████| 1/1 [00:00<00:00, 57.57ba/s]\n"
     ]
    },
    {
     "name": "stdout",
     "output_type": "stream",
     "text": [
      "31\n"
     ]
    }
   ],
   "source": [
    "lin = 'essel'\n",
    "max_fts = 30\n",
    "model = 't5-base'\n",
    "max_input_len = 500\n",
    "\n",
    "output_dict = {}\n",
    "\n",
    "for lin in ['essel', 'ord_first', 'ft_first']:\n",
    "    for max_fts in [30, 40, 50]:\n",
    "        for max_input_len in [400, 500]:\n",
    "            for model in ['t5-base', 'facebook/bart-base']:\n",
    "                print(lin, max_fts, model, max_input_len)\n",
    "\n",
    "                tokenizer = AutoTokenizer.from_pretrained(model)\n",
    "\n",
    "                dataset = load_dataset(\"james-burton/textual-explanations\")\n",
    "\n",
    "                dataset = dataset.map(lambda x: simplify_narr_question(label_qs(x)),\n",
    "                                        load_from_cache_file=False)\n",
    "\n",
    "                # Form the linearised or stepwise (and linearised) input\n",
    "                dataset = dataset.map(\n",
    "                    lambda x: linearise_input(x, lin, max_fts),\n",
    "                    load_from_cache_file=False\n",
    "                    ) \n",
    "\n",
    "                # Convert to tokens\n",
    "                dataset = dataset.map(\n",
    "                    lambda x: convert_to_features(x, tokenizer, max_input_len), \n",
    "                    batched=True, load_from_cache_file=False\n",
    "                    )\n",
    "                decoded_train = tokenizer.batch_decode(dataset['train']['input_ids'], skip_special_tokens=False)\n",
    "\n",
    "                [len(d) for d in decoded_train]\n",
    "                # Count number of times the string '<pad>' appears in the string \n",
    "                # (i.e. the number of padding tokens)\n",
    "                max_outs = sum([len(re.findall('<pad>', d))==0 for d in decoded_train])\n",
    "                output_dict[(lin, max_fts, model, max_input_len)] = max_outs\n",
    "                print(max_outs)"
   ]
  },
  {
   "cell_type": "code",
   "execution_count": 49,
   "metadata": {},
   "outputs": [
    {
     "data": {
      "text/plain": [
       "{('essel', 30, 't5-base', 400): 0,\n",
       " ('essel', 30, 'facebook/bart-base', 400): 0,\n",
       " ('essel', 30, 't5-base', 500): 0,\n",
       " ('essel', 30, 'facebook/bart-base', 500): 0,\n",
       " ('essel', 40, 't5-base', 400): 22,\n",
       " ('essel', 40, 'facebook/bart-base', 400): 0,\n",
       " ('essel', 40, 't5-base', 500): 0,\n",
       " ('essel', 40, 'facebook/bart-base', 500): 0,\n",
       " ('essel', 50, 't5-base', 400): 33,\n",
       " ('essel', 50, 'facebook/bart-base', 400): 1,\n",
       " ('essel', 50, 't5-base', 500): 1,\n",
       " ('essel', 50, 'facebook/bart-base', 500): 0,\n",
       " ('ord_first', 30, 't5-base', 400): 13,\n",
       " ('ord_first', 30, 'facebook/bart-base', 400): 11,\n",
       " ('ord_first', 30, 't5-base', 500): 0,\n",
       " ('ord_first', 30, 'facebook/bart-base', 500): 0,\n",
       " ('ord_first', 40, 't5-base', 400): 53,\n",
       " ('ord_first', 40, 'facebook/bart-base', 400): 53,\n",
       " ('ord_first', 40, 't5-base', 500): 12,\n",
       " ('ord_first', 40, 'facebook/bart-base', 500): 9,\n",
       " ('ord_first', 50, 't5-base', 400): 53,\n",
       " ('ord_first', 50, 'facebook/bart-base', 400): 53,\n",
       " ('ord_first', 50, 't5-base', 500): 31,\n",
       " ('ord_first', 50, 'facebook/bart-base', 500): 31,\n",
       " ('ft_first', 30, 't5-base', 400): 13,\n",
       " ('ft_first', 30, 'facebook/bart-base', 400): 11,\n",
       " ('ft_first', 30, 't5-base', 500): 0,\n",
       " ('ft_first', 30, 'facebook/bart-base', 500): 0,\n",
       " ('ft_first', 40, 't5-base', 400): 53,\n",
       " ('ft_first', 40, 'facebook/bart-base', 400): 53,\n",
       " ('ft_first', 40, 't5-base', 500): 12,\n",
       " ('ft_first', 40, 'facebook/bart-base', 500): 9,\n",
       " ('ft_first', 50, 't5-base', 400): 53,\n",
       " ('ft_first', 50, 'facebook/bart-base', 400): 53,\n",
       " ('ft_first', 50, 't5-base', 500): 31,\n",
       " ('ft_first', 50, 'facebook/bart-base', 500): 31}"
      ]
     },
     "execution_count": 49,
     "metadata": {},
     "output_type": "execute_result"
    }
   ],
   "source": [
    "output_dict"
   ]
  },
  {
   "attachments": {},
   "cell_type": "markdown",
   "metadata": {},
   "source": [
    "## Outputs getting cut off"
   ]
  },
  {
   "cell_type": "code",
   "execution_count": 50,
   "metadata": {},
   "outputs": [
    {
     "name": "stderr",
     "output_type": "stream",
     "text": [
      "Using custom data configuration james-burton--textual-explanations-19ff8605823ae74a\n",
      "Found cached dataset parquet (/home/james/.cache/huggingface/datasets/james-burton___parquet/james-burton--textual-explanations-19ff8605823ae74a/0.0.0/2a3b91fbd88a2c90d1dbbb32b460cf621d31bd5b05b934492fdef7d8d6f236ec)\n",
      "100%|██████████| 3/3 [00:00<00:00, 319.52it/s]\n",
      "100%|██████████| 375/375 [00:00<00:00, 8326.48ex/s]\n",
      "100%|██████████| 47/47 [00:00<00:00, 8060.69ex/s]\n",
      "100%|██████████| 47/47 [00:00<00:00, 7989.47ex/s]\n",
      "100%|██████████| 375/375 [00:00<00:00, 2491.59ex/s]\n",
      "100%|██████████| 47/47 [00:00<00:00, 2486.53ex/s]\n",
      "100%|██████████| 47/47 [00:00<00:00, 2579.46ex/s]\n",
      "100%|██████████| 1/1 [00:00<00:00, 11.12ba/s]\n",
      "100%|██████████| 1/1 [00:00<00:00, 58.00ba/s]\n",
      "100%|██████████| 1/1 [00:00<00:00, 62.17ba/s]\n"
     ]
    },
    {
     "name": "stdout",
     "output_type": "stream",
     "text": [
      "0\n"
     ]
    },
    {
     "name": "stderr",
     "output_type": "stream",
     "text": [
      "Using custom data configuration james-burton--textual-explanations-19ff8605823ae74a\n",
      "Found cached dataset parquet (/home/james/.cache/huggingface/datasets/james-burton___parquet/james-burton--textual-explanations-19ff8605823ae74a/0.0.0/2a3b91fbd88a2c90d1dbbb32b460cf621d31bd5b05b934492fdef7d8d6f236ec)\n",
      "100%|██████████| 3/3 [00:00<00:00, 1083.61it/s]\n",
      "100%|██████████| 375/375 [00:00<00:00, 8271.40ex/s]\n",
      "100%|██████████| 47/47 [00:00<00:00, 8119.79ex/s]\n",
      "100%|██████████| 47/47 [00:00<00:00, 7861.39ex/s]\n",
      "100%|██████████| 375/375 [00:00<00:00, 2539.54ex/s]\n",
      "100%|██████████| 47/47 [00:00<00:00, 2484.31ex/s]\n",
      "100%|██████████| 47/47 [00:00<00:00, 2649.56ex/s]\n",
      "100%|██████████| 1/1 [00:00<00:00, 10.59ba/s]\n",
      "100%|██████████| 1/1 [00:00<00:00, 59.93ba/s]\n",
      "100%|██████████| 1/1 [00:00<00:00, 60.94ba/s]\n"
     ]
    },
    {
     "name": "stdout",
     "output_type": "stream",
     "text": [
      "0\n"
     ]
    }
   ],
   "source": [
    "lin = 'text'\n",
    "max_fts = 30\n",
    "model = 't5-base'\n",
    "max_input_len = 500\n",
    "\n",
    "output_dict = {}\n",
    "\n",
    "for max_out_fts in [350,400]:\n",
    "    tokenizer = AutoTokenizer.from_pretrained(model)\n",
    "\n",
    "    dataset = load_dataset(\"james-burton/textual-explanations\")\n",
    "\n",
    "    dataset = dataset.map(lambda x: simplify_narr_question(label_qs(x)),\n",
    "                            load_from_cache_file=False)\n",
    "\n",
    "    # Form the linearised or stepwise (and linearised) input\n",
    "    dataset = dataset.map(\n",
    "        lambda x: linearise_input(x, lin, max_fts),\n",
    "        load_from_cache_file=False\n",
    "        ) \n",
    "\n",
    "    # Convert to tokens\n",
    "    dataset = dataset.map(\n",
    "        lambda x: convert_to_features(x, tokenizer, max_input_len,max_output_length=max_out_fts), \n",
    "        batched=True, load_from_cache_file=False\n",
    "        )\n",
    "    decoded_train = tokenizer.batch_decode(dataset['train']['labels'], skip_special_tokens=False)\n",
    "\n",
    "    [len(d) for d in decoded_train]\n",
    "    # Count number of times the string '<pad>' appears in the string \n",
    "    # (i.e. the number of padding tokens)\n",
    "    max_outs = sum([len(re.findall('<pad>', d))==0 for d in decoded_train])\n",
    "    output_dict[(lin, max_fts, model, max_input_len)] = max_outs\n",
    "    print(max_outs)"
   ]
  },
  {
   "attachments": {},
   "cell_type": "markdown",
   "metadata": {},
   "source": [
    "## Inputs getting cut off, QnA"
   ]
  },
  {
   "cell_type": "code",
   "execution_count": 8,
   "metadata": {},
   "outputs": [],
   "source": [
    "from src.utils import form_qa_input_output"
   ]
  },
  {
   "cell_type": "code",
   "execution_count": 11,
   "metadata": {},
   "outputs": [
    {
     "name": "stdout",
     "output_type": "stream",
     "text": [
      "text 20 t5-base 200\n"
     ]
    },
    {
     "name": "stderr",
     "output_type": "stream",
     "text": [
      "Using custom data configuration james-burton--text-exp-qa-hard-2e0612bc5e44d8be\n",
      "Found cached dataset parquet (/home/james/.cache/huggingface/datasets/james-burton___parquet/james-burton--text-exp-qa-hard-2e0612bc5e44d8be/0.0.0/2a3b91fbd88a2c90d1dbbb32b460cf621d31bd5b05b934492fdef7d8d6f236ec)\n",
      "100%|██████████| 3/3 [00:00<00:00, 822.04it/s]\n",
      "Loading cached processed dataset at /home/james/.cache/huggingface/datasets/james-burton___parquet/james-burton--text-exp-qa-hard-2e0612bc5e44d8be/0.0.0/2a3b91fbd88a2c90d1dbbb32b460cf621d31bd5b05b934492fdef7d8d6f236ec/cache-541345b49ce97c3b.arrow\n",
      "Loading cached processed dataset at /home/james/.cache/huggingface/datasets/james-burton___parquet/james-burton--text-exp-qa-hard-2e0612bc5e44d8be/0.0.0/2a3b91fbd88a2c90d1dbbb32b460cf621d31bd5b05b934492fdef7d8d6f236ec/cache-23fb7979b3c519b0.arrow\n",
      "Loading cached processed dataset at /home/james/.cache/huggingface/datasets/james-burton___parquet/james-burton--text-exp-qa-hard-2e0612bc5e44d8be/0.0.0/2a3b91fbd88a2c90d1dbbb32b460cf621d31bd5b05b934492fdef7d8d6f236ec/cache-a73d934b45b2027a.arrow\n",
      "100%|██████████| 27000/27000 [00:15<00:00, 1784.70ex/s]\n",
      "100%|██████████| 3000/3000 [00:01<00:00, 1549.05ex/s]\n",
      "100%|██████████| 469/469 [00:00<00:00, 1888.07ex/s]\n"
     ]
    },
    {
     "name": "stdout",
     "output_type": "stream",
     "text": [
      "19132\n",
      "text 20 facebook/bart-base 200\n"
     ]
    },
    {
     "name": "stderr",
     "output_type": "stream",
     "text": [
      "Using custom data configuration james-burton--text-exp-qa-hard-2e0612bc5e44d8be\n",
      "Found cached dataset parquet (/home/james/.cache/huggingface/datasets/james-burton___parquet/james-burton--text-exp-qa-hard-2e0612bc5e44d8be/0.0.0/2a3b91fbd88a2c90d1dbbb32b460cf621d31bd5b05b934492fdef7d8d6f236ec)\n",
      "100%|██████████| 3/3 [00:00<00:00, 654.13it/s]\n",
      "Loading cached processed dataset at /home/james/.cache/huggingface/datasets/james-burton___parquet/james-burton--text-exp-qa-hard-2e0612bc5e44d8be/0.0.0/2a3b91fbd88a2c90d1dbbb32b460cf621d31bd5b05b934492fdef7d8d6f236ec/cache-541345b49ce97c3b.arrow\n",
      "Loading cached processed dataset at /home/james/.cache/huggingface/datasets/james-burton___parquet/james-burton--text-exp-qa-hard-2e0612bc5e44d8be/0.0.0/2a3b91fbd88a2c90d1dbbb32b460cf621d31bd5b05b934492fdef7d8d6f236ec/cache-23fb7979b3c519b0.arrow\n",
      "Loading cached processed dataset at /home/james/.cache/huggingface/datasets/james-burton___parquet/james-burton--text-exp-qa-hard-2e0612bc5e44d8be/0.0.0/2a3b91fbd88a2c90d1dbbb32b460cf621d31bd5b05b934492fdef7d8d6f236ec/cache-a73d934b45b2027a.arrow\n",
      "100%|██████████| 27000/27000 [00:17<00:00, 1524.25ex/s]\n",
      "100%|██████████| 3000/3000 [00:02<00:00, 1315.39ex/s]\n",
      "100%|██████████| 469/469 [00:00<00:00, 1389.27ex/s]\n"
     ]
    },
    {
     "name": "stdout",
     "output_type": "stream",
     "text": [
      "21687\n",
      "text 20 t5-base 300\n"
     ]
    },
    {
     "name": "stderr",
     "output_type": "stream",
     "text": [
      "Using custom data configuration james-burton--text-exp-qa-hard-2e0612bc5e44d8be\n",
      "Found cached dataset parquet (/home/james/.cache/huggingface/datasets/james-burton___parquet/james-burton--text-exp-qa-hard-2e0612bc5e44d8be/0.0.0/2a3b91fbd88a2c90d1dbbb32b460cf621d31bd5b05b934492fdef7d8d6f236ec)\n",
      "100%|██████████| 3/3 [00:00<00:00, 823.17it/s]\n",
      "Loading cached processed dataset at /home/james/.cache/huggingface/datasets/james-burton___parquet/james-burton--text-exp-qa-hard-2e0612bc5e44d8be/0.0.0/2a3b91fbd88a2c90d1dbbb32b460cf621d31bd5b05b934492fdef7d8d6f236ec/cache-541345b49ce97c3b.arrow\n",
      "Loading cached processed dataset at /home/james/.cache/huggingface/datasets/james-burton___parquet/james-burton--text-exp-qa-hard-2e0612bc5e44d8be/0.0.0/2a3b91fbd88a2c90d1dbbb32b460cf621d31bd5b05b934492fdef7d8d6f236ec/cache-23fb7979b3c519b0.arrow\n",
      "Loading cached processed dataset at /home/james/.cache/huggingface/datasets/james-burton___parquet/james-burton--text-exp-qa-hard-2e0612bc5e44d8be/0.0.0/2a3b91fbd88a2c90d1dbbb32b460cf621d31bd5b05b934492fdef7d8d6f236ec/cache-a73d934b45b2027a.arrow\n",
      "100%|██████████| 27000/27000 [00:14<00:00, 1831.55ex/s]\n",
      "100%|██████████| 3000/3000 [00:01<00:00, 1679.14ex/s]\n",
      "100%|██████████| 469/469 [00:00<00:00, 1995.64ex/s]\n"
     ]
    },
    {
     "name": "stdout",
     "output_type": "stream",
     "text": [
      "596\n",
      "text 20 facebook/bart-base 300\n"
     ]
    },
    {
     "name": "stderr",
     "output_type": "stream",
     "text": [
      "Using custom data configuration james-burton--text-exp-qa-hard-2e0612bc5e44d8be\n",
      "Found cached dataset parquet (/home/james/.cache/huggingface/datasets/james-burton___parquet/james-burton--text-exp-qa-hard-2e0612bc5e44d8be/0.0.0/2a3b91fbd88a2c90d1dbbb32b460cf621d31bd5b05b934492fdef7d8d6f236ec)\n",
      "100%|██████████| 3/3 [00:00<00:00, 971.50it/s]\n",
      "Loading cached processed dataset at /home/james/.cache/huggingface/datasets/james-burton___parquet/james-burton--text-exp-qa-hard-2e0612bc5e44d8be/0.0.0/2a3b91fbd88a2c90d1dbbb32b460cf621d31bd5b05b934492fdef7d8d6f236ec/cache-541345b49ce97c3b.arrow\n",
      "Loading cached processed dataset at /home/james/.cache/huggingface/datasets/james-burton___parquet/james-burton--text-exp-qa-hard-2e0612bc5e44d8be/0.0.0/2a3b91fbd88a2c90d1dbbb32b460cf621d31bd5b05b934492fdef7d8d6f236ec/cache-23fb7979b3c519b0.arrow\n",
      "Loading cached processed dataset at /home/james/.cache/huggingface/datasets/james-burton___parquet/james-burton--text-exp-qa-hard-2e0612bc5e44d8be/0.0.0/2a3b91fbd88a2c90d1dbbb32b460cf621d31bd5b05b934492fdef7d8d6f236ec/cache-a73d934b45b2027a.arrow\n",
      "100%|██████████| 27000/27000 [00:18<00:00, 1493.56ex/s]\n",
      "100%|██████████| 3000/3000 [00:02<00:00, 1464.17ex/s]\n",
      "100%|██████████| 469/469 [00:00<00:00, 1553.89ex/s]\n"
     ]
    },
    {
     "name": "stdout",
     "output_type": "stream",
     "text": [
      "4372\n"
     ]
    }
   ],
   "source": [
    "lin = 'essel'\n",
    "max_fts = 30\n",
    "model = 't5-base'\n",
    "max_input_len = 500\n",
    "max_output_len = 100\n",
    "\n",
    "output_dict = {}\n",
    "\n",
    "for lin in ['text']:\n",
    "    for max_fts in [20]:\n",
    "        for max_input_len in [200, 300]:\n",
    "            for model in ['t5-base', 'facebook/bart-base']:\n",
    "                print(lin, max_fts, model, max_input_len)\n",
    "\n",
    "                tokenizer = AutoTokenizer.from_pretrained(model)\n",
    "\n",
    "                dataset = load_dataset(\"james-burton/text-exp-qa-hard\")\n",
    "\n",
    "                dataset = dataset.map(\n",
    "                    lambda x: form_qa_input_output(x, lin, max_fts),\n",
    "                    load_from_cache_file=True #False\n",
    "                    )\n",
    "                dataset = dataset.map(\n",
    "                    lambda x: convert_to_features(x, tokenizer, max_input_len, max_output_len), \n",
    "                    batch_size=32,load_from_cache_file=True #False \n",
    "                    )\n",
    "                decoded_train = tokenizer.batch_decode(dataset['train']['input_ids'], skip_special_tokens=False)\n",
    "\n",
    "                [len(d) for d in decoded_train]\n",
    "                # Count number of times the string '<pad>' appears in the string \n",
    "                # (i.e. the number of padding tokens)\n",
    "                max_outs = sum([len(re.findall('<pad>', d))==0 for d in decoded_train])\n",
    "                output_dict[(lin, max_fts, model, max_input_len)] = max_outs\n",
    "                print(max_outs)"
   ]
  },
  {
   "cell_type": "code",
   "execution_count": null,
   "metadata": {},
   "outputs": [],
   "source": []
  }
 ],
 "metadata": {
  "kernelspec": {
   "display_name": "Python 3.10.6 ('env': venv)",
   "language": "python",
   "name": "python3"
  },
  "language_info": {
   "codemirror_mode": {
    "name": "ipython",
    "version": 3
   },
   "file_extension": ".py",
   "mimetype": "text/x-python",
   "name": "python",
   "nbconvert_exporter": "python",
   "pygments_lexer": "ipython3",
   "version": "3.10.6"
  },
  "orig_nbformat": 4,
  "vscode": {
   "interpreter": {
    "hash": "3f53d471a03fb5b9741311ec5f82522ec5f217d64ed47634b801d3f5199a0064"
   }
  }
 },
 "nbformat": 4,
 "nbformat_minor": 2
}
