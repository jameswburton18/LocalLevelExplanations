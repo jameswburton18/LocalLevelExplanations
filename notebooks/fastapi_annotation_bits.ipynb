{
 "cells": [
  {
   "cell_type": "code",
   "execution_count": 8,
   "metadata": {},
   "outputs": [],
   "source": [
    "import pandas as pd\n",
    "from datasets import load_dataset\n",
    "from src.utils import linearise_input"
   ]
  },
  {
   "cell_type": "code",
   "execution_count": 29,
   "metadata": {},
   "outputs": [
    {
     "name": "stderr",
     "output_type": "stream",
     "text": [
      "Using custom data configuration james-burton--textual-explanations-702010-cac443d3271dff16\n",
      "Found cached dataset parquet (/home/james/.cache/huggingface/datasets/james-burton___parquet/james-burton--textual-explanations-702010-cac443d3271dff16/0.0.0/2a3b91fbd88a2c90d1dbbb32b460cf621d31bd5b05b934492fdef7d8d6f236ec)\n",
      "100%|██████████| 94/94 [00:00<00:00, 2579.64ex/s]\n"
     ]
    }
   ],
   "source": [
    "preds_name = '../models/bart-base/dancing-goat-167/checkpoint-410' #'../models/bart-base/brilliant-paper-165/test_predictions.txt' #'../models/t5-base/beaming-kumquat-166/test_predictions.txt'\n",
    "\n",
    "with open(preds_name) as f:\n",
    "    preds = f.readlines()\n",
    "\n",
    "inputs = load_dataset('james-burton/textual-explanations-702010', split='test')\n",
    "inputs = inputs.map(\n",
    "        lambda x: linearise_input(x, 'text', 20),\n",
    "        load_from_cache_file=False\n",
    "        ) "
   ]
  },
  {
   "cell_type": "code",
   "execution_count": 30,
   "metadata": {},
   "outputs": [],
   "source": [
    "df =  pd.DataFrame([inputs['input'], preds]).T\n",
    "df.columns = ['input', 'preds']\n",
    "# # put each sentence on a new line\n",
    "df['input'] = df['input'].apply(lambda x: x.replace('. ', '.\\n'))\n",
    "df['preds'] = df['preds'].apply(lambda x: x.replace('. ', '.\\n'))"
   ]
  },
  {
   "cell_type": "code",
   "execution_count": 31,
   "metadata": {},
   "outputs": [],
   "source": [
    "df.to_csv('input_preds.csv', index=False)"
   ]
  },
  {
   "cell_type": "code",
   "execution_count": 26,
   "metadata": {},
   "outputs": [],
   "source": [
    "df = pd.read_csv('input_preds.csv')"
   ]
  },
  {
   "cell_type": "code",
   "execution_count": 27,
   "metadata": {},
   "outputs": [
    {
     "data": {
      "text/html": [
       "<div>\n",
       "<style scoped>\n",
       "    .dataframe tbody tr th:only-of-type {\n",
       "        vertical-align: middle;\n",
       "    }\n",
       "\n",
       "    .dataframe tbody tr th {\n",
       "        vertical-align: top;\n",
       "    }\n",
       "\n",
       "    .dataframe thead th {\n",
       "        text-align: right;\n",
       "    }\n",
       "</style>\n",
       "<table border=\"1\" class=\"dataframe\">\n",
       "  <thead>\n",
       "    <tr style=\"text-align: right;\">\n",
       "      <th></th>\n",
       "      <th>input</th>\n",
       "      <th>preds</th>\n",
       "    </tr>\n",
       "  </thead>\n",
       "  <tbody>\n",
       "    <tr>\n",
       "      <th>0</th>\n",
       "      <td>Predicted class is C1, value of 100.00%.\\nOthe...</td>\n",
       "      <td>The classification algorithm labels the given ...</td>\n",
       "    </tr>\n",
       "    <tr>\n",
       "      <th>1</th>\n",
       "      <td>Predicted class is C1, value of 91.95%.\\nOther...</td>\n",
       "      <td>The classification algorithm classifies the gi...</td>\n",
       "    </tr>\n",
       "    <tr>\n",
       "      <th>2</th>\n",
       "      <td>Predicted class is C1, value of 89.16%.\\nOther...</td>\n",
       "      <td>The classification algorithm classifies the gi...</td>\n",
       "    </tr>\n",
       "    <tr>\n",
       "      <th>3</th>\n",
       "      <td>Predicted class is C1, value of 97.02%.\\nOther...</td>\n",
       "      <td>The classification algorithm labels the given ...</td>\n",
       "    </tr>\n",
       "    <tr>\n",
       "      <th>4</th>\n",
       "      <td>Predicted class is C2, value of 51.62%.\\nOther...</td>\n",
       "      <td>The classification algorithm labels the given ...</td>\n",
       "    </tr>\n",
       "    <tr>\n",
       "      <th>...</th>\n",
       "      <td>...</td>\n",
       "      <td>...</td>\n",
       "    </tr>\n",
       "    <tr>\n",
       "      <th>89</th>\n",
       "      <td>Predicted class is C2, value of 90.58%.\\nOther...</td>\n",
       "      <td>The classification algorithm labels the given ...</td>\n",
       "    </tr>\n",
       "    <tr>\n",
       "      <th>90</th>\n",
       "      <td>Predicted class is C2, value of 68.40%.\\nOther...</td>\n",
       "      <td>The classification algorithm labels the given ...</td>\n",
       "    </tr>\n",
       "    <tr>\n",
       "      <th>91</th>\n",
       "      <td>Predicted class is C1, value of 83.33%.\\nOther...</td>\n",
       "      <td>The classification algorithm labels the given ...</td>\n",
       "    </tr>\n",
       "    <tr>\n",
       "      <th>92</th>\n",
       "      <td>Predicted class is C2, value of 75.00%.\\nOther...</td>\n",
       "      <td>The classification algorithm labels the given ...</td>\n",
       "    </tr>\n",
       "    <tr>\n",
       "      <th>93</th>\n",
       "      <td>Predicted class is C1, value of 100.00%.\\nOthe...</td>\n",
       "      <td>The classification algorithm labels the given ...</td>\n",
       "    </tr>\n",
       "  </tbody>\n",
       "</table>\n",
       "<p>94 rows × 2 columns</p>\n",
       "</div>"
      ],
      "text/plain": [
       "                                                input  \\\n",
       "0   Predicted class is C1, value of 100.00%.\\nOthe...   \n",
       "1   Predicted class is C1, value of 91.95%.\\nOther...   \n",
       "2   Predicted class is C1, value of 89.16%.\\nOther...   \n",
       "3   Predicted class is C1, value of 97.02%.\\nOther...   \n",
       "4   Predicted class is C2, value of 51.62%.\\nOther...   \n",
       "..                                                ...   \n",
       "89  Predicted class is C2, value of 90.58%.\\nOther...   \n",
       "90  Predicted class is C2, value of 68.40%.\\nOther...   \n",
       "91  Predicted class is C1, value of 83.33%.\\nOther...   \n",
       "92  Predicted class is C2, value of 75.00%.\\nOther...   \n",
       "93  Predicted class is C1, value of 100.00%.\\nOthe...   \n",
       "\n",
       "                                                preds  \n",
       "0   The classification algorithm labels the given ...  \n",
       "1   The classification algorithm classifies the gi...  \n",
       "2   The classification algorithm classifies the gi...  \n",
       "3   The classification algorithm labels the given ...  \n",
       "4   The classification algorithm labels the given ...  \n",
       "..                                                ...  \n",
       "89  The classification algorithm labels the given ...  \n",
       "90  The classification algorithm labels the given ...  \n",
       "91  The classification algorithm labels the given ...  \n",
       "92  The classification algorithm labels the given ...  \n",
       "93  The classification algorithm labels the given ...  \n",
       "\n",
       "[94 rows x 2 columns]"
      ]
     },
     "execution_count": 27,
     "metadata": {},
     "output_type": "execute_result"
    }
   ],
   "source": [
    "df"
   ]
  },
  {
   "cell_type": "code",
   "execution_count": 28,
   "metadata": {},
   "outputs": [
    {
     "data": {
      "text/plain": [
       "0     Predicted class is C1, value of 100.00%.\\nOthe...\n",
       "1     Predicted class is C1, value of 91.95%.\\nOther...\n",
       "2     Predicted class is C1, value of 89.16%.\\nOther...\n",
       "3     Predicted class is C1, value of 97.02%.\\nOther...\n",
       "4     Predicted class is C2, value of 51.62%.\\nOther...\n",
       "                            ...                        \n",
       "89    Predicted class is C2, value of 90.58%.\\nOther...\n",
       "90    Predicted class is C2, value of 68.40%.\\nOther...\n",
       "91    Predicted class is C1, value of 83.33%.\\nOther...\n",
       "92    Predicted class is C2, value of 75.00%.\\nOther...\n",
       "93    Predicted class is C1, value of 100.00%.\\nOthe...\n",
       "Name: input, Length: 94, dtype: object"
      ]
     },
     "execution_count": 28,
     "metadata": {},
     "output_type": "execute_result"
    }
   ],
   "source": [
    "df['input']"
   ]
  },
  {
   "cell_type": "code",
   "execution_count": null,
   "metadata": {},
   "outputs": [],
   "source": []
  }
 ],
 "metadata": {
  "kernelspec": {
   "display_name": "env",
   "language": "python",
   "name": "python3"
  },
  "language_info": {
   "codemirror_mode": {
    "name": "ipython",
    "version": 3
   },
   "file_extension": ".py",
   "mimetype": "text/x-python",
   "name": "python",
   "nbconvert_exporter": "python",
   "pygments_lexer": "ipython3",
   "version": "3.10.6"
  },
  "orig_nbformat": 4,
  "vscode": {
   "interpreter": {
    "hash": "3f53d471a03fb5b9741311ec5f82522ec5f217d64ed47634b801d3f5199a0064"
   }
  }
 },
 "nbformat": 4,
 "nbformat_minor": 2
}
