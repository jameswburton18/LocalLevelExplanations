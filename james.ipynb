{
 "cells": [
  {
   "cell_type": "code",
   "execution_count": 93,
   "metadata": {},
   "outputs": [],
   "source": [
    "import json\n",
    "import numpy as np"
   ]
  },
  {
   "cell_type": "code",
   "execution_count": 17,
   "metadata": {},
   "outputs": [
    {
     "data": {
      "text/plain": [
       "['Hotel Satisfaction',\n",
       " 'Music Concert Attendance',\n",
       " 'Company Bankruptcy Prediction',\n",
       " 'Customer Churn Modelling',\n",
       " 'Concrete Strength Classification',\n",
       " 'Car Acceptability Valuation',\n",
       " 'Student Job Placement',\n",
       " 'Used Cars Price-Range Prediction',\n",
       " 'Student Job Placement',\n",
       " 'Concrete Strength Classification',\n",
       " 'Student Job Placement',\n",
       " 'Tic-Tac-Toe Strategy',\n",
       " 'House Price Classification',\n",
       " 'Advertisement Prediction',\n",
       " 'Music Concert Attendance',\n",
       " 'Mobile Price-Range Classification',\n",
       " 'Cab Surge Pricing System',\n",
       " 'Advertisement Prediction',\n",
       " 'Flight Price-Range Classification',\n",
       " 'Water Quality Classification',\n",
       " 'Employee Attrition',\n",
       " 'Company Bankruptcy Prediction',\n",
       " 'House Price Classification',\n",
       " 'E-Commerce Shipping',\n",
       " 'Printer Sales',\n",
       " 'Hotel Satisfaction',\n",
       " 'Vehicle Insurance Claims',\n",
       " 'Real Estate Investment',\n",
       " 'Vehicle Insurance Claims',\n",
       " 'Insurance Churn',\n",
       " 'Student Job Placement',\n",
       " 'Vehicle Insurance Claims',\n",
       " 'Insurance Churn',\n",
       " 'Credit Card Fraud Classification',\n",
       " 'Tic-Tac-Toe Strategy',\n",
       " 'Student Job Placement',\n",
       " 'Basketball Players Career Length Prediction',\n",
       " 'Flight Price-Range Classification',\n",
       " 'Used Cars Price-Range Prediction',\n",
       " 'Food Ordering Customer Churn Prediction',\n",
       " 'Water Quality Classification',\n",
       " 'Credit Card Fraud Classification',\n",
       " 'Student Job Placement',\n",
       " 'Student Job Placement',\n",
       " 'Employee Attrition',\n",
       " 'Vehicle Insurance Claims',\n",
       " 'Employee Promotion Prediction',\n",
       " 'Wine Quality Prediction',\n",
       " 'Printer Sales',\n",
       " 'Credit Risk Classification',\n",
       " 'Car Acceptability Valuation',\n",
       " 'Flight Price-Range Classification',\n",
       " 'Credit Risk Classification',\n",
       " 'Australian Credit Approval',\n",
       " 'Broadband Sevice Signup',\n",
       " 'Printer Sales',\n",
       " 'Concrete Strength Classification',\n",
       " 'Cab Surge Pricing System',\n",
       " 'House Price Classification',\n",
       " 'Suspicious Bidding Identification',\n",
       " 'Wine Quality Prediction',\n",
       " 'Mobile Price-Range Classification',\n",
       " 'Credit Risk Classification',\n",
       " 'Bike Sharing Demand',\n",
       " 'Cab Surge Pricing System',\n",
       " 'Flight Price-Range Classification',\n",
       " 'Personal Loan Modelling',\n",
       " 'German Credit Evaluation',\n",
       " 'Company Bankruptcy Prediction',\n",
       " 'Suspicious Bidding Identification',\n",
       " 'Airline Passenger Satisfaction',\n",
       " 'Bike Sharing Demand',\n",
       " 'German Credit Evaluation',\n",
       " 'House Price Classification',\n",
       " 'Customer Churn Modelling',\n",
       " 'Insurance Churn',\n",
       " 'Health Care Services Satisfaction Prediction',\n",
       " 'Real Estate Investment',\n",
       " 'Australian Credit Approval',\n",
       " 'Basketball Players Career Length Prediction',\n",
       " 'Annual Income Earnings',\n",
       " 'Airline Passenger Satisfaction',\n",
       " 'Paris House Classification',\n",
       " 'Health Care Services Satisfaction Prediction',\n",
       " 'Employee Promotion Prediction',\n",
       " 'Annual Income Earnings',\n",
       " 'Real Estate Investment',\n",
       " 'Personal Loan Modelling',\n",
       " 'Airline Passenger Satisfaction',\n",
       " 'E-Commerce Shipping',\n",
       " 'Annual Income Earnings',\n",
       " 'Basketball Players Career Length Prediction',\n",
       " 'Ethereum Fraud Detection',\n",
       " 'German Credit Evaluation',\n",
       " 'Paris House Classification',\n",
       " 'Broadband Sevice Signup',\n",
       " 'Customer Churn Modelling',\n",
       " 'Food Ordering Customer Churn Prediction',\n",
       " 'Air Quality Prediction',\n",
       " 'Wine Quality Prediction',\n",
       " 'Wine Quality Prediction',\n",
       " 'Real Estate Investment',\n",
       " 'Concrete Strength Classification',\n",
       " 'Employee Attrition',\n",
       " 'Cab Surge Pricing System',\n",
       " 'Credit Risk Classification',\n",
       " 'Used Cars Price-Range Prediction',\n",
       " 'Real Estate Investment',\n",
       " 'Flight Price-Range Classification',\n",
       " 'Airline Passenger Satisfaction',\n",
       " 'Hotel Satisfaction',\n",
       " 'Advertisement Prediction',\n",
       " 'Advertisement Prediction',\n",
       " 'House Price Classification',\n",
       " 'Suspicious Bidding Identification',\n",
       " 'Food Ordering Customer Churn Prediction',\n",
       " 'Annual Income Earnings',\n",
       " 'Tic-Tac-Toe Strategy',\n",
       " 'E-Commerce Shipping',\n",
       " 'Australian Credit Approval',\n",
       " 'Car Acceptability Valuation',\n",
       " 'Employee Attrition',\n",
       " 'Company Bankruptcy Prediction',\n",
       " 'Customer Churn Modelling',\n",
       " 'Broadband Sevice Signup',\n",
       " 'Tic-Tac-Toe Strategy',\n",
       " 'Basketball Players Career Length Prediction',\n",
       " 'Australian Credit Approval',\n",
       " 'Used Cars Price-Range Prediction',\n",
       " 'House Price Classification',\n",
       " 'Bike Sharing Demand',\n",
       " 'Job Change of Data Scientists',\n",
       " 'Personal Loan Modelling',\n",
       " 'Bike Sharing Demand',\n",
       " 'Mobile Price-Range Classification',\n",
       " 'Employee Attrition',\n",
       " 'German Credit Evaluation',\n",
       " 'German Credit Evaluation',\n",
       " 'Tic-Tac-Toe Strategy',\n",
       " 'Ethereum Fraud Detection',\n",
       " 'Wine Quality Prediction',\n",
       " 'Broadband Sevice Signup',\n",
       " 'Employee Promotion Prediction',\n",
       " 'Water Quality Classification',\n",
       " 'Personal Loan Modelling',\n",
       " 'Credit Card Fraud Classification',\n",
       " 'Printer Sales',\n",
       " 'Credit Card Fraud Classification',\n",
       " 'Printer Sales',\n",
       " 'Ethereum Fraud Detection',\n",
       " 'Australian Credit Approval',\n",
       " 'Personal Loan Modelling',\n",
       " 'Employee Promotion Prediction',\n",
       " 'Insurance Churn',\n",
       " 'Advertisement Prediction',\n",
       " 'House Price Classification',\n",
       " 'Concrete Strength Classification',\n",
       " 'Mobile Price-Range Classification',\n",
       " 'Job Change of Data Scientists',\n",
       " 'Employee Attrition',\n",
       " 'Flight Price-Range Classification',\n",
       " 'Mobile Price-Range Classification',\n",
       " 'Health Care Services Satisfaction Prediction',\n",
       " 'Advertisement Prediction',\n",
       " 'Employee Attrition',\n",
       " 'Paris House Classification',\n",
       " 'Basketball Players Career Length Prediction',\n",
       " 'Company Bankruptcy Prediction',\n",
       " 'Food Ordering Customer Churn Prediction',\n",
       " 'Used Cars Price-Range Prediction',\n",
       " 'Bike Sharing Demand',\n",
       " 'Ethereum Fraud Detection',\n",
       " 'Broadband Sevice Signup',\n",
       " 'Employee Promotion Prediction',\n",
       " 'Annual Income Earnings',\n",
       " 'Flight Price-Range Classification',\n",
       " 'Ethereum Fraud Detection',\n",
       " 'Concrete Strength Classification',\n",
       " 'Food Ordering Customer Churn Prediction',\n",
       " 'Employee Promotion Prediction',\n",
       " 'House Price Classification',\n",
       " 'Car Acceptability Valuation',\n",
       " 'Hotel Satisfaction',\n",
       " 'Airline Passenger Satisfaction',\n",
       " 'Flight Price-Range Classification',\n",
       " 'German Credit Evaluation',\n",
       " 'Wine Quality Prediction',\n",
       " 'Cab Surge Pricing System',\n",
       " 'Customer Churn Modelling',\n",
       " 'Australian Credit Approval',\n",
       " 'Bike Sharing Demand',\n",
       " 'Water Quality Classification',\n",
       " 'Used Cars Price-Range Prediction',\n",
       " 'German Credit Evaluation',\n",
       " 'Wine Quality Prediction',\n",
       " 'Student Job Placement',\n",
       " 'Flight Price-Range Classification',\n",
       " 'Australian Credit Approval',\n",
       " 'Concrete Strength Classification',\n",
       " 'Used Cars Price-Range Prediction',\n",
       " 'Ethereum Fraud Detection',\n",
       " 'Company Bankruptcy Prediction',\n",
       " 'Employee Attrition',\n",
       " 'Flight Price-Range Classification',\n",
       " 'Student Job Placement',\n",
       " 'Paris House Classification',\n",
       " 'Vehicle Insurance Claims',\n",
       " 'Concrete Strength Classification',\n",
       " 'Hotel Satisfaction',\n",
       " 'Printer Sales',\n",
       " 'Car Acceptability Valuation',\n",
       " 'Concrete Strength Classification',\n",
       " 'Hotel Satisfaction',\n",
       " 'Concrete Strength Classification',\n",
       " 'Tic-Tac-Toe Strategy',\n",
       " 'Food Ordering Customer Churn Prediction',\n",
       " 'Employee Attrition',\n",
       " 'Real Estate Investment',\n",
       " 'Wine Quality Prediction',\n",
       " 'Food Ordering Customer Churn Prediction',\n",
       " 'German Credit Evaluation',\n",
       " 'Annual Income Earnings',\n",
       " 'E-Commerce Shipping',\n",
       " 'Employee Promotion Prediction',\n",
       " 'Paris House Classification',\n",
       " 'Paris House Classification',\n",
       " 'House Price Classification',\n",
       " 'House Price Classification',\n",
       " 'Airline Passenger Satisfaction',\n",
       " 'Flight Price-Range Classification',\n",
       " 'Flight Price-Range Classification',\n",
       " 'Cab Surge Pricing System',\n",
       " 'Cab Surge Pricing System',\n",
       " 'Cab Surge Pricing System',\n",
       " 'Cab Surge Pricing System',\n",
       " 'Broadband Sevice Signup',\n",
       " 'Broadband Sevice Signup',\n",
       " 'Flight Price-Range Classification',\n",
       " 'Flight Price-Range Classification',\n",
       " 'Printer Sales',\n",
       " 'Printer Sales',\n",
       " 'Employee Promotion Prediction',\n",
       " 'Food Ordering Customer Churn Prediction',\n",
       " 'Used Cars Price-Range Prediction',\n",
       " 'Flight Price-Range Classification',\n",
       " 'Flight Price-Range Classification',\n",
       " 'Tic-Tac-Toe Strategy',\n",
       " 'Vehicle Insurance Claims',\n",
       " 'Vehicle Insurance Claims',\n",
       " 'Printer Sales',\n",
       " 'Basketball Players Career Length Prediction',\n",
       " 'E-Commerce Shipping',\n",
       " 'Tic-Tac-Toe Strategy',\n",
       " 'Tic-Tac-Toe Strategy',\n",
       " 'Company Bankruptcy Prediction',\n",
       " 'Company Bankruptcy Prediction',\n",
       " 'Customer Churn Modelling',\n",
       " 'E-Commerce Shipping',\n",
       " 'Company Bankruptcy Prediction',\n",
       " 'Flight Price-Range Classification',\n",
       " 'Flight Price-Range Classification',\n",
       " 'Advertisement Prediction',\n",
       " 'Mobile Price-Range Classification',\n",
       " 'Mobile Price-Range Classification',\n",
       " 'Annual Income Earnings',\n",
       " 'Real Estate Investment',\n",
       " 'Advertisement Prediction',\n",
       " 'Customer Churn Modelling',\n",
       " 'Basketball Players Career Length Prediction',\n",
       " 'Student Job Placement',\n",
       " 'Credit Card Fraud Classification',\n",
       " 'Customer Churn Modelling',\n",
       " 'Tic-Tac-Toe Strategy',\n",
       " 'Broadband Sevice Signup',\n",
       " 'Basketball Players Career Length Prediction',\n",
       " 'Annual Income Earnings',\n",
       " 'Annual Income Earnings',\n",
       " 'Credit Risk Classification',\n",
       " 'Credit Risk Classification',\n",
       " 'Used Cars Price-Range Prediction',\n",
       " 'Used Cars Price-Range Prediction',\n",
       " 'Cab Surge Pricing System',\n",
       " 'Cab Surge Pricing System',\n",
       " 'Cab Surge Pricing System',\n",
       " 'Insurance Churn',\n",
       " 'Insurance Churn',\n",
       " 'Credit Risk Classification',\n",
       " 'Credit Risk Classification',\n",
       " 'Airline Passenger Satisfaction',\n",
       " 'Airline Passenger Satisfaction',\n",
       " 'Credit Risk Classification',\n",
       " 'Credit Risk Classification',\n",
       " 'Air Quality Prediction',\n",
       " 'Air Quality Prediction',\n",
       " 'Music Concert Attendance',\n",
       " 'Music Concert Attendance',\n",
       " 'Personal Loan Modelling',\n",
       " 'Personal Loan Modelling',\n",
       " 'Suspicious Bidding Identification',\n",
       " 'Suspicious Bidding Identification',\n",
       " 'German Credit Evaluation',\n",
       " 'German Credit Evaluation',\n",
       " 'Hotel Satisfaction',\n",
       " 'Australian Credit Approval',\n",
       " 'Australian Credit Approval',\n",
       " 'Mobile Price-Range Classification',\n",
       " 'German Credit Evaluation',\n",
       " 'Tic-Tac-Toe Strategy',\n",
       " 'Customer Churn Modelling',\n",
       " 'Car Acceptability Valuation',\n",
       " 'Student Job Placement',\n",
       " 'Student Job Placement',\n",
       " 'Personal Loan Modelling',\n",
       " 'Personal Loan Modelling',\n",
       " 'Australian Credit Approval',\n",
       " 'Australian Credit Approval',\n",
       " 'Ethereum Fraud Detection',\n",
       " 'Ethereum Fraud Detection',\n",
       " 'Printer Sales',\n",
       " 'Printer Sales',\n",
       " 'Credit Card Fraud Classification',\n",
       " 'Credit Card Fraud Classification',\n",
       " 'Printer Sales',\n",
       " 'Printer Sales',\n",
       " 'Credit Card Fraud Classification',\n",
       " 'Personal Loan Modelling',\n",
       " 'Water Quality Classification',\n",
       " 'Employee Promotion Prediction',\n",
       " 'Broadband Sevice Signup',\n",
       " 'Wine Quality Prediction',\n",
       " 'Ethereum Fraud Detection',\n",
       " 'Mobile Price-Range Classification',\n",
       " 'Ethereum Fraud Detection',\n",
       " 'Bike Sharing Demand',\n",
       " 'Used Cars Price-Range Prediction',\n",
       " 'Food Ordering Customer Churn Prediction',\n",
       " 'Company Bankruptcy Prediction',\n",
       " 'Basketball Players Career Length Prediction',\n",
       " 'Paris House Classification',\n",
       " 'Paris House Classification',\n",
       " 'Advertisement Prediction',\n",
       " 'Health Care Services Satisfaction Prediction',\n",
       " 'Mobile Price-Range Classification',\n",
       " 'Flight Price-Range Classification',\n",
       " 'Job Change of Data Scientists',\n",
       " 'Employee Promotion Prediction',\n",
       " 'Advertisement Prediction',\n",
       " 'House Price Classification',\n",
       " 'Concrete Strength Classification',\n",
       " 'Mobile Price-Range Classification',\n",
       " 'Employee Attrition',\n",
       " 'Insurance Churn',\n",
       " 'Company Bankruptcy Prediction',\n",
       " 'Employee Attrition',\n",
       " 'Ethereum Fraud Detection',\n",
       " 'Used Cars Price-Range Prediction',\n",
       " 'Concrete Strength Classification',\n",
       " 'Used Cars Price-Range Prediction',\n",
       " 'Real Estate Investment',\n",
       " 'Air Quality Prediction',\n",
       " 'Air Quality Prediction',\n",
       " 'Food Ordering Customer Churn Prediction',\n",
       " 'Food Ordering Customer Churn Prediction',\n",
       " 'Credit Risk Classification',\n",
       " 'Mobile Price-Range Classification',\n",
       " 'Mobile Price-Range Classification',\n",
       " 'Basketball Players Career Length Prediction',\n",
       " 'Basketball Players Career Length Prediction',\n",
       " 'Food Ordering Customer Churn Prediction',\n",
       " 'Food Ordering Customer Churn Prediction',\n",
       " 'Basketball Players Career Length Prediction',\n",
       " 'Basketball Players Career Length Prediction',\n",
       " 'Hotel Satisfaction',\n",
       " 'Hotel Satisfaction',\n",
       " 'Job Change of Data Scientists',\n",
       " 'Job Change of Data Scientists',\n",
       " 'E-Commerce Shipping',\n",
       " 'E-Commerce Shipping',\n",
       " 'Employee Promotion Prediction',\n",
       " 'Employee Promotion Prediction',\n",
       " 'Employee Attrition',\n",
       " 'Employee Attrition',\n",
       " 'Employee Attrition',\n",
       " 'Vehicle Insurance Claims',\n",
       " 'Vehicle Insurance Claims',\n",
       " 'Advertisement Prediction',\n",
       " 'Advertisement Prediction',\n",
       " 'Printer Sales',\n",
       " 'Printer Sales',\n",
       " 'Health Care Services Satisfaction Prediction',\n",
       " 'Health Care Services Satisfaction Prediction',\n",
       " 'Health Care Services Satisfaction Prediction',\n",
       " 'Annual Income Earnings',\n",
       " 'Annual Income Earnings',\n",
       " 'Annual Income Earnings',\n",
       " 'Annual Income Earnings',\n",
       " 'Airline Passenger Satisfaction',\n",
       " 'Airline Passenger Satisfaction',\n",
       " 'Advertisement Prediction',\n",
       " 'Advertisement Prediction',\n",
       " 'Vehicle Insurance Claims',\n",
       " 'Vehicle Insurance Claims',\n",
       " 'Cab Surge Pricing System',\n",
       " 'House Price Classification',\n",
       " 'Broadband Sevice Signup',\n",
       " 'Mobile Price-Range Classification',\n",
       " 'Health Care Services Satisfaction Prediction',\n",
       " 'Credit Risk Classification',\n",
       " 'Flight Price-Range Classification',\n",
       " 'E-Commerce Shipping',\n",
       " 'German Credit Evaluation',\n",
       " 'Personal Loan Modelling',\n",
       " 'Used Cars Price-Range Prediction',\n",
       " 'Air Quality Prediction',\n",
       " 'Air Quality Prediction',\n",
       " 'Cab Surge Pricing System',\n",
       " 'Cab Surge Pricing System',\n",
       " 'Water Quality Classification',\n",
       " 'Flight Price-Range Classification',\n",
       " 'Flight Price-Range Classification',\n",
       " 'Used Cars Price-Range Prediction',\n",
       " None,\n",
       " None,\n",
       " None,\n",
       " None,\n",
       " None,\n",
       " None,\n",
       " None,\n",
       " None,\n",
       " None,\n",
       " None,\n",
       " None,\n",
       " None,\n",
       " None,\n",
       " None,\n",
       " None,\n",
       " None,\n",
       " None,\n",
       " None,\n",
       " None,\n",
       " None,\n",
       " None,\n",
       " None,\n",
       " None,\n",
       " None,\n",
       " None,\n",
       " None,\n",
       " None,\n",
       " None,\n",
       " None,\n",
       " None,\n",
       " None,\n",
       " None,\n",
       " None,\n",
       " None,\n",
       " None,\n",
       " None,\n",
       " None,\n",
       " None,\n",
       " None,\n",
       " None,\n",
       " None,\n",
       " None,\n",
       " None,\n",
       " None,\n",
       " None,\n",
       " None,\n",
       " None,\n",
       " None,\n",
       " None,\n",
       " None,\n",
       " None,\n",
       " None,\n",
       " None,\n",
       " None,\n",
       " None,\n",
       " None,\n",
       " None,\n",
       " None,\n",
       " None,\n",
       " None,\n",
       " None,\n",
       " None,\n",
       " None,\n",
       " None,\n",
       " None,\n",
       " None,\n",
       " None,\n",
       " None,\n",
       " None,\n",
       " None,\n",
       " None,\n",
       " None,\n",
       " None,\n",
       " None,\n",
       " None,\n",
       " None,\n",
       " None,\n",
       " None,\n",
       " None,\n",
       " None,\n",
       " None,\n",
       " None,\n",
       " None,\n",
       " None,\n",
       " None,\n",
       " None,\n",
       " None,\n",
       " None,\n",
       " None,\n",
       " None,\n",
       " None,\n",
       " None,\n",
       " None,\n",
       " None,\n",
       " None,\n",
       " None,\n",
       " None,\n",
       " None,\n",
       " None,\n",
       " None,\n",
       " None,\n",
       " None,\n",
       " None,\n",
       " None,\n",
       " None,\n",
       " None,\n",
       " None,\n",
       " None,\n",
       " None]"
      ]
     },
     "execution_count": 17,
     "metadata": {},
     "output_type": "execute_result"
    }
   ],
   "source": [
    "data = json.load(open('raw_data/all_train.json',encoding='utf-8'))\n"
   ]
  },
  {
   "cell_type": "code",
   "execution_count": 76,
   "metadata": {},
   "outputs": [
    {
     "data": {
      "text/plain": [
       "dict_keys(['model_name', 'deleted', 'mturk_id', 'predicted_class', 'narrative_status', 'predicted_class_label', 'date_submitted', 'id', 'feature_division', 'date_approved', 'test_instance', 'features_placeholder', 'is_paid', 'task_name', 'prediction_confidence', 'redeem_code', 'narrator', 'narration', 'user_ip', 'narrative_question', 'prediction_confidence_level'])"
      ]
     },
     "execution_count": 76,
     "metadata": {},
     "output_type": "execute_result"
    }
   ],
   "source": [
    "data[0].keys()"
   ]
  },
  {
   "cell_type": "code",
   "execution_count": 19,
   "metadata": {},
   "outputs": [
    {
     "data": {
      "text/plain": [
       "530"
      ]
     },
     "execution_count": 19,
     "metadata": {},
     "output_type": "execute_result"
    }
   ],
   "source": [
    "[i.get('task_name', None) for i in data]"
   ]
  },
  {
   "cell_type": "code",
   "execution_count": 99,
   "metadata": {},
   "outputs": [
    {
     "data": {
      "text/plain": [
       "dict_values([9, 4, 11, 9, 12, 6, 12, 15, 11, 12, 14, 14, 15, 22, 6, 14, 9, 15, 11, 8, 7, 8, 13, 13, 12, 9, 12, 11, 10, 5, 7, 11, 12, 10, 8, 13, 8, 11, 7, 5, 109])"
      ]
     },
     "execution_count": 99,
     "metadata": {},
     "output_type": "execute_result"
    }
   ],
   "source": [
    "from collections import Counter\n",
    "count = Counter([i.get('task_name', None) for i in data])\n",
    "(count.values())"
   ]
  },
  {
   "cell_type": "code",
   "execution_count": 95,
   "metadata": {},
   "outputs": [
    {
     "data": {
      "text/plain": [
       "dict_values([85, 72, 4, 10, 21, 34, 4, 37, 6, 50, 20, 3, 13, 33, 6, 11, 1, 5, 4, 2, 109])"
      ]
     },
     "execution_count": 95,
     "metadata": {},
     "output_type": "execute_result"
    }
   ],
   "source": [
    "count = Counter([i.get('model_name', None) for i in data])\n",
    "(count.most_common())\n",
    "count.values()"
   ]
  },
  {
   "cell_type": "code",
   "execution_count": 101,
   "metadata": {},
   "outputs": [],
   "source": [
    "no_task = [x for x in data if x.get('narrative_question', None) == None]"
   ]
  },
  {
   "cell_type": "code",
   "execution_count": 105,
   "metadata": {},
   "outputs": [
    {
     "data": {
      "text/plain": [
       "109"
      ]
     },
     "execution_count": 105,
     "metadata": {},
     "output_type": "execute_result"
    }
   ],
   "source": [
    "len(no_task)"
   ]
  },
  {
   "cell_type": "code",
   "execution_count": 31,
   "metadata": {},
   "outputs": [],
   "source": [
    "json.dump(no_task, open('no_task.json', 'w', encoding='utf-8'), ensure_ascii=False)"
   ]
  },
  {
   "cell_type": "code",
   "execution_count": 59,
   "metadata": {},
   "outputs": [
    {
     "data": {
      "text/plain": [
       "{'date_approved, date_submitted, deleted, feature_division, features_placeholder, id, is_paid, model_name, mturk_id, narration, narrative_question, narrative_status, narrator, predicted_class, predicted_class_label, prediction_confidence, prediction_confidence_level, redeem_code, task_name, test_instance, user_ip',\n",
       " 'date_approved, date_submitted, deleted, feature_division, features_placeholder, id, is_paid, model_name, mturk_id, narration, narrative_question, narrative_status, narrator, predicted_class, predicted_class_label, prediction_confidence_level, redeem_code, task_name, test_instance, user_ip',\n",
       " 'feature_division, narration, narration3, predicted_class, prediction_confidence_level',\n",
       " 'feature_division, narration, predicted_class, prediction_confidence_level'}"
      ]
     },
     "execution_count": 59,
     "metadata": {},
     "output_type": "execute_result"
    }
   ],
   "source": [
    "set([', '.join(sorted(list(task.keys()))) for task in data])"
   ]
  },
  {
   "cell_type": "markdown",
   "metadata": {},
   "source": [
    "There is only one instance of narration3. I think this must have been an instance where there was 2 narrations for one thing"
   ]
  },
  {
   "cell_type": "code",
   "execution_count": 106,
   "metadata": {},
   "outputs": [
    {
     "data": {
      "text/plain": [
       "[('feature_division, narration, predicted_class, prediction_confidence_level',\n",
       "  108),\n",
       " ('feature_division, narration, narration3, predicted_class, prediction_confidence_level',\n",
       "  1)]"
      ]
     },
     "execution_count": 106,
     "metadata": {},
     "output_type": "execute_result"
    }
   ],
   "source": [
    "Counter([', '.join(sorted(list(task.keys()))) for task in no_task]).most_common()"
   ]
  },
  {
   "cell_type": "code",
   "execution_count": 43,
   "metadata": {},
   "outputs": [
    {
     "data": {
      "text/plain": [
       "3"
      ]
     },
     "execution_count": 43,
     "metadata": {},
     "output_type": "execute_result"
    }
   ],
   "source": [
    "min([(len(d['prediction_confidence_level'].split(','))) for d in no_task])"
   ]
  },
  {
   "cell_type": "code",
   "execution_count": 44,
   "metadata": {},
   "outputs": [],
   "source": [
    "task = [x for x in data if x.get('task_name', None) != None]"
   ]
  },
  {
   "cell_type": "code",
   "execution_count": 46,
   "metadata": {},
   "outputs": [
    {
     "data": {
      "text/plain": [
       "4"
      ]
     },
     "execution_count": 46,
     "metadata": {},
     "output_type": "execute_result"
    }
   ],
   "source": [
    "max([(len(d['prediction_confidence_level'].split(','))) for d in task])"
   ]
  },
  {
   "cell_type": "code",
   "execution_count": 107,
   "metadata": {},
   "outputs": [
    {
     "data": {
      "text/plain": [
       "{'predicted_class': 'C3',\n",
       " 'prediction_confidence_level': 'C1:40.36%, C2:10.15%, C3:49.49%',\n",
       " 'feature_division': {'ranks': [['F14', 0],\n",
       "   ['F8', 1],\n",
       "   ['F15', 2],\n",
       "   ['F28', 3],\n",
       "   ['F2', 4],\n",
       "   ['F36', 5],\n",
       "   ['F30', 6],\n",
       "   ['F9', 7],\n",
       "   ['F26', 8],\n",
       "   ['F3', 9],\n",
       "   ['F18', 10],\n",
       "   ['F13', 11],\n",
       "   ['F35', 12],\n",
       "   ['F33', 13],\n",
       "   ['F32', 14],\n",
       "   ['F34', 15],\n",
       "   ['F38', 16],\n",
       "   ['F42', 17],\n",
       "   ['F23', 18],\n",
       "   ['F43', 19],\n",
       "   ['F12', 20],\n",
       "   ['F31', 21],\n",
       "   ['F4', 22],\n",
       "   ['F24', 23],\n",
       "   ['F5', 24],\n",
       "   ['F39', 25],\n",
       "   ['F21', 26],\n",
       "   ['F22', 27],\n",
       "   ['F37', 28],\n",
       "   ['F20', 29],\n",
       "   ['F16', 30],\n",
       "   ['F25', 31],\n",
       "   ['F40', 32],\n",
       "   ['F11', 33],\n",
       "   ['F10', 34],\n",
       "   ['F41', 35],\n",
       "   ['F17', 36],\n",
       "   ['F29', 37],\n",
       "   ['F6', 38],\n",
       "   ['F1', 39],\n",
       "   ['F7', 40],\n",
       "   ['F19', 41],\n",
       "   ['F27', 42]],\n",
       "  'contradict': ['F8',\n",
       "   'F28',\n",
       "   'F2',\n",
       "   'F36',\n",
       "   'F30',\n",
       "   'F3',\n",
       "   'F18',\n",
       "   'F13',\n",
       "   'F32',\n",
       "   'F34',\n",
       "   'F38',\n",
       "   'F43',\n",
       "   'F12',\n",
       "   'F31',\n",
       "   'F4',\n",
       "   'F24',\n",
       "   'F22',\n",
       "   'F16',\n",
       "   'F25'],\n",
       "  'support': ['F14',\n",
       "   'F15',\n",
       "   'F9',\n",
       "   'F26',\n",
       "   'F35',\n",
       "   'F33',\n",
       "   'F42',\n",
       "   'F23',\n",
       "   'F5',\n",
       "   'F39',\n",
       "   'F21',\n",
       "   'F37',\n",
       "   'F20',\n",
       "   'F40'],\n",
       "  'ignore': ['F11',\n",
       "   'F10',\n",
       "   'F41',\n",
       "   'F17',\n",
       "   'F29',\n",
       "   'F6',\n",
       "   'F1',\n",
       "   'F7',\n",
       "   'F19',\n",
       "   'F27']},\n",
       " 'narration': 'According to the classifier, C3 is the most probable label, followed by C1 and C2. To be specific, the predicted likelihoods across the classes C1, C3, and C2, respectively are 40.36%, 49.49%, and  10.15%. The moderately high classification confidence could largely be due to the impact of certain input features supplied to the classifier. In fact the attribution analysis indicates that F14, F8, F15, and F28 are the most relevant features resulting in the predicted probabilities across the labels. Other features with moderate contributions include F2, F36, F30, F26, F3, F18, and F9.  Among these top influential features, F8, F28, F2, F36, F30, F3, and F18 have negative contributions that shift the decision in a different direction towards the other possible label. On the contrary, the top positive features encouraging the classifier to label the case as C3 are F14, F15, F9, F26, F35, and F33. Considering the attributions across the positive and negative features, it is not surprising that there is such predicted probabilities for the different classes.'}"
      ]
     },
     "execution_count": 107,
     "metadata": {},
     "output_type": "execute_result"
    }
   ],
   "source": [
    "no_task[0]"
   ]
  },
  {
   "cell_type": "code",
   "execution_count": 121,
   "metadata": {},
   "outputs": [
    {
     "data": {
      "text/plain": [
       "48"
      ]
     },
     "execution_count": 121,
     "metadata": {},
     "output_type": "execute_result"
    }
   ],
   "source": [
    "test = json.load(open('raw_data/test_set_new.json',encoding='utf-8'))\n",
    "len(test)"
   ]
  },
  {
   "cell_type": "code",
   "execution_count": 67,
   "metadata": {},
   "outputs": [
    {
     "data": {
      "text/plain": [
       "[('date_approved, date_submitted, deleted, feature_division, features_placeholder, id, is_paid, model_name, mturk_id, narration, narrative_question, narrative_status, narrator, predicted_class, predicted_class_label, prediction_confidence, prediction_confidence_level, redeem_code, task_name, test_instance, user_ip',\n",
       "  24),\n",
       " ('date_approved, date_submitted, deleted, feature_division, features_placeholder, id, is_paid, model_name, mturk_id, narration, narrative_question, narrative_status, narrator, predicted_class, predicted_class_label, prediction_confidence_level, redeem_code, task_name, test_instance, user_ip',\n",
       "  24)]"
      ]
     },
     "execution_count": 67,
     "metadata": {},
     "output_type": "execute_result"
    }
   ],
   "source": [
    "Counter([', '.join(sorted(list(task.keys()))) for task in test]).most_common()"
   ]
  },
  {
   "cell_type": "code",
   "execution_count": 73,
   "metadata": {},
   "outputs": [
    {
     "data": {
      "text/plain": [
       "31"
      ]
     },
     "execution_count": 73,
     "metadata": {},
     "output_type": "execute_result"
    }
   ],
   "source": [
    "count = Counter([i.get('task_name', None) for i in test])\n",
    "len(count.most_common())"
   ]
  },
  {
   "cell_type": "code",
   "execution_count": 108,
   "metadata": {},
   "outputs": [],
   "source": [
    "all = json.load(open('raw_data/all.json',encoding='utf-8'))"
   ]
  },
  {
   "cell_type": "code",
   "execution_count": 123,
   "metadata": {},
   "outputs": [],
   "source": [
    "test = [x['model_name']+x['task_name'] for x in all if x.get('test_instance', None) != None]\n",
    "train = [x['model_name']+x['task_name'] for x in all if x.get('test_instance', None) == None]"
   ]
  },
  {
   "cell_type": "code",
   "execution_count": 118,
   "metadata": {},
   "outputs": [
    {
     "data": {
      "text/plain": [
       "[('LogisticRegressionUsed Cars Price-Range Prediction', 9),\n",
       " ('LogisticRegressionFlight Price-Range Classification', 9),\n",
       " ('BernoulliNBPersonal Loan Modelling', 8),\n",
       " ('SGDClassifierHouse Price Classification', 8),\n",
       " ('RandomForestClassifierFlight Price-Range Classification', 7),\n",
       " ('RandomForestClassifierCompany Bankruptcy Prediction', 6),\n",
       " ('RandomForestClassifierStudent Job Placement', 6),\n",
       " ('SVM_polyMobile Price-Range Classification', 6),\n",
       " ('DecisionTreeClassifierInsurance Churn', 6),\n",
       " ('GradientBoostingClassifierBasketball Players Career Length Prediction', 6),\n",
       " ('SVMClassifier_polyEmployee Attrition', 6),\n",
       " ('SVM_linearEmployee Promotion Prediction', 6),\n",
       " ('KNeighborsClassifierCredit Risk Classification', 6),\n",
       " ('RandomForestClassifierMobile Price-Range Classification', 6),\n",
       " ('LogisticRegressionAirline Passenger Satisfaction', 6),\n",
       " ('GradientBoostingClassifierParis House Classification', 6),\n",
       " ('KNeighborsClassifierCab Surge Pricing System', 6),\n",
       " ('RandomForestClassifierPrinter Sales', 6),\n",
       " ('LogisticRegressionConcrete Strength Classification', 5),\n",
       " ('SVCAdvertisement Prediction', 5),\n",
       " ('LogisticRegressionCab Surge Pricing System', 5),\n",
       " ('KNeighborsClassifierAdvertisement Prediction', 5),\n",
       " ('SGDClassifierFlight Price-Range Classification', 5),\n",
       " ('RandomForestClassifierCab Surge Pricing System', 5),\n",
       " ('DecisionTreeClassifierCredit Risk Classification', 5),\n",
       " ('SVCGerman Credit Evaluation', 5),\n",
       " ('RandomForestClassifierAnnual Income Earnings', 5),\n",
       " ('MLPClassifierAnnual Income Earnings', 5),\n",
       " ('MLPClassifierEthereum Fraud Detection', 5),\n",
       " ('BernoulliNBCustomer Churn Modelling', 5),\n",
       " ('RandomForestClassifierUsed Cars Price-Range Prediction', 5),\n",
       " ('LogisticRegressionFood Ordering Customer Churn Prediction', 5),\n",
       " ('RandomForestClassifierEmployee Attrition', 5),\n",
       " ('GradientBoostingClassifierFood Ordering Customer Churn Prediction', 5),\n",
       " ('SVMCustomer Churn Modelling', 4),\n",
       " ('DNNConcrete Strength Classification', 4),\n",
       " ('DecisionTreeClassifierCar Acceptability Valuation', 4),\n",
       " ('BernoulliNBStudent Job Placement', 4),\n",
       " ('GaussianNBTic-Tac-Toe Strategy', 4),\n",
       " ('LogisticRegressionMusic Concert Attendance', 4),\n",
       " ('BernoulliNBHotel Satisfaction', 4),\n",
       " ('LogisticRegressionReal Estate Investment', 4),\n",
       " ('SVCVehicle Insurance Claims', 4),\n",
       " ('BernoulliNBCredit Card Fraud Classification', 4),\n",
       " ('KNeighborsClassifierWine Quality Prediction', 4),\n",
       " ('GradientBoostingClassifierPrinter Sales', 4),\n",
       " ('DecisionTreeClassifierConcrete Strength Classification', 4),\n",
       " ('KNeighborsClassifierSuspicious Bidding Identification', 4),\n",
       " ('SGDClassifierAirline Passenger Satisfaction', 4),\n",
       " ('GradientBoostingClassifierHealth Care Services Satisfaction Prediction', 4),\n",
       " ('RandomForestClassifierHealth Care Services Satisfaction Prediction', 4),\n",
       " ('RandomForestClassifierE-Commerce Shipping', 4),\n",
       " ('SVM_linearWine Quality Prediction', 4),\n",
       " ('SVCAustralian Credit Approval', 4),\n",
       " ('GradientBoostingClassifierGerman Credit Evaluation', 4),\n",
       " ('DNNCredit Card Fraud Classification', 4),\n",
       " ('LogisticRegressionHotel Satisfaction', 3),\n",
       " ('LogisticRegressionHouse Price Classification', 3),\n",
       " ('KNeighborsClassifierWater Quality Classification', 3),\n",
       " ('SVMClassifier_linerEmployee Attrition', 3),\n",
       " ('LogisticRegressionE-Commerce Shipping', 3),\n",
       " ('KNeighborsClassifierPrinter Sales', 3),\n",
       " ('DecisionTreeClassifierVehicle Insurance Claims', 3),\n",
       " ('MLPClassifierVehicle Insurance Claims', 3),\n",
       " ('KNeighborsClassifierFood Ordering Customer Churn Prediction', 3),\n",
       " ('LogisticRegressionAustralian Credit Approval', 3),\n",
       " ('GradientBoostingClassifierBroadband Sevice Signup', 3),\n",
       " ('SGDClassifierCompany Bankruptcy Prediction', 3),\n",
       " ('SVCReal Estate Investment', 3),\n",
       " ('BernoulliNBEmployee Promotion Prediction', 3),\n",
       " ('LogisticRegressionBasketball Players Career Length Prediction', 3),\n",
       " ('KNeighborsClassifierGerman Credit Evaluation', 3),\n",
       " ('AdaBoostClassifierAir Quality Prediction', 3),\n",
       " ('RandomForestClassifierCredit Risk Classification', 3),\n",
       " ('KNNClassifierAustralian Credit Approval', 3),\n",
       " ('SVCBroadband Sevice Signup', 3),\n",
       " ('KNeighborsClassifierTic-Tac-Toe Strategy', 3),\n",
       " ('BernoulliNBJob Change of Data Scientists', 3),\n",
       " ('LogisticRegressionEmployee Promotion Prediction', 3),\n",
       " ('SVCWater Quality Classification', 3),\n",
       " ('KNNClassifierCar Acceptability Valuation', 3),\n",
       " ('DNNEthereum Fraud Detection', 3),\n",
       " ('LogisticRegressionAir Quality Prediction', 3),\n",
       " ('SVCJob Change of Data Scientists', 3),\n",
       " ('LogisticRegressionPrinter Sales', 3),\n",
       " ('RandomForestClassifierMusic Concert Attendance', 2),\n",
       " ('LogisticRegressionStudent Job Placement', 2),\n",
       " ('BernoulliNBUsed Cars Price-Range Prediction', 2),\n",
       " ('RandomForestClassifierCredit Card Fraud Classification', 2),\n",
       " ('RandomForestClassifierHouse Price Classification', 2),\n",
       " ('KNeighborsClassifierBike Sharing Demand', 2),\n",
       " ('SVCParis House Classification', 2),\n",
       " ('RandomForestClassifierBroadband Sevice Signup', 2),\n",
       " ('SVCFood Ordering Customer Churn Prediction', 2),\n",
       " ('KNeighborsClassifierReal Estate Investment', 2),\n",
       " ('DecisionTreeClassifierHotel Satisfaction', 2),\n",
       " ('SVCTic-Tac-Toe Strategy', 2),\n",
       " ('KNeighborsClassifierE-Commerce Shipping', 2),\n",
       " ('LogisticRegressionBike Sharing Demand', 2),\n",
       " ('SVM_linearMobile Price-Range Classification', 2),\n",
       " ('LogisticRegressionTic-Tac-Toe Strategy', 2),\n",
       " ('RandomForestClassifierEthereum Fraud Detection', 2),\n",
       " ('LGBMClassifierEmployee Promotion Prediction', 2),\n",
       " ('LogisticRegressionAdvertisement Prediction', 2),\n",
       " ('AdaBoostClassifierBasketball Players Career Length Prediction', 2),\n",
       " ('SVCBike Sharing Demand', 2),\n",
       " ('KNeighborsClassifierEthereum Fraud Detection', 2),\n",
       " ('LogisticRegressionBroadband Sevice Signup', 2),\n",
       " ('SVCFlight Price-Range Classification', 2),\n",
       " ('BernoulliNBGerman Credit Evaluation', 2),\n",
       " ('RandomForestClassifierWine Quality Prediction', 2),\n",
       " ('KNeighborsClassifierCompany Bankruptcy Prediction', 2),\n",
       " ('RandomForestClassifierParis House Classification', 2),\n",
       " ('LogisticRegressionVehicle Insurance Claims', 2),\n",
       " ('LogisticRegressionMobile Price-Range Classification', 2),\n",
       " ('KNeighborsClassifierBasketball Players Career Length Prediction', 2),\n",
       " ('RandomForestClassifierAdvertisement Prediction', 2),\n",
       " ('LogisticRegressionAnnual Income Earnings', 2),\n",
       " ('SVCHealth Care Services Satisfaction Prediction', 2),\n",
       " ('RandomForestClassifierPersonal Loan Modelling', 2),\n",
       " ('SGDClassifierJob Change of Data Scientists', 2),\n",
       " ('MLPClassifierHotel Satisfaction', 2),\n",
       " ('BernoulliNBSuspicious Bidding Identification', 1),\n",
       " ('DNNInsurance Churn', 1),\n",
       " ('GradientBoostingClassifierAustralian Credit Approval', 1),\n",
       " ('SVC_linearPersonal Loan Modelling', 1),\n",
       " ('LogisticRegressionSuspicious Bidding Identification', 1),\n",
       " ('SGDClassifierCar Acceptability Valuation', 1),\n",
       " ('RandomForestClassifierBike Sharing Demand', 1),\n",
       " ('LogisticRegressionPersonal Loan Modelling', 1),\n",
       " ('RandomForestClassifierGerman Credit Evaluation', 1),\n",
       " ('GradientBoostingClassifierAnnual Income Earnings', 1),\n",
       " ('LogisticRegressionCustomer Churn Modelling', 1),\n",
       " ('SVCStudent Job Placement', 1),\n",
       " ('GradientBoostingClassifierAir Quality Prediction', 1),\n",
       " ('BernoulliNBWater Quality Classification', 1),\n",
       " ('SVCE-Commerce Shipping', 1),\n",
       " ('KNeighborsClassifierAir Quality Prediction', 1),\n",
       " ('BernoulliNBCab Surge Pricing System', 1),\n",
       " ('DNNBroadband Sevice Signup', 1),\n",
       " ('GradientBoostingClassifierWater Quality Classification', 1),\n",
       " ('BernoulliNBCredit Risk Classification', 1),\n",
       " ('DecisionTreeClassifierAirline Passenger Satisfaction', 1)]"
      ]
     },
     "execution_count": 118,
     "metadata": {},
     "output_type": "execute_result"
    }
   ],
   "source": [
    "Counter(test).most_common()"
   ]
  },
  {
   "cell_type": "code",
   "execution_count": 120,
   "metadata": {},
   "outputs": [
    {
     "data": {
      "text/plain": [
       "469"
      ]
     },
     "execution_count": 120,
     "metadata": {},
     "output_type": "execute_result"
    }
   ],
   "source": [
    "len(test)"
   ]
  },
  {
   "cell_type": "code",
   "execution_count": null,
   "metadata": {},
   "outputs": [],
   "source": []
  }
 ],
 "metadata": {
  "kernelspec": {
   "display_name": "Python 3.10.6 ('env': venv)",
   "language": "python",
   "name": "python3"
  },
  "language_info": {
   "codemirror_mode": {
    "name": "ipython",
    "version": 3
   },
   "file_extension": ".py",
   "mimetype": "text/x-python",
   "name": "python",
   "nbconvert_exporter": "python",
   "pygments_lexer": "ipython3",
   "version": "3.10.6"
  },
  "orig_nbformat": 4,
  "vscode": {
   "interpreter": {
    "hash": "3f53d471a03fb5b9741311ec5f82522ec5f217d64ed47634b801d3f5199a0064"
   }
  }
 },
 "nbformat": 4,
 "nbformat_minor": 2
}
